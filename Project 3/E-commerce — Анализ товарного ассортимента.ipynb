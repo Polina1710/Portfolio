{
 "cells": [
  {
   "cell_type": "markdown",
   "id": "29d4d3bd",
   "metadata": {},
   "source": [
    "# E-commerce — Анализ товарного ассортимента"
   ]
  },
  {
   "cell_type": "markdown",
   "id": "d9e60cce",
   "metadata": {},
   "source": [
    "***Описание проекта и его цели:*** \n",
    "\n",
    "В этом проекте мы будем анализировать ассортимент магазина, продающего товары для дома и сада. Для начала нам нужно привести данные в удобный вид: очистить их от пропусков и дубликатов, изменить в нескольких столбцах тип данных и добавить новые столбцы.\n",
    "\n",
    "Затем мы перейдем к исследованию ассортимента и продаж. Посмотрим динамику продаж по месяцам, дням и часам. С помощью АВС-анализа выделим основнойи дополнительный ассортимент и построим графики продаж этих двух групп также по месяцам и дням. Также мы выделим 5-7 категорий товаров. После этого будет проведем статистический анализ, где мы проверим несколько гипотез. "
   ]
  },
  {
   "cell_type": "markdown",
   "id": "c1785d3f",
   "metadata": {},
   "source": [
    "## Декомпозиция проекта"
   ]
  },
  {
   "cell_type": "markdown",
   "id": "ab31dba9",
   "metadata": {},
   "source": [
    "**1. Предобработка данных:**"
   ]
  },
  {
   "cell_type": "markdown",
   "id": "5c1711f3",
   "metadata": {},
   "source": [
    "    - удаление явных и неявных дубликатов;\n",
    "    - проверка наличия пропусков;\n",
    "    - проверка выбросов и ошибок -> удаление или исправление;\n",
    "\n",
    "**2. Изучение данных по графикам:**\n",
    "\n",
    "    - АВС 2х анализ для разделения товаров на категории и\n",
    "    выявление основных и дополнительных товаров. Анализ по выручке и по количеству проданных единиц;\n",
    "\n",
    "    - гистограммы по месяцам, дням недели и часам -> выводы по этим временным промежуткам;\n",
    "\n",
    "**3. Формулировка гипотез:**\n",
    "\n",
    "    - сами гипотезы;\n",
    "\n",
    "    - определение методов проверки;\n",
    "\n",
    "    - расчеты;\n",
    "\n",
    "    - выводы по результатам проверки;\n",
    "\n",
    "**4. Общий вывод**\n",
    "\n",
    "**5. Создание презентации**"
   ]
  },
  {
   "cell_type": "markdown",
   "id": "03e1e56f",
   "metadata": {},
   "source": [
    "### Презентация по проекту:\n",
    "\n",
    "https://drive.google.com/file/d/1rqrYUjD7lekd87Z5gjPL2wnmF7jXQbS5/view?usp=sharing"
   ]
  },
  {
   "cell_type": "markdown",
   "id": "7318d016",
   "metadata": {},
   "source": [
    "## Предобработка данных"
   ]
  },
  {
   "cell_type": "code",
   "execution_count": 1,
   "id": "a25cbc29-1799-49a6-8627-59b2522960d2",
   "metadata": {},
   "outputs": [
    {
     "name": "stdout",
     "output_type": "stream",
     "text": [
      "Defaulting to user installation because normal site-packages is not writeable\n",
      "Requirement already satisfied: kaleido in c:\\users\\polly\\appdata\\roaming\\python\\python311\\site-packages (0.2.1)\n",
      "Note: you may need to restart the kernel to use updated packages.\n"
     ]
    }
   ],
   "source": [
    "pip install -U kaleido"
   ]
  },
  {
   "cell_type": "code",
   "execution_count": 2,
   "id": "23bbb73d",
   "metadata": {},
   "outputs": [],
   "source": [
    "import pandas as pd\n",
    "import plotly\n",
    "import plotly.express as px\n",
    "import scipy\n",
    "from scipy import stats as st\n",
    "import plotly.graph_objects as go\n",
    "import re\n",
    "import nltk\n",
    "from nltk.stem import WordNetLemmatizer\n",
    "from collections import Counter\n",
    "import itertools\n",
    "from itertools import cycle\n",
    "from plotly.subplots import make_subplots"
   ]
  },
  {
   "cell_type": "code",
   "execution_count": 3,
   "id": "878ea47d-e958-4082-8f88-b2fb402856a6",
   "metadata": {},
   "outputs": [],
   "source": [
    "import plotly.io as pio\n",
    "pio.renderers.default = \"svg\"\n",
    "svg_renderer = pio.renderers[\"svg\"]\n",
    "svg_renderer.scale = 1.5"
   ]
  },
  {
   "cell_type": "code",
   "execution_count": 4,
   "id": "0933b5d5",
   "metadata": {},
   "outputs": [
    {
     "name": "stdout",
     "output_type": "stream",
     "text": [
      "         date                           customer_id  order_id  \\\n",
      "0  2018100100  ee47d746-6d2f-4d3c-9622-c31412542920     68477   \n",
      "1  2018100100  ee47d746-6d2f-4d3c-9622-c31412542920     68477   \n",
      "2  2018100100  ee47d746-6d2f-4d3c-9622-c31412542920     68477   \n",
      "3  2018100100  ee47d746-6d2f-4d3c-9622-c31412542920     68477   \n",
      "4  2018100100  ee47d746-6d2f-4d3c-9622-c31412542920     68477   \n",
      "\n",
      "                                             product  quantity  price  \n",
      "0    Комнатное растение в горшке Алое Вера, d12, h30         1  142.0  \n",
      "1  Комнатное растение в горшке Кофе Арабика, d12,...         1  194.0  \n",
      "2                        Радермахера d-12 см h-20 см         1  112.0  \n",
      "3                   Хризолидокарпус Лутесценс d-9 см         1  179.0  \n",
      "4                     Циперус Зумула d-12 см h-25 см         1  112.0  \n",
      "<class 'pandas.core.frame.DataFrame'>\n",
      "RangeIndex: 7474 entries, 0 to 7473\n",
      "Data columns (total 6 columns):\n",
      " #   Column       Non-Null Count  Dtype  \n",
      "---  ------       --------------  -----  \n",
      " 0   date         7474 non-null   int64  \n",
      " 1   customer_id  7474 non-null   object \n",
      " 2   order_id     7474 non-null   int64  \n",
      " 3   product      7474 non-null   object \n",
      " 4   quantity     7474 non-null   int64  \n",
      " 5   price        7474 non-null   float64\n",
      "dtypes: float64(1), int64(3), object(2)\n",
      "memory usage: 350.5+ KB\n",
      "None\n"
     ]
    }
   ],
   "source": [
    "data = pd.read_csv('https://docs.google.com/spreadsheets/d/e/2PACX-1vTarzENgEfTwYSarjZZcZCoezlJzHve0d-oByjIyXqksd-WCLd4KbQOfbm8l3GPfUBMVucMawamp1Nn/pub?output=csv')\n",
    "print(data.head())\n",
    "print(data.info())"
   ]
  },
  {
   "cell_type": "code",
   "execution_count": 5,
   "id": "b2d741ba",
   "metadata": {},
   "outputs": [
    {
     "name": "stdout",
     "output_type": "stream",
     "text": [
      "0   2018-10-01\n",
      "1   2018-10-01\n",
      "2   2018-10-01\n",
      "3   2018-10-01\n",
      "4   2018-10-01\n",
      "Name: date, dtype: datetime64[ns]\n"
     ]
    }
   ],
   "source": [
    "# изменяем типы данных \n",
    "data['price'] = data['price'].astype(\"int64\")\n",
    "data['date'] = pd.to_datetime(data['date'], format='%Y%m%d%H')\n",
    "print(data['date'].head())"
   ]
  },
  {
   "cell_type": "code",
   "execution_count": 6,
   "id": "9180df9a",
   "metadata": {},
   "outputs": [
    {
     "name": "stdout",
     "output_type": "stream",
     "text": [
      "0\n"
     ]
    }
   ],
   "source": [
    "# поиск явных дубликатов\n",
    "print(data.duplicated().sum())"
   ]
  },
  {
   "cell_type": "markdown",
   "id": "f6a846f2",
   "metadata": {
    "lines_to_next_cell": 2
   },
   "source": [
    "Для поиска неявных дубликатов, сгруппируем базу по заказам.\n",
    "Если у одного заказа несколько пользователей, эти данные нужно удалить"
   ]
  },
  {
   "cell_type": "code",
   "execution_count": 7,
   "id": "fdb65479",
   "metadata": {},
   "outputs": [
    {
     "name": "stdout",
     "output_type": "stream",
     "text": [
      "    order_id  customer_id\n",
      "0      72845            4\n",
      "1      71480            3\n",
      "2      69485            3\n",
      "3      69410            2\n",
      "4      71226            2\n",
      "5      69283            2\n",
      "6      72950            2\n",
      "7      70631            2\n",
      "8      69531            2\n",
      "9      69833            2\n",
      "10     70946            2\n",
      "11     70808            2\n",
      "12     71054            2\n",
      "13     69345            2\n",
      "14     72778            2\n",
      "15     72188            2\n",
      "16     71542            2\n",
      "17     68785            2\n",
      "18     69310            2\n",
      "19     71571            2\n",
      "20     72790            2\n",
      "21     70114            2\n",
      "22     14872            2\n",
      "23     71663            2\n",
      "24     70726            2\n",
      "25     71461            2\n",
      "26     70903            2\n",
      "27     70542            2\n",
      "28     71648            2\n"
     ]
    }
   ],
   "source": [
    "order_customer_dublicates_df = data.pivot_table(index='order_id',\n",
    "                                                values='customer_id',\n",
    "                                                aggfunc='nunique').sort_values(by='customer_id',\n",
    "                                                                               ascending=False).reset_index()\n",
    "print(order_customer_dublicates_df.query('customer_id > 1'))"
   ]
  },
  {
   "cell_type": "markdown",
   "id": "2e66b7ae",
   "metadata": {},
   "source": [
    "Теперь мы знаем id заказов, у которых несколько покупателей. Почему так произошло непонятно, возможно был какой-то сбой. \n",
    "Столбец order_id мы сделаем списком, передадим его как аргумент функции drop_dublicates()и удалим эти идентификаторы из базы данных."
   ]
  },
  {
   "cell_type": "code",
   "execution_count": 8,
   "id": "e10a5993",
   "metadata": {},
   "outputs": [
    {
     "name": "stdout",
     "output_type": "stream",
     "text": [
      "Empty DataFrame\n",
      "Columns: [order_id, customer_id]\n",
      "Index: []\n"
     ]
    }
   ],
   "source": [
    "orders_dublicates_df = order_customer_dublicates_df['order_id'].head(29).to_list()\n",
    "order_customer_dublicates_df = order_customer_dublicates_df[order_customer_dublicates_df.order_id.isin(orders_dublicates_df) == False]\n",
    "print(order_customer_dublicates_df.query('customer_id > 1'))  # проверка работы кода"
   ]
  },
  {
   "cell_type": "code",
   "execution_count": 9,
   "id": "1208fefa",
   "metadata": {},
   "outputs": [],
   "source": [
    "data = data[data.order_id.isin(orders_dublicates_df) == False]"
   ]
  },
  {
   "cell_type": "code",
   "execution_count": 10,
   "id": "20974416",
   "metadata": {},
   "outputs": [
    {
     "data": {
      "text/plain": [
       "1863"
      ]
     },
     "execution_count": 10,
     "metadata": {},
     "output_type": "execute_result"
    }
   ],
   "source": [
    "data.duplicated(subset=['order_id', 'customer_id', 'product']).sum()"
   ]
  },
  {
   "cell_type": "code",
   "execution_count": 11,
   "id": "dabd16d3",
   "metadata": {},
   "outputs": [
    {
     "name": "stdout",
     "output_type": "stream",
     "text": [
      "0\n",
      "<class 'pandas.core.frame.DataFrame'>\n",
      "RangeIndex: 5522 entries, 0 to 5521\n",
      "Data columns (total 6 columns):\n",
      " #   Column       Non-Null Count  Dtype         \n",
      "---  ------       --------------  -----         \n",
      " 0   date         5522 non-null   datetime64[ns]\n",
      " 1   customer_id  5522 non-null   object        \n",
      " 2   order_id     5522 non-null   int64         \n",
      " 3   product      5522 non-null   object        \n",
      " 4   quantity     5522 non-null   int64         \n",
      " 5   price        5522 non-null   int64         \n",
      "dtypes: datetime64[ns](1), int64(3), object(2)\n",
      "memory usage: 259.0+ KB\n",
      "None\n"
     ]
    }
   ],
   "source": [
    "data = data.drop_duplicates(subset=['order_id', 'customer_id', 'product'], keep='last').reset_index(drop=True)\n",
    "print(data.duplicated(subset=['order_id', 'customer_id', 'product']).sum())\n",
    "print(data.info())"
   ]
  },
  {
   "cell_type": "markdown",
   "id": "00af322c",
   "metadata": {},
   "source": [
    "Проверим есть ли выбросы в столбцах с количеством товара и ценой"
   ]
  },
  {
   "cell_type": "code",
   "execution_count": 12,
   "id": "1338af86",
   "metadata": {},
   "outputs": [
    {
     "name": "stdout",
     "output_type": "stream",
     "text": [
      "count    5522.000000\n",
      "mean        2.579500\n",
      "std        16.505923\n",
      "min         1.000000\n",
      "25%         1.000000\n",
      "50%         1.000000\n",
      "75%         1.000000\n",
      "max      1000.000000\n",
      "Name: quantity, dtype: float64\n",
      " \n",
      "count     5522.000000\n",
      "mean       531.605759\n",
      "std        975.252354\n",
      "min          9.000000\n",
      "25%         90.000000\n",
      "50%        150.000000\n",
      "75%        524.000000\n",
      "max      14917.000000\n",
      "Name: price, dtype: float64\n"
     ]
    }
   ],
   "source": [
    "print(data['quantity'].describe())\n",
    "print(' ')\n",
    "print(data['price'].describe())"
   ]
  },
  {
   "cell_type": "code",
   "execution_count": 13,
   "id": "dadc10bc",
   "metadata": {},
   "outputs": [
    {
     "name": "stdout",
     "output_type": "stream",
     "text": [
      "date           92\n",
      "customer_id    92\n",
      "order_id       92\n",
      "product        92\n",
      "quantity       92\n",
      "price          92\n",
      "dtype: int64\n"
     ]
    },
    {
     "data": {
      "image/svg+xml": [
       "<svg class=\"main-svg\" xmlns=\"http://www.w3.org/2000/svg\" xmlns:xlink=\"http://www.w3.org/1999/xlink\" width=\"1050\" height=\"750\" style=\"\" viewBox=\"0 0 700 500\"><rect x=\"0\" y=\"0\" width=\"700\" height=\"500\" style=\"fill: rgb(255, 255, 255); fill-opacity: 1;\"/><defs id=\"defs-7eb2d5\"><g class=\"clips\"><clipPath id=\"clip7eb2d5xyplot\" class=\"plotclip\"><rect width=\"540\" height=\"360\"/></clipPath><clipPath class=\"axesclip\" id=\"clip7eb2d5x\"><rect x=\"80\" y=\"0\" width=\"540\" height=\"500\"/></clipPath><clipPath class=\"axesclip\" id=\"clip7eb2d5y\"><rect x=\"0\" y=\"60\" width=\"700\" height=\"360\"/></clipPath><clipPath class=\"axesclip\" id=\"clip7eb2d5xy\"><rect x=\"80\" y=\"60\" width=\"540\" height=\"360\"/></clipPath></g><g class=\"gradients\"/><g class=\"patterns\"/></defs><g class=\"bglayer\"><rect class=\"bg\" x=\"80\" y=\"60\" width=\"540\" height=\"360\" style=\"fill: rgb(229, 236, 246); fill-opacity: 1; stroke-width: 0;\"/></g><g class=\"layer-below\"><g class=\"imagelayer\"/><g class=\"shapelayer\"/></g><g class=\"cartesianlayer\"><g class=\"subplot xy\"><g class=\"layer-subplot\"><g class=\"shapelayer\"/><g class=\"imagelayer\"/></g><g class=\"minor-gridlayer\"><g class=\"x\"/><g class=\"y\"/></g><g class=\"gridlayer\"><g class=\"x\"/><g class=\"y\"><path class=\"ygrid crisp\" transform=\"translate(0,381.36)\" d=\"M80,0h540\" style=\"stroke: rgb(255, 255, 255); stroke-opacity: 1; stroke-width: 1px;\"/><path class=\"ygrid crisp\" transform=\"translate(0,342.71)\" d=\"M80,0h540\" style=\"stroke: rgb(255, 255, 255); stroke-opacity: 1; stroke-width: 1px;\"/><path class=\"ygrid crisp\" transform=\"translate(0,304.07)\" d=\"M80,0h540\" style=\"stroke: rgb(255, 255, 255); stroke-opacity: 1; stroke-width: 1px;\"/><path class=\"ygrid crisp\" transform=\"translate(0,265.41999999999996)\" d=\"M80,0h540\" style=\"stroke: rgb(255, 255, 255); stroke-opacity: 1; stroke-width: 1px;\"/><path class=\"ygrid crisp\" transform=\"translate(0,226.78)\" d=\"M80,0h540\" style=\"stroke: rgb(255, 255, 255); stroke-opacity: 1; stroke-width: 1px;\"/><path class=\"ygrid crisp\" transform=\"translate(0,188.14)\" d=\"M80,0h540\" style=\"stroke: rgb(255, 255, 255); stroke-opacity: 1; stroke-width: 1px;\"/><path class=\"ygrid crisp\" transform=\"translate(0,149.49)\" d=\"M80,0h540\" style=\"stroke: rgb(255, 255, 255); stroke-opacity: 1; stroke-width: 1px;\"/><path class=\"ygrid crisp\" transform=\"translate(0,110.85)\" d=\"M80,0h540\" style=\"stroke: rgb(255, 255, 255); stroke-opacity: 1; stroke-width: 1px;\"/><path class=\"ygrid crisp\" transform=\"translate(0,72.2)\" d=\"M80,0h540\" style=\"stroke: rgb(255, 255, 255); stroke-opacity: 1; stroke-width: 1px;\"/></g></g><g class=\"zerolinelayer\"><path class=\"yzl zl crisp\" transform=\"translate(0,420)\" d=\"M80,0h540\" style=\"stroke: rgb(255, 255, 255); stroke-opacity: 1; stroke-width: 2px;\"/></g><path class=\"xlines-below\"/><path class=\"ylines-below\"/><g class=\"overlines-below\"/><g class=\"xaxislayer-below\"/><g class=\"yaxislayer-below\"/><g class=\"overaxes-below\"/><g class=\"plot\" transform=\"translate(80,60)\" clip-path=\"url(#clip7eb2d5xyplot)\"><g class=\"barlayer mlayer\"><g class=\"trace bars\" shape-rendering=\"crispEdges\" style=\"opacity: 1;\"><g class=\"points\"><g class=\"point\"><path d=\"M0,360V18H1.08V360Z\" style=\"vector-effect: non-scaling-stroke; opacity: 1; stroke-width: 0px; fill: rgb(99, 110, 250); fill-opacity: 1;\"/></g><g class=\"point\"><path d=\"M1.08,360V311.23H2.16V360Z\" style=\"vector-effect: non-scaling-stroke; opacity: 1; stroke-width: 0px; fill: rgb(99, 110, 250); fill-opacity: 1;\"/></g><g class=\"point\"><path d=\"M2.16,360V347.02H3.23V360Z\" style=\"vector-effect: non-scaling-stroke; opacity: 1; stroke-width: 0px; fill: rgb(99, 110, 250); fill-opacity: 1;\"/></g><g class=\"point\"><path d=\"M3.23,360V355.29H4.31V360Z\" style=\"vector-effect: non-scaling-stroke; opacity: 1; stroke-width: 0px; fill: rgb(99, 110, 250); fill-opacity: 1;\"/></g><g class=\"point\"><path d=\"M4.31,360V358.38H5.39V360Z\" style=\"vector-effect: non-scaling-stroke; opacity: 1; stroke-width: 0px; fill: rgb(99, 110, 250); fill-opacity: 1;\"/></g><g class=\"point\"><path d=\"M5.39,360V354.2H6.47V360Z\" style=\"vector-effect: non-scaling-stroke; opacity: 1; stroke-width: 0px; fill: rgb(99, 110, 250); fill-opacity: 1;\"/></g><g class=\"point\"><path d=\"M6.47,360V358.61H7.54V360Z\" style=\"vector-effect: non-scaling-stroke; opacity: 1; stroke-width: 0px; fill: rgb(99, 110, 250); fill-opacity: 1;\"/></g><g class=\"point\"><path d=\"M7.54,360V358.07H8.62V360Z\" style=\"vector-effect: non-scaling-stroke; opacity: 1; stroke-width: 0px; fill: rgb(99, 110, 250); fill-opacity: 1;\"/></g><g class=\"point\"><path d=\"M8.62,360V359.61H9.7V360Z\" style=\"vector-effect: non-scaling-stroke; opacity: 1; stroke-width: 0px; fill: rgb(99, 110, 250); fill-opacity: 1;\"/></g><g class=\"point\"><path d=\"M9.7,360V359.92H10.78V360Z\" style=\"vector-effect: non-scaling-stroke; opacity: 1; stroke-width: 0px; fill: rgb(99, 110, 250); fill-opacity: 1;\"/></g><g class=\"point\"><path d=\"M10.78,360V358.76H11.86V360Z\" style=\"vector-effect: non-scaling-stroke; opacity: 1; stroke-width: 0px; fill: rgb(99, 110, 250); fill-opacity: 1;\"/></g><g class=\"point\"><path d=\"M11.86,360V359.85H12.93V360Z\" style=\"vector-effect: non-scaling-stroke; opacity: 1; stroke-width: 0px; fill: rgb(99, 110, 250); fill-opacity: 1;\"/></g><g class=\"point\"><path d=\"M12.93,360V358.53H14.01V360Z\" style=\"vector-effect: non-scaling-stroke; opacity: 1; stroke-width: 0px; fill: rgb(99, 110, 250); fill-opacity: 1;\"/></g><g class=\"point\"><path d=\"M14.01,360V359.77H15.09V360Z\" style=\"vector-effect: non-scaling-stroke; opacity: 1; stroke-width: 0px; fill: rgb(99, 110, 250); fill-opacity: 1;\"/></g><g class=\"point\"><path d=\"M15.09,360V359.92H16.17V360Z\" style=\"vector-effect: non-scaling-stroke; opacity: 1; stroke-width: 0px; fill: rgb(99, 110, 250); fill-opacity: 1;\"/></g><g class=\"point\"><path d=\"M16.17,360V358.84H17.25V360Z\" style=\"vector-effect: non-scaling-stroke; opacity: 1; stroke-width: 0px; fill: rgb(99, 110, 250); fill-opacity: 1;\"/></g><g class=\"point\"><path d=\"M0,0Z\" style=\"vector-effect: non-scaling-stroke; opacity: 1; stroke-width: 0px; fill: rgb(99, 110, 250); fill-opacity: 1;\"/></g><g class=\"point\"><path d=\"M0,0Z\" style=\"vector-effect: non-scaling-stroke; opacity: 1; stroke-width: 0px; fill: rgb(99, 110, 250); fill-opacity: 1;\"/></g><g class=\"point\"><path d=\"M19.4,360V359.92H20.48V360Z\" style=\"vector-effect: non-scaling-stroke; opacity: 1; stroke-width: 0px; fill: rgb(99, 110, 250); fill-opacity: 1;\"/></g><g class=\"point\"><path d=\"M0,0Z\" style=\"vector-effect: non-scaling-stroke; opacity: 1; stroke-width: 0px; fill: rgb(99, 110, 250); fill-opacity: 1;\"/></g><g class=\"point\"><path d=\"M21.56,360V359.85H22.63V360Z\" style=\"vector-effect: non-scaling-stroke; opacity: 1; stroke-width: 0px; fill: rgb(99, 110, 250); fill-opacity: 1;\"/></g><g class=\"point\"><path d=\"M22.63,360V359.92H23.71V360Z\" style=\"vector-effect: non-scaling-stroke; opacity: 1; stroke-width: 0px; fill: rgb(99, 110, 250); fill-opacity: 1;\"/></g><g class=\"point\"><path d=\"M23.71,360V359.92H24.79V360Z\" style=\"vector-effect: non-scaling-stroke; opacity: 1; stroke-width: 0px; fill: rgb(99, 110, 250); fill-opacity: 1;\"/></g><g class=\"point\"><path d=\"M0,0Z\" style=\"vector-effect: non-scaling-stroke; opacity: 1; stroke-width: 0px; fill: rgb(99, 110, 250); fill-opacity: 1;\"/></g><g class=\"point\"><path d=\"M0,0Z\" style=\"vector-effect: non-scaling-stroke; opacity: 1; stroke-width: 0px; fill: rgb(99, 110, 250); fill-opacity: 1;\"/></g><g class=\"point\"><path d=\"M26.95,360V359.38H28.02V360Z\" style=\"vector-effect: non-scaling-stroke; opacity: 1; stroke-width: 0px; fill: rgb(99, 110, 250); fill-opacity: 1;\"/></g><g class=\"point\"><path d=\"M0,0Z\" style=\"vector-effect: non-scaling-stroke; opacity: 1; stroke-width: 0px; fill: rgb(99, 110, 250); fill-opacity: 1;\"/></g><g class=\"point\"><path d=\"M0,0Z\" style=\"vector-effect: non-scaling-stroke; opacity: 1; stroke-width: 0px; fill: rgb(99, 110, 250); fill-opacity: 1;\"/></g><g class=\"point\"><path d=\"M30.18,360V359.92H31.26V360Z\" style=\"vector-effect: non-scaling-stroke; opacity: 1; stroke-width: 0px; fill: rgb(99, 110, 250); fill-opacity: 1;\"/></g><g class=\"point\"><path d=\"M31.26,360V359.92H32.34V360Z\" style=\"vector-effect: non-scaling-stroke; opacity: 1; stroke-width: 0px; fill: rgb(99, 110, 250); fill-opacity: 1;\"/></g><g class=\"point\"><path d=\"M32.34,360V359.85H33.41V360Z\" style=\"vector-effect: non-scaling-stroke; opacity: 1; stroke-width: 0px; fill: rgb(99, 110, 250); fill-opacity: 1;\"/></g><g class=\"point\"><path d=\"M0,0Z\" style=\"vector-effect: non-scaling-stroke; opacity: 1; stroke-width: 0px; fill: rgb(99, 110, 250); fill-opacity: 1;\"/></g><g class=\"point\"><path d=\"M34.49,360V359.77H35.57V360Z\" style=\"vector-effect: non-scaling-stroke; opacity: 1; stroke-width: 0px; fill: rgb(99, 110, 250); fill-opacity: 1;\"/></g><g class=\"point\"><path d=\"M0,0Z\" style=\"vector-effect: non-scaling-stroke; opacity: 1; stroke-width: 0px; fill: rgb(99, 110, 250); fill-opacity: 1;\"/></g><g class=\"point\"><path d=\"M0,0Z\" style=\"vector-effect: non-scaling-stroke; opacity: 1; stroke-width: 0px; fill: rgb(99, 110, 250); fill-opacity: 1;\"/></g><g class=\"point\"><path d=\"M37.72,360V359.92H38.8V360Z\" style=\"vector-effect: non-scaling-stroke; opacity: 1; stroke-width: 0px; fill: rgb(99, 110, 250); fill-opacity: 1;\"/></g><g class=\"point\"><path d=\"M0,0Z\" style=\"vector-effect: non-scaling-stroke; opacity: 1; stroke-width: 0px; fill: rgb(99, 110, 250); fill-opacity: 1;\"/></g><g class=\"point\"><path d=\"M0,0Z\" style=\"vector-effect: non-scaling-stroke; opacity: 1; stroke-width: 0px; fill: rgb(99, 110, 250); fill-opacity: 1;\"/></g><g class=\"point\"><path d=\"M0,0Z\" style=\"vector-effect: non-scaling-stroke; opacity: 1; stroke-width: 0px; fill: rgb(99, 110, 250); fill-opacity: 1;\"/></g><g class=\"point\"><path d=\"M0,0Z\" style=\"vector-effect: non-scaling-stroke; opacity: 1; stroke-width: 0px; fill: rgb(99, 110, 250); fill-opacity: 1;\"/></g><g class=\"point\"><path d=\"M43.11,360V359.92H44.19V360Z\" style=\"vector-effect: non-scaling-stroke; opacity: 1; stroke-width: 0px; fill: rgb(99, 110, 250); fill-opacity: 1;\"/></g><g class=\"point\"><path d=\"M0,0Z\" style=\"vector-effect: non-scaling-stroke; opacity: 1; stroke-width: 0px; fill: rgb(99, 110, 250); fill-opacity: 1;\"/></g><g class=\"point\"><path d=\"M0,0Z\" style=\"vector-effect: non-scaling-stroke; opacity: 1; stroke-width: 0px; fill: rgb(99, 110, 250); fill-opacity: 1;\"/></g><g class=\"point\"><path d=\"M0,0Z\" style=\"vector-effect: non-scaling-stroke; opacity: 1; stroke-width: 0px; fill: rgb(99, 110, 250); fill-opacity: 1;\"/></g><g class=\"point\"><path d=\"M0,0Z\" style=\"vector-effect: non-scaling-stroke; opacity: 1; stroke-width: 0px; fill: rgb(99, 110, 250); fill-opacity: 1;\"/></g><g class=\"point\"><path d=\"M0,0Z\" style=\"vector-effect: non-scaling-stroke; opacity: 1; stroke-width: 0px; fill: rgb(99, 110, 250); fill-opacity: 1;\"/></g><g class=\"point\"><path d=\"M0,0Z\" style=\"vector-effect: non-scaling-stroke; opacity: 1; stroke-width: 0px; fill: rgb(99, 110, 250); fill-opacity: 1;\"/></g><g class=\"point\"><path d=\"M0,0Z\" style=\"vector-effect: non-scaling-stroke; opacity: 1; stroke-width: 0px; fill: rgb(99, 110, 250); fill-opacity: 1;\"/></g><g class=\"point\"><path d=\"M51.74,360V359.92H52.81V360Z\" style=\"vector-effect: non-scaling-stroke; opacity: 1; stroke-width: 0px; fill: rgb(99, 110, 250); fill-opacity: 1;\"/></g><g class=\"point\"><path d=\"M0,0Z\" style=\"vector-effect: non-scaling-stroke; opacity: 1; stroke-width: 0px; fill: rgb(99, 110, 250); fill-opacity: 1;\"/></g><g class=\"point\"><path d=\"M53.89,360V359.69H54.97V360Z\" style=\"vector-effect: non-scaling-stroke; opacity: 1; stroke-width: 0px; fill: rgb(99, 110, 250); fill-opacity: 1;\"/></g><g class=\"point\"><path d=\"M0,0Z\" style=\"vector-effect: non-scaling-stroke; opacity: 1; stroke-width: 0px; fill: rgb(99, 110, 250); fill-opacity: 1;\"/></g><g class=\"point\"><path d=\"M0,0Z\" style=\"vector-effect: non-scaling-stroke; opacity: 1; stroke-width: 0px; fill: rgb(99, 110, 250); fill-opacity: 1;\"/></g><g class=\"point\"><path d=\"M0,0Z\" style=\"vector-effect: non-scaling-stroke; opacity: 1; stroke-width: 0px; fill: rgb(99, 110, 250); fill-opacity: 1;\"/></g><g class=\"point\"><path d=\"M0,0Z\" style=\"vector-effect: non-scaling-stroke; opacity: 1; stroke-width: 0px; fill: rgb(99, 110, 250); fill-opacity: 1;\"/></g><g class=\"point\"><path d=\"M0,0Z\" style=\"vector-effect: non-scaling-stroke; opacity: 1; stroke-width: 0px; fill: rgb(99, 110, 250); fill-opacity: 1;\"/></g><g class=\"point\"><path d=\"M0,0Z\" style=\"vector-effect: non-scaling-stroke; opacity: 1; stroke-width: 0px; fill: rgb(99, 110, 250); fill-opacity: 1;\"/></g><g class=\"point\"><path d=\"M0,0Z\" style=\"vector-effect: non-scaling-stroke; opacity: 1; stroke-width: 0px; fill: rgb(99, 110, 250); fill-opacity: 1;\"/></g><g class=\"point\"><path d=\"M0,0Z\" style=\"vector-effect: non-scaling-stroke; opacity: 1; stroke-width: 0px; fill: rgb(99, 110, 250); fill-opacity: 1;\"/></g><g class=\"point\"><path d=\"M0,0Z\" style=\"vector-effect: non-scaling-stroke; opacity: 1; stroke-width: 0px; fill: rgb(99, 110, 250); fill-opacity: 1;\"/></g><g class=\"point\"><path d=\"M0,0Z\" style=\"vector-effect: non-scaling-stroke; opacity: 1; stroke-width: 0px; fill: rgb(99, 110, 250); fill-opacity: 1;\"/></g><g class=\"point\"><path d=\"M0,0Z\" style=\"vector-effect: non-scaling-stroke; opacity: 1; stroke-width: 0px; fill: rgb(99, 110, 250); fill-opacity: 1;\"/></g><g class=\"point\"><path d=\"M0,0Z\" style=\"vector-effect: non-scaling-stroke; opacity: 1; stroke-width: 0px; fill: rgb(99, 110, 250); fill-opacity: 1;\"/></g><g class=\"point\"><path d=\"M0,0Z\" style=\"vector-effect: non-scaling-stroke; opacity: 1; stroke-width: 0px; fill: rgb(99, 110, 250); fill-opacity: 1;\"/></g><g class=\"point\"><path d=\"M0,0Z\" style=\"vector-effect: non-scaling-stroke; opacity: 1; stroke-width: 0px; fill: rgb(99, 110, 250); fill-opacity: 1;\"/></g><g class=\"point\"><path d=\"M0,0Z\" style=\"vector-effect: non-scaling-stroke; opacity: 1; stroke-width: 0px; fill: rgb(99, 110, 250); fill-opacity: 1;\"/></g><g class=\"point\"><path d=\"M0,0Z\" style=\"vector-effect: non-scaling-stroke; opacity: 1; stroke-width: 0px; fill: rgb(99, 110, 250); fill-opacity: 1;\"/></g><g class=\"point\"><path d=\"M0,0Z\" style=\"vector-effect: non-scaling-stroke; opacity: 1; stroke-width: 0px; fill: rgb(99, 110, 250); fill-opacity: 1;\"/></g><g class=\"point\"><path d=\"M0,0Z\" style=\"vector-effect: non-scaling-stroke; opacity: 1; stroke-width: 0px; fill: rgb(99, 110, 250); fill-opacity: 1;\"/></g><g class=\"point\"><path d=\"M0,0Z\" style=\"vector-effect: non-scaling-stroke; opacity: 1; stroke-width: 0px; fill: rgb(99, 110, 250); fill-opacity: 1;\"/></g><g class=\"point\"><path d=\"M75.45,360V359.92H76.53V360Z\" style=\"vector-effect: non-scaling-stroke; opacity: 1; stroke-width: 0px; fill: rgb(99, 110, 250); fill-opacity: 1;\"/></g><g class=\"point\"><path d=\"M0,0Z\" style=\"vector-effect: non-scaling-stroke; opacity: 1; stroke-width: 0px; fill: rgb(99, 110, 250); fill-opacity: 1;\"/></g><g class=\"point\"><path d=\"M0,0Z\" style=\"vector-effect: non-scaling-stroke; opacity: 1; stroke-width: 0px; fill: rgb(99, 110, 250); fill-opacity: 1;\"/></g><g class=\"point\"><path d=\"M0,0Z\" style=\"vector-effect: non-scaling-stroke; opacity: 1; stroke-width: 0px; fill: rgb(99, 110, 250); fill-opacity: 1;\"/></g><g class=\"point\"><path d=\"M0,0Z\" style=\"vector-effect: non-scaling-stroke; opacity: 1; stroke-width: 0px; fill: rgb(99, 110, 250); fill-opacity: 1;\"/></g><g class=\"point\"><path d=\"M80.84,360V359.77H81.92V360Z\" style=\"vector-effect: non-scaling-stroke; opacity: 1; stroke-width: 0px; fill: rgb(99, 110, 250); fill-opacity: 1;\"/></g><g class=\"point\"><path d=\"M0,0Z\" style=\"vector-effect: non-scaling-stroke; opacity: 1; stroke-width: 0px; fill: rgb(99, 110, 250); fill-opacity: 1;\"/></g><g class=\"point\"><path d=\"M0,0Z\" style=\"vector-effect: non-scaling-stroke; opacity: 1; stroke-width: 0px; fill: rgb(99, 110, 250); fill-opacity: 1;\"/></g><g class=\"point\"><path d=\"M0,0Z\" style=\"vector-effect: non-scaling-stroke; opacity: 1; stroke-width: 0px; fill: rgb(99, 110, 250); fill-opacity: 1;\"/></g><g class=\"point\"><path d=\"M0,0Z\" style=\"vector-effect: non-scaling-stroke; opacity: 1; stroke-width: 0px; fill: rgb(99, 110, 250); fill-opacity: 1;\"/></g><g class=\"point\"><path d=\"M0,0Z\" style=\"vector-effect: non-scaling-stroke; opacity: 1; stroke-width: 0px; fill: rgb(99, 110, 250); fill-opacity: 1;\"/></g><g class=\"point\"><path d=\"M0,0Z\" style=\"vector-effect: non-scaling-stroke; opacity: 1; stroke-width: 0px; fill: rgb(99, 110, 250); fill-opacity: 1;\"/></g><g class=\"point\"><path d=\"M0,0Z\" style=\"vector-effect: non-scaling-stroke; opacity: 1; stroke-width: 0px; fill: rgb(99, 110, 250); fill-opacity: 1;\"/></g><g class=\"point\"><path d=\"M0,0Z\" style=\"vector-effect: non-scaling-stroke; opacity: 1; stroke-width: 0px; fill: rgb(99, 110, 250); fill-opacity: 1;\"/></g><g class=\"point\"><path d=\"M0,0Z\" style=\"vector-effect: non-scaling-stroke; opacity: 1; stroke-width: 0px; fill: rgb(99, 110, 250); fill-opacity: 1;\"/></g><g class=\"point\"><path d=\"M91.62,360V359.92H92.69V360Z\" style=\"vector-effect: non-scaling-stroke; opacity: 1; stroke-width: 0px; fill: rgb(99, 110, 250); fill-opacity: 1;\"/></g><g class=\"point\"><path d=\"M0,0Z\" style=\"vector-effect: non-scaling-stroke; opacity: 1; stroke-width: 0px; fill: rgb(99, 110, 250); fill-opacity: 1;\"/></g><g class=\"point\"><path d=\"M0,0Z\" style=\"vector-effect: non-scaling-stroke; opacity: 1; stroke-width: 0px; fill: rgb(99, 110, 250); fill-opacity: 1;\"/></g><g class=\"point\"><path d=\"M0,0Z\" style=\"vector-effect: non-scaling-stroke; opacity: 1; stroke-width: 0px; fill: rgb(99, 110, 250); fill-opacity: 1;\"/></g><g class=\"point\"><path d=\"M0,0Z\" style=\"vector-effect: non-scaling-stroke; opacity: 1; stroke-width: 0px; fill: rgb(99, 110, 250); fill-opacity: 1;\"/></g><g class=\"point\"><path d=\"M0,0Z\" style=\"vector-effect: non-scaling-stroke; opacity: 1; stroke-width: 0px; fill: rgb(99, 110, 250); fill-opacity: 1;\"/></g><g class=\"point\"><path d=\"M0,0Z\" style=\"vector-effect: non-scaling-stroke; opacity: 1; stroke-width: 0px; fill: rgb(99, 110, 250); fill-opacity: 1;\"/></g><g class=\"point\"><path d=\"M0,0Z\" style=\"vector-effect: non-scaling-stroke; opacity: 1; stroke-width: 0px; fill: rgb(99, 110, 250); fill-opacity: 1;\"/></g><g class=\"point\"><path d=\"M0,0Z\" style=\"vector-effect: non-scaling-stroke; opacity: 1; stroke-width: 0px; fill: rgb(99, 110, 250); fill-opacity: 1;\"/></g><g class=\"point\"><path d=\"M0,0Z\" style=\"vector-effect: non-scaling-stroke; opacity: 1; stroke-width: 0px; fill: rgb(99, 110, 250); fill-opacity: 1;\"/></g><g class=\"point\"><path d=\"M0,0Z\" style=\"vector-effect: non-scaling-stroke; opacity: 1; stroke-width: 0px; fill: rgb(99, 110, 250); fill-opacity: 1;\"/></g><g class=\"point\"><path d=\"M0,0Z\" style=\"vector-effect: non-scaling-stroke; opacity: 1; stroke-width: 0px; fill: rgb(99, 110, 250); fill-opacity: 1;\"/></g><g class=\"point\"><path d=\"M0,0Z\" style=\"vector-effect: non-scaling-stroke; opacity: 1; stroke-width: 0px; fill: rgb(99, 110, 250); fill-opacity: 1;\"/></g><g class=\"point\"><path d=\"M0,0Z\" style=\"vector-effect: non-scaling-stroke; opacity: 1; stroke-width: 0px; fill: rgb(99, 110, 250); fill-opacity: 1;\"/></g><g class=\"point\"><path d=\"M0,0Z\" style=\"vector-effect: non-scaling-stroke; opacity: 1; stroke-width: 0px; fill: rgb(99, 110, 250); fill-opacity: 1;\"/></g><g class=\"point\"><path d=\"M107.78,360V359.92H108.86V360Z\" style=\"vector-effect: non-scaling-stroke; opacity: 1; stroke-width: 0px; fill: rgb(99, 110, 250); fill-opacity: 1;\"/></g><g class=\"point\"><path d=\"M0,0Z\" style=\"vector-effect: non-scaling-stroke; opacity: 1; stroke-width: 0px; fill: rgb(99, 110, 250); fill-opacity: 1;\"/></g><g class=\"point\"><path d=\"M0,0Z\" style=\"vector-effect: non-scaling-stroke; opacity: 1; stroke-width: 0px; fill: rgb(99, 110, 250); fill-opacity: 1;\"/></g><g class=\"point\"><path d=\"M0,0Z\" style=\"vector-effect: non-scaling-stroke; opacity: 1; stroke-width: 0px; fill: rgb(99, 110, 250); fill-opacity: 1;\"/></g><g class=\"point\"><path d=\"M0,0Z\" style=\"vector-effect: non-scaling-stroke; opacity: 1; stroke-width: 0px; fill: rgb(99, 110, 250); fill-opacity: 1;\"/></g><g class=\"point\"><path d=\"M0,0Z\" style=\"vector-effect: non-scaling-stroke; opacity: 1; stroke-width: 0px; fill: rgb(99, 110, 250); fill-opacity: 1;\"/></g><g class=\"point\"><path d=\"M0,0Z\" style=\"vector-effect: non-scaling-stroke; opacity: 1; stroke-width: 0px; fill: rgb(99, 110, 250); fill-opacity: 1;\"/></g><g class=\"point\"><path d=\"M0,0Z\" style=\"vector-effect: non-scaling-stroke; opacity: 1; stroke-width: 0px; fill: rgb(99, 110, 250); fill-opacity: 1;\"/></g><g class=\"point\"><path d=\"M0,0Z\" style=\"vector-effect: non-scaling-stroke; opacity: 1; stroke-width: 0px; fill: rgb(99, 110, 250); fill-opacity: 1;\"/></g><g class=\"point\"><path d=\"M0,0Z\" style=\"vector-effect: non-scaling-stroke; opacity: 1; stroke-width: 0px; fill: rgb(99, 110, 250); fill-opacity: 1;\"/></g><g class=\"point\"><path d=\"M0,0Z\" style=\"vector-effect: non-scaling-stroke; opacity: 1; stroke-width: 0px; fill: rgb(99, 110, 250); fill-opacity: 1;\"/></g><g class=\"point\"><path d=\"M0,0Z\" style=\"vector-effect: non-scaling-stroke; opacity: 1; stroke-width: 0px; fill: rgb(99, 110, 250); fill-opacity: 1;\"/></g><g class=\"point\"><path d=\"M0,0Z\" style=\"vector-effect: non-scaling-stroke; opacity: 1; stroke-width: 0px; fill: rgb(99, 110, 250); fill-opacity: 1;\"/></g><g class=\"point\"><path d=\"M0,0Z\" style=\"vector-effect: non-scaling-stroke; opacity: 1; stroke-width: 0px; fill: rgb(99, 110, 250); fill-opacity: 1;\"/></g><g class=\"point\"><path d=\"M0,0Z\" style=\"vector-effect: non-scaling-stroke; opacity: 1; stroke-width: 0px; fill: rgb(99, 110, 250); fill-opacity: 1;\"/></g><g class=\"point\"><path d=\"M0,0Z\" style=\"vector-effect: non-scaling-stroke; opacity: 1; stroke-width: 0px; fill: rgb(99, 110, 250); fill-opacity: 1;\"/></g><g class=\"point\"><path d=\"M0,0Z\" style=\"vector-effect: non-scaling-stroke; opacity: 1; stroke-width: 0px; fill: rgb(99, 110, 250); fill-opacity: 1;\"/></g><g class=\"point\"><path d=\"M0,0Z\" style=\"vector-effect: non-scaling-stroke; opacity: 1; stroke-width: 0px; fill: rgb(99, 110, 250); fill-opacity: 1;\"/></g><g class=\"point\"><path d=\"M0,0Z\" style=\"vector-effect: non-scaling-stroke; opacity: 1; stroke-width: 0px; fill: rgb(99, 110, 250); fill-opacity: 1;\"/></g><g class=\"point\"><path d=\"M0,0Z\" style=\"vector-effect: non-scaling-stroke; opacity: 1; stroke-width: 0px; fill: rgb(99, 110, 250); fill-opacity: 1;\"/></g><g class=\"point\"><path d=\"M0,0Z\" style=\"vector-effect: non-scaling-stroke; opacity: 1; stroke-width: 0px; fill: rgb(99, 110, 250); fill-opacity: 1;\"/></g><g class=\"point\"><path d=\"M0,0Z\" style=\"vector-effect: non-scaling-stroke; opacity: 1; stroke-width: 0px; fill: rgb(99, 110, 250); fill-opacity: 1;\"/></g><g class=\"point\"><path d=\"M0,0Z\" style=\"vector-effect: non-scaling-stroke; opacity: 1; stroke-width: 0px; fill: rgb(99, 110, 250); fill-opacity: 1;\"/></g><g class=\"point\"><path d=\"M0,0Z\" style=\"vector-effect: non-scaling-stroke; opacity: 1; stroke-width: 0px; fill: rgb(99, 110, 250); fill-opacity: 1;\"/></g><g class=\"point\"><path d=\"M0,0Z\" style=\"vector-effect: non-scaling-stroke; opacity: 1; stroke-width: 0px; fill: rgb(99, 110, 250); fill-opacity: 1;\"/></g><g class=\"point\"><path d=\"M0,0Z\" style=\"vector-effect: non-scaling-stroke; opacity: 1; stroke-width: 0px; fill: rgb(99, 110, 250); fill-opacity: 1;\"/></g><g class=\"point\"><path d=\"M0,0Z\" style=\"vector-effect: non-scaling-stroke; opacity: 1; stroke-width: 0px; fill: rgb(99, 110, 250); fill-opacity: 1;\"/></g><g class=\"point\"><path d=\"M0,0Z\" style=\"vector-effect: non-scaling-stroke; opacity: 1; stroke-width: 0px; fill: rgb(99, 110, 250); fill-opacity: 1;\"/></g><g class=\"point\"><path d=\"M0,0Z\" style=\"vector-effect: non-scaling-stroke; opacity: 1; stroke-width: 0px; fill: rgb(99, 110, 250); fill-opacity: 1;\"/></g><g class=\"point\"><path d=\"M0,0Z\" style=\"vector-effect: non-scaling-stroke; opacity: 1; stroke-width: 0px; fill: rgb(99, 110, 250); fill-opacity: 1;\"/></g><g class=\"point\"><path d=\"M0,0Z\" style=\"vector-effect: non-scaling-stroke; opacity: 1; stroke-width: 0px; fill: rgb(99, 110, 250); fill-opacity: 1;\"/></g><g class=\"point\"><path d=\"M0,0Z\" style=\"vector-effect: non-scaling-stroke; opacity: 1; stroke-width: 0px; fill: rgb(99, 110, 250); fill-opacity: 1;\"/></g><g class=\"point\"><path d=\"M0,0Z\" style=\"vector-effect: non-scaling-stroke; opacity: 1; stroke-width: 0px; fill: rgb(99, 110, 250); fill-opacity: 1;\"/></g><g class=\"point\"><path d=\"M0,0Z\" style=\"vector-effect: non-scaling-stroke; opacity: 1; stroke-width: 0px; fill: rgb(99, 110, 250); fill-opacity: 1;\"/></g><g class=\"point\"><path d=\"M0,0Z\" style=\"vector-effect: non-scaling-stroke; opacity: 1; stroke-width: 0px; fill: rgb(99, 110, 250); fill-opacity: 1;\"/></g><g class=\"point\"><path d=\"M0,0Z\" style=\"vector-effect: non-scaling-stroke; opacity: 1; stroke-width: 0px; fill: rgb(99, 110, 250); fill-opacity: 1;\"/></g><g class=\"point\"><path d=\"M0,0Z\" style=\"vector-effect: non-scaling-stroke; opacity: 1; stroke-width: 0px; fill: rgb(99, 110, 250); fill-opacity: 1;\"/></g><g class=\"point\"><path d=\"M0,0Z\" style=\"vector-effect: non-scaling-stroke; opacity: 1; stroke-width: 0px; fill: rgb(99, 110, 250); fill-opacity: 1;\"/></g><g class=\"point\"><path d=\"M0,0Z\" style=\"vector-effect: non-scaling-stroke; opacity: 1; stroke-width: 0px; fill: rgb(99, 110, 250); fill-opacity: 1;\"/></g><g class=\"point\"><path d=\"M0,0Z\" style=\"vector-effect: non-scaling-stroke; opacity: 1; stroke-width: 0px; fill: rgb(99, 110, 250); fill-opacity: 1;\"/></g><g class=\"point\"><path d=\"M0,0Z\" style=\"vector-effect: non-scaling-stroke; opacity: 1; stroke-width: 0px; fill: rgb(99, 110, 250); fill-opacity: 1;\"/></g><g class=\"point\"><path d=\"M0,0Z\" style=\"vector-effect: non-scaling-stroke; opacity: 1; stroke-width: 0px; fill: rgb(99, 110, 250); fill-opacity: 1;\"/></g><g class=\"point\"><path d=\"M0,0Z\" style=\"vector-effect: non-scaling-stroke; opacity: 1; stroke-width: 0px; fill: rgb(99, 110, 250); fill-opacity: 1;\"/></g><g class=\"point\"><path d=\"M0,0Z\" style=\"vector-effect: non-scaling-stroke; opacity: 1; stroke-width: 0px; fill: rgb(99, 110, 250); fill-opacity: 1;\"/></g><g class=\"point\"><path d=\"M0,0Z\" style=\"vector-effect: non-scaling-stroke; opacity: 1; stroke-width: 0px; fill: rgb(99, 110, 250); fill-opacity: 1;\"/></g><g class=\"point\"><path d=\"M0,0Z\" style=\"vector-effect: non-scaling-stroke; opacity: 1; stroke-width: 0px; fill: rgb(99, 110, 250); fill-opacity: 1;\"/></g><g class=\"point\"><path d=\"M0,0Z\" style=\"vector-effect: non-scaling-stroke; opacity: 1; stroke-width: 0px; fill: rgb(99, 110, 250); fill-opacity: 1;\"/></g><g class=\"point\"><path d=\"M0,0Z\" style=\"vector-effect: non-scaling-stroke; opacity: 1; stroke-width: 0px; fill: rgb(99, 110, 250); fill-opacity: 1;\"/></g><g class=\"point\"><path d=\"M0,0Z\" style=\"vector-effect: non-scaling-stroke; opacity: 1; stroke-width: 0px; fill: rgb(99, 110, 250); fill-opacity: 1;\"/></g><g class=\"point\"><path d=\"M0,0Z\" style=\"vector-effect: non-scaling-stroke; opacity: 1; stroke-width: 0px; fill: rgb(99, 110, 250); fill-opacity: 1;\"/></g><g class=\"point\"><path d=\"M161.68,360V359.92H162.75V360Z\" style=\"vector-effect: non-scaling-stroke; opacity: 1; stroke-width: 0px; fill: rgb(99, 110, 250); fill-opacity: 1;\"/></g><g class=\"point\"><path d=\"M0,0Z\" style=\"vector-effect: non-scaling-stroke; opacity: 1; stroke-width: 0px; fill: rgb(99, 110, 250); fill-opacity: 1;\"/></g><g class=\"point\"><path d=\"M0,0Z\" style=\"vector-effect: non-scaling-stroke; opacity: 1; stroke-width: 0px; fill: rgb(99, 110, 250); fill-opacity: 1;\"/></g><g class=\"point\"><path d=\"M0,0Z\" style=\"vector-effect: non-scaling-stroke; opacity: 1; stroke-width: 0px; fill: rgb(99, 110, 250); fill-opacity: 1;\"/></g><g class=\"point\"><path d=\"M0,0Z\" style=\"vector-effect: non-scaling-stroke; opacity: 1; stroke-width: 0px; fill: rgb(99, 110, 250); fill-opacity: 1;\"/></g><g class=\"point\"><path d=\"M0,0Z\" style=\"vector-effect: non-scaling-stroke; opacity: 1; stroke-width: 0px; fill: rgb(99, 110, 250); fill-opacity: 1;\"/></g><g class=\"point\"><path d=\"M0,0Z\" style=\"vector-effect: non-scaling-stroke; opacity: 1; stroke-width: 0px; fill: rgb(99, 110, 250); fill-opacity: 1;\"/></g><g class=\"point\"><path d=\"M0,0Z\" style=\"vector-effect: non-scaling-stroke; opacity: 1; stroke-width: 0px; fill: rgb(99, 110, 250); fill-opacity: 1;\"/></g><g class=\"point\"><path d=\"M0,0Z\" style=\"vector-effect: non-scaling-stroke; opacity: 1; stroke-width: 0px; fill: rgb(99, 110, 250); fill-opacity: 1;\"/></g><g class=\"point\"><path d=\"M0,0Z\" style=\"vector-effect: non-scaling-stroke; opacity: 1; stroke-width: 0px; fill: rgb(99, 110, 250); fill-opacity: 1;\"/></g><g class=\"point\"><path d=\"M0,0Z\" style=\"vector-effect: non-scaling-stroke; opacity: 1; stroke-width: 0px; fill: rgb(99, 110, 250); fill-opacity: 1;\"/></g><g class=\"point\"><path d=\"M0,0Z\" style=\"vector-effect: non-scaling-stroke; opacity: 1; stroke-width: 0px; fill: rgb(99, 110, 250); fill-opacity: 1;\"/></g><g class=\"point\"><path d=\"M0,0Z\" style=\"vector-effect: non-scaling-stroke; opacity: 1; stroke-width: 0px; fill: rgb(99, 110, 250); fill-opacity: 1;\"/></g><g class=\"point\"><path d=\"M0,0Z\" style=\"vector-effect: non-scaling-stroke; opacity: 1; stroke-width: 0px; fill: rgb(99, 110, 250); fill-opacity: 1;\"/></g><g class=\"point\"><path d=\"M0,0Z\" style=\"vector-effect: non-scaling-stroke; opacity: 1; stroke-width: 0px; fill: rgb(99, 110, 250); fill-opacity: 1;\"/></g><g class=\"point\"><path d=\"M0,0Z\" style=\"vector-effect: non-scaling-stroke; opacity: 1; stroke-width: 0px; fill: rgb(99, 110, 250); fill-opacity: 1;\"/></g><g class=\"point\"><path d=\"M0,0Z\" style=\"vector-effect: non-scaling-stroke; opacity: 1; stroke-width: 0px; fill: rgb(99, 110, 250); fill-opacity: 1;\"/></g><g class=\"point\"><path d=\"M180,360V359.92H181.08V360Z\" style=\"vector-effect: non-scaling-stroke; opacity: 1; stroke-width: 0px; fill: rgb(99, 110, 250); fill-opacity: 1;\"/></g><g class=\"point\"><path d=\"M0,0Z\" style=\"vector-effect: non-scaling-stroke; opacity: 1; stroke-width: 0px; fill: rgb(99, 110, 250); fill-opacity: 1;\"/></g><g class=\"point\"><path d=\"M0,0Z\" style=\"vector-effect: non-scaling-stroke; opacity: 1; stroke-width: 0px; fill: rgb(99, 110, 250); fill-opacity: 1;\"/></g><g class=\"point\"><path d=\"M0,0Z\" style=\"vector-effect: non-scaling-stroke; opacity: 1; stroke-width: 0px; fill: rgb(99, 110, 250); fill-opacity: 1;\"/></g><g class=\"point\"><path d=\"M0,0Z\" style=\"vector-effect: non-scaling-stroke; opacity: 1; stroke-width: 0px; fill: rgb(99, 110, 250); fill-opacity: 1;\"/></g><g class=\"point\"><path d=\"M0,0Z\" style=\"vector-effect: non-scaling-stroke; opacity: 1; stroke-width: 0px; fill: rgb(99, 110, 250); fill-opacity: 1;\"/></g><g class=\"point\"><path d=\"M0,0Z\" style=\"vector-effect: non-scaling-stroke; opacity: 1; stroke-width: 0px; fill: rgb(99, 110, 250); fill-opacity: 1;\"/></g><g class=\"point\"><path d=\"M0,0Z\" style=\"vector-effect: non-scaling-stroke; opacity: 1; stroke-width: 0px; fill: rgb(99, 110, 250); fill-opacity: 1;\"/></g><g class=\"point\"><path d=\"M0,0Z\" style=\"vector-effect: non-scaling-stroke; opacity: 1; stroke-width: 0px; fill: rgb(99, 110, 250); fill-opacity: 1;\"/></g><g class=\"point\"><path d=\"M0,0Z\" style=\"vector-effect: non-scaling-stroke; opacity: 1; stroke-width: 0px; fill: rgb(99, 110, 250); fill-opacity: 1;\"/></g><g class=\"point\"><path d=\"M0,0Z\" style=\"vector-effect: non-scaling-stroke; opacity: 1; stroke-width: 0px; fill: rgb(99, 110, 250); fill-opacity: 1;\"/></g><g class=\"point\"><path d=\"M0,0Z\" style=\"vector-effect: non-scaling-stroke; opacity: 1; stroke-width: 0px; fill: rgb(99, 110, 250); fill-opacity: 1;\"/></g><g class=\"point\"><path d=\"M0,0Z\" style=\"vector-effect: non-scaling-stroke; opacity: 1; stroke-width: 0px; fill: rgb(99, 110, 250); fill-opacity: 1;\"/></g><g class=\"point\"><path d=\"M0,0Z\" style=\"vector-effect: non-scaling-stroke; opacity: 1; stroke-width: 0px; fill: rgb(99, 110, 250); fill-opacity: 1;\"/></g><g class=\"point\"><path d=\"M0,0Z\" style=\"vector-effect: non-scaling-stroke; opacity: 1; stroke-width: 0px; fill: rgb(99, 110, 250); fill-opacity: 1;\"/></g><g class=\"point\"><path d=\"M0,0Z\" style=\"vector-effect: non-scaling-stroke; opacity: 1; stroke-width: 0px; fill: rgb(99, 110, 250); fill-opacity: 1;\"/></g><g class=\"point\"><path d=\"M0,0Z\" style=\"vector-effect: non-scaling-stroke; opacity: 1; stroke-width: 0px; fill: rgb(99, 110, 250); fill-opacity: 1;\"/></g><g class=\"point\"><path d=\"M0,0Z\" style=\"vector-effect: non-scaling-stroke; opacity: 1; stroke-width: 0px; fill: rgb(99, 110, 250); fill-opacity: 1;\"/></g><g class=\"point\"><path d=\"M0,0Z\" style=\"vector-effect: non-scaling-stroke; opacity: 1; stroke-width: 0px; fill: rgb(99, 110, 250); fill-opacity: 1;\"/></g><g class=\"point\"><path d=\"M0,0Z\" style=\"vector-effect: non-scaling-stroke; opacity: 1; stroke-width: 0px; fill: rgb(99, 110, 250); fill-opacity: 1;\"/></g><g class=\"point\"><path d=\"M0,0Z\" style=\"vector-effect: non-scaling-stroke; opacity: 1; stroke-width: 0px; fill: rgb(99, 110, 250); fill-opacity: 1;\"/></g><g class=\"point\"><path d=\"M0,0Z\" style=\"vector-effect: non-scaling-stroke; opacity: 1; stroke-width: 0px; fill: rgb(99, 110, 250); fill-opacity: 1;\"/></g><g class=\"point\"><path d=\"M0,0Z\" style=\"vector-effect: non-scaling-stroke; opacity: 1; stroke-width: 0px; fill: rgb(99, 110, 250); fill-opacity: 1;\"/></g><g class=\"point\"><path d=\"M0,0Z\" style=\"vector-effect: non-scaling-stroke; opacity: 1; stroke-width: 0px; fill: rgb(99, 110, 250); fill-opacity: 1;\"/></g><g class=\"point\"><path d=\"M0,0Z\" style=\"vector-effect: non-scaling-stroke; opacity: 1; stroke-width: 0px; fill: rgb(99, 110, 250); fill-opacity: 1;\"/></g><g class=\"point\"><path d=\"M0,0Z\" style=\"vector-effect: non-scaling-stroke; opacity: 1; stroke-width: 0px; fill: rgb(99, 110, 250); fill-opacity: 1;\"/></g><g class=\"point\"><path d=\"M0,0Z\" style=\"vector-effect: non-scaling-stroke; opacity: 1; stroke-width: 0px; fill: rgb(99, 110, 250); fill-opacity: 1;\"/></g><g class=\"point\"><path d=\"M0,0Z\" style=\"vector-effect: non-scaling-stroke; opacity: 1; stroke-width: 0px; fill: rgb(99, 110, 250); fill-opacity: 1;\"/></g><g class=\"point\"><path d=\"M0,0Z\" style=\"vector-effect: non-scaling-stroke; opacity: 1; stroke-width: 0px; fill: rgb(99, 110, 250); fill-opacity: 1;\"/></g><g class=\"point\"><path d=\"M0,0Z\" style=\"vector-effect: non-scaling-stroke; opacity: 1; stroke-width: 0px; fill: rgb(99, 110, 250); fill-opacity: 1;\"/></g><g class=\"point\"><path d=\"M0,0Z\" style=\"vector-effect: non-scaling-stroke; opacity: 1; stroke-width: 0px; fill: rgb(99, 110, 250); fill-opacity: 1;\"/></g><g class=\"point\"><path d=\"M0,0Z\" style=\"vector-effect: non-scaling-stroke; opacity: 1; stroke-width: 0px; fill: rgb(99, 110, 250); fill-opacity: 1;\"/></g><g class=\"point\"><path d=\"M0,0Z\" style=\"vector-effect: non-scaling-stroke; opacity: 1; stroke-width: 0px; fill: rgb(99, 110, 250); fill-opacity: 1;\"/></g><g class=\"point\"><path d=\"M0,0Z\" style=\"vector-effect: non-scaling-stroke; opacity: 1; stroke-width: 0px; fill: rgb(99, 110, 250); fill-opacity: 1;\"/></g><g class=\"point\"><path d=\"M0,0Z\" style=\"vector-effect: non-scaling-stroke; opacity: 1; stroke-width: 0px; fill: rgb(99, 110, 250); fill-opacity: 1;\"/></g><g class=\"point\"><path d=\"M0,0Z\" style=\"vector-effect: non-scaling-stroke; opacity: 1; stroke-width: 0px; fill: rgb(99, 110, 250); fill-opacity: 1;\"/></g><g class=\"point\"><path d=\"M0,0Z\" style=\"vector-effect: non-scaling-stroke; opacity: 1; stroke-width: 0px; fill: rgb(99, 110, 250); fill-opacity: 1;\"/></g><g class=\"point\"><path d=\"M0,0Z\" style=\"vector-effect: non-scaling-stroke; opacity: 1; stroke-width: 0px; fill: rgb(99, 110, 250); fill-opacity: 1;\"/></g><g class=\"point\"><path d=\"M0,0Z\" style=\"vector-effect: non-scaling-stroke; opacity: 1; stroke-width: 0px; fill: rgb(99, 110, 250); fill-opacity: 1;\"/></g><g class=\"point\"><path d=\"M0,0Z\" style=\"vector-effect: non-scaling-stroke; opacity: 1; stroke-width: 0px; fill: rgb(99, 110, 250); fill-opacity: 1;\"/></g><g class=\"point\"><path d=\"M0,0Z\" style=\"vector-effect: non-scaling-stroke; opacity: 1; stroke-width: 0px; fill: rgb(99, 110, 250); fill-opacity: 1;\"/></g><g class=\"point\"><path d=\"M0,0Z\" style=\"vector-effect: non-scaling-stroke; opacity: 1; stroke-width: 0px; fill: rgb(99, 110, 250); fill-opacity: 1;\"/></g><g class=\"point\"><path d=\"M0,0Z\" style=\"vector-effect: non-scaling-stroke; opacity: 1; stroke-width: 0px; fill: rgb(99, 110, 250); fill-opacity: 1;\"/></g><g class=\"point\"><path d=\"M0,0Z\" style=\"vector-effect: non-scaling-stroke; opacity: 1; stroke-width: 0px; fill: rgb(99, 110, 250); fill-opacity: 1;\"/></g><g class=\"point\"><path d=\"M0,0Z\" style=\"vector-effect: non-scaling-stroke; opacity: 1; stroke-width: 0px; fill: rgb(99, 110, 250); fill-opacity: 1;\"/></g><g class=\"point\"><path d=\"M0,0Z\" style=\"vector-effect: non-scaling-stroke; opacity: 1; stroke-width: 0px; fill: rgb(99, 110, 250); fill-opacity: 1;\"/></g><g class=\"point\"><path d=\"M0,0Z\" style=\"vector-effect: non-scaling-stroke; opacity: 1; stroke-width: 0px; fill: rgb(99, 110, 250); fill-opacity: 1;\"/></g><g class=\"point\"><path d=\"M0,0Z\" style=\"vector-effect: non-scaling-stroke; opacity: 1; stroke-width: 0px; fill: rgb(99, 110, 250); fill-opacity: 1;\"/></g><g class=\"point\"><path d=\"M0,0Z\" style=\"vector-effect: non-scaling-stroke; opacity: 1; stroke-width: 0px; fill: rgb(99, 110, 250); fill-opacity: 1;\"/></g><g class=\"point\"><path d=\"M0,0Z\" style=\"vector-effect: non-scaling-stroke; opacity: 1; stroke-width: 0px; fill: rgb(99, 110, 250); fill-opacity: 1;\"/></g><g class=\"point\"><path d=\"M0,0Z\" style=\"vector-effect: non-scaling-stroke; opacity: 1; stroke-width: 0px; fill: rgb(99, 110, 250); fill-opacity: 1;\"/></g><g class=\"point\"><path d=\"M0,0Z\" style=\"vector-effect: non-scaling-stroke; opacity: 1; stroke-width: 0px; fill: rgb(99, 110, 250); fill-opacity: 1;\"/></g><g class=\"point\"><path d=\"M0,0Z\" style=\"vector-effect: non-scaling-stroke; opacity: 1; stroke-width: 0px; fill: rgb(99, 110, 250); fill-opacity: 1;\"/></g><g class=\"point\"><path d=\"M0,0Z\" style=\"vector-effect: non-scaling-stroke; opacity: 1; stroke-width: 0px; fill: rgb(99, 110, 250); fill-opacity: 1;\"/></g><g class=\"point\"><path d=\"M0,0Z\" style=\"vector-effect: non-scaling-stroke; opacity: 1; stroke-width: 0px; fill: rgb(99, 110, 250); fill-opacity: 1;\"/></g><g class=\"point\"><path d=\"M0,0Z\" style=\"vector-effect: non-scaling-stroke; opacity: 1; stroke-width: 0px; fill: rgb(99, 110, 250); fill-opacity: 1;\"/></g><g class=\"point\"><path d=\"M0,0Z\" style=\"vector-effect: non-scaling-stroke; opacity: 1; stroke-width: 0px; fill: rgb(99, 110, 250); fill-opacity: 1;\"/></g><g class=\"point\"><path d=\"M0,0Z\" style=\"vector-effect: non-scaling-stroke; opacity: 1; stroke-width: 0px; fill: rgb(99, 110, 250); fill-opacity: 1;\"/></g><g class=\"point\"><path d=\"M0,0Z\" style=\"vector-effect: non-scaling-stroke; opacity: 1; stroke-width: 0px; fill: rgb(99, 110, 250); fill-opacity: 1;\"/></g><g class=\"point\"><path d=\"M0,0Z\" style=\"vector-effect: non-scaling-stroke; opacity: 1; stroke-width: 0px; fill: rgb(99, 110, 250); fill-opacity: 1;\"/></g><g class=\"point\"><path d=\"M0,0Z\" style=\"vector-effect: non-scaling-stroke; opacity: 1; stroke-width: 0px; fill: rgb(99, 110, 250); fill-opacity: 1;\"/></g><g class=\"point\"><path d=\"M0,0Z\" style=\"vector-effect: non-scaling-stroke; opacity: 1; stroke-width: 0px; fill: rgb(99, 110, 250); fill-opacity: 1;\"/></g><g class=\"point\"><path d=\"M0,0Z\" style=\"vector-effect: non-scaling-stroke; opacity: 1; stroke-width: 0px; fill: rgb(99, 110, 250); fill-opacity: 1;\"/></g><g class=\"point\"><path d=\"M0,0Z\" style=\"vector-effect: non-scaling-stroke; opacity: 1; stroke-width: 0px; fill: rgb(99, 110, 250); fill-opacity: 1;\"/></g><g class=\"point\"><path d=\"M0,0Z\" style=\"vector-effect: non-scaling-stroke; opacity: 1; stroke-width: 0px; fill: rgb(99, 110, 250); fill-opacity: 1;\"/></g><g class=\"point\"><path d=\"M0,0Z\" style=\"vector-effect: non-scaling-stroke; opacity: 1; stroke-width: 0px; fill: rgb(99, 110, 250); fill-opacity: 1;\"/></g><g class=\"point\"><path d=\"M0,0Z\" style=\"vector-effect: non-scaling-stroke; opacity: 1; stroke-width: 0px; fill: rgb(99, 110, 250); fill-opacity: 1;\"/></g><g class=\"point\"><path d=\"M0,0Z\" style=\"vector-effect: non-scaling-stroke; opacity: 1; stroke-width: 0px; fill: rgb(99, 110, 250); fill-opacity: 1;\"/></g><g class=\"point\"><path d=\"M0,0Z\" style=\"vector-effect: non-scaling-stroke; opacity: 1; stroke-width: 0px; fill: rgb(99, 110, 250); fill-opacity: 1;\"/></g><g class=\"point\"><path d=\"M0,0Z\" style=\"vector-effect: non-scaling-stroke; opacity: 1; stroke-width: 0px; fill: rgb(99, 110, 250); fill-opacity: 1;\"/></g><g class=\"point\"><path d=\"M0,0Z\" style=\"vector-effect: non-scaling-stroke; opacity: 1; stroke-width: 0px; fill: rgb(99, 110, 250); fill-opacity: 1;\"/></g><g class=\"point\"><path d=\"M0,0Z\" style=\"vector-effect: non-scaling-stroke; opacity: 1; stroke-width: 0px; fill: rgb(99, 110, 250); fill-opacity: 1;\"/></g><g class=\"point\"><path d=\"M0,0Z\" style=\"vector-effect: non-scaling-stroke; opacity: 1; stroke-width: 0px; fill: rgb(99, 110, 250); fill-opacity: 1;\"/></g><g class=\"point\"><path d=\"M0,0Z\" style=\"vector-effect: non-scaling-stroke; opacity: 1; stroke-width: 0px; fill: rgb(99, 110, 250); fill-opacity: 1;\"/></g><g class=\"point\"><path d=\"M0,0Z\" style=\"vector-effect: non-scaling-stroke; opacity: 1; stroke-width: 0px; fill: rgb(99, 110, 250); fill-opacity: 1;\"/></g><g class=\"point\"><path d=\"M0,0Z\" style=\"vector-effect: non-scaling-stroke; opacity: 1; stroke-width: 0px; fill: rgb(99, 110, 250); fill-opacity: 1;\"/></g><g class=\"point\"><path d=\"M0,0Z\" style=\"vector-effect: non-scaling-stroke; opacity: 1; stroke-width: 0px; fill: rgb(99, 110, 250); fill-opacity: 1;\"/></g><g class=\"point\"><path d=\"M0,0Z\" style=\"vector-effect: non-scaling-stroke; opacity: 1; stroke-width: 0px; fill: rgb(99, 110, 250); fill-opacity: 1;\"/></g><g class=\"point\"><path d=\"M0,0Z\" style=\"vector-effect: non-scaling-stroke; opacity: 1; stroke-width: 0px; fill: rgb(99, 110, 250); fill-opacity: 1;\"/></g><g class=\"point\"><path d=\"M0,0Z\" style=\"vector-effect: non-scaling-stroke; opacity: 1; stroke-width: 0px; fill: rgb(99, 110, 250); fill-opacity: 1;\"/></g><g class=\"point\"><path d=\"M0,0Z\" style=\"vector-effect: non-scaling-stroke; opacity: 1; stroke-width: 0px; fill: rgb(99, 110, 250); fill-opacity: 1;\"/></g><g class=\"point\"><path d=\"M0,0Z\" style=\"vector-effect: non-scaling-stroke; opacity: 1; stroke-width: 0px; fill: rgb(99, 110, 250); fill-opacity: 1;\"/></g><g class=\"point\"><path d=\"M0,0Z\" style=\"vector-effect: non-scaling-stroke; opacity: 1; stroke-width: 0px; fill: rgb(99, 110, 250); fill-opacity: 1;\"/></g><g class=\"point\"><path d=\"M0,0Z\" style=\"vector-effect: non-scaling-stroke; opacity: 1; stroke-width: 0px; fill: rgb(99, 110, 250); fill-opacity: 1;\"/></g><g class=\"point\"><path d=\"M0,0Z\" style=\"vector-effect: non-scaling-stroke; opacity: 1; stroke-width: 0px; fill: rgb(99, 110, 250); fill-opacity: 1;\"/></g><g class=\"point\"><path d=\"M0,0Z\" style=\"vector-effect: non-scaling-stroke; opacity: 1; stroke-width: 0px; fill: rgb(99, 110, 250); fill-opacity: 1;\"/></g><g class=\"point\"><path d=\"M0,0Z\" style=\"vector-effect: non-scaling-stroke; opacity: 1; stroke-width: 0px; fill: rgb(99, 110, 250); fill-opacity: 1;\"/></g><g class=\"point\"><path d=\"M0,0Z\" style=\"vector-effect: non-scaling-stroke; opacity: 1; stroke-width: 0px; fill: rgb(99, 110, 250); fill-opacity: 1;\"/></g><g class=\"point\"><path d=\"M0,0Z\" style=\"vector-effect: non-scaling-stroke; opacity: 1; stroke-width: 0px; fill: rgb(99, 110, 250); fill-opacity: 1;\"/></g><g class=\"point\"><path d=\"M0,0Z\" style=\"vector-effect: non-scaling-stroke; opacity: 1; stroke-width: 0px; fill: rgb(99, 110, 250); fill-opacity: 1;\"/></g><g class=\"point\"><path d=\"M0,0Z\" style=\"vector-effect: non-scaling-stroke; opacity: 1; stroke-width: 0px; fill: rgb(99, 110, 250); fill-opacity: 1;\"/></g><g class=\"point\"><path d=\"M0,0Z\" style=\"vector-effect: non-scaling-stroke; opacity: 1; stroke-width: 0px; fill: rgb(99, 110, 250); fill-opacity: 1;\"/></g><g class=\"point\"><path d=\"M0,0Z\" style=\"vector-effect: non-scaling-stroke; opacity: 1; stroke-width: 0px; fill: rgb(99, 110, 250); fill-opacity: 1;\"/></g><g class=\"point\"><path d=\"M0,0Z\" style=\"vector-effect: non-scaling-stroke; opacity: 1; stroke-width: 0px; fill: rgb(99, 110, 250); fill-opacity: 1;\"/></g><g class=\"point\"><path d=\"M0,0Z\" style=\"vector-effect: non-scaling-stroke; opacity: 1; stroke-width: 0px; fill: rgb(99, 110, 250); fill-opacity: 1;\"/></g><g class=\"point\"><path d=\"M0,0Z\" style=\"vector-effect: non-scaling-stroke; opacity: 1; stroke-width: 0px; fill: rgb(99, 110, 250); fill-opacity: 1;\"/></g><g class=\"point\"><path d=\"M0,0Z\" style=\"vector-effect: non-scaling-stroke; opacity: 1; stroke-width: 0px; fill: rgb(99, 110, 250); fill-opacity: 1;\"/></g><g class=\"point\"><path d=\"M0,0Z\" style=\"vector-effect: non-scaling-stroke; opacity: 1; stroke-width: 0px; fill: rgb(99, 110, 250); fill-opacity: 1;\"/></g><g class=\"point\"><path d=\"M0,0Z\" style=\"vector-effect: non-scaling-stroke; opacity: 1; stroke-width: 0px; fill: rgb(99, 110, 250); fill-opacity: 1;\"/></g><g class=\"point\"><path d=\"M0,0Z\" style=\"vector-effect: non-scaling-stroke; opacity: 1; stroke-width: 0px; fill: rgb(99, 110, 250); fill-opacity: 1;\"/></g><g class=\"point\"><path d=\"M0,0Z\" style=\"vector-effect: non-scaling-stroke; opacity: 1; stroke-width: 0px; fill: rgb(99, 110, 250); fill-opacity: 1;\"/></g><g class=\"point\"><path d=\"M0,0Z\" style=\"vector-effect: non-scaling-stroke; opacity: 1; stroke-width: 0px; fill: rgb(99, 110, 250); fill-opacity: 1;\"/></g><g class=\"point\"><path d=\"M0,0Z\" style=\"vector-effect: non-scaling-stroke; opacity: 1; stroke-width: 0px; fill: rgb(99, 110, 250); fill-opacity: 1;\"/></g><g class=\"point\"><path d=\"M0,0Z\" style=\"vector-effect: non-scaling-stroke; opacity: 1; stroke-width: 0px; fill: rgb(99, 110, 250); fill-opacity: 1;\"/></g><g class=\"point\"><path d=\"M0,0Z\" style=\"vector-effect: non-scaling-stroke; opacity: 1; stroke-width: 0px; fill: rgb(99, 110, 250); fill-opacity: 1;\"/></g><g class=\"point\"><path d=\"M0,0Z\" style=\"vector-effect: non-scaling-stroke; opacity: 1; stroke-width: 0px; fill: rgb(99, 110, 250); fill-opacity: 1;\"/></g><g class=\"point\"><path d=\"M0,0Z\" style=\"vector-effect: non-scaling-stroke; opacity: 1; stroke-width: 0px; fill: rgb(99, 110, 250); fill-opacity: 1;\"/></g><g class=\"point\"><path d=\"M0,0Z\" style=\"vector-effect: non-scaling-stroke; opacity: 1; stroke-width: 0px; fill: rgb(99, 110, 250); fill-opacity: 1;\"/></g><g class=\"point\"><path d=\"M0,0Z\" style=\"vector-effect: non-scaling-stroke; opacity: 1; stroke-width: 0px; fill: rgb(99, 110, 250); fill-opacity: 1;\"/></g><g class=\"point\"><path d=\"M0,0Z\" style=\"vector-effect: non-scaling-stroke; opacity: 1; stroke-width: 0px; fill: rgb(99, 110, 250); fill-opacity: 1;\"/></g><g class=\"point\"><path d=\"M0,0Z\" style=\"vector-effect: non-scaling-stroke; opacity: 1; stroke-width: 0px; fill: rgb(99, 110, 250); fill-opacity: 1;\"/></g><g class=\"point\"><path d=\"M0,0Z\" style=\"vector-effect: non-scaling-stroke; opacity: 1; stroke-width: 0px; fill: rgb(99, 110, 250); fill-opacity: 1;\"/></g><g class=\"point\"><path d=\"M0,0Z\" style=\"vector-effect: non-scaling-stroke; opacity: 1; stroke-width: 0px; fill: rgb(99, 110, 250); fill-opacity: 1;\"/></g><g class=\"point\"><path d=\"M0,0Z\" style=\"vector-effect: non-scaling-stroke; opacity: 1; stroke-width: 0px; fill: rgb(99, 110, 250); fill-opacity: 1;\"/></g><g class=\"point\"><path d=\"M0,0Z\" style=\"vector-effect: non-scaling-stroke; opacity: 1; stroke-width: 0px; fill: rgb(99, 110, 250); fill-opacity: 1;\"/></g><g class=\"point\"><path d=\"M0,0Z\" style=\"vector-effect: non-scaling-stroke; opacity: 1; stroke-width: 0px; fill: rgb(99, 110, 250); fill-opacity: 1;\"/></g><g class=\"point\"><path d=\"M0,0Z\" style=\"vector-effect: non-scaling-stroke; opacity: 1; stroke-width: 0px; fill: rgb(99, 110, 250); fill-opacity: 1;\"/></g><g class=\"point\"><path d=\"M0,0Z\" style=\"vector-effect: non-scaling-stroke; opacity: 1; stroke-width: 0px; fill: rgb(99, 110, 250); fill-opacity: 1;\"/></g><g class=\"point\"><path d=\"M0,0Z\" style=\"vector-effect: non-scaling-stroke; opacity: 1; stroke-width: 0px; fill: rgb(99, 110, 250); fill-opacity: 1;\"/></g><g class=\"point\"><path d=\"M0,0Z\" style=\"vector-effect: non-scaling-stroke; opacity: 1; stroke-width: 0px; fill: rgb(99, 110, 250); fill-opacity: 1;\"/></g><g class=\"point\"><path d=\"M0,0Z\" style=\"vector-effect: non-scaling-stroke; opacity: 1; stroke-width: 0px; fill: rgb(99, 110, 250); fill-opacity: 1;\"/></g><g class=\"point\"><path d=\"M0,0Z\" style=\"vector-effect: non-scaling-stroke; opacity: 1; stroke-width: 0px; fill: rgb(99, 110, 250); fill-opacity: 1;\"/></g><g class=\"point\"><path d=\"M0,0Z\" style=\"vector-effect: non-scaling-stroke; opacity: 1; stroke-width: 0px; fill: rgb(99, 110, 250); fill-opacity: 1;\"/></g><g class=\"point\"><path d=\"M0,0Z\" style=\"vector-effect: non-scaling-stroke; opacity: 1; stroke-width: 0px; fill: rgb(99, 110, 250); fill-opacity: 1;\"/></g><g class=\"point\"><path d=\"M0,0Z\" style=\"vector-effect: non-scaling-stroke; opacity: 1; stroke-width: 0px; fill: rgb(99, 110, 250); fill-opacity: 1;\"/></g><g class=\"point\"><path d=\"M0,0Z\" style=\"vector-effect: non-scaling-stroke; opacity: 1; stroke-width: 0px; fill: rgb(99, 110, 250); fill-opacity: 1;\"/></g><g class=\"point\"><path d=\"M0,0Z\" style=\"vector-effect: non-scaling-stroke; opacity: 1; stroke-width: 0px; fill: rgb(99, 110, 250); fill-opacity: 1;\"/></g><g class=\"point\"><path d=\"M0,0Z\" style=\"vector-effect: non-scaling-stroke; opacity: 1; stroke-width: 0px; fill: rgb(99, 110, 250); fill-opacity: 1;\"/></g><g class=\"point\"><path d=\"M0,0Z\" style=\"vector-effect: non-scaling-stroke; opacity: 1; stroke-width: 0px; fill: rgb(99, 110, 250); fill-opacity: 1;\"/></g><g class=\"point\"><path d=\"M0,0Z\" style=\"vector-effect: non-scaling-stroke; opacity: 1; stroke-width: 0px; fill: rgb(99, 110, 250); fill-opacity: 1;\"/></g><g class=\"point\"><path d=\"M0,0Z\" style=\"vector-effect: non-scaling-stroke; opacity: 1; stroke-width: 0px; fill: rgb(99, 110, 250); fill-opacity: 1;\"/></g><g class=\"point\"><path d=\"M0,0Z\" style=\"vector-effect: non-scaling-stroke; opacity: 1; stroke-width: 0px; fill: rgb(99, 110, 250); fill-opacity: 1;\"/></g><g class=\"point\"><path d=\"M0,0Z\" style=\"vector-effect: non-scaling-stroke; opacity: 1; stroke-width: 0px; fill: rgb(99, 110, 250); fill-opacity: 1;\"/></g><g class=\"point\"><path d=\"M0,0Z\" style=\"vector-effect: non-scaling-stroke; opacity: 1; stroke-width: 0px; fill: rgb(99, 110, 250); fill-opacity: 1;\"/></g><g class=\"point\"><path d=\"M0,0Z\" style=\"vector-effect: non-scaling-stroke; opacity: 1; stroke-width: 0px; fill: rgb(99, 110, 250); fill-opacity: 1;\"/></g><g class=\"point\"><path d=\"M0,0Z\" style=\"vector-effect: non-scaling-stroke; opacity: 1; stroke-width: 0px; fill: rgb(99, 110, 250); fill-opacity: 1;\"/></g><g class=\"point\"><path d=\"M0,0Z\" style=\"vector-effect: non-scaling-stroke; opacity: 1; stroke-width: 0px; fill: rgb(99, 110, 250); fill-opacity: 1;\"/></g><g class=\"point\"><path d=\"M0,0Z\" style=\"vector-effect: non-scaling-stroke; opacity: 1; stroke-width: 0px; fill: rgb(99, 110, 250); fill-opacity: 1;\"/></g><g class=\"point\"><path d=\"M0,0Z\" style=\"vector-effect: non-scaling-stroke; opacity: 1; stroke-width: 0px; fill: rgb(99, 110, 250); fill-opacity: 1;\"/></g><g class=\"point\"><path d=\"M0,0Z\" style=\"vector-effect: non-scaling-stroke; opacity: 1; stroke-width: 0px; fill: rgb(99, 110, 250); fill-opacity: 1;\"/></g><g class=\"point\"><path d=\"M0,0Z\" style=\"vector-effect: non-scaling-stroke; opacity: 1; stroke-width: 0px; fill: rgb(99, 110, 250); fill-opacity: 1;\"/></g><g class=\"point\"><path d=\"M0,0Z\" style=\"vector-effect: non-scaling-stroke; opacity: 1; stroke-width: 0px; fill: rgb(99, 110, 250); fill-opacity: 1;\"/></g><g class=\"point\"><path d=\"M0,0Z\" style=\"vector-effect: non-scaling-stroke; opacity: 1; stroke-width: 0px; fill: rgb(99, 110, 250); fill-opacity: 1;\"/></g><g class=\"point\"><path d=\"M0,0Z\" style=\"vector-effect: non-scaling-stroke; opacity: 1; stroke-width: 0px; fill: rgb(99, 110, 250); fill-opacity: 1;\"/></g><g class=\"point\"><path d=\"M0,0Z\" style=\"vector-effect: non-scaling-stroke; opacity: 1; stroke-width: 0px; fill: rgb(99, 110, 250); fill-opacity: 1;\"/></g><g class=\"point\"><path d=\"M0,0Z\" style=\"vector-effect: non-scaling-stroke; opacity: 1; stroke-width: 0px; fill: rgb(99, 110, 250); fill-opacity: 1;\"/></g><g class=\"point\"><path d=\"M0,0Z\" style=\"vector-effect: non-scaling-stroke; opacity: 1; stroke-width: 0px; fill: rgb(99, 110, 250); fill-opacity: 1;\"/></g><g class=\"point\"><path d=\"M0,0Z\" style=\"vector-effect: non-scaling-stroke; opacity: 1; stroke-width: 0px; fill: rgb(99, 110, 250); fill-opacity: 1;\"/></g><g class=\"point\"><path d=\"M0,0Z\" style=\"vector-effect: non-scaling-stroke; opacity: 1; stroke-width: 0px; fill: rgb(99, 110, 250); fill-opacity: 1;\"/></g><g class=\"point\"><path d=\"M0,0Z\" style=\"vector-effect: non-scaling-stroke; opacity: 1; stroke-width: 0px; fill: rgb(99, 110, 250); fill-opacity: 1;\"/></g><g class=\"point\"><path d=\"M0,0Z\" style=\"vector-effect: non-scaling-stroke; opacity: 1; stroke-width: 0px; fill: rgb(99, 110, 250); fill-opacity: 1;\"/></g><g class=\"point\"><path d=\"M0,0Z\" style=\"vector-effect: non-scaling-stroke; opacity: 1; stroke-width: 0px; fill: rgb(99, 110, 250); fill-opacity: 1;\"/></g><g class=\"point\"><path d=\"M0,0Z\" style=\"vector-effect: non-scaling-stroke; opacity: 1; stroke-width: 0px; fill: rgb(99, 110, 250); fill-opacity: 1;\"/></g><g class=\"point\"><path d=\"M0,0Z\" style=\"vector-effect: non-scaling-stroke; opacity: 1; stroke-width: 0px; fill: rgb(99, 110, 250); fill-opacity: 1;\"/></g><g class=\"point\"><path d=\"M0,0Z\" style=\"vector-effect: non-scaling-stroke; opacity: 1; stroke-width: 0px; fill: rgb(99, 110, 250); fill-opacity: 1;\"/></g><g class=\"point\"><path d=\"M0,0Z\" style=\"vector-effect: non-scaling-stroke; opacity: 1; stroke-width: 0px; fill: rgb(99, 110, 250); fill-opacity: 1;\"/></g><g class=\"point\"><path d=\"M0,0Z\" style=\"vector-effect: non-scaling-stroke; opacity: 1; stroke-width: 0px; fill: rgb(99, 110, 250); fill-opacity: 1;\"/></g><g class=\"point\"><path d=\"M0,0Z\" style=\"vector-effect: non-scaling-stroke; opacity: 1; stroke-width: 0px; fill: rgb(99, 110, 250); fill-opacity: 1;\"/></g><g class=\"point\"><path d=\"M0,0Z\" style=\"vector-effect: non-scaling-stroke; opacity: 1; stroke-width: 0px; fill: rgb(99, 110, 250); fill-opacity: 1;\"/></g><g class=\"point\"><path d=\"M0,0Z\" style=\"vector-effect: non-scaling-stroke; opacity: 1; stroke-width: 0px; fill: rgb(99, 110, 250); fill-opacity: 1;\"/></g><g class=\"point\"><path d=\"M0,0Z\" style=\"vector-effect: non-scaling-stroke; opacity: 1; stroke-width: 0px; fill: rgb(99, 110, 250); fill-opacity: 1;\"/></g><g class=\"point\"><path d=\"M0,0Z\" style=\"vector-effect: non-scaling-stroke; opacity: 1; stroke-width: 0px; fill: rgb(99, 110, 250); fill-opacity: 1;\"/></g><g class=\"point\"><path d=\"M0,0Z\" style=\"vector-effect: non-scaling-stroke; opacity: 1; stroke-width: 0px; fill: rgb(99, 110, 250); fill-opacity: 1;\"/></g><g class=\"point\"><path d=\"M0,0Z\" style=\"vector-effect: non-scaling-stroke; opacity: 1; stroke-width: 0px; fill: rgb(99, 110, 250); fill-opacity: 1;\"/></g><g class=\"point\"><path d=\"M0,0Z\" style=\"vector-effect: non-scaling-stroke; opacity: 1; stroke-width: 0px; fill: rgb(99, 110, 250); fill-opacity: 1;\"/></g><g class=\"point\"><path d=\"M0,0Z\" style=\"vector-effect: non-scaling-stroke; opacity: 1; stroke-width: 0px; fill: rgb(99, 110, 250); fill-opacity: 1;\"/></g><g class=\"point\"><path d=\"M0,0Z\" style=\"vector-effect: non-scaling-stroke; opacity: 1; stroke-width: 0px; fill: rgb(99, 110, 250); fill-opacity: 1;\"/></g><g class=\"point\"><path d=\"M0,0Z\" style=\"vector-effect: non-scaling-stroke; opacity: 1; stroke-width: 0px; fill: rgb(99, 110, 250); fill-opacity: 1;\"/></g><g class=\"point\"><path d=\"M0,0Z\" style=\"vector-effect: non-scaling-stroke; opacity: 1; stroke-width: 0px; fill: rgb(99, 110, 250); fill-opacity: 1;\"/></g><g class=\"point\"><path d=\"M0,0Z\" style=\"vector-effect: non-scaling-stroke; opacity: 1; stroke-width: 0px; fill: rgb(99, 110, 250); fill-opacity: 1;\"/></g><g class=\"point\"><path d=\"M0,0Z\" style=\"vector-effect: non-scaling-stroke; opacity: 1; stroke-width: 0px; fill: rgb(99, 110, 250); fill-opacity: 1;\"/></g><g class=\"point\"><path d=\"M0,0Z\" style=\"vector-effect: non-scaling-stroke; opacity: 1; stroke-width: 0px; fill: rgb(99, 110, 250); fill-opacity: 1;\"/></g><g class=\"point\"><path d=\"M0,0Z\" style=\"vector-effect: non-scaling-stroke; opacity: 1; stroke-width: 0px; fill: rgb(99, 110, 250); fill-opacity: 1;\"/></g><g class=\"point\"><path d=\"M0,0Z\" style=\"vector-effect: non-scaling-stroke; opacity: 1; stroke-width: 0px; fill: rgb(99, 110, 250); fill-opacity: 1;\"/></g><g class=\"point\"><path d=\"M0,0Z\" style=\"vector-effect: non-scaling-stroke; opacity: 1; stroke-width: 0px; fill: rgb(99, 110, 250); fill-opacity: 1;\"/></g><g class=\"point\"><path d=\"M0,0Z\" style=\"vector-effect: non-scaling-stroke; opacity: 1; stroke-width: 0px; fill: rgb(99, 110, 250); fill-opacity: 1;\"/></g><g class=\"point\"><path d=\"M0,0Z\" style=\"vector-effect: non-scaling-stroke; opacity: 1; stroke-width: 0px; fill: rgb(99, 110, 250); fill-opacity: 1;\"/></g><g class=\"point\"><path d=\"M0,0Z\" style=\"vector-effect: non-scaling-stroke; opacity: 1; stroke-width: 0px; fill: rgb(99, 110, 250); fill-opacity: 1;\"/></g><g class=\"point\"><path d=\"M0,0Z\" style=\"vector-effect: non-scaling-stroke; opacity: 1; stroke-width: 0px; fill: rgb(99, 110, 250); fill-opacity: 1;\"/></g><g class=\"point\"><path d=\"M0,0Z\" style=\"vector-effect: non-scaling-stroke; opacity: 1; stroke-width: 0px; fill: rgb(99, 110, 250); fill-opacity: 1;\"/></g><g class=\"point\"><path d=\"M0,0Z\" style=\"vector-effect: non-scaling-stroke; opacity: 1; stroke-width: 0px; fill: rgb(99, 110, 250); fill-opacity: 1;\"/></g><g class=\"point\"><path d=\"M0,0Z\" style=\"vector-effect: non-scaling-stroke; opacity: 1; stroke-width: 0px; fill: rgb(99, 110, 250); fill-opacity: 1;\"/></g><g class=\"point\"><path d=\"M0,0Z\" style=\"vector-effect: non-scaling-stroke; opacity: 1; stroke-width: 0px; fill: rgb(99, 110, 250); fill-opacity: 1;\"/></g><g class=\"point\"><path d=\"M0,0Z\" style=\"vector-effect: non-scaling-stroke; opacity: 1; stroke-width: 0px; fill: rgb(99, 110, 250); fill-opacity: 1;\"/></g><g class=\"point\"><path d=\"M0,0Z\" style=\"vector-effect: non-scaling-stroke; opacity: 1; stroke-width: 0px; fill: rgb(99, 110, 250); fill-opacity: 1;\"/></g><g class=\"point\"><path d=\"M0,0Z\" style=\"vector-effect: non-scaling-stroke; opacity: 1; stroke-width: 0px; fill: rgb(99, 110, 250); fill-opacity: 1;\"/></g><g class=\"point\"><path d=\"M0,0Z\" style=\"vector-effect: non-scaling-stroke; opacity: 1; stroke-width: 0px; fill: rgb(99, 110, 250); fill-opacity: 1;\"/></g><g class=\"point\"><path d=\"M0,0Z\" style=\"vector-effect: non-scaling-stroke; opacity: 1; stroke-width: 0px; fill: rgb(99, 110, 250); fill-opacity: 1;\"/></g><g class=\"point\"><path d=\"M0,0Z\" style=\"vector-effect: non-scaling-stroke; opacity: 1; stroke-width: 0px; fill: rgb(99, 110, 250); fill-opacity: 1;\"/></g><g class=\"point\"><path d=\"M0,0Z\" style=\"vector-effect: non-scaling-stroke; opacity: 1; stroke-width: 0px; fill: rgb(99, 110, 250); fill-opacity: 1;\"/></g><g class=\"point\"><path d=\"M0,0Z\" style=\"vector-effect: non-scaling-stroke; opacity: 1; stroke-width: 0px; fill: rgb(99, 110, 250); fill-opacity: 1;\"/></g><g class=\"point\"><path d=\"M0,0Z\" style=\"vector-effect: non-scaling-stroke; opacity: 1; stroke-width: 0px; fill: rgb(99, 110, 250); fill-opacity: 1;\"/></g><g class=\"point\"><path d=\"M0,0Z\" style=\"vector-effect: non-scaling-stroke; opacity: 1; stroke-width: 0px; fill: rgb(99, 110, 250); fill-opacity: 1;\"/></g><g class=\"point\"><path d=\"M0,0Z\" style=\"vector-effect: non-scaling-stroke; opacity: 1; stroke-width: 0px; fill: rgb(99, 110, 250); fill-opacity: 1;\"/></g><g class=\"point\"><path d=\"M0,0Z\" style=\"vector-effect: non-scaling-stroke; opacity: 1; stroke-width: 0px; fill: rgb(99, 110, 250); fill-opacity: 1;\"/></g><g class=\"point\"><path d=\"M0,0Z\" style=\"vector-effect: non-scaling-stroke; opacity: 1; stroke-width: 0px; fill: rgb(99, 110, 250); fill-opacity: 1;\"/></g><g class=\"point\"><path d=\"M0,0Z\" style=\"vector-effect: non-scaling-stroke; opacity: 1; stroke-width: 0px; fill: rgb(99, 110, 250); fill-opacity: 1;\"/></g><g class=\"point\"><path d=\"M0,0Z\" style=\"vector-effect: non-scaling-stroke; opacity: 1; stroke-width: 0px; fill: rgb(99, 110, 250); fill-opacity: 1;\"/></g><g class=\"point\"><path d=\"M0,0Z\" style=\"vector-effect: non-scaling-stroke; opacity: 1; stroke-width: 0px; fill: rgb(99, 110, 250); fill-opacity: 1;\"/></g><g class=\"point\"><path d=\"M0,0Z\" style=\"vector-effect: non-scaling-stroke; opacity: 1; stroke-width: 0px; fill: rgb(99, 110, 250); fill-opacity: 1;\"/></g><g class=\"point\"><path d=\"M0,0Z\" style=\"vector-effect: non-scaling-stroke; opacity: 1; stroke-width: 0px; fill: rgb(99, 110, 250); fill-opacity: 1;\"/></g><g class=\"point\"><path d=\"M0,0Z\" style=\"vector-effect: non-scaling-stroke; opacity: 1; stroke-width: 0px; fill: rgb(99, 110, 250); fill-opacity: 1;\"/></g><g class=\"point\"><path d=\"M0,0Z\" style=\"vector-effect: non-scaling-stroke; opacity: 1; stroke-width: 0px; fill: rgb(99, 110, 250); fill-opacity: 1;\"/></g><g class=\"point\"><path d=\"M0,0Z\" style=\"vector-effect: non-scaling-stroke; opacity: 1; stroke-width: 0px; fill: rgb(99, 110, 250); fill-opacity: 1;\"/></g><g class=\"point\"><path d=\"M0,0Z\" style=\"vector-effect: non-scaling-stroke; opacity: 1; stroke-width: 0px; fill: rgb(99, 110, 250); fill-opacity: 1;\"/></g><g class=\"point\"><path d=\"M0,0Z\" style=\"vector-effect: non-scaling-stroke; opacity: 1; stroke-width: 0px; fill: rgb(99, 110, 250); fill-opacity: 1;\"/></g><g class=\"point\"><path d=\"M0,0Z\" style=\"vector-effect: non-scaling-stroke; opacity: 1; stroke-width: 0px; fill: rgb(99, 110, 250); fill-opacity: 1;\"/></g><g class=\"point\"><path d=\"M0,0Z\" style=\"vector-effect: non-scaling-stroke; opacity: 1; stroke-width: 0px; fill: rgb(99, 110, 250); fill-opacity: 1;\"/></g><g class=\"point\"><path d=\"M0,0Z\" style=\"vector-effect: non-scaling-stroke; opacity: 1; stroke-width: 0px; fill: rgb(99, 110, 250); fill-opacity: 1;\"/></g><g class=\"point\"><path d=\"M0,0Z\" style=\"vector-effect: non-scaling-stroke; opacity: 1; stroke-width: 0px; fill: rgb(99, 110, 250); fill-opacity: 1;\"/></g><g class=\"point\"><path d=\"M0,0Z\" style=\"vector-effect: non-scaling-stroke; opacity: 1; stroke-width: 0px; fill: rgb(99, 110, 250); fill-opacity: 1;\"/></g><g class=\"point\"><path d=\"M0,0Z\" style=\"vector-effect: non-scaling-stroke; opacity: 1; stroke-width: 0px; fill: rgb(99, 110, 250); fill-opacity: 1;\"/></g><g class=\"point\"><path d=\"M0,0Z\" style=\"vector-effect: non-scaling-stroke; opacity: 1; stroke-width: 0px; fill: rgb(99, 110, 250); fill-opacity: 1;\"/></g><g class=\"point\"><path d=\"M0,0Z\" style=\"vector-effect: non-scaling-stroke; opacity: 1; stroke-width: 0px; fill: rgb(99, 110, 250); fill-opacity: 1;\"/></g><g class=\"point\"><path d=\"M0,0Z\" style=\"vector-effect: non-scaling-stroke; opacity: 1; stroke-width: 0px; fill: rgb(99, 110, 250); fill-opacity: 1;\"/></g><g class=\"point\"><path d=\"M0,0Z\" style=\"vector-effect: non-scaling-stroke; opacity: 1; stroke-width: 0px; fill: rgb(99, 110, 250); fill-opacity: 1;\"/></g><g class=\"point\"><path d=\"M0,0Z\" style=\"vector-effect: non-scaling-stroke; opacity: 1; stroke-width: 0px; fill: rgb(99, 110, 250); fill-opacity: 1;\"/></g><g class=\"point\"><path d=\"M0,0Z\" style=\"vector-effect: non-scaling-stroke; opacity: 1; stroke-width: 0px; fill: rgb(99, 110, 250); fill-opacity: 1;\"/></g><g class=\"point\"><path d=\"M0,0Z\" style=\"vector-effect: non-scaling-stroke; opacity: 1; stroke-width: 0px; fill: rgb(99, 110, 250); fill-opacity: 1;\"/></g><g class=\"point\"><path d=\"M0,0Z\" style=\"vector-effect: non-scaling-stroke; opacity: 1; stroke-width: 0px; fill: rgb(99, 110, 250); fill-opacity: 1;\"/></g><g class=\"point\"><path d=\"M0,0Z\" style=\"vector-effect: non-scaling-stroke; opacity: 1; stroke-width: 0px; fill: rgb(99, 110, 250); fill-opacity: 1;\"/></g><g class=\"point\"><path d=\"M0,0Z\" style=\"vector-effect: non-scaling-stroke; opacity: 1; stroke-width: 0px; fill: rgb(99, 110, 250); fill-opacity: 1;\"/></g><g class=\"point\"><path d=\"M0,0Z\" style=\"vector-effect: non-scaling-stroke; opacity: 1; stroke-width: 0px; fill: rgb(99, 110, 250); fill-opacity: 1;\"/></g><g class=\"point\"><path d=\"M0,0Z\" style=\"vector-effect: non-scaling-stroke; opacity: 1; stroke-width: 0px; fill: rgb(99, 110, 250); fill-opacity: 1;\"/></g><g class=\"point\"><path d=\"M0,0Z\" style=\"vector-effect: non-scaling-stroke; opacity: 1; stroke-width: 0px; fill: rgb(99, 110, 250); fill-opacity: 1;\"/></g><g class=\"point\"><path d=\"M0,0Z\" style=\"vector-effect: non-scaling-stroke; opacity: 1; stroke-width: 0px; fill: rgb(99, 110, 250); fill-opacity: 1;\"/></g><g class=\"point\"><path d=\"M0,0Z\" style=\"vector-effect: non-scaling-stroke; opacity: 1; stroke-width: 0px; fill: rgb(99, 110, 250); fill-opacity: 1;\"/></g><g class=\"point\"><path d=\"M0,0Z\" style=\"vector-effect: non-scaling-stroke; opacity: 1; stroke-width: 0px; fill: rgb(99, 110, 250); fill-opacity: 1;\"/></g><g class=\"point\"><path d=\"M0,0Z\" style=\"vector-effect: non-scaling-stroke; opacity: 1; stroke-width: 0px; fill: rgb(99, 110, 250); fill-opacity: 1;\"/></g><g class=\"point\"><path d=\"M0,0Z\" style=\"vector-effect: non-scaling-stroke; opacity: 1; stroke-width: 0px; fill: rgb(99, 110, 250); fill-opacity: 1;\"/></g><g class=\"point\"><path d=\"M0,0Z\" style=\"vector-effect: non-scaling-stroke; opacity: 1; stroke-width: 0px; fill: rgb(99, 110, 250); fill-opacity: 1;\"/></g><g class=\"point\"><path d=\"M0,0Z\" style=\"vector-effect: non-scaling-stroke; opacity: 1; stroke-width: 0px; fill: rgb(99, 110, 250); fill-opacity: 1;\"/></g><g class=\"point\"><path d=\"M0,0Z\" style=\"vector-effect: non-scaling-stroke; opacity: 1; stroke-width: 0px; fill: rgb(99, 110, 250); fill-opacity: 1;\"/></g><g class=\"point\"><path d=\"M0,0Z\" style=\"vector-effect: non-scaling-stroke; opacity: 1; stroke-width: 0px; fill: rgb(99, 110, 250); fill-opacity: 1;\"/></g><g class=\"point\"><path d=\"M0,0Z\" style=\"vector-effect: non-scaling-stroke; opacity: 1; stroke-width: 0px; fill: rgb(99, 110, 250); fill-opacity: 1;\"/></g><g class=\"point\"><path d=\"M0,0Z\" style=\"vector-effect: non-scaling-stroke; opacity: 1; stroke-width: 0px; fill: rgb(99, 110, 250); fill-opacity: 1;\"/></g><g class=\"point\"><path d=\"M0,0Z\" style=\"vector-effect: non-scaling-stroke; opacity: 1; stroke-width: 0px; fill: rgb(99, 110, 250); fill-opacity: 1;\"/></g><g class=\"point\"><path d=\"M0,0Z\" style=\"vector-effect: non-scaling-stroke; opacity: 1; stroke-width: 0px; fill: rgb(99, 110, 250); fill-opacity: 1;\"/></g><g class=\"point\"><path d=\"M0,0Z\" style=\"vector-effect: non-scaling-stroke; opacity: 1; stroke-width: 0px; fill: rgb(99, 110, 250); fill-opacity: 1;\"/></g><g class=\"point\"><path d=\"M0,0Z\" style=\"vector-effect: non-scaling-stroke; opacity: 1; stroke-width: 0px; fill: rgb(99, 110, 250); fill-opacity: 1;\"/></g><g class=\"point\"><path d=\"M0,0Z\" style=\"vector-effect: non-scaling-stroke; opacity: 1; stroke-width: 0px; fill: rgb(99, 110, 250); fill-opacity: 1;\"/></g><g class=\"point\"><path d=\"M0,0Z\" style=\"vector-effect: non-scaling-stroke; opacity: 1; stroke-width: 0px; fill: rgb(99, 110, 250); fill-opacity: 1;\"/></g><g class=\"point\"><path d=\"M0,0Z\" style=\"vector-effect: non-scaling-stroke; opacity: 1; stroke-width: 0px; fill: rgb(99, 110, 250); fill-opacity: 1;\"/></g><g class=\"point\"><path d=\"M0,0Z\" style=\"vector-effect: non-scaling-stroke; opacity: 1; stroke-width: 0px; fill: rgb(99, 110, 250); fill-opacity: 1;\"/></g><g class=\"point\"><path d=\"M0,0Z\" style=\"vector-effect: non-scaling-stroke; opacity: 1; stroke-width: 0px; fill: rgb(99, 110, 250); fill-opacity: 1;\"/></g><g class=\"point\"><path d=\"M0,0Z\" style=\"vector-effect: non-scaling-stroke; opacity: 1; stroke-width: 0px; fill: rgb(99, 110, 250); fill-opacity: 1;\"/></g><g class=\"point\"><path d=\"M0,0Z\" style=\"vector-effect: non-scaling-stroke; opacity: 1; stroke-width: 0px; fill: rgb(99, 110, 250); fill-opacity: 1;\"/></g><g class=\"point\"><path d=\"M0,0Z\" style=\"vector-effect: non-scaling-stroke; opacity: 1; stroke-width: 0px; fill: rgb(99, 110, 250); fill-opacity: 1;\"/></g><g class=\"point\"><path d=\"M0,0Z\" style=\"vector-effect: non-scaling-stroke; opacity: 1; stroke-width: 0px; fill: rgb(99, 110, 250); fill-opacity: 1;\"/></g><g class=\"point\"><path d=\"M0,0Z\" style=\"vector-effect: non-scaling-stroke; opacity: 1; stroke-width: 0px; fill: rgb(99, 110, 250); fill-opacity: 1;\"/></g><g class=\"point\"><path d=\"M0,0Z\" style=\"vector-effect: non-scaling-stroke; opacity: 1; stroke-width: 0px; fill: rgb(99, 110, 250); fill-opacity: 1;\"/></g><g class=\"point\"><path d=\"M0,0Z\" style=\"vector-effect: non-scaling-stroke; opacity: 1; stroke-width: 0px; fill: rgb(99, 110, 250); fill-opacity: 1;\"/></g><g class=\"point\"><path d=\"M0,0Z\" style=\"vector-effect: non-scaling-stroke; opacity: 1; stroke-width: 0px; fill: rgb(99, 110, 250); fill-opacity: 1;\"/></g><g class=\"point\"><path d=\"M0,0Z\" style=\"vector-effect: non-scaling-stroke; opacity: 1; stroke-width: 0px; fill: rgb(99, 110, 250); fill-opacity: 1;\"/></g><g class=\"point\"><path d=\"M0,0Z\" style=\"vector-effect: non-scaling-stroke; opacity: 1; stroke-width: 0px; fill: rgb(99, 110, 250); fill-opacity: 1;\"/></g><g class=\"point\"><path d=\"M0,0Z\" style=\"vector-effect: non-scaling-stroke; opacity: 1; stroke-width: 0px; fill: rgb(99, 110, 250); fill-opacity: 1;\"/></g><g class=\"point\"><path d=\"M0,0Z\" style=\"vector-effect: non-scaling-stroke; opacity: 1; stroke-width: 0px; fill: rgb(99, 110, 250); fill-opacity: 1;\"/></g><g class=\"point\"><path d=\"M0,0Z\" style=\"vector-effect: non-scaling-stroke; opacity: 1; stroke-width: 0px; fill: rgb(99, 110, 250); fill-opacity: 1;\"/></g><g class=\"point\"><path d=\"M0,0Z\" style=\"vector-effect: non-scaling-stroke; opacity: 1; stroke-width: 0px; fill: rgb(99, 110, 250); fill-opacity: 1;\"/></g><g class=\"point\"><path d=\"M0,0Z\" style=\"vector-effect: non-scaling-stroke; opacity: 1; stroke-width: 0px; fill: rgb(99, 110, 250); fill-opacity: 1;\"/></g><g class=\"point\"><path d=\"M0,0Z\" style=\"vector-effect: non-scaling-stroke; opacity: 1; stroke-width: 0px; fill: rgb(99, 110, 250); fill-opacity: 1;\"/></g><g class=\"point\"><path d=\"M0,0Z\" style=\"vector-effect: non-scaling-stroke; opacity: 1; stroke-width: 0px; fill: rgb(99, 110, 250); fill-opacity: 1;\"/></g><g class=\"point\"><path d=\"M0,0Z\" style=\"vector-effect: non-scaling-stroke; opacity: 1; stroke-width: 0px; fill: rgb(99, 110, 250); fill-opacity: 1;\"/></g><g class=\"point\"><path d=\"M0,0Z\" style=\"vector-effect: non-scaling-stroke; opacity: 1; stroke-width: 0px; fill: rgb(99, 110, 250); fill-opacity: 1;\"/></g><g class=\"point\"><path d=\"M0,0Z\" style=\"vector-effect: non-scaling-stroke; opacity: 1; stroke-width: 0px; fill: rgb(99, 110, 250); fill-opacity: 1;\"/></g><g class=\"point\"><path d=\"M0,0Z\" style=\"vector-effect: non-scaling-stroke; opacity: 1; stroke-width: 0px; fill: rgb(99, 110, 250); fill-opacity: 1;\"/></g><g class=\"point\"><path d=\"M0,0Z\" style=\"vector-effect: non-scaling-stroke; opacity: 1; stroke-width: 0px; fill: rgb(99, 110, 250); fill-opacity: 1;\"/></g><g class=\"point\"><path d=\"M0,0Z\" style=\"vector-effect: non-scaling-stroke; opacity: 1; stroke-width: 0px; fill: rgb(99, 110, 250); fill-opacity: 1;\"/></g><g class=\"point\"><path d=\"M0,0Z\" style=\"vector-effect: non-scaling-stroke; opacity: 1; stroke-width: 0px; fill: rgb(99, 110, 250); fill-opacity: 1;\"/></g><g class=\"point\"><path d=\"M0,0Z\" style=\"vector-effect: non-scaling-stroke; opacity: 1; stroke-width: 0px; fill: rgb(99, 110, 250); fill-opacity: 1;\"/></g><g class=\"point\"><path d=\"M0,0Z\" style=\"vector-effect: non-scaling-stroke; opacity: 1; stroke-width: 0px; fill: rgb(99, 110, 250); fill-opacity: 1;\"/></g><g class=\"point\"><path d=\"M0,0Z\" style=\"vector-effect: non-scaling-stroke; opacity: 1; stroke-width: 0px; fill: rgb(99, 110, 250); fill-opacity: 1;\"/></g><g class=\"point\"><path d=\"M0,0Z\" style=\"vector-effect: non-scaling-stroke; opacity: 1; stroke-width: 0px; fill: rgb(99, 110, 250); fill-opacity: 1;\"/></g><g class=\"point\"><path d=\"M0,0Z\" style=\"vector-effect: non-scaling-stroke; opacity: 1; stroke-width: 0px; fill: rgb(99, 110, 250); fill-opacity: 1;\"/></g><g class=\"point\"><path d=\"M0,0Z\" style=\"vector-effect: non-scaling-stroke; opacity: 1; stroke-width: 0px; fill: rgb(99, 110, 250); fill-opacity: 1;\"/></g><g class=\"point\"><path d=\"M0,0Z\" style=\"vector-effect: non-scaling-stroke; opacity: 1; stroke-width: 0px; fill: rgb(99, 110, 250); fill-opacity: 1;\"/></g><g class=\"point\"><path d=\"M0,0Z\" style=\"vector-effect: non-scaling-stroke; opacity: 1; stroke-width: 0px; fill: rgb(99, 110, 250); fill-opacity: 1;\"/></g><g class=\"point\"><path d=\"M0,0Z\" style=\"vector-effect: non-scaling-stroke; opacity: 1; stroke-width: 0px; fill: rgb(99, 110, 250); fill-opacity: 1;\"/></g><g class=\"point\"><path d=\"M0,0Z\" style=\"vector-effect: non-scaling-stroke; opacity: 1; stroke-width: 0px; fill: rgb(99, 110, 250); fill-opacity: 1;\"/></g><g class=\"point\"><path d=\"M0,0Z\" style=\"vector-effect: non-scaling-stroke; opacity: 1; stroke-width: 0px; fill: rgb(99, 110, 250); fill-opacity: 1;\"/></g><g class=\"point\"><path d=\"M0,0Z\" style=\"vector-effect: non-scaling-stroke; opacity: 1; stroke-width: 0px; fill: rgb(99, 110, 250); fill-opacity: 1;\"/></g><g class=\"point\"><path d=\"M0,0Z\" style=\"vector-effect: non-scaling-stroke; opacity: 1; stroke-width: 0px; fill: rgb(99, 110, 250); fill-opacity: 1;\"/></g><g class=\"point\"><path d=\"M0,0Z\" style=\"vector-effect: non-scaling-stroke; opacity: 1; stroke-width: 0px; fill: rgb(99, 110, 250); fill-opacity: 1;\"/></g><g class=\"point\"><path d=\"M0,0Z\" style=\"vector-effect: non-scaling-stroke; opacity: 1; stroke-width: 0px; fill: rgb(99, 110, 250); fill-opacity: 1;\"/></g><g class=\"point\"><path d=\"M0,0Z\" style=\"vector-effect: non-scaling-stroke; opacity: 1; stroke-width: 0px; fill: rgb(99, 110, 250); fill-opacity: 1;\"/></g><g class=\"point\"><path d=\"M0,0Z\" style=\"vector-effect: non-scaling-stroke; opacity: 1; stroke-width: 0px; fill: rgb(99, 110, 250); fill-opacity: 1;\"/></g><g class=\"point\"><path d=\"M0,0Z\" style=\"vector-effect: non-scaling-stroke; opacity: 1; stroke-width: 0px; fill: rgb(99, 110, 250); fill-opacity: 1;\"/></g><g class=\"point\"><path d=\"M0,0Z\" style=\"vector-effect: non-scaling-stroke; opacity: 1; stroke-width: 0px; fill: rgb(99, 110, 250); fill-opacity: 1;\"/></g><g class=\"point\"><path d=\"M0,0Z\" style=\"vector-effect: non-scaling-stroke; opacity: 1; stroke-width: 0px; fill: rgb(99, 110, 250); fill-opacity: 1;\"/></g><g class=\"point\"><path d=\"M0,0Z\" style=\"vector-effect: non-scaling-stroke; opacity: 1; stroke-width: 0px; fill: rgb(99, 110, 250); fill-opacity: 1;\"/></g><g class=\"point\"><path d=\"M0,0Z\" style=\"vector-effect: non-scaling-stroke; opacity: 1; stroke-width: 0px; fill: rgb(99, 110, 250); fill-opacity: 1;\"/></g><g class=\"point\"><path d=\"M0,0Z\" style=\"vector-effect: non-scaling-stroke; opacity: 1; stroke-width: 0px; fill: rgb(99, 110, 250); fill-opacity: 1;\"/></g><g class=\"point\"><path d=\"M0,0Z\" style=\"vector-effect: non-scaling-stroke; opacity: 1; stroke-width: 0px; fill: rgb(99, 110, 250); fill-opacity: 1;\"/></g><g class=\"point\"><path d=\"M0,0Z\" style=\"vector-effect: non-scaling-stroke; opacity: 1; stroke-width: 0px; fill: rgb(99, 110, 250); fill-opacity: 1;\"/></g><g class=\"point\"><path d=\"M0,0Z\" style=\"vector-effect: non-scaling-stroke; opacity: 1; stroke-width: 0px; fill: rgb(99, 110, 250); fill-opacity: 1;\"/></g><g class=\"point\"><path d=\"M0,0Z\" style=\"vector-effect: non-scaling-stroke; opacity: 1; stroke-width: 0px; fill: rgb(99, 110, 250); fill-opacity: 1;\"/></g><g class=\"point\"><path d=\"M0,0Z\" style=\"vector-effect: non-scaling-stroke; opacity: 1; stroke-width: 0px; fill: rgb(99, 110, 250); fill-opacity: 1;\"/></g><g class=\"point\"><path d=\"M0,0Z\" style=\"vector-effect: non-scaling-stroke; opacity: 1; stroke-width: 0px; fill: rgb(99, 110, 250); fill-opacity: 1;\"/></g><g class=\"point\"><path d=\"M0,0Z\" style=\"vector-effect: non-scaling-stroke; opacity: 1; stroke-width: 0px; fill: rgb(99, 110, 250); fill-opacity: 1;\"/></g><g class=\"point\"><path d=\"M0,0Z\" style=\"vector-effect: non-scaling-stroke; opacity: 1; stroke-width: 0px; fill: rgb(99, 110, 250); fill-opacity: 1;\"/></g><g class=\"point\"><path d=\"M0,0Z\" style=\"vector-effect: non-scaling-stroke; opacity: 1; stroke-width: 0px; fill: rgb(99, 110, 250); fill-opacity: 1;\"/></g><g class=\"point\"><path d=\"M0,0Z\" style=\"vector-effect: non-scaling-stroke; opacity: 1; stroke-width: 0px; fill: rgb(99, 110, 250); fill-opacity: 1;\"/></g><g class=\"point\"><path d=\"M0,0Z\" style=\"vector-effect: non-scaling-stroke; opacity: 1; stroke-width: 0px; fill: rgb(99, 110, 250); fill-opacity: 1;\"/></g><g class=\"point\"><path d=\"M0,0Z\" style=\"vector-effect: non-scaling-stroke; opacity: 1; stroke-width: 0px; fill: rgb(99, 110, 250); fill-opacity: 1;\"/></g><g class=\"point\"><path d=\"M0,0Z\" style=\"vector-effect: non-scaling-stroke; opacity: 1; stroke-width: 0px; fill: rgb(99, 110, 250); fill-opacity: 1;\"/></g><g class=\"point\"><path d=\"M0,0Z\" style=\"vector-effect: non-scaling-stroke; opacity: 1; stroke-width: 0px; fill: rgb(99, 110, 250); fill-opacity: 1;\"/></g><g class=\"point\"><path d=\"M0,0Z\" style=\"vector-effect: non-scaling-stroke; opacity: 1; stroke-width: 0px; fill: rgb(99, 110, 250); fill-opacity: 1;\"/></g><g class=\"point\"><path d=\"M0,0Z\" style=\"vector-effect: non-scaling-stroke; opacity: 1; stroke-width: 0px; fill: rgb(99, 110, 250); fill-opacity: 1;\"/></g><g class=\"point\"><path d=\"M0,0Z\" style=\"vector-effect: non-scaling-stroke; opacity: 1; stroke-width: 0px; fill: rgb(99, 110, 250); fill-opacity: 1;\"/></g><g class=\"point\"><path d=\"M0,0Z\" style=\"vector-effect: non-scaling-stroke; opacity: 1; stroke-width: 0px; fill: rgb(99, 110, 250); fill-opacity: 1;\"/></g><g class=\"point\"><path d=\"M0,0Z\" style=\"vector-effect: non-scaling-stroke; opacity: 1; stroke-width: 0px; fill: rgb(99, 110, 250); fill-opacity: 1;\"/></g><g class=\"point\"><path d=\"M0,0Z\" style=\"vector-effect: non-scaling-stroke; opacity: 1; stroke-width: 0px; fill: rgb(99, 110, 250); fill-opacity: 1;\"/></g><g class=\"point\"><path d=\"M0,0Z\" style=\"vector-effect: non-scaling-stroke; opacity: 1; stroke-width: 0px; fill: rgb(99, 110, 250); fill-opacity: 1;\"/></g><g class=\"point\"><path d=\"M0,0Z\" style=\"vector-effect: non-scaling-stroke; opacity: 1; stroke-width: 0px; fill: rgb(99, 110, 250); fill-opacity: 1;\"/></g><g class=\"point\"><path d=\"M0,0Z\" style=\"vector-effect: non-scaling-stroke; opacity: 1; stroke-width: 0px; fill: rgb(99, 110, 250); fill-opacity: 1;\"/></g><g class=\"point\"><path d=\"M0,0Z\" style=\"vector-effect: non-scaling-stroke; opacity: 1; stroke-width: 0px; fill: rgb(99, 110, 250); fill-opacity: 1;\"/></g><g class=\"point\"><path d=\"M0,0Z\" style=\"vector-effect: non-scaling-stroke; opacity: 1; stroke-width: 0px; fill: rgb(99, 110, 250); fill-opacity: 1;\"/></g><g class=\"point\"><path d=\"M0,0Z\" style=\"vector-effect: non-scaling-stroke; opacity: 1; stroke-width: 0px; fill: rgb(99, 110, 250); fill-opacity: 1;\"/></g><g class=\"point\"><path d=\"M0,0Z\" style=\"vector-effect: non-scaling-stroke; opacity: 1; stroke-width: 0px; fill: rgb(99, 110, 250); fill-opacity: 1;\"/></g><g class=\"point\"><path d=\"M0,0Z\" style=\"vector-effect: non-scaling-stroke; opacity: 1; stroke-width: 0px; fill: rgb(99, 110, 250); fill-opacity: 1;\"/></g><g class=\"point\"><path d=\"M0,0Z\" style=\"vector-effect: non-scaling-stroke; opacity: 1; stroke-width: 0px; fill: rgb(99, 110, 250); fill-opacity: 1;\"/></g><g class=\"point\"><path d=\"M0,0Z\" style=\"vector-effect: non-scaling-stroke; opacity: 1; stroke-width: 0px; fill: rgb(99, 110, 250); fill-opacity: 1;\"/></g><g class=\"point\"><path d=\"M0,0Z\" style=\"vector-effect: non-scaling-stroke; opacity: 1; stroke-width: 0px; fill: rgb(99, 110, 250); fill-opacity: 1;\"/></g><g class=\"point\"><path d=\"M0,0Z\" style=\"vector-effect: non-scaling-stroke; opacity: 1; stroke-width: 0px; fill: rgb(99, 110, 250); fill-opacity: 1;\"/></g><g class=\"point\"><path d=\"M0,0Z\" style=\"vector-effect: non-scaling-stroke; opacity: 1; stroke-width: 0px; fill: rgb(99, 110, 250); fill-opacity: 1;\"/></g><g class=\"point\"><path d=\"M0,0Z\" style=\"vector-effect: non-scaling-stroke; opacity: 1; stroke-width: 0px; fill: rgb(99, 110, 250); fill-opacity: 1;\"/></g><g class=\"point\"><path d=\"M0,0Z\" style=\"vector-effect: non-scaling-stroke; opacity: 1; stroke-width: 0px; fill: rgb(99, 110, 250); fill-opacity: 1;\"/></g><g class=\"point\"><path d=\"M0,0Z\" style=\"vector-effect: non-scaling-stroke; opacity: 1; stroke-width: 0px; fill: rgb(99, 110, 250); fill-opacity: 1;\"/></g><g class=\"point\"><path d=\"M0,0Z\" style=\"vector-effect: non-scaling-stroke; opacity: 1; stroke-width: 0px; fill: rgb(99, 110, 250); fill-opacity: 1;\"/></g><g class=\"point\"><path d=\"M0,0Z\" style=\"vector-effect: non-scaling-stroke; opacity: 1; stroke-width: 0px; fill: rgb(99, 110, 250); fill-opacity: 1;\"/></g><g class=\"point\"><path d=\"M0,0Z\" style=\"vector-effect: non-scaling-stroke; opacity: 1; stroke-width: 0px; fill: rgb(99, 110, 250); fill-opacity: 1;\"/></g><g class=\"point\"><path d=\"M0,0Z\" style=\"vector-effect: non-scaling-stroke; opacity: 1; stroke-width: 0px; fill: rgb(99, 110, 250); fill-opacity: 1;\"/></g><g class=\"point\"><path d=\"M0,0Z\" style=\"vector-effect: non-scaling-stroke; opacity: 1; stroke-width: 0px; fill: rgb(99, 110, 250); fill-opacity: 1;\"/></g><g class=\"point\"><path d=\"M538.92,360V359.92H540V360Z\" style=\"vector-effect: non-scaling-stroke; opacity: 1; stroke-width: 0px; fill: rgb(99, 110, 250); fill-opacity: 1;\"/></g></g></g></g></g><g class=\"overplot\"/><path class=\"xlines-above crisp\" d=\"M0,0\" style=\"fill: none;\"/><path class=\"ylines-above crisp\" d=\"M0,0\" style=\"fill: none;\"/><g class=\"overlines-above\"/><g class=\"xaxislayer-above\"><g class=\"xtick\"><text text-anchor=\"middle\" x=\"0\" y=\"433\" transform=\"translate(80.27,0)\" style=\"font-family: 'Open Sans', verdana, arial, sans-serif; font-size: 12px; fill: rgb(42, 63, 95); fill-opacity: 1; white-space: pre; opacity: 1;\">0</text></g><g class=\"xtick\"><text text-anchor=\"middle\" x=\"0\" y=\"433\" style=\"font-family: 'Open Sans', verdana, arial, sans-serif; font-size: 12px; fill: rgb(42, 63, 95); fill-opacity: 1; white-space: pre; opacity: 1;\" transform=\"translate(188.05,0)\">200</text></g><g class=\"xtick\"><text text-anchor=\"middle\" x=\"0\" y=\"433\" style=\"font-family: 'Open Sans', verdana, arial, sans-serif; font-size: 12px; fill: rgb(42, 63, 95); fill-opacity: 1; white-space: pre; opacity: 1;\" transform=\"translate(295.84000000000003,0)\">400</text></g><g class=\"xtick\"><text text-anchor=\"middle\" x=\"0\" y=\"433\" style=\"font-family: 'Open Sans', verdana, arial, sans-serif; font-size: 12px; fill: rgb(42, 63, 95); fill-opacity: 1; white-space: pre; opacity: 1;\" transform=\"translate(403.62,0)\">600</text></g><g class=\"xtick\"><text text-anchor=\"middle\" x=\"0\" y=\"433\" style=\"font-family: 'Open Sans', verdana, arial, sans-serif; font-size: 12px; fill: rgb(42, 63, 95); fill-opacity: 1; white-space: pre; opacity: 1;\" transform=\"translate(511.41,0)\">800</text></g><g class=\"xtick\"><text text-anchor=\"middle\" x=\"0\" y=\"433\" style=\"font-family: 'Open Sans', verdana, arial, sans-serif; font-size: 12px; fill: rgb(42, 63, 95); fill-opacity: 1; white-space: pre; opacity: 1;\" transform=\"translate(619.19,0)\">1000</text></g></g><g class=\"yaxislayer-above\"><g class=\"ytick\"><text text-anchor=\"end\" x=\"79\" y=\"4.199999999999999\" transform=\"translate(0,420)\" style=\"font-family: 'Open Sans', verdana, arial, sans-serif; font-size: 12px; fill: rgb(42, 63, 95); fill-opacity: 1; white-space: pre; opacity: 1;\">0</text></g><g class=\"ytick\"><text text-anchor=\"end\" x=\"79\" y=\"4.199999999999999\" style=\"font-family: 'Open Sans', verdana, arial, sans-serif; font-size: 12px; fill: rgb(42, 63, 95); fill-opacity: 1; white-space: pre; opacity: 1;\" transform=\"translate(0,381.36)\">500</text></g><g class=\"ytick\"><text text-anchor=\"end\" x=\"79\" y=\"4.199999999999999\" style=\"font-family: 'Open Sans', verdana, arial, sans-serif; font-size: 12px; fill: rgb(42, 63, 95); fill-opacity: 1; white-space: pre; opacity: 1;\" transform=\"translate(0,342.71)\">1000</text></g><g class=\"ytick\"><text text-anchor=\"end\" x=\"79\" y=\"4.199999999999999\" style=\"font-family: 'Open Sans', verdana, arial, sans-serif; font-size: 12px; fill: rgb(42, 63, 95); fill-opacity: 1; white-space: pre; opacity: 1;\" transform=\"translate(0,304.07)\">1500</text></g><g class=\"ytick\"><text text-anchor=\"end\" x=\"79\" y=\"4.199999999999999\" style=\"font-family: 'Open Sans', verdana, arial, sans-serif; font-size: 12px; fill: rgb(42, 63, 95); fill-opacity: 1; white-space: pre; opacity: 1;\" transform=\"translate(0,265.41999999999996)\">2000</text></g><g class=\"ytick\"><text text-anchor=\"end\" x=\"79\" y=\"4.199999999999999\" style=\"font-family: 'Open Sans', verdana, arial, sans-serif; font-size: 12px; fill: rgb(42, 63, 95); fill-opacity: 1; white-space: pre; opacity: 1;\" transform=\"translate(0,226.78)\">2500</text></g><g class=\"ytick\"><text text-anchor=\"end\" x=\"79\" y=\"4.199999999999999\" style=\"font-family: 'Open Sans', verdana, arial, sans-serif; font-size: 12px; fill: rgb(42, 63, 95); fill-opacity: 1; white-space: pre; opacity: 1;\" transform=\"translate(0,188.14)\">3000</text></g><g class=\"ytick\"><text text-anchor=\"end\" x=\"79\" y=\"4.199999999999999\" style=\"font-family: 'Open Sans', verdana, arial, sans-serif; font-size: 12px; fill: rgb(42, 63, 95); fill-opacity: 1; white-space: pre; opacity: 1;\" transform=\"translate(0,149.49)\">3500</text></g><g class=\"ytick\"><text text-anchor=\"end\" x=\"79\" y=\"4.199999999999999\" style=\"font-family: 'Open Sans', verdana, arial, sans-serif; font-size: 12px; fill: rgb(42, 63, 95); fill-opacity: 1; white-space: pre; opacity: 1;\" transform=\"translate(0,110.85)\">4000</text></g><g class=\"ytick\"><text text-anchor=\"end\" x=\"79\" y=\"4.199999999999999\" style=\"font-family: 'Open Sans', verdana, arial, sans-serif; font-size: 12px; fill: rgb(42, 63, 95); fill-opacity: 1; white-space: pre; opacity: 1;\" transform=\"translate(0,72.2)\">4500</text></g></g><g class=\"overaxes-above\"/></g></g><g class=\"polarlayer\"/><g class=\"smithlayer\"/><g class=\"ternarylayer\"/><g class=\"geolayer\"/><g class=\"funnelarealayer\"/><g class=\"pielayer\"/><g class=\"iciclelayer\"/><g class=\"treemaplayer\"/><g class=\"sunburstlayer\"/><g class=\"glimages\"/><defs id=\"topdefs-7eb2d5\"><g class=\"clips\"/></defs><g class=\"layer-above\"><g class=\"imagelayer\"/><g class=\"shapelayer\"/></g><g class=\"infolayer\"><g class=\"g-gtitle\"/><g class=\"g-xtitle\"><text class=\"xtitle\" x=\"350\" y=\"460.8\" text-anchor=\"middle\" style=\"font-family: 'Open Sans', verdana, arial, sans-serif; font-size: 14px; fill: rgb(42, 63, 95); opacity: 1; font-weight: normal; white-space: pre;\">quantity</text></g><g class=\"g-ytitle\"><text class=\"ytitle\" transform=\"rotate(-90,23.684375000000003,240)\" x=\"23.684375000000003\" y=\"240\" text-anchor=\"middle\" style=\"font-family: 'Open Sans', verdana, arial, sans-serif; font-size: 14px; fill: rgb(42, 63, 95); opacity: 1; font-weight: normal; white-space: pre;\">count</text></g></g></svg>"
      ]
     },
     "metadata": {},
     "output_type": "display_data"
    }
   ],
   "source": [
    "print(data.query('quantity >= 20').count())\n",
    "\n",
    "fig =  px.histogram(data, x=\"quantity\")\n",
    "fig.show()"
   ]
  },
  {
   "cell_type": "markdown",
   "id": "500913a6",
   "metadata": {},
   "source": [
    "Выбросы помешают нам правильно разделить товар на основной и дополнительный, поэтому мы удалим заказы с количеством товара больше 20."
   ]
  },
  {
   "cell_type": "code",
   "execution_count": 14,
   "id": "4941d9ec",
   "metadata": {},
   "outputs": [
    {
     "data": {
      "image/svg+xml": [
       "<svg class=\"main-svg\" xmlns=\"http://www.w3.org/2000/svg\" xmlns:xlink=\"http://www.w3.org/1999/xlink\" width=\"1050\" height=\"750\" style=\"\" viewBox=\"0 0 700 500\"><rect x=\"0\" y=\"0\" width=\"700\" height=\"500\" style=\"fill: rgb(255, 255, 255); fill-opacity: 1;\"/><defs id=\"defs-2d3977\"><g class=\"clips\"><clipPath id=\"clip2d3977xyplot\" class=\"plotclip\"><rect width=\"540\" height=\"360\"/></clipPath><clipPath class=\"axesclip\" id=\"clip2d3977x\"><rect x=\"80\" y=\"0\" width=\"540\" height=\"500\"/></clipPath><clipPath class=\"axesclip\" id=\"clip2d3977y\"><rect x=\"0\" y=\"60\" width=\"700\" height=\"360\"/></clipPath><clipPath class=\"axesclip\" id=\"clip2d3977xy\"><rect x=\"80\" y=\"60\" width=\"540\" height=\"360\"/></clipPath></g><g class=\"gradients\"/><g class=\"patterns\"/></defs><g class=\"bglayer\"><rect class=\"bg\" x=\"80\" y=\"60\" width=\"540\" height=\"360\" style=\"fill: rgb(229, 236, 246); fill-opacity: 1; stroke-width: 0;\"/></g><g class=\"layer-below\"><g class=\"imagelayer\"/><g class=\"shapelayer\"/></g><g class=\"cartesianlayer\"><g class=\"subplot xy\"><g class=\"layer-subplot\"><g class=\"shapelayer\"/><g class=\"imagelayer\"/></g><g class=\"minor-gridlayer\"><g class=\"x\"/><g class=\"y\"/></g><g class=\"gridlayer\"><g class=\"x\"/><g class=\"y\"><path class=\"ygrid crisp\" transform=\"translate(0,381.36)\" d=\"M80,0h540\" style=\"stroke: rgb(255, 255, 255); stroke-opacity: 1; stroke-width: 1px;\"/><path class=\"ygrid crisp\" transform=\"translate(0,342.71)\" d=\"M80,0h540\" style=\"stroke: rgb(255, 255, 255); stroke-opacity: 1; stroke-width: 1px;\"/><path class=\"ygrid crisp\" transform=\"translate(0,304.07)\" d=\"M80,0h540\" style=\"stroke: rgb(255, 255, 255); stroke-opacity: 1; stroke-width: 1px;\"/><path class=\"ygrid crisp\" transform=\"translate(0,265.41999999999996)\" d=\"M80,0h540\" style=\"stroke: rgb(255, 255, 255); stroke-opacity: 1; stroke-width: 1px;\"/><path class=\"ygrid crisp\" transform=\"translate(0,226.78)\" d=\"M80,0h540\" style=\"stroke: rgb(255, 255, 255); stroke-opacity: 1; stroke-width: 1px;\"/><path class=\"ygrid crisp\" transform=\"translate(0,188.14)\" d=\"M80,0h540\" style=\"stroke: rgb(255, 255, 255); stroke-opacity: 1; stroke-width: 1px;\"/><path class=\"ygrid crisp\" transform=\"translate(0,149.49)\" d=\"M80,0h540\" style=\"stroke: rgb(255, 255, 255); stroke-opacity: 1; stroke-width: 1px;\"/><path class=\"ygrid crisp\" transform=\"translate(0,110.85)\" d=\"M80,0h540\" style=\"stroke: rgb(255, 255, 255); stroke-opacity: 1; stroke-width: 1px;\"/><path class=\"ygrid crisp\" transform=\"translate(0,72.2)\" d=\"M80,0h540\" style=\"stroke: rgb(255, 255, 255); stroke-opacity: 1; stroke-width: 1px;\"/></g></g><g class=\"zerolinelayer\"><path class=\"yzl zl crisp\" transform=\"translate(0,420)\" d=\"M80,0h540\" style=\"stroke: rgb(255, 255, 255); stroke-opacity: 1; stroke-width: 2px;\"/></g><path class=\"xlines-below\"/><path class=\"ylines-below\"/><g class=\"overlines-below\"/><g class=\"xaxislayer-below\"/><g class=\"yaxislayer-below\"/><g class=\"overaxes-below\"/><g class=\"plot\" transform=\"translate(80,60)\" clip-path=\"url(#clip2d3977xyplot)\"><g class=\"barlayer mlayer\"><g class=\"trace bars\" shape-rendering=\"crispEdges\" style=\"opacity: 1;\"><g class=\"points\"><g class=\"point\"><path d=\"M0,360V18H30V360Z\" style=\"vector-effect: non-scaling-stroke; opacity: 1; stroke-width: 0px; fill: rgb(99, 110, 250); fill-opacity: 1;\"/></g><g class=\"point\"><path d=\"M30,360V321.9H60V360Z\" style=\"vector-effect: non-scaling-stroke; opacity: 1; stroke-width: 0px; fill: rgb(99, 110, 250); fill-opacity: 1;\"/></g><g class=\"point\"><path d=\"M60,360V349.33H90V360Z\" style=\"vector-effect: non-scaling-stroke; opacity: 1; stroke-width: 0px; fill: rgb(99, 110, 250); fill-opacity: 1;\"/></g><g class=\"point\"><path d=\"M90,360V352.19H120V360Z\" style=\"vector-effect: non-scaling-stroke; opacity: 1; stroke-width: 0px; fill: rgb(99, 110, 250); fill-opacity: 1;\"/></g><g class=\"point\"><path d=\"M120,360V354.82H150V360Z\" style=\"vector-effect: non-scaling-stroke; opacity: 1; stroke-width: 0px; fill: rgb(99, 110, 250); fill-opacity: 1;\"/></g><g class=\"point\"><path d=\"M150,360V356.83H180V360Z\" style=\"vector-effect: non-scaling-stroke; opacity: 1; stroke-width: 0px; fill: rgb(99, 110, 250); fill-opacity: 1;\"/></g><g class=\"point\"><path d=\"M180,360V358.45H210V360Z\" style=\"vector-effect: non-scaling-stroke; opacity: 1; stroke-width: 0px; fill: rgb(99, 110, 250); fill-opacity: 1;\"/></g><g class=\"point\"><path d=\"M210,360V358.92H240V360Z\" style=\"vector-effect: non-scaling-stroke; opacity: 1; stroke-width: 0px; fill: rgb(99, 110, 250); fill-opacity: 1;\"/></g><g class=\"point\"><path d=\"M240,360V359.46H270V360Z\" style=\"vector-effect: non-scaling-stroke; opacity: 1; stroke-width: 0px; fill: rgb(99, 110, 250); fill-opacity: 1;\"/></g><g class=\"point\"><path d=\"M270,360V354.59H300V360Z\" style=\"vector-effect: non-scaling-stroke; opacity: 1; stroke-width: 0px; fill: rgb(99, 110, 250); fill-opacity: 1;\"/></g><g class=\"point\"><path d=\"M300,360V359.61H330V360Z\" style=\"vector-effect: non-scaling-stroke; opacity: 1; stroke-width: 0px; fill: rgb(99, 110, 250); fill-opacity: 1;\"/></g><g class=\"point\"><path d=\"M330,360V359H360V360Z\" style=\"vector-effect: non-scaling-stroke; opacity: 1; stroke-width: 0px; fill: rgb(99, 110, 250); fill-opacity: 1;\"/></g><g class=\"point\"><path d=\"M360,360V359.61H390V360Z\" style=\"vector-effect: non-scaling-stroke; opacity: 1; stroke-width: 0px; fill: rgb(99, 110, 250); fill-opacity: 1;\"/></g><g class=\"point\"><path d=\"M390,360V359.85H420V360Z\" style=\"vector-effect: non-scaling-stroke; opacity: 1; stroke-width: 0px; fill: rgb(99, 110, 250); fill-opacity: 1;\"/></g><g class=\"point\"><path d=\"M420,360V358.22H450V360Z\" style=\"vector-effect: non-scaling-stroke; opacity: 1; stroke-width: 0px; fill: rgb(99, 110, 250); fill-opacity: 1;\"/></g><g class=\"point\"><path d=\"M450,360V359.69H480V360Z\" style=\"vector-effect: non-scaling-stroke; opacity: 1; stroke-width: 0px; fill: rgb(99, 110, 250); fill-opacity: 1;\"/></g><g class=\"point\"><path d=\"M480,360V359.92H510V360Z\" style=\"vector-effect: non-scaling-stroke; opacity: 1; stroke-width: 0px; fill: rgb(99, 110, 250); fill-opacity: 1;\"/></g><g class=\"point\"><path d=\"M510,360V359.92H540V360Z\" style=\"vector-effect: non-scaling-stroke; opacity: 1; stroke-width: 0px; fill: rgb(99, 110, 250); fill-opacity: 1;\"/></g></g></g></g></g><g class=\"overplot\"/><path class=\"xlines-above crisp\" d=\"M0,0\" style=\"fill: none;\"/><path class=\"ylines-above crisp\" d=\"M0,0\" style=\"fill: none;\"/><g class=\"overlines-above\"/><g class=\"xaxislayer-above\"><g class=\"xtick\"><text text-anchor=\"middle\" x=\"0\" y=\"433\" transform=\"translate(215,0)\" style=\"font-family: 'Open Sans', verdana, arial, sans-serif; font-size: 12px; fill: rgb(42, 63, 95); fill-opacity: 1; white-space: pre; opacity: 1;\">5</text></g><g class=\"xtick\"><text text-anchor=\"middle\" x=\"0\" y=\"433\" style=\"font-family: 'Open Sans', verdana, arial, sans-serif; font-size: 12px; fill: rgb(42, 63, 95); fill-opacity: 1; white-space: pre; opacity: 1;\" transform=\"translate(365,0)\">10</text></g><g class=\"xtick\"><text text-anchor=\"middle\" x=\"0\" y=\"433\" style=\"font-family: 'Open Sans', verdana, arial, sans-serif; font-size: 12px; fill: rgb(42, 63, 95); fill-opacity: 1; white-space: pre; opacity: 1;\" transform=\"translate(515,0)\">15</text></g></g><g class=\"yaxislayer-above\"><g class=\"ytick\"><text text-anchor=\"end\" x=\"79\" y=\"4.199999999999999\" transform=\"translate(0,420)\" style=\"font-family: 'Open Sans', verdana, arial, sans-serif; font-size: 12px; fill: rgb(42, 63, 95); fill-opacity: 1; white-space: pre; opacity: 1;\">0</text></g><g class=\"ytick\"><text text-anchor=\"end\" x=\"79\" y=\"4.199999999999999\" style=\"font-family: 'Open Sans', verdana, arial, sans-serif; font-size: 12px; fill: rgb(42, 63, 95); fill-opacity: 1; white-space: pre; opacity: 1;\" transform=\"translate(0,381.36)\">500</text></g><g class=\"ytick\"><text text-anchor=\"end\" x=\"79\" y=\"4.199999999999999\" style=\"font-family: 'Open Sans', verdana, arial, sans-serif; font-size: 12px; fill: rgb(42, 63, 95); fill-opacity: 1; white-space: pre; opacity: 1;\" transform=\"translate(0,342.71)\">1000</text></g><g class=\"ytick\"><text text-anchor=\"end\" x=\"79\" y=\"4.199999999999999\" style=\"font-family: 'Open Sans', verdana, arial, sans-serif; font-size: 12px; fill: rgb(42, 63, 95); fill-opacity: 1; white-space: pre; opacity: 1;\" transform=\"translate(0,304.07)\">1500</text></g><g class=\"ytick\"><text text-anchor=\"end\" x=\"79\" y=\"4.199999999999999\" style=\"font-family: 'Open Sans', verdana, arial, sans-serif; font-size: 12px; fill: rgb(42, 63, 95); fill-opacity: 1; white-space: pre; opacity: 1;\" transform=\"translate(0,265.41999999999996)\">2000</text></g><g class=\"ytick\"><text text-anchor=\"end\" x=\"79\" y=\"4.199999999999999\" style=\"font-family: 'Open Sans', verdana, arial, sans-serif; font-size: 12px; fill: rgb(42, 63, 95); fill-opacity: 1; white-space: pre; opacity: 1;\" transform=\"translate(0,226.78)\">2500</text></g><g class=\"ytick\"><text text-anchor=\"end\" x=\"79\" y=\"4.199999999999999\" style=\"font-family: 'Open Sans', verdana, arial, sans-serif; font-size: 12px; fill: rgb(42, 63, 95); fill-opacity: 1; white-space: pre; opacity: 1;\" transform=\"translate(0,188.14)\">3000</text></g><g class=\"ytick\"><text text-anchor=\"end\" x=\"79\" y=\"4.199999999999999\" style=\"font-family: 'Open Sans', verdana, arial, sans-serif; font-size: 12px; fill: rgb(42, 63, 95); fill-opacity: 1; white-space: pre; opacity: 1;\" transform=\"translate(0,149.49)\">3500</text></g><g class=\"ytick\"><text text-anchor=\"end\" x=\"79\" y=\"4.199999999999999\" style=\"font-family: 'Open Sans', verdana, arial, sans-serif; font-size: 12px; fill: rgb(42, 63, 95); fill-opacity: 1; white-space: pre; opacity: 1;\" transform=\"translate(0,110.85)\">4000</text></g><g class=\"ytick\"><text text-anchor=\"end\" x=\"79\" y=\"4.199999999999999\" style=\"font-family: 'Open Sans', verdana, arial, sans-serif; font-size: 12px; fill: rgb(42, 63, 95); fill-opacity: 1; white-space: pre; opacity: 1;\" transform=\"translate(0,72.2)\">4500</text></g></g><g class=\"overaxes-above\"/></g></g><g class=\"polarlayer\"/><g class=\"smithlayer\"/><g class=\"ternarylayer\"/><g class=\"geolayer\"/><g class=\"funnelarealayer\"/><g class=\"pielayer\"/><g class=\"iciclelayer\"/><g class=\"treemaplayer\"/><g class=\"sunburstlayer\"/><g class=\"glimages\"/><defs id=\"topdefs-2d3977\"><g class=\"clips\"/></defs><g class=\"layer-above\"><g class=\"imagelayer\"/><g class=\"shapelayer\"/></g><g class=\"infolayer\"><g class=\"g-gtitle\"/><g class=\"g-xtitle\"><text class=\"xtitle\" x=\"350\" y=\"460.8\" text-anchor=\"middle\" style=\"font-family: 'Open Sans', verdana, arial, sans-serif; font-size: 14px; fill: rgb(42, 63, 95); opacity: 1; font-weight: normal; white-space: pre;\">quantity</text></g><g class=\"g-ytitle\"><text class=\"ytitle\" transform=\"rotate(-90,23.684375000000003,240)\" x=\"23.684375000000003\" y=\"240\" text-anchor=\"middle\" style=\"font-family: 'Open Sans', verdana, arial, sans-serif; font-size: 14px; fill: rgb(42, 63, 95); opacity: 1; font-weight: normal; white-space: pre;\">count</text></g></g></svg>"
      ]
     },
     "metadata": {},
     "output_type": "display_data"
    },
    {
     "name": "stdout",
     "output_type": "stream",
     "text": [
      "date           374\n",
      "customer_id    374\n",
      "order_id       374\n",
      "product        374\n",
      "quantity       374\n",
      "price          374\n",
      "dtype: int64\n"
     ]
    }
   ],
   "source": [
    "data = data.query('quantity < 20')\n",
    "\n",
    "fig =  px.histogram(data, x=\"quantity\")\n",
    "fig.show()\n",
    "print(data.query('quantity > 3').count())"
   ]
  },
  {
   "cell_type": "markdown",
   "id": "79c82bac",
   "metadata": {},
   "source": [
    "в столбце 'product' некоторые название указаны в кавычках, удалим их, чтобы было легче работать с данными"
   ]
  },
  {
   "cell_type": "code",
   "execution_count": 15,
   "id": "6b6149d7",
   "metadata": {},
   "outputs": [
    {
     "name": "stdout",
     "output_type": "stream",
     "text": [
      "Всего 2300 наименований товара. \n",
      " Было продано 8573 единиц товара\n"
     ]
    }
   ],
   "source": [
    "data['product'] = data['product'].str.replace('\"', '')\n",
    "data['product'] = data['product'].str.lower()\n",
    "print(f'Всего {data[\"product\"].nunique()} наименований товара.', \n",
    "      f'\\n Было продано {data[\"quantity\"].sum()} единиц товара')"
   ]
  },
  {
   "cell_type": "code",
   "execution_count": 16,
   "id": "cc1f06ba",
   "metadata": {},
   "outputs": [],
   "source": [
    "data['revenue'] = data['quantity'] * data['price']"
   ]
  },
  {
   "cell_type": "markdown",
   "id": "4773c65e",
   "metadata": {},
   "source": [
    "Создаем столбцы с годом, месяцем, днем недели и часом, когда был зарегистрирован заказ."
   ]
  },
  {
   "cell_type": "code",
   "execution_count": 17,
   "id": "e0fd33fe",
   "metadata": {},
   "outputs": [],
   "source": [
    "data['year'] = data['date'].dt.year\n",
    "data['month'] = data['date'].dt.month_name()\n",
    "data['day'] = data['date'].dt.day_name()\n",
    "data['hour'] = data['date'].dt.hour"
   ]
  },
  {
   "cell_type": "markdown",
   "id": "12e8f9eb",
   "metadata": {},
   "source": [
    "***Вывод по разделу \"Предобработка данных\":***\n",
    "\n",
    "Изначально в датасете было 7474 строк. Явных дубликатов обнаружено не было, но в данных присутствовало множество неявных дубликатов, где отличалось только время заказа, возможно в таблицу заносился каждый шаг покупки. Поэтому мы оставили только последние записи.Также были обнаружены одинаковые id заказов с несколькими покупателями, в этом случае мы удалили все подобные записи. В итоге в датасете осталось 5522 строк.\n",
    "\n",
    "Был добавлен столбец с выручкой от проданных товаров, который понадобиться нам позже для выделения основного и дополнительного ассортимента, и столбцы с годом, месяцем, названием дня недели и часом, когда был сделан заказ. "
   ]
  },
  {
   "cell_type": "markdown",
   "id": "49fdba1c",
   "metadata": {},
   "source": [
    "## Исследовательский анализ данных"
   ]
  },
  {
   "cell_type": "code",
   "execution_count": 18,
   "id": "69adeb75",
   "metadata": {},
   "outputs": [
    {
     "name": "stdout",
     "output_type": "stream",
     "text": [
      "product\n",
      "пеларгония розебудная red pandora укорененный черенок                                                      65\n",
      "пеларгония розебудная prins nikolai укорененный черенок                                                    54\n",
      "пеларгония зональная диам. 12 см сиреневый полумахровый                                                    53\n",
      "сумка-тележка 2-х колесная gimi argo синяя                                                                 47\n",
      "пеларгония розебудная mary укорененный черенок                                                             40\n",
      "пеларгония розебудная queen ingrid укорененный черенок                                                     31\n",
      "пеларгония розебудная margaretha укорененный черенок                                                       31\n",
      "пеларгония зональная ринго вайт d-7 см h-10 см укорененный черенок                                         25\n",
      "пеларгония зональная махровая лососевая                                                                    25\n",
      "пеларгония зональная диам. 12 см коралловая полумахровая                                                   24\n",
      "пеларгония зональная диам. 12 см темнорозовая полумахровая                                                 22\n",
      "пеларгония зональная диам. 12 см красная махровая                                                          21\n",
      "однолетнее растение петуния махровая в кассете 4 шт, россия                                                18\n",
      "пеларгония розебудная rosebud red d-7 см                                                                   18\n",
      "сушилка для белья настенная zalger prima 510-720 веревочная 7 линий 25 м                                   17\n",
      "тележка багажная delta тбр-20 синий грузоподъемность 25 кг сумка и 50 кг каркас россия                     17\n",
      "пеларгония зональная диам. 12 см сиреневый простая                                                         16\n",
      "пеларгония toscana angeleyes amarillo burgundy укорененный черенок                                         16\n",
      "пеларгония зональная диам. 12 см белая махровая                                                            16\n",
      "пеларгония зональная диам. 12 см лососевая махровая                                                        16\n",
      "пеларгония toscana angeleyes bicolor укорененный черенок                                                   16\n",
      "тележка багажная delta тбр-20 коричневый с оранжевым грузоподъемность 25 кг сумка и 50 кг каркас россия    16\n",
      "петуния махровая рассада однолетних цветов в кассете по 10 шт                                              16\n",
      "пеларгония зональная мультиблум скарлет ай d-7 см h-10 см укорененный черенок                              16\n",
      "герань домашняя (пеларгония зональная) цветущая d12, h25-30, лососевая, махровая                           15\n",
      "рассада зелени для кухни розмарин блю лагун диам. 9 см                                                     15\n",
      "петуния махровая рассада однолетних цветов в кассете по 6 шт                                               15\n",
      "пеларгония тюльпановидная emma                                                                             15\n",
      "рассада зелени для кухни розмарина в горшке диам. 9 см                                                     14\n",
      "пеларгония зональная диам. 12 см розовая с малиновым полумахровая                                          14\n",
      "Name: count, dtype: int64\n"
     ]
    }
   ],
   "source": [
    "print(data['product'].value_counts().head(30))"
   ]
  },
  {
   "cell_type": "markdown",
   "id": "80c01a48",
   "metadata": {},
   "source": [
    "В ТОП 30 наиболее покупаемых товаров 18 раз входят различные сорта Пеларгонии. "
   ]
  },
  {
   "cell_type": "markdown",
   "id": "61546010",
   "metadata": {},
   "source": [
    "Построим графики, чтобы понять, сколько заказов было совершено в каждый год/месяц/день/час"
   ]
  },
  {
   "cell_type": "code",
   "execution_count": 19,
   "id": "7051cce5",
   "metadata": {},
   "outputs": [],
   "source": [
    "month_orders = data.pivot_table(index=['year', 'month'],\n",
    "                                values='order_id',\n",
    "                                aggfunc='nunique').reset_index()"
   ]
  },
  {
   "cell_type": "code",
   "execution_count": 20,
   "id": "00ba4353",
   "metadata": {},
   "outputs": [
    {
     "data": {
      "image/svg+xml": [
       "<svg class=\"main-svg\" xmlns=\"http://www.w3.org/2000/svg\" xmlns:xlink=\"http://www.w3.org/1999/xlink\" width=\"1050\" height=\"750\" style=\"\" viewBox=\"0 0 700 500\"><rect x=\"0\" y=\"0\" width=\"700\" height=\"500\" style=\"fill: rgb(17, 17, 17); fill-opacity: 1;\"/><defs id=\"defs-b315a4\"><g class=\"clips\"><clipPath id=\"clipb315a4xyplot\" class=\"plotclip\"><rect width=\"540\" height=\"262\"/></clipPath><clipPath class=\"axesclip\" id=\"clipb315a4x\"><rect x=\"80\" y=\"0\" width=\"540\" height=\"500\"/></clipPath><clipPath class=\"axesclip\" id=\"clipb315a4y\"><rect x=\"0\" y=\"100\" width=\"700\" height=\"262\"/></clipPath><clipPath class=\"axesclip\" id=\"clipb315a4xy\"><rect x=\"80\" y=\"100\" width=\"540\" height=\"262\"/></clipPath></g><g class=\"gradients\"/><g class=\"patterns\"/></defs><g class=\"bglayer\"/><g class=\"layer-below\"><g class=\"imagelayer\"/><g class=\"shapelayer\"/></g><g class=\"cartesianlayer\"><g class=\"subplot xy\"><g class=\"layer-subplot\"><g class=\"shapelayer\"/><g class=\"imagelayer\"/></g><g class=\"minor-gridlayer\"><g class=\"x\"/><g class=\"y\"/></g><g class=\"gridlayer\"><g class=\"x\"/><g class=\"y\"><path class=\"ygrid crisp\" transform=\"translate(0,316.75)\" d=\"M80,0h540\" style=\"stroke: rgb(40, 52, 66); stroke-opacity: 1; stroke-width: 1px;\"/><path class=\"ygrid crisp\" transform=\"translate(0,271.49)\" d=\"M80,0h540\" style=\"stroke: rgb(40, 52, 66); stroke-opacity: 1; stroke-width: 1px;\"/><path class=\"ygrid crisp\" transform=\"translate(0,226.24)\" d=\"M80,0h540\" style=\"stroke: rgb(40, 52, 66); stroke-opacity: 1; stroke-width: 1px;\"/><path class=\"ygrid crisp\" transform=\"translate(0,180.98000000000002)\" d=\"M80,0h540\" style=\"stroke: rgb(40, 52, 66); stroke-opacity: 1; stroke-width: 1px;\"/><path class=\"ygrid crisp\" transform=\"translate(0,135.73)\" d=\"M80,0h540\" style=\"stroke: rgb(40, 52, 66); stroke-opacity: 1; stroke-width: 1px;\"/></g></g><g class=\"zerolinelayer\"><path class=\"yzl zl crisp\" transform=\"translate(0,362)\" d=\"M80,0h540\" style=\"stroke: rgb(40, 52, 66); stroke-opacity: 1; stroke-width: 2px;\"/></g><path class=\"xlines-below\"/><path class=\"ylines-below\"/><g class=\"overlines-below\"/><g class=\"xaxislayer-below\"/><g class=\"yaxislayer-below\"/><g class=\"overaxes-below\"/><g class=\"plot\" transform=\"translate(80,100)\" clip-path=\"url(#clipb315a4xyplot)\"><g class=\"barlayer mlayer\"><g class=\"trace bars\" style=\"opacity: 1;\"><g class=\"points\"><g class=\"point\"><path d=\"M3.38,262V55.64H30.38V262Z\" style=\"vector-effect: non-scaling-stroke; opacity: 1; stroke-width: 0.5px; fill: rgb(253, 50, 22); fill-opacity: 1; stroke: rgb(17, 17, 17); stroke-opacity: 1;\"/></g><g class=\"point\"><path d=\"M37.13,262V81.89H64.13V262Z\" style=\"vector-effect: non-scaling-stroke; opacity: 1; stroke-width: 0.5px; fill: rgb(0, 254, 53); fill-opacity: 1; stroke: rgb(17, 17, 17); stroke-opacity: 1;\"/></g><g class=\"point\"><path d=\"M70.88,262V16.72H97.88V262Z\" style=\"vector-effect: non-scaling-stroke; opacity: 1; stroke-width: 0.5px; fill: rgb(106, 118, 252); fill-opacity: 1; stroke: rgb(17, 17, 17); stroke-opacity: 1;\"/></g><g class=\"point\"><path d=\"M205.88,262V117.19H232.87V262Z\" style=\"vector-effect: non-scaling-stroke; opacity: 1; stroke-width: 0.5px; fill: rgb(254, 212, 196); fill-opacity: 1; stroke: rgb(17, 17, 17); stroke-opacity: 1;\"/></g><g class=\"point\"><path d=\"M239.63,262V13.1H266.63V262Z\" style=\"vector-effect: non-scaling-stroke; opacity: 1; stroke-width: 0.5px; fill: rgb(254, 0, 206); fill-opacity: 1; stroke: rgb(17, 17, 17); stroke-opacity: 1;\"/></g><g class=\"point\"><path d=\"M273.38,262V49.3H300.38V262Z\" style=\"vector-effect: non-scaling-stroke; opacity: 1; stroke-width: 0.5px; fill: rgb(13, 249, 255); fill-opacity: 1; stroke: rgb(17, 17, 17); stroke-opacity: 1;\"/></g><g class=\"point\"><path d=\"M307.13,262V29.39H334.13V262Z\" style=\"vector-effect: non-scaling-stroke; opacity: 1; stroke-width: 0.5px; fill: rgb(246, 249, 38); fill-opacity: 1; stroke: rgb(17, 17, 17); stroke-opacity: 1;\"/></g><g class=\"point\"><path d=\"M340.88,262V109.04H367.88V262Z\" style=\"vector-effect: non-scaling-stroke; opacity: 1; stroke-width: 0.5px; fill: rgb(255, 150, 22); fill-opacity: 1; stroke: rgb(17, 17, 17); stroke-opacity: 1;\"/></g><g class=\"point\"><path d=\"M374.63,262V122.62H401.63V262Z\" style=\"vector-effect: non-scaling-stroke; opacity: 1; stroke-width: 0.5px; fill: rgb(71, 155, 85); fill-opacity: 1; stroke: rgb(17, 17, 17); stroke-opacity: 1;\"/></g><g class=\"point\"><path d=\"M408.38,262V84.6H435.38V262Z\" style=\"vector-effect: non-scaling-stroke; opacity: 1; stroke-width: 0.5px; fill: rgb(238, 166, 251); fill-opacity: 1; stroke: rgb(17, 17, 17); stroke-opacity: 1;\"/></g><g class=\"point\"><path d=\"M442.13,262V108.13H469.13V262Z\" style=\"vector-effect: non-scaling-stroke; opacity: 1; stroke-width: 0.5px; fill: rgb(220, 88, 125); fill-opacity: 1; stroke: rgb(17, 17, 17); stroke-opacity: 1;\"/></g><g class=\"point\"><path d=\"M475.88,262V104.51H502.88V262Z\" style=\"vector-effect: non-scaling-stroke; opacity: 1; stroke-width: 0.5px; fill: rgb(214, 38, 255); fill-opacity: 1; stroke: rgb(17, 17, 17); stroke-opacity: 1;\"/></g><g class=\"point\"><path d=\"M104.63,262V86.41H131.63V262Z\" style=\"vector-effect: non-scaling-stroke; opacity: 1; stroke-width: 0.5px; fill: rgb(110, 137, 156); fill-opacity: 1; stroke: rgb(17, 17, 17); stroke-opacity: 1;\"/></g><g class=\"point\"><path d=\"M138.38,262V65.6H165.38V262Z\" style=\"vector-effect: non-scaling-stroke; opacity: 1; stroke-width: 0.5px; fill: rgb(0, 181, 247); fill-opacity: 1; stroke: rgb(17, 17, 17); stroke-opacity: 1;\"/></g><g class=\"point\"><path d=\"M172.13,262V39.35H199.12V262Z\" style=\"vector-effect: non-scaling-stroke; opacity: 1; stroke-width: 0.5px; fill: rgb(182, 142, 0); fill-opacity: 1; stroke: rgb(17, 17, 17); stroke-opacity: 1;\"/></g><g class=\"point\"><path d=\"M509.63,262V18.53H536.63V262Z\" style=\"vector-effect: non-scaling-stroke; opacity: 1; stroke-width: 0.5px; fill: rgb(201, 251, 229); fill-opacity: 1; stroke: rgb(17, 17, 17); stroke-opacity: 1;\"/></g></g></g></g></g><g class=\"overplot\"/><path class=\"xlines-above crisp\" d=\"M0,0\" style=\"fill: none;\"/><path class=\"ylines-above crisp\" d=\"M0,0\" style=\"fill: none;\"/><g class=\"overlines-above\"/><g class=\"xaxislayer-above\"><path class=\"xdivider crisp\" transform=\"translate(620,0)\" d=\"M0,363v101.125\" style=\"stroke: rgb(68, 68, 68); stroke-opacity: 1; stroke-width: 1px;\"/><path class=\"xdivider crisp\" transform=\"translate(586.25,0)\" d=\"M0,363v101.125\" style=\"stroke: rgb(68, 68, 68); stroke-opacity: 1; stroke-width: 1px;\"/><path class=\"xdivider crisp\" transform=\"translate(181.25,0)\" d=\"M0,363v101.125\" style=\"stroke: rgb(68, 68, 68); stroke-opacity: 1; stroke-width: 1px;\"/><path class=\"xdivider crisp\" transform=\"translate(80,0)\" d=\"M0,363v101.125\" style=\"stroke: rgb(68, 68, 68); stroke-opacity: 1; stroke-width: 1px;\"/><g class=\"xtick\"><text text-anchor=\"start\" x=\"0\" y=\"375\" transform=\"translate(96.88,0) rotate(90,0,369)\" style=\"font-family: 'Open Sans', verdana, arial, sans-serif; font-size: 12px; fill: rgb(242, 245, 250); fill-opacity: 1; white-space: pre; opacity: 1;\">October</text></g><g class=\"xtick\"><text text-anchor=\"start\" x=\"0\" y=\"375\" transform=\"translate(130.63,0) rotate(90,0,369)\" style=\"font-family: 'Open Sans', verdana, arial, sans-serif; font-size: 12px; fill: rgb(242, 245, 250); fill-opacity: 1; white-space: pre; opacity: 1;\">November</text></g><g class=\"xtick\"><text text-anchor=\"start\" x=\"0\" y=\"375\" transform=\"translate(164.38,0) rotate(90,0,369)\" style=\"font-family: 'Open Sans', verdana, arial, sans-serif; font-size: 12px; fill: rgb(242, 245, 250); fill-opacity: 1; white-space: pre; opacity: 1;\">December</text></g><g class=\"xtick\"><text text-anchor=\"start\" x=\"0\" y=\"375\" transform=\"translate(198.13,0) rotate(90,0,369)\" style=\"font-family: 'Open Sans', verdana, arial, sans-serif; font-size: 12px; fill: rgb(242, 245, 250); fill-opacity: 1; white-space: pre; opacity: 1;\">October</text></g><g class=\"xtick\"><text text-anchor=\"start\" x=\"0\" y=\"375\" transform=\"translate(231.88,0) rotate(90,0,369)\" style=\"font-family: 'Open Sans', verdana, arial, sans-serif; font-size: 12px; fill: rgb(242, 245, 250); fill-opacity: 1; white-space: pre; opacity: 1;\">November</text></g><g class=\"xtick\"><text text-anchor=\"start\" x=\"0\" y=\"375\" transform=\"translate(265.63,0) rotate(90,0,369)\" style=\"font-family: 'Open Sans', verdana, arial, sans-serif; font-size: 12px; fill: rgb(242, 245, 250); fill-opacity: 1; white-space: pre; opacity: 1;\">December</text></g><g class=\"xtick\"><text text-anchor=\"start\" x=\"0\" y=\"375\" transform=\"translate(299.38,0) rotate(90,0,369)\" style=\"font-family: 'Open Sans', verdana, arial, sans-serif; font-size: 12px; fill: rgb(242, 245, 250); fill-opacity: 1; white-space: pre; opacity: 1;\">January</text></g><g class=\"xtick\"><text text-anchor=\"start\" x=\"0\" y=\"375\" transform=\"translate(333.13,0) rotate(90,0,369)\" style=\"font-family: 'Open Sans', verdana, arial, sans-serif; font-size: 12px; fill: rgb(242, 245, 250); fill-opacity: 1; white-space: pre; opacity: 1;\">February</text></g><g class=\"xtick\"><text text-anchor=\"start\" x=\"0\" y=\"375\" transform=\"translate(366.88,0) rotate(90,0,369)\" style=\"font-family: 'Open Sans', verdana, arial, sans-serif; font-size: 12px; fill: rgb(242, 245, 250); fill-opacity: 1; white-space: pre; opacity: 1;\">March</text></g><g class=\"xtick\"><text text-anchor=\"start\" x=\"0\" y=\"375\" transform=\"translate(400.63,0) rotate(90,0,369)\" style=\"font-family: 'Open Sans', verdana, arial, sans-serif; font-size: 12px; fill: rgb(242, 245, 250); fill-opacity: 1; white-space: pre; opacity: 1;\">April</text></g><g class=\"xtick\"><text text-anchor=\"start\" x=\"0\" y=\"375\" transform=\"translate(434.38,0) rotate(90,0,369)\" style=\"font-family: 'Open Sans', verdana, arial, sans-serif; font-size: 12px; fill: rgb(242, 245, 250); fill-opacity: 1; white-space: pre; opacity: 1;\">May</text></g><g class=\"xtick\"><text text-anchor=\"start\" x=\"0\" y=\"375\" transform=\"translate(468.13,0) rotate(90,0,369)\" style=\"font-family: 'Open Sans', verdana, arial, sans-serif; font-size: 12px; fill: rgb(242, 245, 250); fill-opacity: 1; white-space: pre; opacity: 1;\">June</text></g><g class=\"xtick\"><text text-anchor=\"start\" x=\"0\" y=\"375\" transform=\"translate(501.88,0) rotate(90,0,369)\" style=\"font-family: 'Open Sans', verdana, arial, sans-serif; font-size: 12px; fill: rgb(242, 245, 250); fill-opacity: 1; white-space: pre; opacity: 1;\">July</text></g><g class=\"xtick\"><text text-anchor=\"start\" x=\"0\" y=\"375\" transform=\"translate(535.63,0) rotate(90,0,369)\" style=\"font-family: 'Open Sans', verdana, arial, sans-serif; font-size: 12px; fill: rgb(242, 245, 250); fill-opacity: 1; white-space: pre; opacity: 1;\">August</text></g><g class=\"xtick\"><text text-anchor=\"start\" x=\"0\" y=\"375\" transform=\"translate(569.38,0) rotate(90,0,369)\" style=\"font-family: 'Open Sans', verdana, arial, sans-serif; font-size: 12px; fill: rgb(242, 245, 250); fill-opacity: 1; white-space: pre; opacity: 1;\">September</text></g><g class=\"xtick\"><text text-anchor=\"start\" x=\"0\" y=\"375\" transform=\"translate(603.13,0) rotate(90,0,369)\" style=\"font-family: 'Open Sans', verdana, arial, sans-serif; font-size: 12px; fill: rgb(242, 245, 250); fill-opacity: 1; white-space: pre; opacity: 1;\">January</text></g><g class=\"xtick2\"><text text-anchor=\"middle\" x=\"0\" y=\"460.615625\" transform=\"translate(130.63,0)\" style=\"font-family: 'Open Sans', verdana, arial, sans-serif; font-size: 12px; fill: rgb(242, 245, 250); fill-opacity: 1; white-space: pre; opacity: 1;\">2018</text></g><g class=\"xtick2\"><text text-anchor=\"middle\" x=\"0\" y=\"460.615625\" transform=\"translate(383.75,0)\" style=\"font-family: 'Open Sans', verdana, arial, sans-serif; font-size: 12px; fill: rgb(242, 245, 250); fill-opacity: 1; white-space: pre; opacity: 1;\">2019</text></g><g class=\"xtick2\"><text text-anchor=\"middle\" x=\"0\" y=\"460.615625\" transform=\"translate(603.13,0)\" style=\"font-family: 'Open Sans', verdana, arial, sans-serif; font-size: 12px; fill: rgb(242, 245, 250); fill-opacity: 1; white-space: pre; opacity: 1;\">2020</text></g></g><g class=\"yaxislayer-above\"><g class=\"ytick\"><text text-anchor=\"end\" x=\"79\" y=\"4.199999999999999\" transform=\"translate(0,362)\" style=\"font-family: 'Open Sans', verdana, arial, sans-serif; font-size: 12px; fill: rgb(242, 245, 250); fill-opacity: 1; white-space: pre; opacity: 1;\">0</text></g><g class=\"ytick\"><text text-anchor=\"end\" x=\"79\" y=\"4.199999999999999\" style=\"font-family: 'Open Sans', verdana, arial, sans-serif; font-size: 12px; fill: rgb(242, 245, 250); fill-opacity: 1; white-space: pre; opacity: 1;\" transform=\"translate(0,316.75)\">50</text></g><g class=\"ytick\"><text text-anchor=\"end\" x=\"79\" y=\"4.199999999999999\" style=\"font-family: 'Open Sans', verdana, arial, sans-serif; font-size: 12px; fill: rgb(242, 245, 250); fill-opacity: 1; white-space: pre; opacity: 1;\" transform=\"translate(0,271.49)\">100</text></g><g class=\"ytick\"><text text-anchor=\"end\" x=\"79\" y=\"4.199999999999999\" style=\"font-family: 'Open Sans', verdana, arial, sans-serif; font-size: 12px; fill: rgb(242, 245, 250); fill-opacity: 1; white-space: pre; opacity: 1;\" transform=\"translate(0,226.24)\">150</text></g><g class=\"ytick\"><text text-anchor=\"end\" x=\"79\" y=\"4.199999999999999\" style=\"font-family: 'Open Sans', verdana, arial, sans-serif; font-size: 12px; fill: rgb(242, 245, 250); fill-opacity: 1; white-space: pre; opacity: 1;\" transform=\"translate(0,180.98000000000002)\">200</text></g><g class=\"ytick\"><text text-anchor=\"end\" x=\"79\" y=\"4.199999999999999\" style=\"font-family: 'Open Sans', verdana, arial, sans-serif; font-size: 12px; fill: rgb(242, 245, 250); fill-opacity: 1; white-space: pre; opacity: 1;\" transform=\"translate(0,135.73)\">250</text></g></g><g class=\"overaxes-above\"/></g></g><g class=\"polarlayer\"/><g class=\"smithlayer\"/><g class=\"ternarylayer\"/><g class=\"geolayer\"/><g class=\"funnelarealayer\"/><g class=\"pielayer\"/><g class=\"iciclelayer\"/><g class=\"treemaplayer\"/><g class=\"sunburstlayer\"/><g class=\"glimages\"/><defs id=\"topdefs-b315a4\"><g class=\"clips\"/></defs><g class=\"layer-above\"><g class=\"imagelayer\"/><g class=\"shapelayer\"/></g><g class=\"infolayer\"><g class=\"g-gtitle\"><text class=\"gtitle\" x=\"35\" y=\"50\" text-anchor=\"start\" dy=\"0em\" style=\"font-family: 'Open Sans', verdana, arial, sans-serif; font-size: 17px; fill: rgb(242, 245, 250); opacity: 1; font-weight: normal; white-space: pre;\">Количество заказов по годам и месяцам</text></g><g class=\"g-xtitle\"><text class=\"xtitle\" x=\"350\" y=\"487.925\" text-anchor=\"middle\" style=\"font-family: 'Open Sans', verdana, arial, sans-serif; font-size: 14px; fill: rgb(242, 245, 250); opacity: 1; font-weight: normal; white-space: pre;\">Год и месяц</text></g><g class=\"g-ytitle\"><text class=\"ytitle\" transform=\"rotate(-90,31.309375000000003,231)\" x=\"31.309375000000003\" y=\"231\" text-anchor=\"middle\" style=\"font-family: 'Open Sans', verdana, arial, sans-serif; font-size: 14px; fill: rgb(242, 245, 250); opacity: 1; font-weight: normal; white-space: pre;\">Количество заказов</text></g></g></svg>"
      ]
     },
     "metadata": {},
     "output_type": "display_data"
    }
   ],
   "source": [
    "months = [\"January\", \"February\", \"March\", \"April\", \"May\", \"June\",\n",
    "          \"July\", \"August\", \"September\", \"October\", \"November\", \"December\"]\n",
    "\n",
    "month_orders['month'] = pd.Categorical(month_orders['month'],\n",
    "                                       categories=months,\n",
    "                                       ordered=True)\n",
    "month_orders = month_orders.sort_values(by=['year', 'month']).reset_index(drop=True)\n",
    "fig = make_subplots(rows=1, cols=1)\n",
    "fig.add_trace(go.Bar(x=[month_orders['year'], month_orders['month']],\n",
    "                     y=month_orders['order_id'], marker=dict(color=px.colors.qualitative.Light24)), row=1, col=1)\n",
    "fig.update_layout(title_text='Количество заказов по годам и месяцам',\n",
    "                  xaxis_title='Год и месяц',\n",
    "                  yaxis_title='Количество заказов',\n",
    "                  template='plotly_dark'\n",
    "                  )\n",
    "fig.show()"
   ]
  },
  {
   "cell_type": "markdown",
   "id": "0c0e9182",
   "metadata": {},
   "source": [
    "На графике мы видим, чтобы данных за 2018 и 2020 годы довольно мало, а 2019 учтены все 12 месяцев. Так как за два года у нас не хватает большей части данных, то динамику по годам сравнить не получится. Плавный спад числа заказов с октября (700 покупок) по январь (450 покупок). Скорее всего, октябрь, ноябрь и декабрь выделяются числом заказов из-за того, что есть данных и за 2018 и за 2019 годы. Поэтому мы не можем сравнить их показатели на данном графике с высокими показателями апреля и мая. В феврале и марте было сделано мало заказов - 350 и чуть больше 400 соответственно. В апреле и мае мы видим скачок до 650 и 680. В июне и июле было чуть больше 300 покупок в каждом месяце. Самые низкие значения в августе и сентябре 200 и 210 примерно"
   ]
  },
  {
   "cell_type": "code",
   "execution_count": 21,
   "id": "6c5c1d5a",
   "metadata": {},
   "outputs": [],
   "source": [
    "day_orders = data.pivot_table(index='day',\n",
    "                              values='order_id',\n",
    "                              aggfunc='nunique').reset_index()"
   ]
  },
  {
   "cell_type": "code",
   "execution_count": 22,
   "id": "e8a8a19a",
   "metadata": {},
   "outputs": [
    {
     "name": "stderr",
     "output_type": "stream",
     "text": [
      "C:\\ProgramData\\anaconda3\\Lib\\site-packages\\plotly\\express\\_core.py:1958: FutureWarning:\n",
      "\n",
      "The default of observed=False is deprecated and will be changed to True in a future version of pandas. Pass observed=False to retain current behavior or observed=True to adopt the future default and silence this warning.\n",
      "\n"
     ]
    }
   ],
   "source": [
    "days = [\"Monday\", \"Tuesday\", \"Wednesday\", \"Thursday\", \"Friday\", \"Saturday\", \"Sunday\"]\n",
    "day_orders['day'] = pd.Categorical(day_orders['day'],\n",
    "                                   categories=days,\n",
    "                                   ordered=True)\n",
    "day_orders = day_orders.sort_values(by='day').reset_index(drop=True)\n",
    "fig = px.bar(day_orders,\n",
    "             x='day',\n",
    "             y='order_id',\n",
    "             color='day',\n",
    "             title='Количество заказов по дням',\n",
    "             template='plotly_dark')"
   ]
  },
  {
   "cell_type": "code",
   "execution_count": 23,
   "id": "00d16978",
   "metadata": {},
   "outputs": [
    {
     "data": {
      "image/svg+xml": [
       "<svg class=\"main-svg\" xmlns=\"http://www.w3.org/2000/svg\" xmlns:xlink=\"http://www.w3.org/1999/xlink\" width=\"1050\" height=\"750\" style=\"\" viewBox=\"0 0 700 500\"><rect x=\"0\" y=\"0\" width=\"700\" height=\"500\" style=\"fill: rgb(17, 17, 17); fill-opacity: 1;\"/><defs id=\"defs-dbe60d\"><g class=\"clips\"><clipPath id=\"clipdbe60dxyplot\" class=\"plotclip\"><rect width=\"483\" height=\"320\"/></clipPath><clipPath class=\"axesclip\" id=\"clipdbe60dx\"><rect x=\"80\" y=\"0\" width=\"483\" height=\"500\"/></clipPath><clipPath class=\"axesclip\" id=\"clipdbe60dy\"><rect x=\"0\" y=\"100\" width=\"700\" height=\"320\"/></clipPath><clipPath class=\"axesclip\" id=\"clipdbe60dxy\"><rect x=\"80\" y=\"100\" width=\"483\" height=\"320\"/></clipPath></g><g class=\"gradients\"/><g class=\"patterns\"/></defs><g class=\"bglayer\"/><g class=\"layer-below\"><g class=\"imagelayer\"/><g class=\"shapelayer\"/></g><g class=\"cartesianlayer\"><g class=\"subplot xy\"><g class=\"layer-subplot\"><g class=\"shapelayer\"/><g class=\"imagelayer\"/></g><g class=\"minor-gridlayer\"><g class=\"x\"/><g class=\"y\"/></g><g class=\"gridlayer\"><g class=\"x\"/><g class=\"y\"><path class=\"ygrid crisp\" transform=\"translate(0,367.13)\" d=\"M80,0h483\" style=\"stroke: rgb(40, 52, 66); stroke-opacity: 1; stroke-width: 1px;\"/><path class=\"ygrid crisp\" transform=\"translate(0,314.26)\" d=\"M80,0h483\" style=\"stroke: rgb(40, 52, 66); stroke-opacity: 1; stroke-width: 1px;\"/><path class=\"ygrid crisp\" transform=\"translate(0,261.39)\" d=\"M80,0h483\" style=\"stroke: rgb(40, 52, 66); stroke-opacity: 1; stroke-width: 1px;\"/><path class=\"ygrid crisp\" transform=\"translate(0,208.51999999999998)\" d=\"M80,0h483\" style=\"stroke: rgb(40, 52, 66); stroke-opacity: 1; stroke-width: 1px;\"/><path class=\"ygrid crisp\" transform=\"translate(0,155.65)\" d=\"M80,0h483\" style=\"stroke: rgb(40, 52, 66); stroke-opacity: 1; stroke-width: 1px;\"/><path class=\"ygrid crisp\" transform=\"translate(0,102.78)\" d=\"M80,0h483\" style=\"stroke: rgb(40, 52, 66); stroke-opacity: 1; stroke-width: 1px;\"/></g></g><g class=\"zerolinelayer\"><path class=\"yzl zl crisp\" transform=\"translate(0,420)\" d=\"M80,0h483\" style=\"stroke: rgb(40, 52, 66); stroke-opacity: 1; stroke-width: 2px;\"/></g><path class=\"xlines-below\"/><path class=\"ylines-below\"/><g class=\"overlines-below\"/><g class=\"xaxislayer-below\"/><g class=\"yaxislayer-below\"/><g class=\"overaxes-below\"/><g class=\"plot\" transform=\"translate(80,100)\" clip-path=\"url(#clipdbe60dxyplot)\"><g class=\"barlayer mlayer\"><g class=\"trace bars\" style=\"opacity: 1;\"><g class=\"points\"><g class=\"point\"><path d=\"M6.9,320V20.76H62.1V320Z\" style=\"vector-effect: non-scaling-stroke; opacity: 1; stroke-width: 0.5px; fill: rgb(99, 110, 250); fill-opacity: 1; stroke: rgb(17, 17, 17); stroke-opacity: 1;\"/></g></g></g><g class=\"trace bars\" style=\"opacity: 1;\"><g class=\"points\"><g class=\"point\"><path d=\"M75.9,320V16H131.1V320Z\" style=\"vector-effect: non-scaling-stroke; opacity: 1; stroke-width: 0.5px; fill: rgb(239, 85, 59); fill-opacity: 1; stroke: rgb(17, 17, 17); stroke-opacity: 1;\"/></g></g></g><g class=\"trace bars\" style=\"opacity: 1;\"><g class=\"points\"><g class=\"point\"><path d=\"M144.9,320V42.96H200.1V320Z\" style=\"vector-effect: non-scaling-stroke; opacity: 1; stroke-width: 0.5px; fill: rgb(0, 204, 150); fill-opacity: 1; stroke: rgb(17, 17, 17); stroke-opacity: 1;\"/></g></g></g><g class=\"trace bars\" style=\"opacity: 1;\"><g class=\"points\"><g class=\"point\"><path d=\"M213.9,320V36.62H269.1V320Z\" style=\"vector-effect: non-scaling-stroke; opacity: 1; stroke-width: 0.5px; fill: rgb(171, 99, 250); fill-opacity: 1; stroke: rgb(17, 17, 17); stroke-opacity: 1;\"/></g></g></g><g class=\"trace bars\" style=\"opacity: 1;\"><g class=\"points\"><g class=\"point\"><path d=\"M282.9,320V80.5H338.1V320Z\" style=\"vector-effect: non-scaling-stroke; opacity: 1; stroke-width: 0.5px; fill: rgb(255, 161, 90); fill-opacity: 1; stroke: rgb(17, 17, 17); stroke-opacity: 1;\"/></g></g></g><g class=\"trace bars\" style=\"opacity: 1;\"><g class=\"points\"><g class=\"point\"><path d=\"M351.9,320V140.24H407.1V320Z\" style=\"vector-effect: non-scaling-stroke; opacity: 1; stroke-width: 0.5px; fill: rgb(25, 211, 243); fill-opacity: 1; stroke: rgb(17, 17, 17); stroke-opacity: 1;\"/></g></g></g><g class=\"trace bars\" style=\"opacity: 1;\"><g class=\"points\"><g class=\"point\"><path d=\"M420.9,320V94.25H476.1V320Z\" style=\"vector-effect: non-scaling-stroke; opacity: 1; stroke-width: 0.5px; fill: rgb(255, 102, 146); fill-opacity: 1; stroke: rgb(17, 17, 17); stroke-opacity: 1;\"/></g></g></g></g></g><g class=\"overplot\"/><path class=\"xlines-above crisp\" d=\"M0,0\" style=\"fill: none;\"/><path class=\"ylines-above crisp\" d=\"M0,0\" style=\"fill: none;\"/><g class=\"overlines-above\"/><g class=\"xaxislayer-above\"><g class=\"xtick\"><text text-anchor=\"middle\" x=\"0\" y=\"433\" transform=\"translate(114.5,0)\" style=\"font-family: 'Open Sans', verdana, arial, sans-serif; font-size: 12px; fill: rgb(242, 245, 250); fill-opacity: 1; white-space: pre; opacity: 1;\">Monday</text></g><g class=\"xtick\"><text text-anchor=\"middle\" x=\"0\" y=\"433\" transform=\"translate(183.5,0)\" style=\"font-family: 'Open Sans', verdana, arial, sans-serif; font-size: 12px; fill: rgb(242, 245, 250); fill-opacity: 1; white-space: pre; opacity: 1;\">Tuesday</text></g><g class=\"xtick\"><text text-anchor=\"middle\" x=\"0\" y=\"433\" transform=\"translate(252.5,0)\" style=\"font-family: 'Open Sans', verdana, arial, sans-serif; font-size: 12px; fill: rgb(242, 245, 250); fill-opacity: 1; white-space: pre; opacity: 1;\">Wednesday</text></g><g class=\"xtick\"><text text-anchor=\"middle\" x=\"0\" y=\"433\" transform=\"translate(321.5,0)\" style=\"font-family: 'Open Sans', verdana, arial, sans-serif; font-size: 12px; fill: rgb(242, 245, 250); fill-opacity: 1; white-space: pre; opacity: 1;\">Thursday</text></g><g class=\"xtick\"><text text-anchor=\"middle\" x=\"0\" y=\"433\" transform=\"translate(390.5,0)\" style=\"font-family: 'Open Sans', verdana, arial, sans-serif; font-size: 12px; fill: rgb(242, 245, 250); fill-opacity: 1; white-space: pre; opacity: 1;\">Friday</text></g><g class=\"xtick\"><text text-anchor=\"middle\" x=\"0\" y=\"433\" transform=\"translate(459.5,0)\" style=\"font-family: 'Open Sans', verdana, arial, sans-serif; font-size: 12px; fill: rgb(242, 245, 250); fill-opacity: 1; white-space: pre; opacity: 1;\">Saturday</text></g><g class=\"xtick\"><text text-anchor=\"middle\" x=\"0\" y=\"433\" transform=\"translate(528.5,0)\" style=\"font-family: 'Open Sans', verdana, arial, sans-serif; font-size: 12px; fill: rgb(242, 245, 250); fill-opacity: 1; white-space: pre; opacity: 1;\">Sunday</text></g></g><g class=\"yaxislayer-above\"><g class=\"ytick\"><text text-anchor=\"end\" x=\"79\" y=\"4.199999999999999\" transform=\"translate(0,420)\" style=\"font-family: 'Open Sans', verdana, arial, sans-serif; font-size: 12px; fill: rgb(242, 245, 250); fill-opacity: 1; white-space: pre; opacity: 1;\">0</text></g><g class=\"ytick\"><text text-anchor=\"end\" x=\"79\" y=\"4.199999999999999\" style=\"font-family: 'Open Sans', verdana, arial, sans-serif; font-size: 12px; fill: rgb(242, 245, 250); fill-opacity: 1; white-space: pre; opacity: 1;\" transform=\"translate(0,367.13)\">100</text></g><g class=\"ytick\"><text text-anchor=\"end\" x=\"79\" y=\"4.199999999999999\" style=\"font-family: 'Open Sans', verdana, arial, sans-serif; font-size: 12px; fill: rgb(242, 245, 250); fill-opacity: 1; white-space: pre; opacity: 1;\" transform=\"translate(0,314.26)\">200</text></g><g class=\"ytick\"><text text-anchor=\"end\" x=\"79\" y=\"4.199999999999999\" style=\"font-family: 'Open Sans', verdana, arial, sans-serif; font-size: 12px; fill: rgb(242, 245, 250); fill-opacity: 1; white-space: pre; opacity: 1;\" transform=\"translate(0,261.39)\">300</text></g><g class=\"ytick\"><text text-anchor=\"end\" x=\"79\" y=\"4.199999999999999\" style=\"font-family: 'Open Sans', verdana, arial, sans-serif; font-size: 12px; fill: rgb(242, 245, 250); fill-opacity: 1; white-space: pre; opacity: 1;\" transform=\"translate(0,208.51999999999998)\">400</text></g><g class=\"ytick\"><text text-anchor=\"end\" x=\"79\" y=\"4.199999999999999\" style=\"font-family: 'Open Sans', verdana, arial, sans-serif; font-size: 12px; fill: rgb(242, 245, 250); fill-opacity: 1; white-space: pre; opacity: 1;\" transform=\"translate(0,155.65)\">500</text></g><g class=\"ytick\"><text text-anchor=\"end\" x=\"79\" y=\"4.199999999999999\" style=\"font-family: 'Open Sans', verdana, arial, sans-serif; font-size: 12px; fill: rgb(242, 245, 250); fill-opacity: 1; white-space: pre; opacity: 1;\" transform=\"translate(0,102.78)\">600</text></g></g><g class=\"overaxes-above\"/></g></g><g class=\"polarlayer\"/><g class=\"smithlayer\"/><g class=\"ternarylayer\"/><g class=\"geolayer\"/><g class=\"funnelarealayer\"/><g class=\"pielayer\"/><g class=\"iciclelayer\"/><g class=\"treemaplayer\"/><g class=\"sunburstlayer\"/><g class=\"glimages\"/><defs id=\"topdefs-dbe60d\"><g class=\"clips\"/><clipPath id=\"legenddbe60d\"><rect width=\"115\" height=\"162\" x=\"0\" y=\"0\"/></clipPath></defs><g class=\"layer-above\"><g class=\"imagelayer\"/><g class=\"shapelayer\"/></g><g class=\"infolayer\"><g class=\"legend\" pointer-events=\"all\" transform=\"translate(572.6600000000001,100)\"><rect class=\"bg\" shape-rendering=\"crispEdges\" style=\"stroke: rgb(68, 68, 68); stroke-opacity: 1; fill: rgb(17, 17, 17); fill-opacity: 1; stroke-width: 0px;\" width=\"115\" height=\"162\" x=\"0\" y=\"0\"/><g class=\"scrollbox\" transform=\"\" clip-path=\"url(#legenddbe60d)\"><text class=\"legendtitletext\" text-anchor=\"start\" x=\"2\" y=\"18.2\" style=\"font-family: 'Open Sans', verdana, arial, sans-serif; font-size: 14px; fill: rgb(242, 245, 250); fill-opacity: 1; white-space: pre;\">day</text><g class=\"groups\" transform=\"\"><g class=\"traces\" transform=\"translate(0,32.7)\" style=\"opacity: 1;\"><text class=\"legendtext\" text-anchor=\"start\" x=\"40\" y=\"4.680000000000001\" style=\"font-family: 'Open Sans', verdana, arial, sans-serif; font-size: 12px; fill: rgb(242, 245, 250); fill-opacity: 1; white-space: pre;\">Monday</text><g class=\"layers\" style=\"opacity: 1;\"><g class=\"legendfill\"/><g class=\"legendlines\"/><g class=\"legendsymbols\"><g class=\"legendpoints\"><path class=\"legendundefined\" d=\"M6,6H-6V-6H6Z\" transform=\"translate(20,0)\" style=\"stroke-width: 0.5px; fill: rgb(99, 110, 250); fill-opacity: 1; stroke: rgb(17, 17, 17); stroke-opacity: 1;\"/></g></g></g><rect class=\"legendtoggle\" x=\"0\" y=\"-9.5\" width=\"109.5\" height=\"19\" style=\"fill: rgb(0, 0, 0); fill-opacity: 0;\"/></g></g><g class=\"groups\" transform=\"\"><g class=\"traces\" transform=\"translate(0,51.7)\" style=\"opacity: 1;\"><text class=\"legendtext\" text-anchor=\"start\" x=\"40\" y=\"4.680000000000001\" style=\"font-family: 'Open Sans', verdana, arial, sans-serif; font-size: 12px; fill: rgb(242, 245, 250); fill-opacity: 1; white-space: pre;\">Tuesday</text><g class=\"layers\" style=\"opacity: 1;\"><g class=\"legendfill\"/><g class=\"legendlines\"/><g class=\"legendsymbols\"><g class=\"legendpoints\"><path class=\"legendundefined\" d=\"M6,6H-6V-6H6Z\" transform=\"translate(20,0)\" style=\"stroke-width: 0.5px; fill: rgb(239, 85, 59); fill-opacity: 1; stroke: rgb(17, 17, 17); stroke-opacity: 1;\"/></g></g></g><rect class=\"legendtoggle\" x=\"0\" y=\"-9.5\" width=\"109.5\" height=\"19\" style=\"fill: rgb(0, 0, 0); fill-opacity: 0;\"/></g></g><g class=\"groups\" transform=\"\"><g class=\"traces\" transform=\"translate(0,70.7)\" style=\"opacity: 1;\"><text class=\"legendtext\" text-anchor=\"start\" x=\"40\" y=\"4.680000000000001\" style=\"font-family: 'Open Sans', verdana, arial, sans-serif; font-size: 12px; fill: rgb(242, 245, 250); fill-opacity: 1; white-space: pre;\">Wednesday</text><g class=\"layers\" style=\"opacity: 1;\"><g class=\"legendfill\"/><g class=\"legendlines\"/><g class=\"legendsymbols\"><g class=\"legendpoints\"><path class=\"legendundefined\" d=\"M6,6H-6V-6H6Z\" transform=\"translate(20,0)\" style=\"stroke-width: 0.5px; fill: rgb(0, 204, 150); fill-opacity: 1; stroke: rgb(17, 17, 17); stroke-opacity: 1;\"/></g></g></g><rect class=\"legendtoggle\" x=\"0\" y=\"-9.5\" width=\"109.5\" height=\"19\" style=\"fill: rgb(0, 0, 0); fill-opacity: 0;\"/></g></g><g class=\"groups\" transform=\"\"><g class=\"traces\" transform=\"translate(0,89.7)\" style=\"opacity: 1;\"><text class=\"legendtext\" text-anchor=\"start\" x=\"40\" y=\"4.680000000000001\" style=\"font-family: 'Open Sans', verdana, arial, sans-serif; font-size: 12px; fill: rgb(242, 245, 250); fill-opacity: 1; white-space: pre;\">Thursday</text><g class=\"layers\" style=\"opacity: 1;\"><g class=\"legendfill\"/><g class=\"legendlines\"/><g class=\"legendsymbols\"><g class=\"legendpoints\"><path class=\"legendundefined\" d=\"M6,6H-6V-6H6Z\" transform=\"translate(20,0)\" style=\"stroke-width: 0.5px; fill: rgb(171, 99, 250); fill-opacity: 1; stroke: rgb(17, 17, 17); stroke-opacity: 1;\"/></g></g></g><rect class=\"legendtoggle\" x=\"0\" y=\"-9.5\" width=\"109.5\" height=\"19\" style=\"fill: rgb(0, 0, 0); fill-opacity: 0;\"/></g></g><g class=\"groups\" transform=\"\"><g class=\"traces\" transform=\"translate(0,108.7)\" style=\"opacity: 1;\"><text class=\"legendtext\" text-anchor=\"start\" x=\"40\" y=\"4.680000000000001\" style=\"font-family: 'Open Sans', verdana, arial, sans-serif; font-size: 12px; fill: rgb(242, 245, 250); fill-opacity: 1; white-space: pre;\">Friday</text><g class=\"layers\" style=\"opacity: 1;\"><g class=\"legendfill\"/><g class=\"legendlines\"/><g class=\"legendsymbols\"><g class=\"legendpoints\"><path class=\"legendundefined\" d=\"M6,6H-6V-6H6Z\" transform=\"translate(20,0)\" style=\"stroke-width: 0.5px; fill: rgb(255, 161, 90); fill-opacity: 1; stroke: rgb(17, 17, 17); stroke-opacity: 1;\"/></g></g></g><rect class=\"legendtoggle\" x=\"0\" y=\"-9.5\" width=\"109.5\" height=\"19\" style=\"fill: rgb(0, 0, 0); fill-opacity: 0;\"/></g></g><g class=\"groups\" transform=\"\"><g class=\"traces\" transform=\"translate(0,127.7)\" style=\"opacity: 1;\"><text class=\"legendtext\" text-anchor=\"start\" x=\"40\" y=\"4.680000000000001\" style=\"font-family: 'Open Sans', verdana, arial, sans-serif; font-size: 12px; fill: rgb(242, 245, 250); fill-opacity: 1; white-space: pre;\">Saturday</text><g class=\"layers\" style=\"opacity: 1;\"><g class=\"legendfill\"/><g class=\"legendlines\"/><g class=\"legendsymbols\"><g class=\"legendpoints\"><path class=\"legendundefined\" d=\"M6,6H-6V-6H6Z\" transform=\"translate(20,0)\" style=\"stroke-width: 0.5px; fill: rgb(25, 211, 243); fill-opacity: 1; stroke: rgb(17, 17, 17); stroke-opacity: 1;\"/></g></g></g><rect class=\"legendtoggle\" x=\"0\" y=\"-9.5\" width=\"109.5\" height=\"19\" style=\"fill: rgb(0, 0, 0); fill-opacity: 0;\"/></g></g><g class=\"groups\" transform=\"\"><g class=\"traces\" transform=\"translate(0,146.7)\" style=\"opacity: 1;\"><text class=\"legendtext\" text-anchor=\"start\" x=\"40\" y=\"4.680000000000001\" style=\"font-family: 'Open Sans', verdana, arial, sans-serif; font-size: 12px; fill: rgb(242, 245, 250); fill-opacity: 1; white-space: pre;\">Sunday</text><g class=\"layers\" style=\"opacity: 1;\"><g class=\"legendfill\"/><g class=\"legendlines\"/><g class=\"legendsymbols\"><g class=\"legendpoints\"><path class=\"legendundefined\" d=\"M6,6H-6V-6H6Z\" transform=\"translate(20,0)\" style=\"stroke-width: 0.5px; fill: rgb(255, 102, 146); fill-opacity: 1; stroke: rgb(17, 17, 17); stroke-opacity: 1;\"/></g></g></g><rect class=\"legendtoggle\" x=\"0\" y=\"-9.5\" width=\"109.5\" height=\"19\" style=\"fill: rgb(0, 0, 0); fill-opacity: 0;\"/></g></g></g><rect class=\"scrollbar\" rx=\"20\" ry=\"3\" width=\"0\" height=\"0\" style=\"fill: rgb(128, 139, 164); fill-opacity: 1;\" x=\"0\" y=\"0\"/></g><g class=\"g-gtitle\"><text class=\"gtitle\" x=\"35\" y=\"50\" text-anchor=\"start\" dy=\"0em\" style=\"font-family: 'Open Sans', verdana, arial, sans-serif; font-size: 17px; fill: rgb(242, 245, 250); opacity: 1; font-weight: normal; white-space: pre;\">Количество заказов по дням</text></g><g class=\"g-xtitle\"><text class=\"xtitle\" x=\"321.5\" y=\"460.8\" text-anchor=\"middle\" style=\"font-family: 'Open Sans', verdana, arial, sans-serif; font-size: 14px; fill: rgb(242, 245, 250); opacity: 1; font-weight: normal; white-space: pre;\">День</text></g><g class=\"g-ytitle\"><text class=\"ytitle\" transform=\"rotate(-90,31.309375000000003,260)\" x=\"31.309375000000003\" y=\"260\" text-anchor=\"middle\" style=\"font-family: 'Open Sans', verdana, arial, sans-serif; font-size: 14px; fill: rgb(242, 245, 250); opacity: 1; font-weight: normal; white-space: pre;\">Количество заказов</text></g></g></svg>"
      ]
     },
     "metadata": {},
     "output_type": "display_data"
    },
    {
     "name": "stdout",
     "output_type": "stream",
     "text": [
      "По графику понятно, что в будние дни заказов больше, с пятницы их число снижается, в субботу мы видим самый низкий уровень.\n"
     ]
    }
   ],
   "source": [
    "fig.update_layout(xaxis_title='День',\n",
    "                  yaxis_title='Количество заказов')\n",
    "fig.show()\n",
    "print(\"По графику понятно, что в будние дни заказов больше, с пятницы их число снижается, в субботу мы видим самый низкий уровень.\")"
   ]
  },
  {
   "cell_type": "code",
   "execution_count": 24,
   "id": "e35f3413",
   "metadata": {},
   "outputs": [],
   "source": [
    "hour_orders = data.pivot_table(index='hour',\n",
    "                               values='order_id',\n",
    "                               aggfunc='nunique').reset_index().sort_values('hour')"
   ]
  },
  {
   "cell_type": "code",
   "execution_count": 25,
   "id": "9524e89a",
   "metadata": {},
   "outputs": [
    {
     "data": {
      "image/svg+xml": [
       "<svg class=\"main-svg\" xmlns=\"http://www.w3.org/2000/svg\" xmlns:xlink=\"http://www.w3.org/1999/xlink\" width=\"1050\" height=\"750\" style=\"\" viewBox=\"0 0 700 500\"><rect x=\"0\" y=\"0\" width=\"700\" height=\"500\" style=\"fill: rgb(17, 17, 17); fill-opacity: 1;\"/><defs id=\"defs-ba6239\"><g class=\"clips\"><clipPath id=\"clipba6239xyplot\" class=\"plotclip\"><rect width=\"540\" height=\"320\"/></clipPath><clipPath class=\"axesclip\" id=\"clipba6239x\"><rect x=\"80\" y=\"0\" width=\"540\" height=\"500\"/></clipPath><clipPath class=\"axesclip\" id=\"clipba6239y\"><rect x=\"0\" y=\"100\" width=\"700\" height=\"320\"/></clipPath><clipPath class=\"axesclip\" id=\"clipba6239xy\"><rect x=\"80\" y=\"100\" width=\"540\" height=\"320\"/></clipPath></g><g class=\"gradients\"/><g class=\"patterns\"/></defs><g class=\"bglayer\"/><g class=\"layer-below\"><g class=\"imagelayer\"/><g class=\"shapelayer\"/></g><g class=\"cartesianlayer\"><g class=\"subplot xy\"><g class=\"layer-subplot\"><g class=\"shapelayer\"/><g class=\"imagelayer\"/></g><g class=\"minor-gridlayer\"><g class=\"x\"/><g class=\"y\"/></g><g class=\"gridlayer\"><g class=\"x\"/><g class=\"y\"><path class=\"ygrid crisp\" transform=\"translate(0,365.71)\" d=\"M80,0h540\" style=\"stroke: rgb(40, 52, 66); stroke-opacity: 1; stroke-width: 1px;\"/><path class=\"ygrid crisp\" transform=\"translate(0,311.43)\" d=\"M80,0h540\" style=\"stroke: rgb(40, 52, 66); stroke-opacity: 1; stroke-width: 1px;\"/><path class=\"ygrid crisp\" transform=\"translate(0,257.14)\" d=\"M80,0h540\" style=\"stroke: rgb(40, 52, 66); stroke-opacity: 1; stroke-width: 1px;\"/><path class=\"ygrid crisp\" transform=\"translate(0,202.86)\" d=\"M80,0h540\" style=\"stroke: rgb(40, 52, 66); stroke-opacity: 1; stroke-width: 1px;\"/><path class=\"ygrid crisp\" transform=\"translate(0,148.57)\" d=\"M80,0h540\" style=\"stroke: rgb(40, 52, 66); stroke-opacity: 1; stroke-width: 1px;\"/></g></g><g class=\"zerolinelayer\"><path class=\"yzl zl crisp\" transform=\"translate(0,420)\" d=\"M80,0h540\" style=\"stroke: rgb(40, 52, 66); stroke-opacity: 1; stroke-width: 2px;\"/></g><path class=\"xlines-below\"/><path class=\"ylines-below\"/><g class=\"overlines-below\"/><g class=\"xaxislayer-below\"/><g class=\"yaxislayer-below\"/><g class=\"overaxes-below\"/><g class=\"plot\" transform=\"translate(80,100)\" clip-path=\"url(#clipba6239xyplot)\"><g class=\"barlayer mlayer\"><g class=\"trace bars\" style=\"opacity: 1;\"><g class=\"points\"><g class=\"point\"><path d=\"M2.25,320V258.11H20.25V320Z\" style=\"vector-effect: non-scaling-stroke; opacity: 1; stroke-width: 0.5px; fill: rgb(99, 110, 250); fill-opacity: 1; stroke: rgb(17, 17, 17); stroke-opacity: 1;\"/></g><g class=\"point\"><path d=\"M24.75,320V285.26H42.75V320Z\" style=\"vector-effect: non-scaling-stroke; opacity: 1; stroke-width: 0.5px; fill: rgb(99, 110, 250); fill-opacity: 1; stroke: rgb(17, 17, 17); stroke-opacity: 1;\"/></g><g class=\"point\"><path d=\"M47.25,320V293.94H65.25V320Z\" style=\"vector-effect: non-scaling-stroke; opacity: 1; stroke-width: 0.5px; fill: rgb(99, 110, 250); fill-opacity: 1; stroke: rgb(17, 17, 17); stroke-opacity: 1;\"/></g><g class=\"point\"><path d=\"M69.75,320V308.06H87.75V320Z\" style=\"vector-effect: non-scaling-stroke; opacity: 1; stroke-width: 0.5px; fill: rgb(99, 110, 250); fill-opacity: 1; stroke: rgb(17, 17, 17); stroke-opacity: 1;\"/></g><g class=\"point\"><path d=\"M92.25,320V296.11H110.25V320Z\" style=\"vector-effect: non-scaling-stroke; opacity: 1; stroke-width: 0.5px; fill: rgb(99, 110, 250); fill-opacity: 1; stroke: rgb(17, 17, 17); stroke-opacity: 1;\"/></g><g class=\"point\"><path d=\"M114.75,320V295.03H132.75V320Z\" style=\"vector-effect: non-scaling-stroke; opacity: 1; stroke-width: 0.5px; fill: rgb(99, 110, 250); fill-opacity: 1; stroke: rgb(17, 17, 17); stroke-opacity: 1;\"/></g><g class=\"point\"><path d=\"M137.25,320V278.74H155.25V320Z\" style=\"vector-effect: non-scaling-stroke; opacity: 1; stroke-width: 0.5px; fill: rgb(99, 110, 250); fill-opacity: 1; stroke: rgb(17, 17, 17); stroke-opacity: 1;\"/></g><g class=\"point\"><path d=\"M159.75,320V239.66H177.75V320Z\" style=\"vector-effect: non-scaling-stroke; opacity: 1; stroke-width: 0.5px; fill: rgb(99, 110, 250); fill-opacity: 1; stroke: rgb(17, 17, 17); stroke-opacity: 1;\"/></g><g class=\"point\"><path d=\"M182.25,320V160.4H200.25V320Z\" style=\"vector-effect: non-scaling-stroke; opacity: 1; stroke-width: 0.5px; fill: rgb(99, 110, 250); fill-opacity: 1; stroke: rgb(17, 17, 17); stroke-opacity: 1;\"/></g><g class=\"point\"><path d=\"M204.75,320V99.6H222.75V320Z\" style=\"vector-effect: non-scaling-stroke; opacity: 1; stroke-width: 0.5px; fill: rgb(99, 110, 250); fill-opacity: 1; stroke: rgb(17, 17, 17); stroke-opacity: 1;\"/></g><g class=\"point\"><path d=\"M227.25,320V42.06H245.25V320Z\" style=\"vector-effect: non-scaling-stroke; opacity: 1; stroke-width: 0.5px; fill: rgb(99, 110, 250); fill-opacity: 1; stroke: rgb(17, 17, 17); stroke-opacity: 1;\"/></g><g class=\"point\"><path d=\"M249.75,320V16H267.75V320Z\" style=\"vector-effect: non-scaling-stroke; opacity: 1; stroke-width: 0.5px; fill: rgb(99, 110, 250); fill-opacity: 1; stroke: rgb(17, 17, 17); stroke-opacity: 1;\"/></g><g class=\"point\"><path d=\"M272.25,320V34.46H290.25V320Z\" style=\"vector-effect: non-scaling-stroke; opacity: 1; stroke-width: 0.5px; fill: rgb(99, 110, 250); fill-opacity: 1; stroke: rgb(17, 17, 17); stroke-opacity: 1;\"/></g><g class=\"point\"><path d=\"M294.75,320V36.63H312.75V320Z\" style=\"vector-effect: non-scaling-stroke; opacity: 1; stroke-width: 0.5px; fill: rgb(99, 110, 250); fill-opacity: 1; stroke: rgb(17, 17, 17); stroke-opacity: 1;\"/></g><g class=\"point\"><path d=\"M317.25,320V52.91H335.25V320Z\" style=\"vector-effect: non-scaling-stroke; opacity: 1; stroke-width: 0.5px; fill: rgb(99, 110, 250); fill-opacity: 1; stroke: rgb(17, 17, 17); stroke-opacity: 1;\"/></g><g class=\"point\"><path d=\"M339.75,320V63.77H357.75V320Z\" style=\"vector-effect: non-scaling-stroke; opacity: 1; stroke-width: 0.5px; fill: rgb(99, 110, 250); fill-opacity: 1; stroke: rgb(17, 17, 17); stroke-opacity: 1;\"/></g><g class=\"point\"><path d=\"M362.25,320V106.11H380.25V320Z\" style=\"vector-effect: non-scaling-stroke; opacity: 1; stroke-width: 0.5px; fill: rgb(99, 110, 250); fill-opacity: 1; stroke: rgb(17, 17, 17); stroke-opacity: 1;\"/></g><g class=\"point\"><path d=\"M384.75,320V118.06H402.75V320Z\" style=\"vector-effect: non-scaling-stroke; opacity: 1; stroke-width: 0.5px; fill: rgb(99, 110, 250); fill-opacity: 1; stroke: rgb(17, 17, 17); stroke-opacity: 1;\"/></g><g class=\"point\"><path d=\"M407.25,320V151.71H425.25V320Z\" style=\"vector-effect: non-scaling-stroke; opacity: 1; stroke-width: 0.5px; fill: rgb(99, 110, 250); fill-opacity: 1; stroke: rgb(17, 17, 17); stroke-opacity: 1;\"/></g><g class=\"point\"><path d=\"M429.75,320V146.29H447.75V320Z\" style=\"vector-effect: non-scaling-stroke; opacity: 1; stroke-width: 0.5px; fill: rgb(99, 110, 250); fill-opacity: 1; stroke: rgb(17, 17, 17); stroke-opacity: 1;\"/></g><g class=\"point\"><path d=\"M452.25,320V162.57H470.25V320Z\" style=\"vector-effect: non-scaling-stroke; opacity: 1; stroke-width: 0.5px; fill: rgb(99, 110, 250); fill-opacity: 1; stroke: rgb(17, 17, 17); stroke-opacity: 1;\"/></g><g class=\"point\"><path d=\"M474.75,320V136.51H492.75V320Z\" style=\"vector-effect: non-scaling-stroke; opacity: 1; stroke-width: 0.5px; fill: rgb(99, 110, 250); fill-opacity: 1; stroke: rgb(17, 17, 17); stroke-opacity: 1;\"/></g><g class=\"point\"><path d=\"M497.25,320V173.43H515.25V320Z\" style=\"vector-effect: non-scaling-stroke; opacity: 1; stroke-width: 0.5px; fill: rgb(99, 110, 250); fill-opacity: 1; stroke: rgb(17, 17, 17); stroke-opacity: 1;\"/></g><g class=\"point\"><path d=\"M519.75,320V204.91H537.75V320Z\" style=\"vector-effect: non-scaling-stroke; opacity: 1; stroke-width: 0.5px; fill: rgb(99, 110, 250); fill-opacity: 1; stroke: rgb(17, 17, 17); stroke-opacity: 1;\"/></g></g></g></g></g><g class=\"overplot\"/><path class=\"xlines-above crisp\" d=\"M0,0\" style=\"fill: none;\"/><path class=\"ylines-above crisp\" d=\"M0,0\" style=\"fill: none;\"/><g class=\"overlines-above\"/><g class=\"xaxislayer-above\"><g class=\"xtick\"><text text-anchor=\"middle\" x=\"0\" y=\"433\" transform=\"translate(91.25,0)\" style=\"font-family: 'Open Sans', verdana, arial, sans-serif; font-size: 12px; fill: rgb(242, 245, 250); fill-opacity: 1; white-space: pre; opacity: 1;\">0</text></g><g class=\"xtick\"><text text-anchor=\"middle\" x=\"0\" y=\"433\" style=\"font-family: 'Open Sans', verdana, arial, sans-serif; font-size: 12px; fill: rgb(242, 245, 250); fill-opacity: 1; white-space: pre; opacity: 1;\" transform=\"translate(113.75,0)\">1</text></g><g class=\"xtick\"><text text-anchor=\"middle\" x=\"0\" y=\"433\" style=\"font-family: 'Open Sans', verdana, arial, sans-serif; font-size: 12px; fill: rgb(242, 245, 250); fill-opacity: 1; white-space: pre; opacity: 1;\" transform=\"translate(136.25,0)\">2</text></g><g class=\"xtick\"><text text-anchor=\"middle\" x=\"0\" y=\"433\" style=\"font-family: 'Open Sans', verdana, arial, sans-serif; font-size: 12px; fill: rgb(242, 245, 250); fill-opacity: 1; white-space: pre; opacity: 1;\" transform=\"translate(158.75,0)\">3</text></g><g class=\"xtick\"><text text-anchor=\"middle\" x=\"0\" y=\"433\" style=\"font-family: 'Open Sans', verdana, arial, sans-serif; font-size: 12px; fill: rgb(242, 245, 250); fill-opacity: 1; white-space: pre; opacity: 1;\" transform=\"translate(181.25,0)\">4</text></g><g class=\"xtick\"><text text-anchor=\"middle\" x=\"0\" y=\"433\" style=\"font-family: 'Open Sans', verdana, arial, sans-serif; font-size: 12px; fill: rgb(242, 245, 250); fill-opacity: 1; white-space: pre; opacity: 1;\" transform=\"translate(203.75,0)\">5</text></g><g class=\"xtick\"><text text-anchor=\"middle\" x=\"0\" y=\"433\" style=\"font-family: 'Open Sans', verdana, arial, sans-serif; font-size: 12px; fill: rgb(242, 245, 250); fill-opacity: 1; white-space: pre; opacity: 1;\" transform=\"translate(226.25,0)\">6</text></g><g class=\"xtick\"><text text-anchor=\"middle\" x=\"0\" y=\"433\" style=\"font-family: 'Open Sans', verdana, arial, sans-serif; font-size: 12px; fill: rgb(242, 245, 250); fill-opacity: 1; white-space: pre; opacity: 1;\" transform=\"translate(248.75,0)\">7</text></g><g class=\"xtick\"><text text-anchor=\"middle\" x=\"0\" y=\"433\" style=\"font-family: 'Open Sans', verdana, arial, sans-serif; font-size: 12px; fill: rgb(242, 245, 250); fill-opacity: 1; white-space: pre; opacity: 1;\" transform=\"translate(271.25,0)\">8</text></g><g class=\"xtick\"><text text-anchor=\"middle\" x=\"0\" y=\"433\" style=\"font-family: 'Open Sans', verdana, arial, sans-serif; font-size: 12px; fill: rgb(242, 245, 250); fill-opacity: 1; white-space: pre; opacity: 1;\" transform=\"translate(293.75,0)\">9</text></g><g class=\"xtick\"><text text-anchor=\"middle\" x=\"0\" y=\"433\" style=\"font-family: 'Open Sans', verdana, arial, sans-serif; font-size: 12px; fill: rgb(242, 245, 250); fill-opacity: 1; white-space: pre; opacity: 1;\" transform=\"translate(316.25,0)\">10</text></g><g class=\"xtick\"><text text-anchor=\"middle\" x=\"0\" y=\"433\" style=\"font-family: 'Open Sans', verdana, arial, sans-serif; font-size: 12px; fill: rgb(242, 245, 250); fill-opacity: 1; white-space: pre; opacity: 1;\" transform=\"translate(338.75,0)\">11</text></g><g class=\"xtick\"><text text-anchor=\"middle\" x=\"0\" y=\"433\" style=\"font-family: 'Open Sans', verdana, arial, sans-serif; font-size: 12px; fill: rgb(242, 245, 250); fill-opacity: 1; white-space: pre; opacity: 1;\" transform=\"translate(361.25,0)\">12</text></g><g class=\"xtick\"><text text-anchor=\"middle\" x=\"0\" y=\"433\" style=\"font-family: 'Open Sans', verdana, arial, sans-serif; font-size: 12px; fill: rgb(242, 245, 250); fill-opacity: 1; white-space: pre; opacity: 1;\" transform=\"translate(383.75,0)\">13</text></g><g class=\"xtick\"><text text-anchor=\"middle\" x=\"0\" y=\"433\" style=\"font-family: 'Open Sans', verdana, arial, sans-serif; font-size: 12px; fill: rgb(242, 245, 250); fill-opacity: 1; white-space: pre; opacity: 1;\" transform=\"translate(406.25,0)\">14</text></g><g class=\"xtick\"><text text-anchor=\"middle\" x=\"0\" y=\"433\" style=\"font-family: 'Open Sans', verdana, arial, sans-serif; font-size: 12px; fill: rgb(242, 245, 250); fill-opacity: 1; white-space: pre; opacity: 1;\" transform=\"translate(428.75,0)\">15</text></g><g class=\"xtick\"><text text-anchor=\"middle\" x=\"0\" y=\"433\" style=\"font-family: 'Open Sans', verdana, arial, sans-serif; font-size: 12px; fill: rgb(242, 245, 250); fill-opacity: 1; white-space: pre; opacity: 1;\" transform=\"translate(451.25,0)\">16</text></g><g class=\"xtick\"><text text-anchor=\"middle\" x=\"0\" y=\"433\" style=\"font-family: 'Open Sans', verdana, arial, sans-serif; font-size: 12px; fill: rgb(242, 245, 250); fill-opacity: 1; white-space: pre; opacity: 1;\" transform=\"translate(473.75,0)\">17</text></g><g class=\"xtick\"><text text-anchor=\"middle\" x=\"0\" y=\"433\" style=\"font-family: 'Open Sans', verdana, arial, sans-serif; font-size: 12px; fill: rgb(242, 245, 250); fill-opacity: 1; white-space: pre; opacity: 1;\" transform=\"translate(496.25,0)\">18</text></g><g class=\"xtick\"><text text-anchor=\"middle\" x=\"0\" y=\"433\" style=\"font-family: 'Open Sans', verdana, arial, sans-serif; font-size: 12px; fill: rgb(242, 245, 250); fill-opacity: 1; white-space: pre; opacity: 1;\" transform=\"translate(518.75,0)\">19</text></g><g class=\"xtick\"><text text-anchor=\"middle\" x=\"0\" y=\"433\" style=\"font-family: 'Open Sans', verdana, arial, sans-serif; font-size: 12px; fill: rgb(242, 245, 250); fill-opacity: 1; white-space: pre; opacity: 1;\" transform=\"translate(541.25,0)\">20</text></g><g class=\"xtick\"><text text-anchor=\"middle\" x=\"0\" y=\"433\" style=\"font-family: 'Open Sans', verdana, arial, sans-serif; font-size: 12px; fill: rgb(242, 245, 250); fill-opacity: 1; white-space: pre; opacity: 1;\" transform=\"translate(563.75,0)\">21</text></g><g class=\"xtick\"><text text-anchor=\"middle\" x=\"0\" y=\"433\" style=\"font-family: 'Open Sans', verdana, arial, sans-serif; font-size: 12px; fill: rgb(242, 245, 250); fill-opacity: 1; white-space: pre; opacity: 1;\" transform=\"translate(586.25,0)\">22</text></g><g class=\"xtick\"><text text-anchor=\"middle\" x=\"0\" y=\"433\" style=\"font-family: 'Open Sans', verdana, arial, sans-serif; font-size: 12px; fill: rgb(242, 245, 250); fill-opacity: 1; white-space: pre; opacity: 1;\" transform=\"translate(608.75,0)\">23</text></g></g><g class=\"yaxislayer-above\"><g class=\"ytick\"><text text-anchor=\"end\" x=\"79\" y=\"4.199999999999999\" transform=\"translate(0,420)\" style=\"font-family: 'Open Sans', verdana, arial, sans-serif; font-size: 12px; fill: rgb(242, 245, 250); fill-opacity: 1; white-space: pre; opacity: 1;\">0</text></g><g class=\"ytick\"><text text-anchor=\"end\" x=\"79\" y=\"4.199999999999999\" style=\"font-family: 'Open Sans', verdana, arial, sans-serif; font-size: 12px; fill: rgb(242, 245, 250); fill-opacity: 1; white-space: pre; opacity: 1;\" transform=\"translate(0,365.71)\">50</text></g><g class=\"ytick\"><text text-anchor=\"end\" x=\"79\" y=\"4.199999999999999\" style=\"font-family: 'Open Sans', verdana, arial, sans-serif; font-size: 12px; fill: rgb(242, 245, 250); fill-opacity: 1; white-space: pre; opacity: 1;\" transform=\"translate(0,311.43)\">100</text></g><g class=\"ytick\"><text text-anchor=\"end\" x=\"79\" y=\"4.199999999999999\" style=\"font-family: 'Open Sans', verdana, arial, sans-serif; font-size: 12px; fill: rgb(242, 245, 250); fill-opacity: 1; white-space: pre; opacity: 1;\" transform=\"translate(0,257.14)\">150</text></g><g class=\"ytick\"><text text-anchor=\"end\" x=\"79\" y=\"4.199999999999999\" style=\"font-family: 'Open Sans', verdana, arial, sans-serif; font-size: 12px; fill: rgb(242, 245, 250); fill-opacity: 1; white-space: pre; opacity: 1;\" transform=\"translate(0,202.86)\">200</text></g><g class=\"ytick\"><text text-anchor=\"end\" x=\"79\" y=\"4.199999999999999\" style=\"font-family: 'Open Sans', verdana, arial, sans-serif; font-size: 12px; fill: rgb(242, 245, 250); fill-opacity: 1; white-space: pre; opacity: 1;\" transform=\"translate(0,148.57)\">250</text></g></g><g class=\"overaxes-above\"/></g></g><g class=\"polarlayer\"/><g class=\"smithlayer\"/><g class=\"ternarylayer\"/><g class=\"geolayer\"/><g class=\"funnelarealayer\"/><g class=\"pielayer\"/><g class=\"iciclelayer\"/><g class=\"treemaplayer\"/><g class=\"sunburstlayer\"/><g class=\"glimages\"/><defs id=\"topdefs-ba6239\"><g class=\"clips\"/></defs><g class=\"layer-above\"><g class=\"imagelayer\"/><g class=\"shapelayer\"/></g><g class=\"infolayer\"><g class=\"g-gtitle\"><text class=\"gtitle\" x=\"35\" y=\"50\" text-anchor=\"start\" dy=\"0em\" style=\"font-family: 'Open Sans', verdana, arial, sans-serif; font-size: 17px; fill: rgb(242, 245, 250); opacity: 1; font-weight: normal; white-space: pre;\">Количество заказов по часам</text></g><g class=\"g-xtitle\"><text class=\"xtitle\" x=\"350\" y=\"460.8\" text-anchor=\"middle\" style=\"font-family: 'Open Sans', verdana, arial, sans-serif; font-size: 14px; fill: rgb(242, 245, 250); opacity: 1; font-weight: normal; white-space: pre;\">Час</text></g><g class=\"g-ytitle\"><text class=\"ytitle\" transform=\"rotate(-90,31.309375000000003,260)\" x=\"31.309375000000003\" y=\"260\" text-anchor=\"middle\" style=\"font-family: 'Open Sans', verdana, arial, sans-serif; font-size: 14px; fill: rgb(242, 245, 250); opacity: 1; font-weight: normal; white-space: pre;\">Количество заказов</text></g></g></svg>"
      ]
     },
     "metadata": {},
     "output_type": "display_data"
    }
   ],
   "source": [
    "fig = px.bar(hour_orders,\n",
    "             x='hour',\n",
    "             y='order_id',\n",
    "             title='Количество заказов по часам',\n",
    "             template='plotly_dark')\n",
    "fig.update_layout(xaxis_title='Час',\n",
    "                  yaxis_title='Количество заказов',\n",
    "                  xaxis=dict(\n",
    "                      tickmode='array',\n",
    "                      tickvals=[0, 1, 2, 3, 4, 5, 6, 7, 8, 9, 10, 11, 12, 13, 14, 15, 16, 17, 18, 19, 20, 21, 22, 23])\n",
    "                  )\n",
    "fig.show()"
   ]
  },
  {
   "cell_type": "markdown",
   "id": "02289213",
   "metadata": {},
   "source": [
    "Меньше всего заказов в 3 часа ночи. Показатель медленно растет до 7 утра, а в 8 резко увеличивается в 2 раза до 150. Пик количества заказов приходится на 11 часов дня - 280 заказов, после он медленно снижается, в 16 часов опускается ниже 200. В 21 час небольшой скачок до 180 и к 23 часу показатель достигает 100. "
   ]
  },
  {
   "cell_type": "markdown",
   "id": "3f94f874",
   "metadata": {},
   "source": [
    "### Основной и дополнительный ассортимент\n",
    "Начнем АВС-анализ. Для этого сначала нам нужно определить процент от выручки, который приносит каждая позиция.\n",
    "Нужно разделить выручку по товару на общую выручку компании и умножить на 100%.\")\n",
    "считаем процент для каждого заказа от общей выручки"
   ]
  },
  {
   "cell_type": "code",
   "execution_count": 26,
   "id": "7c46eaee",
   "metadata": {},
   "outputs": [],
   "source": [
    "data['percent_of_revenue'] = (data['revenue'] / data['revenue'].sum()) * 100"
   ]
  },
  {
   "cell_type": "markdown",
   "id": "752cd0ca",
   "metadata": {},
   "source": [
    "Распределяем все товары по убыванию этого процента"
   ]
  },
  {
   "cell_type": "code",
   "execution_count": 27,
   "id": "7c114230",
   "metadata": {},
   "outputs": [
    {
     "name": "stdout",
     "output_type": "stream",
     "text": [
      "                                             product  percent_of_revenue\n",
      "0         сумка-тележка 2-х колесная gimi argo синяя            1.437452\n",
      "1  сумка-тележка хозяйственная andersen scala sho...            0.799788\n",
      "2                     сушилка meliconi stendy junior            0.797649\n",
      "3  мусорный контейнер hailo bigbin swing 45 0845-...            0.785957\n",
      "4  урна уличная гео, hobbyka/хоббика, 59*37,5см, ...            0.694985\n"
     ]
    }
   ],
   "source": [
    "percent_of_revenue_df = data.pivot_table(index='product',\n",
    "                                         values='percent_of_revenue',\n",
    "                                         aggfunc='sum').sort_values(by='percent_of_revenue',\n",
    "                                                                    ascending=False).reset_index()\n",
    "print(percent_of_revenue_df.head())"
   ]
  },
  {
   "cell_type": "markdown",
   "id": "f4e02d48",
   "metadata": {},
   "source": [
    "Рассчитываем по каждой строке долю выручки нарастающим итогом, начиная с тех товаров, которые дают самый существенный вклад."
   ]
  },
  {
   "cell_type": "code",
   "execution_count": 28,
   "id": "73b2aee6",
   "metadata": {
    "lines_to_next_cell": 2
   },
   "outputs": [
    {
     "name": "stdout",
     "output_type": "stream",
     "text": [
      "                                             product  percent_of_revenue  \\\n",
      "0         сумка-тележка 2-х колесная gimi argo синяя            1.437452   \n",
      "1  сумка-тележка хозяйственная andersen scala sho...            0.799788   \n",
      "2                     сушилка meliconi stendy junior            0.797649   \n",
      "3  мусорный контейнер hailo bigbin swing 45 0845-...            0.785957   \n",
      "4  урна уличная гео, hobbyka/хоббика, 59*37,5см, ...            0.694985   \n",
      "\n",
      "   cumulative_percent  \n",
      "0            1.437452  \n",
      "1            2.237240  \n",
      "2            3.034889  \n",
      "3            3.820846  \n",
      "4            4.515831  \n"
     ]
    }
   ],
   "source": [
    "percent_of_revenue_df['cumulative_percent'] = percent_of_revenue_df['percent_of_revenue'].cumsum()\n",
    "print(percent_of_revenue_df.head())"
   ]
  },
  {
   "cell_type": "markdown",
   "id": "ecd5ef1d",
   "metadata": {
    "lines_to_next_cell": 2
   },
   "source": [
    "Разбиваем все товары на три группы:\n",
    "А — дают 80% выручки;\n",
    "В — формируют 15% выручки;\n",
    "С — дополняют оставшиеся 5%."
   ]
  },
  {
   "cell_type": "code",
   "execution_count": 29,
   "id": "8dcd543b",
   "metadata": {},
   "outputs": [],
   "source": [
    "def abc_group(percent):\n",
    "    if 0 < percent <= 80:\n",
    "        return 'A'\n",
    "    elif 80 < percent < 95:\n",
    "        return 'B'\n",
    "    else:\n",
    "        return 'C'"
   ]
  },
  {
   "cell_type": "code",
   "execution_count": 30,
   "id": "aa0515b0",
   "metadata": {},
   "outputs": [
    {
     "name": "stdout",
     "output_type": "stream",
     "text": [
      "                                             product  percent_of_revenue  \\\n",
      "0         сумка-тележка 2-х колесная gimi argo синяя            1.437452   \n",
      "1  сумка-тележка хозяйственная andersen scala sho...            0.799788   \n",
      "2                     сушилка meliconi stendy junior            0.797649   \n",
      "3  мусорный контейнер hailo bigbin swing 45 0845-...            0.785957   \n",
      "4  урна уличная гео, hobbyka/хоббика, 59*37,5см, ...            0.694985   \n",
      "\n",
      "   cumulative_percent revenue_group  \n",
      "0            1.437452             A  \n",
      "1            2.237240             A  \n",
      "2            3.034889             A  \n",
      "3            3.820846             A  \n",
      "4            4.515831             A  \n"
     ]
    }
   ],
   "source": [
    "percent_of_revenue_df['revenue_group'] = percent_of_revenue_df['cumulative_percent'].apply(abc_group)\n",
    "print(percent_of_revenue_df.head())"
   ]
  },
  {
   "cell_type": "markdown",
   "id": "821c8504",
   "metadata": {},
   "source": [
    "Теперь то же самое делаем по отношению к количеству проданного товара"
   ]
  },
  {
   "cell_type": "code",
   "execution_count": 31,
   "id": "823c6ca6",
   "metadata": {},
   "outputs": [],
   "source": [
    "quantity_products_df = data.pivot_table(index='product',\n",
    "                                        values='quantity',\n",
    "                                        aggfunc='sum').sort_values(by='quantity', ascending=False).reset_index()"
   ]
  },
  {
   "cell_type": "code",
   "execution_count": 32,
   "id": "d6264197",
   "metadata": {},
   "outputs": [
    {
     "name": "stdout",
     "output_type": "stream",
     "text": [
      "                                             product  quantity  perc_of_sales  \\\n",
      "0  пеларгония розебудная red pandora укорененный ...        80       0.933162   \n",
      "1  пеларгония зональная диам. 12 см сиреневый пол...        64       0.746530   \n",
      "2  пеларгония зональная диам. 12 см красная махровая        63       0.734865   \n",
      "3  пеларгония розебудная prins nikolai укорененны...        61       0.711536   \n",
      "4  цветок искусственный гвоздика пластиковая один...        51       0.594891   \n",
      "\n",
      "   quantity_cum_percent quantity_group  \n",
      "0              0.933162              A  \n",
      "1              1.679692              A  \n",
      "2              2.414557              A  \n",
      "3              3.126094              A  \n",
      "4              3.720984              A  \n"
     ]
    }
   ],
   "source": [
    "quantity_products_df.columns = ['product', 'quantity']\n",
    "quantity_products_df['perc_of_sales'] = quantity_products_df['quantity'] / quantity_products_df['quantity'].sum() * 100\n",
    "quantity_products_df['quantity_cum_percent'] = quantity_products_df['perc_of_sales'].cumsum()\n",
    "quantity_products_df['quantity_group'] = quantity_products_df['quantity_cum_percent'].apply(abc_group)\n",
    "print(quantity_products_df.head())"
   ]
  },
  {
   "cell_type": "markdown",
   "id": "cc1df09a",
   "metadata": {},
   "source": [
    "Объединяем таблицы, чтобы получить категории для каждого продукта и разделить его дальше на основной и дополнительный"
   ]
  },
  {
   "cell_type": "code",
   "execution_count": 33,
   "id": "75bd43eb",
   "metadata": {},
   "outputs": [],
   "source": [
    "merge_groups_df = percent_of_revenue_df.merge(quantity_products_df,\n",
    "                                              on='product',\n",
    "                                              how='left').sort_values(['revenue_group', 'quantity_group'])"
   ]
  },
  {
   "cell_type": "code",
   "execution_count": 34,
   "id": "d8f591c2",
   "metadata": {},
   "outputs": [
    {
     "name": "stdout",
     "output_type": "stream",
     "text": [
      "  revenue_group quantity_group\n",
      "0             A              A\n",
      "1             A              A\n",
      "2             A              A\n",
      "3             A              A\n",
      "4             A              A\n"
     ]
    }
   ],
   "source": [
    "print(merge_groups_df[['revenue_group', 'quantity_group']].head())"
   ]
  },
  {
   "cell_type": "code",
   "execution_count": 35,
   "id": "e8973e5a",
   "metadata": {},
   "outputs": [],
   "source": [
    "# функция для определения товара в группу основного или дополнительного\n",
    "def assortment_group(groups):\n",
    "    if groups['revenue_group'] != 'C' and groups['quantity_group'] != 'C':\n",
    "        return \"основной\"\n",
    "    else:\n",
    "        return \"дополнительный\""
   ]
  },
  {
   "cell_type": "code",
   "execution_count": 36,
   "id": "91cf1e24",
   "metadata": {},
   "outputs": [
    {
     "name": "stdout",
     "output_type": "stream",
     "text": [
      "  revenue_group quantity_group assort_group\n",
      "0             A              A     основной\n",
      "1             A              A     основной\n",
      "2             A              A     основной\n",
      "3             A              A     основной\n",
      "4             A              A     основной\n"
     ]
    }
   ],
   "source": [
    "merge_groups_df['assort_group'] = merge_groups_df.apply(assortment_group, axis=1)\n",
    "print(merge_groups_df[['revenue_group', 'quantity_group', 'assort_group']].head())"
   ]
  },
  {
   "cell_type": "code",
   "execution_count": 37,
   "id": "f3b148a7",
   "metadata": {},
   "outputs": [
    {
     "data": {
      "image/svg+xml": [
       "<svg class=\"main-svg\" xmlns=\"http://www.w3.org/2000/svg\" xmlns:xlink=\"http://www.w3.org/1999/xlink\" width=\"1050\" height=\"750\" style=\"\" viewBox=\"0 0 700 500\"><rect x=\"0\" y=\"0\" width=\"700\" height=\"500\" style=\"fill: rgb(17, 17, 17); fill-opacity: 1;\"/><defs id=\"defs-798d9a\"><g class=\"clips\"/><g class=\"gradients\"/><g class=\"patterns\"/></defs><g class=\"bglayer\"/><g class=\"layer-below\"><g class=\"imagelayer\"/><g class=\"shapelayer\"/></g><g class=\"cartesianlayer\"/><g class=\"polarlayer\"/><g class=\"smithlayer\"/><g class=\"ternarylayer\"/><g class=\"geolayer\"/><g class=\"funnelarealayer\"/><g class=\"pielayer\"><g class=\"trace\" stroke-linejoin=\"round\" style=\"opacity: 1;\"><g class=\"slice\"><path class=\"surface\" d=\"M304,260l0,-160a160,160 0 1 1 -1.748329813387349,319.9904476613014Z\" style=\"pointer-events: all; stroke-width: 0; fill: rgb(171, 99, 250); fill-opacity: 1; stroke: rgb(68, 68, 68); stroke-opacity: 1;\"/><g class=\"slicetext\"><text data-notex=\"1\" class=\"slicetext\" transform=\"translate(383.9597434487517,264.9370889771798)\" text-anchor=\"middle\" x=\"0\" y=\"0\" style=\"font-family: 'Open Sans', verdana, arial, sans-serif; font-size: 12px; fill: rgb(68, 68, 68); fill-opacity: 1; white-space: pre;\">50.2%</text></g></g><g class=\"slice\"><path class=\"surface\" d=\"M304,260l-1.748329813387317,159.9904476613014a160,160 0 0 1 1.748329813387317,-319.9904476613014Z\" style=\"pointer-events: all; stroke-width: 0; fill: rgb(254, 203, 82); fill-opacity: 1; stroke: rgb(68, 68, 68); stroke-opacity: 1;\"/><g class=\"slicetext\"><text data-notex=\"1\" class=\"slicetext\" transform=\"translate(223.9615345300797,264.06290776087934)\" text-anchor=\"middle\" x=\"0\" y=\"0\" style=\"font-family: 'Open Sans', verdana, arial, sans-serif; font-size: 12px; fill: rgb(68, 68, 68); fill-opacity: 1; white-space: pre;\">49.8%</text></g></g></g></g><g class=\"iciclelayer\"/><g class=\"treemaplayer\"/><g class=\"sunburstlayer\"/><g class=\"glimages\"/><defs id=\"topdefs-798d9a\"><g class=\"clips\"/><clipPath id=\"legend798d9a\"><rect width=\"151\" height=\"48\" x=\"0\" y=\"0\"/></clipPath></defs><g class=\"layer-above\"><g class=\"imagelayer\"/><g class=\"shapelayer\"/></g><g class=\"infolayer\"><g class=\"legend\" pointer-events=\"all\" transform=\"translate(536.96,100)\"><rect class=\"bg\" shape-rendering=\"crispEdges\" style=\"stroke: rgb(68, 68, 68); stroke-opacity: 1; fill: rgb(17, 17, 17); fill-opacity: 1; stroke-width: 0px;\" width=\"151\" height=\"48\" x=\"0\" y=\"0\"/><g class=\"scrollbox\" transform=\"\" clip-path=\"url(#legend798d9a)\"><g class=\"groups\"><g class=\"traces\" transform=\"translate(0,14.5)\" style=\"opacity: 1;\"><text class=\"legendtext\" text-anchor=\"start\" x=\"40\" y=\"4.680000000000001\" style=\"font-family: 'Open Sans', verdana, arial, sans-serif; font-size: 12px; fill: rgb(242, 245, 250); fill-opacity: 1; white-space: pre;\">основной</text><g class=\"layers\" style=\"opacity: 1;\"><g class=\"legendfill\"/><g class=\"legendlines\"/><g class=\"legendsymbols\"><g class=\"legendpoints\"><path class=\"legendpie\" d=\"M6,6H-6V-6H6Z\" transform=\"translate(20,0)\" style=\"stroke-width: 0; fill: rgb(171, 99, 250); fill-opacity: 1; stroke: rgb(68, 68, 68); stroke-opacity: 1;\"/></g></g></g><rect class=\"legendtoggle\" x=\"0\" y=\"-9.5\" width=\"145.71875\" height=\"19\" style=\"fill: rgb(0, 0, 0); fill-opacity: 0;\"/></g><g class=\"traces\" transform=\"translate(0,33.5)\" style=\"opacity: 1;\"><text class=\"legendtext\" text-anchor=\"start\" x=\"40\" y=\"4.680000000000001\" style=\"font-family: 'Open Sans', verdana, arial, sans-serif; font-size: 12px; fill: rgb(242, 245, 250); fill-opacity: 1; white-space: pre;\">дополнительный</text><g class=\"layers\" style=\"opacity: 1;\"><g class=\"legendfill\"/><g class=\"legendlines\"/><g class=\"legendsymbols\"><g class=\"legendpoints\"><path class=\"legendpie\" d=\"M6,6H-6V-6H6Z\" transform=\"translate(20,0)\" style=\"stroke-width: 0; fill: rgb(254, 203, 82); fill-opacity: 1; stroke: rgb(68, 68, 68); stroke-opacity: 1;\"/></g></g></g><rect class=\"legendtoggle\" x=\"0\" y=\"-9.5\" width=\"145.71875\" height=\"19\" style=\"fill: rgb(0, 0, 0); fill-opacity: 0;\"/></g></g></g><rect class=\"scrollbar\" rx=\"20\" ry=\"3\" width=\"0\" height=\"0\" style=\"fill: rgb(128, 139, 164); fill-opacity: 1;\" x=\"0\" y=\"0\"/></g><g class=\"g-gtitle\"><text class=\"gtitle\" x=\"35\" y=\"50\" text-anchor=\"start\" dy=\"0em\" style=\"font-family: 'Open Sans', verdana, arial, sans-serif; font-size: 17px; fill: rgb(242, 245, 250); opacity: 1; font-weight: normal; white-space: pre;\">Основной и дополнительный ассортимент</text></g></g></svg>"
      ]
     },
     "metadata": {},
     "output_type": "display_data"
    }
   ],
   "source": [
    "assort_df = merge_groups_df['assort_group'].value_counts().reset_index()\n",
    "assort_df.columns = ('group', 'count')\n",
    "\n",
    "# круговая диаграмма с долями основного и дополнительного товара\n",
    "groups_pie = px.pie(assort_df,\n",
    "                    values='count',\n",
    "                    names='group',\n",
    "                    title='Основной и дополнительный ассортимент',\n",
    "                    template='plotly_dark',\n",
    "                    color_discrete_sequence=['#AB63FA', '#FECB52']\n",
    "                    )\n",
    "groups_pie.show()"
   ]
  },
  {
   "cell_type": "markdown",
   "id": "c3472c41",
   "metadata": {},
   "source": [
    "Основного ассортимента - 49.8%, дополнительного - 50.2%"
   ]
  },
  {
   "cell_type": "code",
   "execution_count": 38,
   "id": "74d6b154",
   "metadata": {},
   "outputs": [],
   "source": [
    "# добавим к общему датасету столбец с группой товара\n",
    "data_merge_assort_group = data.merge(merge_groups_df[['product', 'assort_group']], on='product', how='left')"
   ]
  },
  {
   "cell_type": "code",
   "execution_count": 39,
   "id": "12a4bfd4",
   "metadata": {},
   "outputs": [],
   "source": [
    "# создаем таблицу и график количества товаров каждой группы по дням и месяцам\n",
    "day_assort_group = data_merge_assort_group.pivot_table(index='day',\n",
    "                                                       columns='assort_group',\n",
    "                                                       values='product',\n",
    "                                                       aggfunc='count').reset_index()"
   ]
  },
  {
   "cell_type": "code",
   "execution_count": 40,
   "id": "6ae563d3",
   "metadata": {},
   "outputs": [
    {
     "name": "stdout",
     "output_type": "stream",
     "text": [
      "         day  additional_product  basic_product\n",
      "1     Monday                 322            649\n",
      "5    Tuesday                 257            609\n",
      "6  Wednesday                 278            559\n",
      "4   Thursday                 212            650\n",
      "0     Friday                 208            485\n"
     ]
    }
   ],
   "source": [
    "day_assort_group.columns = ('day', 'additional_product', 'basic_product')\n",
    "day_assort_group['day'] = pd.Categorical(day_assort_group['day'],\n",
    "                                         categories=days,\n",
    "                                         ordered=True)\n",
    "day_assort_group = day_assort_group.sort_values(by='day')\n",
    "print(day_assort_group.head())"
   ]
  },
  {
   "cell_type": "code",
   "execution_count": 41,
   "id": "5a0a9051",
   "metadata": {},
   "outputs": [],
   "source": [
    "fig = go.Figure(data=[\n",
    "    go.Bar(name='дополнительный',\n",
    "           x=day_assort_group['day'],\n",
    "           y=day_assort_group['additional_product']),\n",
    "    go.Bar(name='основной',\n",
    "           x=day_assort_group['day'],\n",
    "           y=day_assort_group['basic_product'])\n",
    "])"
   ]
  },
  {
   "cell_type": "code",
   "execution_count": 42,
   "id": "cff637d4",
   "metadata": {},
   "outputs": [
    {
     "data": {
      "image/svg+xml": [
       "<svg class=\"main-svg\" xmlns=\"http://www.w3.org/2000/svg\" xmlns:xlink=\"http://www.w3.org/1999/xlink\" width=\"1050\" height=\"750\" style=\"\" viewBox=\"0 0 700 500\"><rect x=\"0\" y=\"0\" width=\"700\" height=\"500\" style=\"fill: rgb(17, 17, 17); fill-opacity: 1;\"/><defs id=\"defs-ce4a90\"><g class=\"clips\"><clipPath id=\"clipce4a90xyplot\" class=\"plotclip\"><rect width=\"448\" height=\"320\"/></clipPath><clipPath class=\"axesclip\" id=\"clipce4a90x\"><rect x=\"80\" y=\"0\" width=\"448\" height=\"500\"/></clipPath><clipPath class=\"axesclip\" id=\"clipce4a90y\"><rect x=\"0\" y=\"100\" width=\"700\" height=\"320\"/></clipPath><clipPath class=\"axesclip\" id=\"clipce4a90xy\"><rect x=\"80\" y=\"100\" width=\"448\" height=\"320\"/></clipPath></g><g class=\"gradients\"/><g class=\"patterns\"/></defs><g class=\"bglayer\"/><g class=\"layer-below\"><g class=\"imagelayer\"/><g class=\"shapelayer\"/></g><g class=\"cartesianlayer\"><g class=\"subplot xy\"><g class=\"layer-subplot\"><g class=\"shapelayer\"/><g class=\"imagelayer\"/></g><g class=\"minor-gridlayer\"><g class=\"x\"/><g class=\"y\"/></g><g class=\"gridlayer\"><g class=\"x\"/><g class=\"y\"><path class=\"ygrid crisp\" transform=\"translate(0,373.23)\" d=\"M80,0h448\" style=\"stroke: rgb(40, 52, 66); stroke-opacity: 1; stroke-width: 1px;\"/><path class=\"ygrid crisp\" transform=\"translate(0,326.46000000000004)\" d=\"M80,0h448\" style=\"stroke: rgb(40, 52, 66); stroke-opacity: 1; stroke-width: 1px;\"/><path class=\"ygrid crisp\" transform=\"translate(0,279.69)\" d=\"M80,0h448\" style=\"stroke: rgb(40, 52, 66); stroke-opacity: 1; stroke-width: 1px;\"/><path class=\"ygrid crisp\" transform=\"translate(0,232.92)\" d=\"M80,0h448\" style=\"stroke: rgb(40, 52, 66); stroke-opacity: 1; stroke-width: 1px;\"/><path class=\"ygrid crisp\" transform=\"translate(0,186.15)\" d=\"M80,0h448\" style=\"stroke: rgb(40, 52, 66); stroke-opacity: 1; stroke-width: 1px;\"/><path class=\"ygrid crisp\" transform=\"translate(0,139.38)\" d=\"M80,0h448\" style=\"stroke: rgb(40, 52, 66); stroke-opacity: 1; stroke-width: 1px;\"/></g></g><g class=\"zerolinelayer\"><path class=\"yzl zl crisp\" transform=\"translate(0,420)\" d=\"M80,0h448\" style=\"stroke: rgb(40, 52, 66); stroke-opacity: 1; stroke-width: 2px;\"/></g><path class=\"xlines-below\"/><path class=\"ylines-below\"/><g class=\"overlines-below\"/><g class=\"xaxislayer-below\"/><g class=\"yaxislayer-below\"/><g class=\"overaxes-below\"/><g class=\"plot\" transform=\"translate(80,100)\" clip-path=\"url(#clipce4a90xyplot)\"><g class=\"barlayer mlayer\"><g class=\"trace bars\" style=\"opacity: 1;\"><g class=\"points\"><g class=\"point\"><path d=\"M6.4,320V169.4H32V320Z\" style=\"vector-effect: non-scaling-stroke; opacity: 1; stroke-width: 0.5px; fill: rgb(171, 99, 250); fill-opacity: 1; stroke: rgb(17, 17, 17); stroke-opacity: 1;\"/></g><g class=\"point\"><path d=\"M70.4,320V199.8H96V320Z\" style=\"vector-effect: non-scaling-stroke; opacity: 1; stroke-width: 0.5px; fill: rgb(171, 99, 250); fill-opacity: 1; stroke: rgb(17, 17, 17); stroke-opacity: 1;\"/></g><g class=\"point\"><path d=\"M134.4,320V189.98H160V320Z\" style=\"vector-effect: non-scaling-stroke; opacity: 1; stroke-width: 0.5px; fill: rgb(171, 99, 250); fill-opacity: 1; stroke: rgb(17, 17, 17); stroke-opacity: 1;\"/></g><g class=\"point\"><path d=\"M198.4,320V220.85H224V320Z\" style=\"vector-effect: non-scaling-stroke; opacity: 1; stroke-width: 0.5px; fill: rgb(171, 99, 250); fill-opacity: 1; stroke: rgb(17, 17, 17); stroke-opacity: 1;\"/></g><g class=\"point\"><path d=\"M262.4,320V222.72H288V320Z\" style=\"vector-effect: non-scaling-stroke; opacity: 1; stroke-width: 0.5px; fill: rgb(171, 99, 250); fill-opacity: 1; stroke: rgb(17, 17, 17); stroke-opacity: 1;\"/></g><g class=\"point\"><path d=\"M326.4,320V219.45H352V320Z\" style=\"vector-effect: non-scaling-stroke; opacity: 1; stroke-width: 0.5px; fill: rgb(171, 99, 250); fill-opacity: 1; stroke: rgb(17, 17, 17); stroke-opacity: 1;\"/></g><g class=\"point\"><path d=\"M390.4,320V240.49H416V320Z\" style=\"vector-effect: non-scaling-stroke; opacity: 1; stroke-width: 0.5px; fill: rgb(171, 99, 250); fill-opacity: 1; stroke: rgb(17, 17, 17); stroke-opacity: 1;\"/></g></g></g><g class=\"trace bars\" style=\"opacity: 1;\"><g class=\"points\"><g class=\"point\"><path d=\"M32,320V16.47H57.6V320Z\" style=\"vector-effect: non-scaling-stroke; opacity: 1; stroke-width: 0.5px; fill: rgb(254, 203, 82); fill-opacity: 1; stroke: rgb(17, 17, 17); stroke-opacity: 1;\"/></g><g class=\"point\"><path d=\"M96,320V35.18H121.6V320Z\" style=\"vector-effect: non-scaling-stroke; opacity: 1; stroke-width: 0.5px; fill: rgb(254, 203, 82); fill-opacity: 1; stroke: rgb(17, 17, 17); stroke-opacity: 1;\"/></g><g class=\"point\"><path d=\"M160,320V58.56H185.6V320Z\" style=\"vector-effect: non-scaling-stroke; opacity: 1; stroke-width: 0.5px; fill: rgb(254, 203, 82); fill-opacity: 1; stroke: rgb(17, 17, 17); stroke-opacity: 1;\"/></g><g class=\"point\"><path d=\"M224,320V16H249.6V320Z\" style=\"vector-effect: non-scaling-stroke; opacity: 1; stroke-width: 0.5px; fill: rgb(254, 203, 82); fill-opacity: 1; stroke: rgb(17, 17, 17); stroke-opacity: 1;\"/></g><g class=\"point\"><path d=\"M288,320V93.17H313.6V320Z\" style=\"vector-effect: non-scaling-stroke; opacity: 1; stroke-width: 0.5px; fill: rgb(254, 203, 82); fill-opacity: 1; stroke: rgb(17, 17, 17); stroke-opacity: 1;\"/></g><g class=\"point\"><path d=\"M352,320V143.21H377.6V320Z\" style=\"vector-effect: non-scaling-stroke; opacity: 1; stroke-width: 0.5px; fill: rgb(254, 203, 82); fill-opacity: 1; stroke: rgb(17, 17, 17); stroke-opacity: 1;\"/></g><g class=\"point\"><path d=\"M416,320V115.15H441.6V320Z\" style=\"vector-effect: non-scaling-stroke; opacity: 1; stroke-width: 0.5px; fill: rgb(254, 203, 82); fill-opacity: 1; stroke: rgb(17, 17, 17); stroke-opacity: 1;\"/></g></g></g></g></g><g class=\"overplot\"/><path class=\"xlines-above crisp\" d=\"M0,0\" style=\"fill: none;\"/><path class=\"ylines-above crisp\" d=\"M0,0\" style=\"fill: none;\"/><g class=\"overlines-above\"/><g class=\"xaxislayer-above\"><g class=\"xtick\"><text text-anchor=\"start\" x=\"0\" y=\"433\" transform=\"translate(112,0) rotate(30,0,427)\" style=\"font-family: 'Open Sans', verdana, arial, sans-serif; font-size: 12px; fill: rgb(242, 245, 250); fill-opacity: 1; white-space: pre; opacity: 1;\">Monday</text></g><g class=\"xtick\"><text text-anchor=\"start\" x=\"0\" y=\"433\" transform=\"translate(176,0) rotate(30,0,427)\" style=\"font-family: 'Open Sans', verdana, arial, sans-serif; font-size: 12px; fill: rgb(242, 245, 250); fill-opacity: 1; white-space: pre; opacity: 1;\">Tuesday</text></g><g class=\"xtick\"><text text-anchor=\"start\" x=\"0\" y=\"433\" transform=\"translate(240,0) rotate(30,0,427)\" style=\"font-family: 'Open Sans', verdana, arial, sans-serif; font-size: 12px; fill: rgb(242, 245, 250); fill-opacity: 1; white-space: pre; opacity: 1;\">Wednesday</text></g><g class=\"xtick\"><text text-anchor=\"start\" x=\"0\" y=\"433\" transform=\"translate(304,0) rotate(30,0,427)\" style=\"font-family: 'Open Sans', verdana, arial, sans-serif; font-size: 12px; fill: rgb(242, 245, 250); fill-opacity: 1; white-space: pre; opacity: 1;\">Thursday</text></g><g class=\"xtick\"><text text-anchor=\"start\" x=\"0\" y=\"433\" transform=\"translate(368,0) rotate(30,0,427)\" style=\"font-family: 'Open Sans', verdana, arial, sans-serif; font-size: 12px; fill: rgb(242, 245, 250); fill-opacity: 1; white-space: pre; opacity: 1;\">Friday</text></g><g class=\"xtick\"><text text-anchor=\"start\" x=\"0\" y=\"433\" transform=\"translate(432,0) rotate(30,0,427)\" style=\"font-family: 'Open Sans', verdana, arial, sans-serif; font-size: 12px; fill: rgb(242, 245, 250); fill-opacity: 1; white-space: pre; opacity: 1;\">Saturday</text></g><g class=\"xtick\"><text text-anchor=\"start\" x=\"0\" y=\"433\" transform=\"translate(496,0) rotate(30,0,427)\" style=\"font-family: 'Open Sans', verdana, arial, sans-serif; font-size: 12px; fill: rgb(242, 245, 250); fill-opacity: 1; white-space: pre; opacity: 1;\">Sunday</text></g></g><g class=\"yaxislayer-above\"><g class=\"ytick\"><text text-anchor=\"end\" x=\"79\" y=\"4.199999999999999\" transform=\"translate(0,420)\" style=\"font-family: 'Open Sans', verdana, arial, sans-serif; font-size: 12px; fill: rgb(242, 245, 250); fill-opacity: 1; white-space: pre; opacity: 1;\">0</text></g><g class=\"ytick\"><text text-anchor=\"end\" x=\"79\" y=\"4.199999999999999\" style=\"font-family: 'Open Sans', verdana, arial, sans-serif; font-size: 12px; fill: rgb(242, 245, 250); fill-opacity: 1; white-space: pre; opacity: 1;\" transform=\"translate(0,373.23)\">100</text></g><g class=\"ytick\"><text text-anchor=\"end\" x=\"79\" y=\"4.199999999999999\" style=\"font-family: 'Open Sans', verdana, arial, sans-serif; font-size: 12px; fill: rgb(242, 245, 250); fill-opacity: 1; white-space: pre; opacity: 1;\" transform=\"translate(0,326.46000000000004)\">200</text></g><g class=\"ytick\"><text text-anchor=\"end\" x=\"79\" y=\"4.199999999999999\" style=\"font-family: 'Open Sans', verdana, arial, sans-serif; font-size: 12px; fill: rgb(242, 245, 250); fill-opacity: 1; white-space: pre; opacity: 1;\" transform=\"translate(0,279.69)\">300</text></g><g class=\"ytick\"><text text-anchor=\"end\" x=\"79\" y=\"4.199999999999999\" style=\"font-family: 'Open Sans', verdana, arial, sans-serif; font-size: 12px; fill: rgb(242, 245, 250); fill-opacity: 1; white-space: pre; opacity: 1;\" transform=\"translate(0,232.92)\">400</text></g><g class=\"ytick\"><text text-anchor=\"end\" x=\"79\" y=\"4.199999999999999\" style=\"font-family: 'Open Sans', verdana, arial, sans-serif; font-size: 12px; fill: rgb(242, 245, 250); fill-opacity: 1; white-space: pre; opacity: 1;\" transform=\"translate(0,186.15)\">500</text></g><g class=\"ytick\"><text text-anchor=\"end\" x=\"79\" y=\"4.199999999999999\" style=\"font-family: 'Open Sans', verdana, arial, sans-serif; font-size: 12px; fill: rgb(242, 245, 250); fill-opacity: 1; white-space: pre; opacity: 1;\" transform=\"translate(0,139.38)\">600</text></g></g><g class=\"overaxes-above\"/></g></g><g class=\"polarlayer\"/><g class=\"smithlayer\"/><g class=\"ternarylayer\"/><g class=\"geolayer\"/><g class=\"funnelarealayer\"/><g class=\"pielayer\"/><g class=\"iciclelayer\"/><g class=\"treemaplayer\"/><g class=\"sunburstlayer\"/><g class=\"glimages\"/><defs id=\"topdefs-ce4a90\"><g class=\"clips\"/><clipPath id=\"legendce4a90\"><rect width=\"151\" height=\"48\" x=\"0\" y=\"0\"/></clipPath></defs><g class=\"layer-above\"><g class=\"imagelayer\"/><g class=\"shapelayer\"/></g><g class=\"infolayer\"><g class=\"legend\" pointer-events=\"all\" transform=\"translate(536.96,100)\"><rect class=\"bg\" shape-rendering=\"crispEdges\" width=\"151\" height=\"48\" x=\"0\" y=\"0\" style=\"stroke: rgb(68, 68, 68); stroke-opacity: 1; fill: rgb(17, 17, 17); fill-opacity: 1; stroke-width: 0px;\"/><g class=\"scrollbox\" transform=\"\" clip-path=\"url(#legendce4a90)\"><g class=\"groups\"><g class=\"traces\" transform=\"translate(0,14.5)\" style=\"opacity: 1;\"><text class=\"legendtext\" text-anchor=\"start\" x=\"40\" y=\"4.680000000000001\" style=\"font-family: 'Open Sans', verdana, arial, sans-serif; font-size: 12px; fill: rgb(242, 245, 250); fill-opacity: 1; white-space: pre;\">дополнительный</text><g class=\"layers\" style=\"opacity: 1;\"><g class=\"legendfill\"/><g class=\"legendlines\"/><g class=\"legendsymbols\"><g class=\"legendpoints\"><path class=\"legendundefined\" d=\"M6,6H-6V-6H6Z\" transform=\"translate(20,0)\" style=\"stroke-width: 0.5px; fill: rgb(171, 99, 250); fill-opacity: 1; stroke: rgb(17, 17, 17); stroke-opacity: 1;\"/></g></g></g><rect class=\"legendtoggle\" x=\"0\" y=\"-9.5\" width=\"145.71875\" height=\"19\" style=\"fill: rgb(0, 0, 0); fill-opacity: 0;\"/></g><g class=\"traces\" transform=\"translate(0,33.5)\" style=\"opacity: 1;\"><text class=\"legendtext\" text-anchor=\"start\" x=\"40\" y=\"4.680000000000001\" style=\"font-family: 'Open Sans', verdana, arial, sans-serif; font-size: 12px; fill: rgb(242, 245, 250); fill-opacity: 1; white-space: pre;\">основной</text><g class=\"layers\" style=\"opacity: 1;\"><g class=\"legendfill\"/><g class=\"legendlines\"/><g class=\"legendsymbols\"><g class=\"legendpoints\"><path class=\"legendundefined\" d=\"M6,6H-6V-6H6Z\" transform=\"translate(20,0)\" style=\"stroke-width: 0.5px; fill: rgb(254, 203, 82); fill-opacity: 1; stroke: rgb(17, 17, 17); stroke-opacity: 1;\"/></g></g></g><rect class=\"legendtoggle\" x=\"0\" y=\"-9.5\" width=\"145.71875\" height=\"19\" style=\"fill: rgb(0, 0, 0); fill-opacity: 0;\"/></g></g></g><rect class=\"scrollbar\" rx=\"20\" ry=\"3\" width=\"0\" height=\"0\" x=\"0\" y=\"0\" style=\"fill: rgb(128, 139, 164); fill-opacity: 1;\"/></g><g class=\"g-gtitle\"><text class=\"gtitle\" x=\"35\" y=\"50\" text-anchor=\"start\" dy=\"0em\" style=\"font-family: 'Open Sans', verdana, arial, sans-serif; font-size: 20px; fill: rgb(242, 245, 250); opacity: 1; font-weight: normal; white-space: pre;\">Продажи основных и дополнительных товаров по дням</text></g><g class=\"g-xtitle\"/><g class=\"g-ytitle\"/></g></svg>"
      ]
     },
     "metadata": {},
     "output_type": "display_data"
    }
   ],
   "source": [
    "fig.update_layout(title_text='Продажи основных и дополнительных товаров по дням',\n",
    "                  title_font_size=20,\n",
    "                  barmode='group',\n",
    "                  template=\"plotly_dark\",\n",
    "                  colorway=['#AB63FA', '#FECB52']\n",
    "                  )\n",
    "fig.show()"
   ]
  },
  {
   "cell_type": "markdown",
   "id": "c42464ac",
   "metadata": {},
   "source": [
    "Наибольшая разница между продажами основного и дополнительного ассортимента в четверг - более 400 единиц. В этот день вырос показатель основного ассортимента, а продажи дополнительного снизились по сравнению с началом недели. Наименьшая разница в субооту - около 160. С понедельника по среду наблюдается плавный спад в продажах оснвного товара, который продолжается до субботы. Больше всего дополнительного товара продажется в понедельник - более 300 единиц. В течение недели показатель снижается и в воскресенье этих товаров продается меньше всего. "
   ]
  },
  {
   "cell_type": "code",
   "execution_count": 43,
   "id": "04bd7aa2",
   "metadata": {},
   "outputs": [],
   "source": [
    "month_assort_group = data_merge_assort_group.pivot_table(index=['year', 'month'],\n",
    "                                                         columns='assort_group',\n",
    "                                                         values='product',\n",
    "                                                         aggfunc='count').reset_index()"
   ]
  },
  {
   "cell_type": "code",
   "execution_count": 44,
   "id": "3e8cd43b",
   "metadata": {},
   "outputs": [
    {
     "name": "stdout",
     "output_type": "stream",
     "text": [
      "   year     month  additional_product  basic_product\n",
      "2  2018   October                 152            314\n",
      "1  2018  November                 156            264\n",
      "0  2018  December                  83            214\n",
      "7  2019   January                  31            146\n",
      "6  2019  February                  64            284\n"
     ]
    }
   ],
   "source": [
    "month_assort_group.columns = ('year', 'month', 'additional_product', 'basic_product')\n",
    "month_assort_group['month'] = pd.Categorical(month_assort_group['month'],\n",
    "                                             categories=months,\n",
    "                                             ordered=True)\n",
    "month_assort_group = month_assort_group.sort_values(by=['year', 'month'])\n",
    "print(month_assort_group.head())"
   ]
  },
  {
   "cell_type": "code",
   "execution_count": 45,
   "id": "89d52af5",
   "metadata": {},
   "outputs": [
    {
     "data": {
      "image/svg+xml": [
       "<svg class=\"main-svg\" xmlns=\"http://www.w3.org/2000/svg\" xmlns:xlink=\"http://www.w3.org/1999/xlink\" width=\"1050\" height=\"750\" style=\"\" viewBox=\"0 0 700 500\"><rect x=\"0\" y=\"0\" width=\"700\" height=\"500\" style=\"fill: rgb(17, 17, 17); fill-opacity: 1;\"/><defs id=\"defs-6d11dd\"><g class=\"clips\"><clipPath id=\"clip6d11ddxyplot\" class=\"plotclip\"><rect width=\"448\" height=\"287\"/></clipPath><clipPath class=\"axesclip\" id=\"clip6d11ddx\"><rect x=\"80\" y=\"0\" width=\"448\" height=\"500\"/></clipPath><clipPath class=\"axesclip\" id=\"clip6d11ddy\"><rect x=\"0\" y=\"100\" width=\"700\" height=\"287\"/></clipPath><clipPath class=\"axesclip\" id=\"clip6d11ddxy\"><rect x=\"80\" y=\"100\" width=\"448\" height=\"287\"/></clipPath></g><g class=\"gradients\"/><g class=\"patterns\"/></defs><g class=\"bglayer\"/><g class=\"layer-below\"><g class=\"imagelayer\"/><g class=\"shapelayer\"/></g><g class=\"cartesianlayer\"><g class=\"subplot xy\"><g class=\"layer-subplot\"><g class=\"shapelayer\"/><g class=\"imagelayer\"/></g><g class=\"minor-gridlayer\"><g class=\"x\"/><g class=\"y\"/></g><g class=\"gridlayer\"><g class=\"x\"/><g class=\"y\"><path class=\"ygrid crisp\" transform=\"translate(0,324.18)\" d=\"M80,0h448\" style=\"stroke: rgb(40, 52, 66); stroke-opacity: 1; stroke-width: 1px;\"/><path class=\"ygrid crisp\" transform=\"translate(0,261.35)\" d=\"M80,0h448\" style=\"stroke: rgb(40, 52, 66); stroke-opacity: 1; stroke-width: 1px;\"/><path class=\"ygrid crisp\" transform=\"translate(0,198.53)\" d=\"M80,0h448\" style=\"stroke: rgb(40, 52, 66); stroke-opacity: 1; stroke-width: 1px;\"/><path class=\"ygrid crisp\" transform=\"translate(0,135.71)\" d=\"M80,0h448\" style=\"stroke: rgb(40, 52, 66); stroke-opacity: 1; stroke-width: 1px;\"/></g></g><g class=\"zerolinelayer\"><path class=\"yzl zl crisp\" transform=\"translate(0,387)\" d=\"M80,0h448\" style=\"stroke: rgb(40, 52, 66); stroke-opacity: 1; stroke-width: 2px;\"/></g><path class=\"xlines-below\"/><path class=\"ylines-below\"/><g class=\"overlines-below\"/><g class=\"xaxislayer-below\"/><g class=\"yaxislayer-below\"/><g class=\"overaxes-below\"/><g class=\"plot\" transform=\"translate(80,100)\" clip-path=\"url(#clip6d11ddxyplot)\"><g class=\"barlayer mlayer\"><g class=\"trace bars\" style=\"opacity: 1;\"><g class=\"points\"><g class=\"point\"><path d=\"M2.8,287V191.51H14V287Z\" style=\"vector-effect: non-scaling-stroke; opacity: 1; stroke-width: 0.5px; fill: rgb(171, 99, 250); fill-opacity: 1; stroke: rgb(17, 17, 17); stroke-opacity: 1;\"/></g><g class=\"point\"><path d=\"M30.8,287V189H42V287Z\" style=\"vector-effect: non-scaling-stroke; opacity: 1; stroke-width: 0.5px; fill: rgb(171, 99, 250); fill-opacity: 1; stroke: rgb(17, 17, 17); stroke-opacity: 1;\"/></g><g class=\"point\"><path d=\"M58.8,287V234.86H70V287Z\" style=\"vector-effect: non-scaling-stroke; opacity: 1; stroke-width: 0.5px; fill: rgb(171, 99, 250); fill-opacity: 1; stroke: rgb(17, 17, 17); stroke-opacity: 1;\"/></g><g class=\"point\"><path d=\"M170.8,287V267.52H182V287Z\" style=\"vector-effect: non-scaling-stroke; opacity: 1; stroke-width: 0.5px; fill: rgb(171, 99, 250); fill-opacity: 1; stroke: rgb(17, 17, 17); stroke-opacity: 1;\"/></g><g class=\"point\"><path d=\"M198.8,287V246.79H210V287Z\" style=\"vector-effect: non-scaling-stroke; opacity: 1; stroke-width: 0.5px; fill: rgb(171, 99, 250); fill-opacity: 1; stroke: rgb(17, 17, 17); stroke-opacity: 1;\"/></g><g class=\"point\"><path d=\"M226.8,287V229.2H238V287Z\" style=\"vector-effect: non-scaling-stroke; opacity: 1; stroke-width: 0.5px; fill: rgb(171, 99, 250); fill-opacity: 1; stroke: rgb(17, 17, 17); stroke-opacity: 1;\"/></g><g class=\"point\"><path d=\"M254.8,287V141.25H266V287Z\" style=\"vector-effect: non-scaling-stroke; opacity: 1; stroke-width: 0.5px; fill: rgb(171, 99, 250); fill-opacity: 1; stroke: rgb(17, 17, 17); stroke-opacity: 1;\"/></g><g class=\"point\"><path d=\"M282.8,287V118.64H294V287Z\" style=\"vector-effect: non-scaling-stroke; opacity: 1; stroke-width: 0.5px; fill: rgb(171, 99, 250); fill-opacity: 1; stroke: rgb(17, 17, 17); stroke-opacity: 1;\"/></g><g class=\"point\"><path d=\"M310.8,287V224.81H322V287Z\" style=\"vector-effect: non-scaling-stroke; opacity: 1; stroke-width: 0.5px; fill: rgb(171, 99, 250); fill-opacity: 1; stroke: rgb(17, 17, 17); stroke-opacity: 1;\"/></g><g class=\"point\"><path d=\"M338.8,287V222.29H350V287Z\" style=\"vector-effect: non-scaling-stroke; opacity: 1; stroke-width: 0.5px; fill: rgb(171, 99, 250); fill-opacity: 1; stroke: rgb(17, 17, 17); stroke-opacity: 1;\"/></g><g class=\"point\"><path d=\"M366.8,287V257.47H378V287Z\" style=\"vector-effect: non-scaling-stroke; opacity: 1; stroke-width: 0.5px; fill: rgb(171, 99, 250); fill-opacity: 1; stroke: rgb(17, 17, 17); stroke-opacity: 1;\"/></g><g class=\"point\"><path d=\"M394.8,287V252.45H406V287Z\" style=\"vector-effect: non-scaling-stroke; opacity: 1; stroke-width: 0.5px; fill: rgb(171, 99, 250); fill-opacity: 1; stroke: rgb(17, 17, 17); stroke-opacity: 1;\"/></g><g class=\"point\"><path d=\"M86.8,287V248.05H98V287Z\" style=\"vector-effect: non-scaling-stroke; opacity: 1; stroke-width: 0.5px; fill: rgb(171, 99, 250); fill-opacity: 1; stroke: rgb(17, 17, 17); stroke-opacity: 1;\"/></g><g class=\"point\"><path d=\"M114.8,287V242.4H126V287Z\" style=\"vector-effect: non-scaling-stroke; opacity: 1; stroke-width: 0.5px; fill: rgb(171, 99, 250); fill-opacity: 1; stroke: rgb(17, 17, 17); stroke-opacity: 1;\"/></g><g class=\"point\"><path d=\"M142.8,287V246.79H154V287Z\" style=\"vector-effect: non-scaling-stroke; opacity: 1; stroke-width: 0.5px; fill: rgb(171, 99, 250); fill-opacity: 1; stroke: rgb(17, 17, 17); stroke-opacity: 1;\"/></g><g class=\"point\"><path d=\"M422.8,287V234.86H434V287Z\" style=\"vector-effect: non-scaling-stroke; opacity: 1; stroke-width: 0.5px; fill: rgb(171, 99, 250); fill-opacity: 1; stroke: rgb(17, 17, 17); stroke-opacity: 1;\"/></g></g></g><g class=\"trace bars\" style=\"opacity: 1;\"><g class=\"points\"><g class=\"point\"><path d=\"M14,287V89.74H25.2V287Z\" style=\"vector-effect: non-scaling-stroke; opacity: 1; stroke-width: 0.5px; fill: rgb(254, 203, 82); fill-opacity: 1; stroke: rgb(17, 17, 17); stroke-opacity: 1;\"/></g><g class=\"point\"><path d=\"M42,287V121.15H53.2V287Z\" style=\"vector-effect: non-scaling-stroke; opacity: 1; stroke-width: 0.5px; fill: rgb(254, 203, 82); fill-opacity: 1; stroke: rgb(17, 17, 17); stroke-opacity: 1;\"/></g><g class=\"point\"><path d=\"M70,287V152.56H81.2V287Z\" style=\"vector-effect: non-scaling-stroke; opacity: 1; stroke-width: 0.5px; fill: rgb(254, 203, 82); fill-opacity: 1; stroke: rgb(17, 17, 17); stroke-opacity: 1;\"/></g><g class=\"point\"><path d=\"M182,287V195.28H193.2V287Z\" style=\"vector-effect: non-scaling-stroke; opacity: 1; stroke-width: 0.5px; fill: rgb(254, 203, 82); fill-opacity: 1; stroke: rgb(17, 17, 17); stroke-opacity: 1;\"/></g><g class=\"point\"><path d=\"M210,287V108.58H221.2V287Z\" style=\"vector-effect: non-scaling-stroke; opacity: 1; stroke-width: 0.5px; fill: rgb(254, 203, 82); fill-opacity: 1; stroke: rgb(17, 17, 17); stroke-opacity: 1;\"/></g><g class=\"point\"><path d=\"M238,287V94.13H249.2V287Z\" style=\"vector-effect: non-scaling-stroke; opacity: 1; stroke-width: 0.5px; fill: rgb(254, 203, 82); fill-opacity: 1; stroke: rgb(17, 17, 17); stroke-opacity: 1;\"/></g><g class=\"point\"><path d=\"M266,287V14.35H277.2V287Z\" style=\"vector-effect: non-scaling-stroke; opacity: 1; stroke-width: 0.5px; fill: rgb(254, 203, 82); fill-opacity: 1; stroke: rgb(17, 17, 17); stroke-opacity: 1;\"/></g><g class=\"point\"><path d=\"M294,287V29.43H305.2V287Z\" style=\"vector-effect: non-scaling-stroke; opacity: 1; stroke-width: 0.5px; fill: rgb(254, 203, 82); fill-opacity: 1; stroke: rgb(17, 17, 17); stroke-opacity: 1;\"/></g><g class=\"point\"><path d=\"M322,287V149.42H333.2V287Z\" style=\"vector-effect: non-scaling-stroke; opacity: 1; stroke-width: 0.5px; fill: rgb(254, 203, 82); fill-opacity: 1; stroke: rgb(17, 17, 17); stroke-opacity: 1;\"/></g><g class=\"point\"><path d=\"M350,287V156.96H361.2V287Z\" style=\"vector-effect: non-scaling-stroke; opacity: 1; stroke-width: 0.5px; fill: rgb(254, 203, 82); fill-opacity: 1; stroke: rgb(17, 17, 17); stroke-opacity: 1;\"/></g><g class=\"point\"><path d=\"M378,287V192.77H389.2V287Z\" style=\"vector-effect: non-scaling-stroke; opacity: 1; stroke-width: 0.5px; fill: rgb(254, 203, 82); fill-opacity: 1; stroke: rgb(17, 17, 17); stroke-opacity: 1;\"/></g><g class=\"point\"><path d=\"M406,287V188.37H417.2V287Z\" style=\"vector-effect: non-scaling-stroke; opacity: 1; stroke-width: 0.5px; fill: rgb(254, 203, 82); fill-opacity: 1; stroke: rgb(17, 17, 17); stroke-opacity: 1;\"/></g><g class=\"point\"><path d=\"M98,287V194.02H109.2V287Z\" style=\"vector-effect: non-scaling-stroke; opacity: 1; stroke-width: 0.5px; fill: rgb(254, 203, 82); fill-opacity: 1; stroke: rgb(17, 17, 17); stroke-opacity: 1;\"/></g><g class=\"point\"><path d=\"M126,287V195.28H137.2V287Z\" style=\"vector-effect: non-scaling-stroke; opacity: 1; stroke-width: 0.5px; fill: rgb(254, 203, 82); fill-opacity: 1; stroke: rgb(17, 17, 17); stroke-opacity: 1;\"/></g><g class=\"point\"><path d=\"M154,287V172.66H165.2V287Z\" style=\"vector-effect: non-scaling-stroke; opacity: 1; stroke-width: 0.5px; fill: rgb(254, 203, 82); fill-opacity: 1; stroke: rgb(17, 17, 17); stroke-opacity: 1;\"/></g><g class=\"point\"><path d=\"M434,287V170.15H445.2V287Z\" style=\"vector-effect: non-scaling-stroke; opacity: 1; stroke-width: 0.5px; fill: rgb(254, 203, 82); fill-opacity: 1; stroke: rgb(17, 17, 17); stroke-opacity: 1;\"/></g></g></g></g></g><g class=\"overplot\"/><path class=\"xlines-above crisp\" d=\"M0,0\" style=\"fill: none;\"/><path class=\"ylines-above crisp\" d=\"M0,0\" style=\"fill: none;\"/><g class=\"overlines-above\"/><g class=\"xaxislayer-above\"><path class=\"xdivider crisp\" transform=\"translate(528,0)\" d=\"M0,388v101.125\" style=\"stroke: rgb(68, 68, 68); stroke-opacity: 1; stroke-width: 1px;\"/><path class=\"xdivider crisp\" transform=\"translate(500,0)\" d=\"M0,388v101.125\" style=\"stroke: rgb(68, 68, 68); stroke-opacity: 1; stroke-width: 1px;\"/><path class=\"xdivider crisp\" transform=\"translate(164,0)\" d=\"M0,388v101.125\" style=\"stroke: rgb(68, 68, 68); stroke-opacity: 1; stroke-width: 1px;\"/><path class=\"xdivider crisp\" transform=\"translate(80,0)\" d=\"M0,388v101.125\" style=\"stroke: rgb(68, 68, 68); stroke-opacity: 1; stroke-width: 1px;\"/><g class=\"xtick\"><text text-anchor=\"start\" x=\"0\" y=\"400\" transform=\"translate(94,0) rotate(90,0,394)\" style=\"font-family: 'Open Sans', verdana, arial, sans-serif; font-size: 12px; fill: rgb(242, 245, 250); fill-opacity: 1; white-space: pre; opacity: 1;\">October</text></g><g class=\"xtick\"><text text-anchor=\"start\" x=\"0\" y=\"400\" transform=\"translate(122,0) rotate(90,0,394)\" style=\"font-family: 'Open Sans', verdana, arial, sans-serif; font-size: 12px; fill: rgb(242, 245, 250); fill-opacity: 1; white-space: pre; opacity: 1;\">November</text></g><g class=\"xtick\"><text text-anchor=\"start\" x=\"0\" y=\"400\" transform=\"translate(150,0) rotate(90,0,394)\" style=\"font-family: 'Open Sans', verdana, arial, sans-serif; font-size: 12px; fill: rgb(242, 245, 250); fill-opacity: 1; white-space: pre; opacity: 1;\">December</text></g><g class=\"xtick\"><text text-anchor=\"start\" x=\"0\" y=\"400\" transform=\"translate(178,0) rotate(90,0,394)\" style=\"font-family: 'Open Sans', verdana, arial, sans-serif; font-size: 12px; fill: rgb(242, 245, 250); fill-opacity: 1; white-space: pre; opacity: 1;\">October</text></g><g class=\"xtick\"><text text-anchor=\"start\" x=\"0\" y=\"400\" transform=\"translate(206,0) rotate(90,0,394)\" style=\"font-family: 'Open Sans', verdana, arial, sans-serif; font-size: 12px; fill: rgb(242, 245, 250); fill-opacity: 1; white-space: pre; opacity: 1;\">November</text></g><g class=\"xtick\"><text text-anchor=\"start\" x=\"0\" y=\"400\" transform=\"translate(234,0) rotate(90,0,394)\" style=\"font-family: 'Open Sans', verdana, arial, sans-serif; font-size: 12px; fill: rgb(242, 245, 250); fill-opacity: 1; white-space: pre; opacity: 1;\">December</text></g><g class=\"xtick\"><text text-anchor=\"start\" x=\"0\" y=\"400\" transform=\"translate(262,0) rotate(90,0,394)\" style=\"font-family: 'Open Sans', verdana, arial, sans-serif; font-size: 12px; fill: rgb(242, 245, 250); fill-opacity: 1; white-space: pre; opacity: 1;\">January</text></g><g class=\"xtick\"><text text-anchor=\"start\" x=\"0\" y=\"400\" transform=\"translate(290,0) rotate(90,0,394)\" style=\"font-family: 'Open Sans', verdana, arial, sans-serif; font-size: 12px; fill: rgb(242, 245, 250); fill-opacity: 1; white-space: pre; opacity: 1;\">February</text></g><g class=\"xtick\"><text text-anchor=\"start\" x=\"0\" y=\"400\" transform=\"translate(318,0) rotate(90,0,394)\" style=\"font-family: 'Open Sans', verdana, arial, sans-serif; font-size: 12px; fill: rgb(242, 245, 250); fill-opacity: 1; white-space: pre; opacity: 1;\">March</text></g><g class=\"xtick\"><text text-anchor=\"start\" x=\"0\" y=\"400\" transform=\"translate(346,0) rotate(90,0,394)\" style=\"font-family: 'Open Sans', verdana, arial, sans-serif; font-size: 12px; fill: rgb(242, 245, 250); fill-opacity: 1; white-space: pre; opacity: 1;\">April</text></g><g class=\"xtick\"><text text-anchor=\"start\" x=\"0\" y=\"400\" transform=\"translate(374,0) rotate(90,0,394)\" style=\"font-family: 'Open Sans', verdana, arial, sans-serif; font-size: 12px; fill: rgb(242, 245, 250); fill-opacity: 1; white-space: pre; opacity: 1;\">May</text></g><g class=\"xtick\"><text text-anchor=\"start\" x=\"0\" y=\"400\" transform=\"translate(402,0) rotate(90,0,394)\" style=\"font-family: 'Open Sans', verdana, arial, sans-serif; font-size: 12px; fill: rgb(242, 245, 250); fill-opacity: 1; white-space: pre; opacity: 1;\">June</text></g><g class=\"xtick\"><text text-anchor=\"start\" x=\"0\" y=\"400\" transform=\"translate(430,0) rotate(90,0,394)\" style=\"font-family: 'Open Sans', verdana, arial, sans-serif; font-size: 12px; fill: rgb(242, 245, 250); fill-opacity: 1; white-space: pre; opacity: 1;\">July</text></g><g class=\"xtick\"><text text-anchor=\"start\" x=\"0\" y=\"400\" transform=\"translate(458,0) rotate(90,0,394)\" style=\"font-family: 'Open Sans', verdana, arial, sans-serif; font-size: 12px; fill: rgb(242, 245, 250); fill-opacity: 1; white-space: pre; opacity: 1;\">August</text></g><g class=\"xtick\"><text text-anchor=\"start\" x=\"0\" y=\"400\" transform=\"translate(486,0) rotate(90,0,394)\" style=\"font-family: 'Open Sans', verdana, arial, sans-serif; font-size: 12px; fill: rgb(242, 245, 250); fill-opacity: 1; white-space: pre; opacity: 1;\">September</text></g><g class=\"xtick\"><text text-anchor=\"start\" x=\"0\" y=\"400\" transform=\"translate(514,0) rotate(90,0,394)\" style=\"font-family: 'Open Sans', verdana, arial, sans-serif; font-size: 12px; fill: rgb(242, 245, 250); fill-opacity: 1; white-space: pre; opacity: 1;\">January</text></g><g class=\"xtick2\"><text text-anchor=\"middle\" x=\"0\" y=\"485.615625\" transform=\"translate(122,0)\" style=\"font-family: 'Open Sans', verdana, arial, sans-serif; font-size: 12px; fill: rgb(242, 245, 250); fill-opacity: 1; white-space: pre; opacity: 1;\">2018</text></g><g class=\"xtick2\"><text text-anchor=\"middle\" x=\"0\" y=\"485.615625\" transform=\"translate(332,0)\" style=\"font-family: 'Open Sans', verdana, arial, sans-serif; font-size: 12px; fill: rgb(242, 245, 250); fill-opacity: 1; white-space: pre; opacity: 1;\">2019</text></g><g class=\"xtick2\"><text text-anchor=\"middle\" x=\"0\" y=\"485.615625\" transform=\"translate(514,0)\" style=\"font-family: 'Open Sans', verdana, arial, sans-serif; font-size: 12px; fill: rgb(242, 245, 250); fill-opacity: 1; white-space: pre; opacity: 1;\">2020</text></g></g><g class=\"yaxislayer-above\"><g class=\"ytick\"><text text-anchor=\"end\" x=\"79\" y=\"4.199999999999999\" transform=\"translate(0,387)\" style=\"font-family: 'Open Sans', verdana, arial, sans-serif; font-size: 12px; fill: rgb(242, 245, 250); fill-opacity: 1; white-space: pre; opacity: 1;\">0</text></g><g class=\"ytick\"><text text-anchor=\"end\" x=\"79\" y=\"4.199999999999999\" style=\"font-family: 'Open Sans', verdana, arial, sans-serif; font-size: 12px; fill: rgb(242, 245, 250); fill-opacity: 1; white-space: pre; opacity: 1;\" transform=\"translate(0,324.18)\">100</text></g><g class=\"ytick\"><text text-anchor=\"end\" x=\"79\" y=\"4.199999999999999\" style=\"font-family: 'Open Sans', verdana, arial, sans-serif; font-size: 12px; fill: rgb(242, 245, 250); fill-opacity: 1; white-space: pre; opacity: 1;\" transform=\"translate(0,261.35)\">200</text></g><g class=\"ytick\"><text text-anchor=\"end\" x=\"79\" y=\"4.199999999999999\" style=\"font-family: 'Open Sans', verdana, arial, sans-serif; font-size: 12px; fill: rgb(242, 245, 250); fill-opacity: 1; white-space: pre; opacity: 1;\" transform=\"translate(0,198.53)\">300</text></g><g class=\"ytick\"><text text-anchor=\"end\" x=\"79\" y=\"4.199999999999999\" style=\"font-family: 'Open Sans', verdana, arial, sans-serif; font-size: 12px; fill: rgb(242, 245, 250); fill-opacity: 1; white-space: pre; opacity: 1;\" transform=\"translate(0,135.71)\">400</text></g></g><g class=\"overaxes-above\"/></g></g><g class=\"polarlayer\"/><g class=\"smithlayer\"/><g class=\"ternarylayer\"/><g class=\"geolayer\"/><g class=\"funnelarealayer\"/><g class=\"pielayer\"/><g class=\"iciclelayer\"/><g class=\"treemaplayer\"/><g class=\"sunburstlayer\"/><g class=\"glimages\"/><defs id=\"topdefs-6d11dd\"><g class=\"clips\"/><clipPath id=\"legend6d11dd\"><rect width=\"151\" height=\"48\" x=\"0\" y=\"0\"/></clipPath></defs><g class=\"layer-above\"><g class=\"imagelayer\"/><g class=\"shapelayer\"/></g><g class=\"infolayer\"><g class=\"legend\" pointer-events=\"all\" transform=\"translate(536.96,100)\"><rect class=\"bg\" shape-rendering=\"crispEdges\" width=\"151\" height=\"48\" x=\"0\" y=\"0\" style=\"stroke: rgb(68, 68, 68); stroke-opacity: 1; fill: rgb(17, 17, 17); fill-opacity: 1; stroke-width: 0px;\"/><g class=\"scrollbox\" transform=\"\" clip-path=\"url(#legend6d11dd)\"><g class=\"groups\"><g class=\"traces\" transform=\"translate(0,14.5)\" style=\"opacity: 1;\"><text class=\"legendtext\" text-anchor=\"start\" x=\"40\" y=\"4.680000000000001\" style=\"font-family: 'Open Sans', verdana, arial, sans-serif; font-size: 12px; fill: rgb(242, 245, 250); fill-opacity: 1; white-space: pre;\">дополнительный</text><g class=\"layers\" style=\"opacity: 1;\"><g class=\"legendfill\"/><g class=\"legendlines\"/><g class=\"legendsymbols\"><g class=\"legendpoints\"><path class=\"legendundefined\" d=\"M6,6H-6V-6H6Z\" transform=\"translate(20,0)\" style=\"stroke-width: 0.5px; fill: rgb(171, 99, 250); fill-opacity: 1; stroke: rgb(17, 17, 17); stroke-opacity: 1;\"/></g></g></g><rect class=\"legendtoggle\" x=\"0\" y=\"-9.5\" width=\"145.71875\" height=\"19\" style=\"fill: rgb(0, 0, 0); fill-opacity: 0;\"/></g><g class=\"traces\" transform=\"translate(0,33.5)\" style=\"opacity: 1;\"><text class=\"legendtext\" text-anchor=\"start\" x=\"40\" y=\"4.680000000000001\" style=\"font-family: 'Open Sans', verdana, arial, sans-serif; font-size: 12px; fill: rgb(242, 245, 250); fill-opacity: 1; white-space: pre;\">основной</text><g class=\"layers\" style=\"opacity: 1;\"><g class=\"legendfill\"/><g class=\"legendlines\"/><g class=\"legendsymbols\"><g class=\"legendpoints\"><path class=\"legendundefined\" d=\"M6,6H-6V-6H6Z\" transform=\"translate(20,0)\" style=\"stroke-width: 0.5px; fill: rgb(254, 203, 82); fill-opacity: 1; stroke: rgb(17, 17, 17); stroke-opacity: 1;\"/></g></g></g><rect class=\"legendtoggle\" x=\"0\" y=\"-9.5\" width=\"145.71875\" height=\"19\" style=\"fill: rgb(0, 0, 0); fill-opacity: 0;\"/></g></g></g><rect class=\"scrollbar\" rx=\"20\" ry=\"3\" width=\"0\" height=\"0\" x=\"0\" y=\"0\" style=\"fill: rgb(128, 139, 164); fill-opacity: 1;\"/></g><g class=\"g-gtitle\"><text class=\"gtitle\" x=\"35\" y=\"50\" text-anchor=\"start\" dy=\"0em\" style=\"font-family: 'Open Sans', verdana, arial, sans-serif; font-size: 20px; fill: rgb(242, 245, 250); opacity: 1; font-weight: normal; white-space: pre;\">Продажи основных и дополнительных товаров по месяцам</text></g><g class=\"g-xtitle\"/><g class=\"g-ytitle\"/></g></svg>"
      ]
     },
     "metadata": {},
     "output_type": "display_data"
    }
   ],
   "source": [
    "fig = go.Figure(data=[\n",
    "    go.Bar(name='дополнительный',\n",
    "           x=[month_assort_group['year'], month_assort_group['month']],\n",
    "           y=month_assort_group['additional_product']),\n",
    "    go.Bar(name='основной',\n",
    "           x=[month_assort_group['year'], month_assort_group['month']],\n",
    "           y=month_assort_group['basic_product'])\n",
    "])\n",
    "fig.update_layout(title_text='Продажи основных и дополнительных товаров по месяцам',\n",
    "                  title_font_size=20,\n",
    "                  barmode='group',\n",
    "                  template=\"plotly_dark\",\n",
    "                  colorway=['#AB63FA', '#FECB52']\n",
    "                  )\n",
    "\n",
    "fig.show()"
   ]
  },
  {
   "cell_type": "markdown",
   "id": "d0b812b5",
   "metadata": {},
   "source": [
    "На этом графике мы видим, что октябрь и ноябрь 2019 сильно отличаются от показателей год назад. Самый большой разрыв в продажах основных и дополнительных товаров был в фефрале 2019 - 220 штук, а самый маленький в ноябре 2019 - 75 товаров. В целом динамика продаж такаяже, как на графике без разделения на основной и дополнительный ассортимент: рост продаж к апрелю, всплеск, затем спад. "
   ]
  },
  {
   "cell_type": "markdown",
   "id": "28819f18",
   "metadata": {},
   "source": [
    "## Разделение товара на категории"
   ]
  },
  {
   "cell_type": "markdown",
   "id": "35ae035e",
   "metadata": {},
   "source": [
    "нужно разделить товары на категории\n",
    "сначала приведем в более удобную форму названия товара, для этого применим регулярные выражения,\n",
    "лемматизацию и подсчет каждого слова"
   ]
  },
  {
   "cell_type": "code",
   "execution_count": 46,
   "id": "66205826",
   "metadata": {},
   "outputs": [],
   "source": [
    "wnl = WordNetLemmatizer()\n",
    "product_names = data['product'].unique()"
   ]
  },
  {
   "cell_type": "code",
   "execution_count": 47,
   "id": "fe686e86",
   "metadata": {
    "scrolled": true
   },
   "outputs": [
    {
     "name": "stdout",
     "output_type": "stream",
     "text": [
      "Counter({'см': 1085, 'для': 537, 'х': 362, 'рассада': 221, 'шт': 212, 'сорт': 171, 'белья': 140, 'сушилка': 116, 'объем': 114, 'кассете': 103, 'по': 101, 'диам': 95, 'томата': 93, 'помидор': 93, 'горшке': 88, 'пеларгония': 86, 'сумкатележка': 84, 'из': 81, 'доска': 75, 'хозяйственная': 75, 'мл': 74, 'ника': 74, 'белая': 74, 'гладильная': 73, 'коврик': 72, 'ванной': 72, 'кухни': 71, 'зелени': 68, 'муляж': 68, 'кассета': 67, 'среднеспелый': 67, 'красный': 61, 'зональная': 61, 'хх': 60, 'роза': 59, 'чехол': 58, 'белый': 54, 'искусственный': 54, 'цветок': 53, 'цветов': 53, 'штора': 52, 'комнаты': 52, 'на': 50, 'индетерминантный': 50, 'доски': 49, 'россия': 49, 'махровая': 49, 'петуния': 47, 'красная': 46, 'набор': 45, 'пластмассовый': 43, 'полиуретан': 41, 'однолетних': 41, 'гладильной': 40, 'хлопок': 39, 'придверный': 39, 'черный': 39, 'раннеспелый': 38, 'садовая': 36, 'детерминантный': 36, 'таз': 35, 'цвет': 35, 'синяя': 35, 'пластиковая': 33, 'оранжевый': 33, 'мм': 33, 'крышкой': 33, 'ручкой': 32, 'розовая': 32, 'ассортименте': 31, 'микс': 31, 'пвх': 31, 'кг': 31, 'растение': 30, 'розовый': 30, 'тарелка': 30, 'капусты': 30, 'скатерть': 29, 'горшок': 29, 'вешалка': 28, 'потолочная': 28, 'штуки': 28, 'напольная': 27, 'синий': 27, 'с': 26, 'алюминиевая': 26, 'лиана': 26, 'со': 25, 'ампельная': 25, 'желтый': 24, 'виолет': 24, 'корзина': 23, 'л': 23, 'стремянка': 23, 'герань': 22, 'пищевой': 22, 'штук': 22, 'домашняя': 21, 'цветущая': 21, 'коричневый': 21, 'черная': 21, 'полиэстер': 21, 'вт': 21, 'кашпо': 21, 'укорененный': 21, 'черенок': 21, 'чайногибридная': 21, 'настенная': 20, 'зеленый': 20, 'полумахровая': 20, 'стали': 20, 'серая': 20, 'смесь': 20, 'покрытием': 19, 'мини': 19, 'простая': 19, 'тележка': 19, 'банка': 19, 'люкс': 19, 'одежды': 19, 'нержавеющей': 18, 'салатник': 18, 'мята': 18, 'белокачанная': 18, 'колесная': 17, 'франция': 17, 'чайник': 17, 'текстильная': 17, 'голубой': 17, 'сталь': 16, 'бежевая': 16, 'контейнер': 16, 'упаковке': 16, 'калибрахоа': 16, 'однолетнее': 16, 'ступенчатая': 15, 'м': 15, 'диаметр': 15, 'ступени': 15, 'подвесное': 15, 'металлическая': 14, 'желтая': 14, 'багажная': 14, 'грузоподъемность': 14, 'пластик': 14, 'цикламен': 14, 'щетка': 14, 'кружка': 14, 'флокс': 14, 'фиолетовая': 14, 'сумка': 13, 'нож': 13, 'горшка': 13, 'полимербыт': 13, 'пластиковый': 13, 'огурца': 13, 'бежевый': 12, 'каркас': 12, 'круглая': 12, 'букет': 12, 'кольцами': 12, 'фуксия': 12, 'электрический': 12, 'десертная': 12, 'примула': 12, 'метельчатый': 12, 'базилик': 11, 'обеденная': 11, 'ложка': 11, 'малиновая': 11, 'без': 11, 'хсм': 11, 'прямоугольный': 11, 'ве': 11, 'серый': 11, 'хранения': 11, 'мытья': 11, 'капуста': 11, 'полки': 11, 'тимьян': 11, 'вербена': 11, 'комнатное': 10, 'яблоко': 10, 'полиэфир': 10, 'прямоугольная': 10, 'тбр': 10, 'ванны': 10, 'полотенце': 10, 'тыквы': 10, 'стеклянная': 10, 'салфетка': 10, 'фиалка': 10, 'швабра': 10, 'ведро': 10, 'сиреневая': 10, 'огурец': 10, 'пуансеттия': 10, 'комнатная': 10, 'цветная': 10, 'круглый': 9, 'хлопка': 9, 'столовая': 9, 'иж': 9, 'лестницастремянка': 9, 'овальный': 9, 'душа': 9, 'гм': 9, 'ручками': 9, 'овальная': 9, 'резины': 9, 'бегония': 9, 'окрасок': 9, 'бакопа': 9, 'виноград': 8, 'деревянная': 8, 'посуды': 8, 'потолочнонастенная': 8, 'гвоздика': 8, 'деревянной': 8, 'хлопковый': 8, 'цвета': 8, 'эмалированный': 8, 'декоративная': 8, 'влаговпитывающий': 8, 'сковорода': 8, 'петрушка': 8, 'покрытие': 8, 'карниз': 8, 'мусора': 8, 'розмарин': 8, 'бальзамин': 8, 'космея': 8, 'т': 8, 'обуви': 8, 'ллп': 8, 'розебудная': 8, 'блю': 8, 'дыня': 8, 'перец': 7, 'томат': 7, 'под': 7, 'ёрш': 7, 'сб': 7, 'ковер': 7, 'перчатки': 7, 'минеральные': 7, 'воды': 7, 'цветной': 7, 'хризантема': 7, 'антипригарным': 7, 'складная': 7, 'жаккард': 7, 'паста': 7, 'антуриум': 7, 'блэк': 7, 'обыкновенная': 7, 'спирелла': 7, 'хром': 7, 'прозрачный': 7, 'большой': 7, 'вешалок': 7, 'тюльпан': 7, 'коробка': 7, 'противоскользящий': 7, 'суповая': 7, 'новогвинейский': 7, 'средство': 7, 'лаванда': 7, 'дерево': 7, 'пластмассовой': 7, 'фуксии': 7, 'подарочной': 7, 'оранжевая': 7, 'виола': 7, 'нержавеющая': 7, 'серебро': 7, 'сальвия': 7, 'белым': 7, 'окон': 7, 'малая': 7, 'кабачка': 7, 'скороспелая': 7, 'кофе': 6, 'клубника': 6, 'лимон': 6, 'большая': 6, 'красным': 6, 'алюминиевый': 6, 'хозлэнд': 6, 'коричневая': 6, 'стандарт': 6, 'чистки': 6, 'овощей': 6, 'эвкалипт': 6, 'лососевая': 6, 'рр': 6, 'оцинкованная': 6, 'свистком': 6, 'стеклянной': 6, 'ярко': 6, 'композиция': 6, 'ребристый': 6, 'размер': 6, 'азалия': 6, 'поролоном': 6, 'зеленая': 6, 'андрианум': 6, 'бамбук': 6, 'перекладиной': 6, 'малый': 6, 'насадка': 6, 'классик': 6, 'голубая': 6, 'оранж': 6, 'белое': 6, 'махровое': 6, 'пластика': 6, 'василиса': 6, 'зми': 6, 'медный': 6, 'шоколад': 6, 'алюминий': 6, 'эльфпласт': 6, 'угловая': 6, 'ванну': 6, 'ель': 6, 'листов': 6, 'золотой': 6, 'раздвижной': 6, 'лиловая': 6, 'марта': 6, 'комнатный': 6, 'овощной': 6, 'крупноцветковый': 6, 'прожилками': 6, 'арбуза': 6, 'раннеспелая': 6, 'среднеспелая': 6, 'кольраби': 6, 'арабика': 5, 'досок': 5, 'груша': 5, 'красное': 5, 'ручка': 5, 'тележки': 5, 'вилка': 5, 'подставкой': 5, 'сиреневый': 5, 'поролон': 5, 'фужеров': 5, 'сильвер': 5, 'ажурная': 5, 'д': 5, 'комплект': 5, 'лавр': 5, 'цветка': 5, 'кофр': 5, 'резиновый': 5, 'встроенными': 5, 'штангу': 5, 'полиамидное': 5, 'дсп': 5, 'лоток': 5, 'н': 5, 'зубная': 5, 'гербера': 5, 'премиум': 5, 'лувр': 5, 'стелла': 5, 'металлической': 5, 'противоскользящим': 5, 'валиант': 5, 'грин': 5, 'кокоса': 5, 'ромашка': 5, 'дизайном': 5, 'микрофибры': 5, 'полиэстера': 5, 'универсальный': 5, 'чайный': 5, 'мт': 5, 'горох': 5, 'стакан': 5, 'травы': 5, 'микрофибра': 5, 'антик': 5, 'выпечки': 5, 'ротанг': 5, 'пола': 5, 'алиссум': 5, 'весы': 5, 'подставка': 5, 'мультиколор': 5, 'пластиковой': 5, 'нидерланды': 5, 'новогоднее': 5, 'предметов': 5, 'термокружка': 5, 'термос': 5, 'свч': 5, 'текстиль': 5, 'сн': 5, 'кастрюля': 5, 'подарок': 5, 'а': 5, 'подарочный': 5, 'открыткой': 5, 'парковая': 5, 'оффициналис': 5, 'крупноцветковая': 5, 'декабрист': 5, 'мегакрупная': 5, 'дыни': 5, 'лобелия': 5, 'крым': 5, 'полосатый': 5, 'стальная': 5, 'арбуз': 5, 'пчелоопыляемый': 5, 'спрей': 5, 'гранат': 4, 'магните': 4, 'щеткасметка': 4, 'рядная': 4, 'чайная': 4, 'рисунком': 4, 'интерьерный': 4, 'унитазный': 4, 'мультипласт': 4, 'вишня': 4, 'вина': 4, 'плед': 4, 'флисовый': 4, 'чили': 4, 'простыня': 4, 'ем': 4, 'пластхозторг': 4, 'искуственных': 4, 'три': 4, 'индика': 4, 'гортензия': 4, 'крышка': 4, 'гр': 4, 'мыло': 4, 'ступеней': 4, 'строительный': 4, 'ящик': 4, 'эльза': 4, 'розоцветная': 4, 'ред': 4, 'плечиками': 4, 'универсальная': 4, 'кутюр': 4, 'дем': 4, 'переработанной': 4, 'стоунмания': 4, 'шнур': 4, 'уличная': 4, 'сиденье': 4, 'радуга': 4, 'флауэр': 4, 'серия': 4, 'клубневая': 4, 'ворсовый': 4, 'степанов': 4, 'внп': 4, 'акаулис': 4, 'деликатных': 4, 'вещей': 4, 'браун': 4, 'арти': 4, 'дендробиум': 4, 'ствол': 4, 'кухонный': 4, 'львиный': 4, 'зев': 4, 'жестяная': 4, 'ртк': 4, 'покрывало': 4, 'канадская': 4, 'коника': 4, 'малиновый': 4, 'махровых': 4, 'этажерка': 4, 'колбой': 4, 'разделочная': 4, 'корея': 4, 'сапфир': 4, 'подвесной': 4, 'донна': 4, 'де': 4, 'мешок': 4, 'примулы': 4, 'луковиц': 4, 'чудо': 4, 'свит': 4, 'табак': 4, 'цинния': 4, 'пиперита': 4, 'телескопической': 4, 'звезда': 4, 'сильвердроп': 4, 'ячейки': 4, 'е': 4, 'плющелистная': 4, 'чашелистом': 4, 'р': 4, 'средняя': 4, 'закрытая': 4, 'астра': 4, 'патиссон': 4, 'нло': 4, 'зверобой': 4, 'продырявленный': 4, 'листовая': 4, 'брюк': 3, 'тонус': 3, 'банан': 3, 'мандарин': 3, 'столовый': 3, 'коралловая': 3, 'туалета': 3, 'крышки': 3, 'эхеверия': 3, 'сетка': 3, 'войлок': 3, 'мусорный': 3, 'кувшин': 3, 'связке': 3, 'латексные': 3, 'оранжевым': 3, 'арктик': 3, 'волокна': 3, 'кремовый': 3, 'пузырьки': 3, 'сэ': 3, 'плечики': 3, 'пластмассовые': 3, 'кухонное': 3, 'биколор': 3, 'розовокрасная': 3, 'верона': 3, 'сковороды': 3, 'миксер': 3, 'мокружка': 3, 'пыли': 3, 'стремянки': 3, 'кориандр': 3, 'арарат': 3, 'подрукавник': 3, 'до': 3, 'иссоп': 3, 'лекарственный': 3, 'аспарагус': 3, 'бэлльюниор': 3, 'бю': 3, 'металл': 3, 'налета': 3, 'душица': 3, 'мелисса': 3, 'лекарственная': 3, 'кордана': 3, 'веник': 3, 'сорго': 3, 'алюминевая': 3, 'унитаза': 3, 'салатовая': 3, 'подголовник': 3, 'вешалкаплечики': 3, 'эссенции': 3, 'мак': 3, 'бутона': 3, 'нарцисс': 3, 'синтетического': 3, 'стеганый': 3, 'бамбука': 3, 'бытовая': 3, 'керамическим': 3, 'г': 3, 'полипропиленовый': 3, 'баклажан': 3, 'урна': 3, 'хоббика': 3, 'кот': 3, 'длина': 3, 'терка': 3, 'красной': 3, 'крючком': 3, 'краснорозовая': 3, 'поверхностей': 3, 'вешалкастойка': 3, 'каланхое': 3, 'каландива': 3, 'резиновая': 3, 'ручной': 3, 'холодца': 3, 'скп': 3, 'стэма': 3, 'вешалки': 3, 'мягкие': 3, 'светлобежевый': 3, 'стекла': 3, 'цветы': 3, 'крючка': 3, 'пинк': 3, 'пурпл': 3, 'топпером': 3, 'день': 3, 'учителя': 3, 'патио': 3, 'бокалов': 3, 'стаканов': 3, 'в': 3, 'металлический': 3, 'настурция': 3, 'сбб': 3, 'стальной': 3, 'воларэ': 3, 'силиконовая': 3, 'скребок': 3, 'календула': 3, 'король': 3, 'наволочки': 3, 'пластмассовая': 3, 'напольные': 3, 'электронные': 3, 'фаленопсис': 3, 'миска': 3, 'одеяло': 3, 'стенкой': 3, 'петля': 3, 'предмета': 3, 'объемный': 3, 'овальным': 3, 'окном': 3, 'джулия': 3, 'золотая': 3, 'капучино': 3, 'колесах': 3, 'каймой': 3, 'махровый': 3, 'плантация': 3, 'гидрофобной': 3, 'пропиткой': 3, 'емкость': 3, 'стирки': 3, 'ножей': 3, 'крючок': 3, 'проволочный': 3, 'бук': 3, 'отжимом': 3, 'совок': 3, 'хлебница': 3, 'розы': 3, 'ландыш': 3, 'ведра': 3, 'искусственная': 3, 'темная': 3, 'колесиках': 3, 'костюма': 3, 'заварочный': 3, 'белыйчёрный': 3, 'подснежник': 3, 'форма': 3, 'пряной': 3, 'ауреум': 3, 'голд': 3, 'спатифиллум': 3, 'фиолетовый': 3, 'земляника': 3, 'калла': 3, 'гибридная': 3, 'высота': 3, 'металлическим': 3, 'белозеленая': 3, 'газания': 3, 'красавица': 3, 'бургунди': 3, 'икс': 3, 'цитрата': 3, 'колокольчик': 3, 'остеоспермум': 3, 'полка': 3, 'окномойка': 3, 'вечноцветущая': 3, 'ткань': 3, 'поздняя': 3, 'клубники': 3, 'латекса': 3, 'подвесном': 3, 'сельдерей': 3, 'позднеспелый': 3, 'прищепки': 3, 'дачница': 3, 'гигант': 3, 'кабан': 3, 'медовый': 3, 'замком': 3, 'тагетис': 3, 'портулак': 3, 'стену': 3, 'белыми': 3, 'целозия': 3, 'патиссона': 3, 'оптимист': 3, 'венге': 3, 'керамика': 3, 'лепестками': 3, 'вера': 2, 'шеффлера': 2, 'мягкая': 2, 'мпластика': 2, 'многолетнее': 2, 'тимьянчабрец': 2, 'мелиссы': 2, 'зеленое': 2, 'черешня': 2, 'плоская': 2, 'поиск': 2, 'риф': 2, 'комбинированная': 2, 'ерш': 2, 'сиреневокрасная': 2, 'глаженного': 2, 'подкладка': 2, 'пива': 2, 'дозатор': 2, 'мыла': 2, 'персик': 2, 'ваир': 2, 'гунни': 2, 'династия': 2, 'сливочная': 2, 'батарею': 2, 'темнорозовая': 2, 'ми': 2, 'толкушка': 2, 'маргарита': 2, 'квадратный': 2, 'цинк': 2, 'роз': 2, 'бархатная': 2, 'бутоном': 2, 'эксперт': 2, 'калатея': 2, 'полимерных': 2, 'материалов': 2, 'мп': 2, 'подушка': 2, 'атланта_': 2, 'хлорофитум': 2, 'малиновым': 2, 'розовомалиновая': 2, 'глоксиния': 2, 'металлизированый': 2, 'скоростных': 2, 'режимов': 2, 'концентрированный': 2, 'мирт': 2, 'цветущее': 2, 'металлизированный': 2, 'сердце': 2, 'универсал': 2, 'шалфея': 2, 'принт': 2, 'малиново': 2, 'жидкое': 2, 'тх': 2, 'пэмби': 2, 'складной': 2, 'аквамарин': 2, 'сантолина': 2, 'афеляндра': 2, 'скуарроса': 2, 'дания': 2, 'автополивом': 2, 'сверлофреза': 2, 'нитрид': 2, 'титана': 2, 'секционный': 2, 'перф': 2, 'молодило': 2, 'доскастремянка': 2, 'штор': 2, 'ти': 2, 'многофункциональная': 2, 'держатель': 2, 'элп': 2, 'фанера': 2, 'расширенными': 2, 'закругленными': 2, 'короб': 2, 'стеллажный': 2, 'мягких': 2, 'тканевых': 2, 'сальса': 2, 'лаванды': 2, 'розмарина': 2, 'тимьяна': 2, 'тёмнорозовый': 2, 'одиночный': 2, 'блузок': 2, 'односпальный': 2, 'пц': 2, 'утюг': 2, 'топ': 2, 'корыто': 2, 'оцинкованное': 2, 'бесшовное': 2, 'душицаорегано': 2, 'холодная': 2, 'сварка': 2, 'сервировочная': 2, 'кружевной': 2, 'стк': 2, 'ананас': 2, 'светлокоричневый': 2, 'морковь': 2, 'серокоричневый': 2, 'персиковая': 2, 'эмалированных': 2, 'салатников': 2, 'ветка': 2, 'розебад': 2, 'клипсами': 2, 'рыбочистка': 2, 'полипропилен': 2, 'халат': 2, 'измерительный': 2, 'угольник': 2, 'маскарад': 2, 'керамическая': 2, 'ф': 2, 'чая': 2, 'лили': 2, 'обувная': 2, 'крашенная': 2, 'лопатка': 2, 'шампанского': 2, 'полоску': 2, 'к': 2, 'крокус': 2, 'ирис': 2, 'темнозеленый': 2, 'крассула': 2, 'швабре': 2, 'удаления': 2, 'известкового': 2, 'приборов': 2, 'светлая': 2, 'крыльями': 2, 'тесненым': 2, 'вл': 2, 'голубым': 2, 'пробка': 2, 'спираль': 2, 'гарден': 2, 'дорожный': 2, 'бордовый': 2, 'аксинья': 2, 'кс': 2, 'корпус': 2, 'жаропрочного': 2, 'розовыми': 2, 'цветами': 2, 'амори': 2, 'биантэ': 2, 'анис': 2, 'дсг': 2, 'санок': 2, 'антижир': 2, 'мимоза': 2, 'полотенец': 2, 'универсальное': 2, 'калитва': 2, 'термометр': 2, 'уличный': 2, 'почтовый': 2, 'универсальных': 2, 'ковш': 2, 'кухонные': 2, 'мяса': 2, 'нхм': 2, 'метиз': 2, 'мока': 2, 'кисточка': 2, 'кондитерский': 2, 'полов': 2, 'комод': 2, 'гель': 2, 'страсть': 2, 'кореопсис': 2, 'клик': 2, 'лапчатка': 2, 'пламя': 2, 'цинерария': 2, 'серебряная': 2, 'п': 2, 'посудомоечных': 2, 'машин': 2, 'польша': 2, 'гардеробная': 2, 'диффенбахия': 2, 'пододеяльник': 2, 'королевский': 2, 'белль': 2, 'бк': 2, 'рисунка': 2, 'оцинкованный': 2, 'кокосовый': 2, 'термостакан': 2, 'аптения': 2, 'рондо': 2, 'элиз': 2, 'китай': 2, 'механические': 2, 'продуктов': 2, 'сербская': 2, 'листопад': 2, 'работы': 2, 'розовым': 2, 'рояльная': 2, 'супер': 2, 'салфеток': 2, 'сидней': 2, 'вантуз': 2, 'бронзовая': 2, 'зима_': 2, 'японская': 2, 'карин': 2, 'леди': 2, 'о': 2, 'арлет': 2, 'фарфоровая': 2, 'полкой': 2, 'крючков': 2, 'св': 2, 'лиловый': 2, 'сбг': 2, 'белоголубая': 2, 'беатрис': 2, 'гуси': 2, 'ц': 2, 'сциндапсус': 2, 'одноголовая': 2, 'узор': 2, 'тефлон': 2, 'муза': 2, 'чай': 2, 'взрослое': 2, 'чёрный': 2, 'чугунная': 2, 'лина': 2, 'дл': 2, 'эко': 2, 'бирюзовая': 2, 'оранжевое': 2, 'морской': 2, 'плющ': 2, 'эмпилабль': 2, 'эклипс': 2, 'пылесос': 2, 'сбора': 2, 'мощность': 2, 'всасывания': 2, 'верхней': 2, 'длинной': 2, 'садовый': 2, 'фал': 2, 'штанга': 2, 'гобразная': 2, 'ориганум': 2, 'лилейник': 2, 'стол': 2, 'термостатический': 2, 'вайт': 2, 'розовые': 2, 'классика': 2, 'моравское': 2, 'рисунок': 2, 'луковицы': 2, 'розовой': 2, 'аквилегия': 2, 'незабудка': 2, 'седум': 2, 'монгольский': 2, 'карлик': 2, 'бордовая': 2, 'перечная': 2, 'валенсия': 2, 'душистый': 2, 'овальное': 2, 'малиновой': 2, 'серединой': 2, 'фильтром': 2, 'рукав': 2, 'георгина': 2, 'тип': 2, 'котон': 2, 'телескоп': 2, 'попсокс': 2, 'пурпурные': 2, 'звезды': 2, 'колосистая': 2, 'лайм': 2, 'белокрасная': 2, 'мун': 2, 'алюминиевой': 2, 'урнапепельница': 2, 'подметания': 2, 'шва': 2, 'баскью': 2, 'шаймет': 2, 'криг': 2, 'каучука': 2, 'полиэтилен': 2, 'сладкий': 2, 'касади': 2, 'мэджик': 2, 'резинкой': 2, 'анемона': 2, 'метельчатая': 2, 'огонек': 2, 'сибирские': 2, 'огни': 2, 'шуга': 2, 'алтайская': 2, 'дина': 2, 'колхозница': 2, 'зенга': 2, 'зенгана': 2, 'циния': 2, 'насадкамоп': 2, 'вкраплениями': 2, 'итальянской': 2, 'резьбой': 2, 'гардения': 2, 'июньская': 2, 'хоней': 2, 'экспресс': 2, 'свет': 2, 'хуторянка': 2, 'максима': 2, 'триколор': 2, 'роуз': 2, 'бельевые': 2, 'улыбка': 2, 'краснокачанная': 2, 'победа': 2, 'регатта': 2, 'тигр': 2, 'зебра': 2, 'мохнатый': 2, 'черри': 2, 'шалун': 2, 'бугельным': 2, 'серебристая': 2, 'мяты': 2, 'колеус': 2, 'цинерания': 2, 'брызгами': 2, 'гребенчатая': 2, 'брокколи': 2, 'фортуна': 2, 'листовой': 2, 'позднеспелая': 2, 'диск': 2, 'корневая': 2, 'сахарная': 2, 'гулливер': 2, 'гарантия': 2, 'лечебная': 2, 'атос': 2, 'фатсия': 2, 'беж': 2, 'кабачок': 2, 'венская': 2, 'монарда': 2, 'аккорд': 2, 'вариегата': 2, 'осина': 2, 'сакура': 2, 'слуга': 2, 'сосна': 2, 'камнеломка': 2, 'эден': 2, 'прессованное': 2, 'карпатский': 2, 'шпагат': 2, 'ктекс': 2, 'стеллаж': 2, 'бидон': 2, 'лантана': 2, 'итальянский': 2, 'новый': 2, 'акрил': 2, 'от': 2, 'яруса': 2, 'инструментов': 2, 'рук': 2, 'соковарка': 2, 'жаклин': 2, 'тефлоновый': 2, 'рим': 2, 'салат': 2, 'рукола': 2, 'прямостоячая': 2, 'эхинокактус': 2, 'грузони': 2, 'алое': 1, 'радермахера': 1, 'хризолидокарпус': 1, 'лутесценс': 1, 'циперус': 1, 'зумула': 1, 'лузеана': 1, 'юкка': 1, 'нитчатая': 1, 'водолей': 1, 'резиновым': 1, 'райские': 1, 'яблочки': 1, 'зеленые': 1, 'персики': 1, 'фигурная': 1, 'ворс': 1, 'фиц': 1, 'фарфор': 1, 'полумахровый': 1, 'веревочная': 1, 'линий': 1, 'котел': 1, 'балезино': 1, 'суккулент': 1, 'перл': 1, 'фон': 1, 'нюрнберг': 1, 'прищепок': 1, 'большие': 1, 'пластиковые': 1, 'пиноккио': 1, 'прима': 1, 'рельефным': 1, 'сушки': 1, 'кружек': 1, 'гамбург': 1, 'вишневый': 1, 'дампьер': 1, 'тканевая': 1, 'ванную': 1, 'комнату': 1, 'полистирол': 1, 'серожелтая': 1, 'айленд_': 1, 'кумган': 1, 'адиантум': 1, 'лиза': 1, 'дома': 1, 'утолщенные': 1, 'картофеля': 1, 'готовая': 1, 'резинке': 1, 'односпальная': 1, 'алые': 1, 'маки': 1, 'бутылки': 1, 'натурального': 1, 'металла': 1, 'тп': 1, 'разноцветные': 1, 'розовжелтбелый': 1, 'лднт': 1, 'ковров': 1, 'офелия': 1, 'ххсм': 1, 'серыйбежевый': 1, 'стяжка': 1, 'оконная': 1, 'болтом': 1, 'ст': 1, 'кампанула': 1, 'двухцветная': 1, 'душистая': 1, 'закрытым': 1, 'противень': 1, 'нолина': 1, 'керамике': 1, 'флисовая': 1, 'клетка': 1, 'мила': 1, 'космо': 1, 'одри': 1, 'дво': 1, 'вкладыши': 1, 'сероголубой': 1, 'насадки': 1, 'турборежим': 1, 'индия': 1, 'зигзаг': 1, 'медикаментов': 1, 'отделений': 1, 'стиральный': 1, 'биопорошок': 1, 'белого': 1, 'чистящий': 1, 'крем': 1, 'трудновыводимых': 1, 'пятен': 1, 'индонезия': 1, 'смахивания': 1, 'разноцветная': 1, 'керамической': 1, 'французский': 1, 'шарм': 1, 'черая': 1, 'стиральной': 1, 'доской': 1, 'минисковорода': 1, 'светильник': 1, 'настольный': 1, 'ламп': 1, 'светодиодный': 1, 'сенсорный': 1, 'диммером': 1, 'платья': 1, 'нетканного': 1, 'материала': 1, 'хозяйственное': 1, 'ковёр': 1, 'лапша': 1, 'ажурный': 1, 'пена': 1, 'ванн': 1, 'хвойная': 1, 'пихта': 1, 'меркой': 1, 'навесная': 1, 'сверел': 1, 'дереву': 1, 'са': 1, 'хромированной': 1, 'эффектом': 1, 'отбеливания': 1, 'кофейного': 1, 'никотинового': 1, 'тонкой': 1, 'нарезки': 1, 'пилообразный': 1, 'мейера': 1, 'мерседес': 1, 'карнавал': 1, 'кристалл': 1, 'тобаго': 1, 'телескопический': 1, 'мя': 1, 'швами': 1, 'малиновокрасная': 1, 'аметист': 1, 'керамический': 1, 'палубная': 1, 'черенка': 1, 'угловой': 1, 'стп': 1, 'розебуд': 1, 'молодые': 1, 'растения': 1, 'зелёныйбелый': 1, 'перекладины': 1, 'треугольная': 1, 'форест': 1, 'полукруглый': 1, 'розетта': 1, 'ножеточка': 1, 'рыбка': 1, 'одиночная': 1, 'алая': 1, 'раскрытый': 1, 'бутон': 1, 'камушки': 1, 'транспарент': 1, 'блу': 1, 'айз': 1, 'корейская': 1, 'настольная': 1, 'нд': 1, 'масленка': 1, 'коровка': 1, 'грязеулавливающий': 1, 'молнии': 1, 'наматрасник': 1, 'наматрицникчехол': 1, 'стебель': 1, 'сбн': 1, 'бамбуковый': 1, 'молочный': 1, 'швабры': 1, 'многофункциональной': 1, 'искусственного': 1, 'пластмассы': 1, 'тула': 1, 'хоми': 1, 'серым': 1, 'труб': 1, 'батарей': 1, 'бэлль': 1, 'чеснок': 1, 'ванда': 1, 'корица': 1, 'чп': 1, 'манго': 1, 'блинов': 1, 'душицы': 1, 'гео': 1, 'рейнбоу': 1, 'текстильнаях': 1, 'рябины': 1, 'апельсин': 1, 'ванилла': 1, 'росспласт': 1, 'ажур': 1, 'рп': 1, 'овощеварка': 1, 'сметка': 1, 'совком': 1, 'престиж': 1, 'спящий': 1, 'вафельный': 1, 'виктория_': 1, 'салатовый': 1, 'линейка': 1, 'аллюр': 1, 'грани': 1, 'граней': 1, 'приготовления': 1, 'яиц': 1, 'глазунья': 1, 'ягода': 1, 'прорезями': 1, 'красного': 1, 'касабланка': 1, 'френч': 1, 'брассери': 1, 'гармония': 1, 'разноцветную': 1, 'салфетница': 1, 'хромированным': 1, 'низкий': 1, 'лабиринт': 1, 'напитков': 1, 'конус': 1, 'имитация': 1, 'альбука': 1, 'спиралис': 1, 'фризлсизл': 1, 'овощечистка': 1, 'плавающим': 1, 'лезвием': 1, 'овата': 1, 'артемизия': 1, 'полынь': 1, 'горькая': 1, 'сантехнических': 1, 'антикальций': 1, 'серобелый': 1, 'ролла': 1, 'бензин': 1, 'зажигалок': 1, 'полировки': 1, 'гои': 1, 'эконом': 1, 'эк': 1, 'белобежевая': 1, 'петлястрела': 1, 'пс': 1, 'рыбинск': 1, 'желудь': 1, 'туалетной': 1, 'бумаги': 1, 'мыльные': 1, 'пузыри': 1, 'измельчитель': 1, 'шк': 1, 'деревянный': 1, 'ножа': 1, 'соломка': 1, 'светлобирюзовый': 1, 'желтые': 1, 'губка': 1, 'резиновые': 1, 'универсальные': 1, 'облепиха': 1, 'подкроватный': 1, 'цепочкой': 1, 'мульти': 1, 'романтик': 1, 'фен': 1, 'черным': 1, 'режима': 1, 'мощности': 1, 'водоросли': 1, 'вн': 1, 'самоклеющая': 1, 'хсмлилии': 1, 'бежевыйбелый': 1, 'колорама': 1, 'рэд': 1, 'рапсоди': 1, 'сердечки': 1, 'полар': 1, 'файр': 1, 'калоцефалус': 1, 'брауни': 1, 'крашеный': 1, 'осенний': 1, 'каллуна': 1, 'герлс': 1, 'трехцветная': 1, 'капсикум': 1, 'жесткий': 1, 'леопард': 1, 'стыдливая': 1, 'кухонных': 1, 'мелиса_': 1, 'соланум': 1, 'основе': 1, 'хлора': 1, 'ддля': 1, 'сантехники': 1, 'других': 1, 'мантоварка': 1, 'сетки': 1, 'ролик': 1, 'слоев': 1, 'сменный': 1, 'блок': 1, 'ролика': 1, 'ангора': 1, 'ручке': 1, 'император': 1, 'виски': 1, 'карат': 1, 'окно': 1, 'липучках': 1, 'оконный': 1, 'тб': 1, 'ушками': 1, 'навесного': 1, 'замка': 1, 'домик': 1, 'ретро': 1, 'двр': 1, 'бархатцы': 1, 'веселая': 1, 'полянка': 1, 'очаровашка': 1, 'детская': 1, 'сладость': 1, 'драгоценность': 1, 'вишневорозовая': 1, 'засолочный': 1, 'каскад': 1, 'шило': 1, 'утолщенное': 1, 'мунлайт': 1, 'темнокоричневая': 1, 'николь': 1, 'ножницы': 1, 'орехоколом': 1, 'русская': 1, 'линия': 1, 'гурман': 1, 'ножом': 1, 'мятная': 1, 'лавандовый': 1, 'картофелемялка': 1, 'ароматизированное': 1, 'дудаления': 1, 'ржавчины': 1, 'бальзам': 1, 'испания': 1, 'ступенек': 1, 'лобулярия': 1, 'снежные': 1, 'турецкая': 1, 'роковая': 1, 'годеция': 1, 'рембранд': 1, 'сюрпрайз': 1, 'толл': 1, 'клюквенный': 1, 'кэнди': 1, 'страйп': 1, 'огненное': 1, 'волшебный': 1, 'друммонда': 1, 'пыль': 1, 'эшшольция': 1, 'карминный': 1, 'новая': 1, 'рассекатель': 1, 'пламени': 1, 'газовую': 1, 'плиту': 1, 'ополаскиватель': 1, 'глажения': 1, 'ява': 1, 'шенилл': 1, 'форм': 1, 'кексов': 1, 'постельного': 1, 'авеню': 1, 'стеганое': 1, 'бязь': 1, 'вешалкасушилка': 1, 'душевую': 1, 'кабину': 1, 'микроволокно': 1, 'подсолнечник': 1, 'низкорослый': 1, 'пуансетия': 1, 'пресс': 1, 'чеснока': 1, 'кашима': 1, 'примус': 1, 'лаура': 1, 'гиностемма': 1, 'кипарисовик': 1, 'лавсона': 1, 'элвуди': 1, 'камешки': 1, 'ракушками': 1, 'каучуковый': 1, 'фиорино': 1, 'дельта': 1, 'палас': 1, 'сыпучих': 1, 'круглой': 1, 'вкладкой': 1, 'мр': 1, 'красном': 1, 'ведерке': 1, 'мыльница': 1, 'прозрачная': 1, 'сба': 1, 'аквамаринбелый': 1, 'грандифлора': 1, 'натур': 1, 'свинюшка': 1, 'грязюшке': 1, 'защитный': 1, 'экран': 1, 'дуршлаг': 1, 'силикона': 1, 'многофункциональный': 1, 'инструмент': 1, 'функций': 1, 'стремянкатабурет': 1, 'бирюзовый': 1, 'оксид': 1, 'элатиор': 1, 'вена': 1, 'счв': 1, 'мясорубки': 1, 'лепесток': 1, 'топ_': 1, 'столовых': 1, 'кольца': 1, 'виктория': 1, 'сельма': 1, 'прямоуголная': 1, 'сепия': 1, 'маг': 1, 'крючками': 1, 'антипригарный': 1, 'чпа': 1, 'фоторамка': 1, 'фотографий': 1, 'узкая': 1, 'эт': 1, 'декоративном': 1, 'контейнере': 1, 'скиммия': 1, 'рубелла': 1, 'спренжери': 1, 'завтрак': 1, 'оаэ': 1, 'бест': 1, 'нб': 1, 'даймонд': 1, 'пористый': 1, 'домина': 1, 'алфавит': 1, 'светлобежевая': 1, 'кондиционер': 1, 'свежесть': 1, 'океана': 1, 'флакон': 1, 'бабочка': 1, 'четырьмя': 1, 'разъемными': 1, 'перекладинами': 1, 'впс': 1, 'бс': 1, 'тяжелая': 1, 'виниловая': 1, 'тисненая': 1, 'ажурной': 1, 'водонепроницаемая': 1, 'тд': 1, 'изменчивость': 1, 'электроштопор': 1, 'батарейках': 1, 'хаа': 1, 'основа': 1, 'черепаха': 1, 'швабрамоп': 1, 'механизмом': 1, 'отжима': 1, 'латте': 1, 'простынь': 1, 'вафельная': 1, 'деревянных': 1, 'подсолнухов': 1, 'металической': 1, 'фиттония': 1, 'скелетон': 1, 'светлокоричневая': 1, 'томрис': 1, 'лондон': 1, 'бульонница': 1, 'мистигри': 1, 'сбпс': 1, 'алоэ': 1, 'родос': 1, 'кения': 1, 'ва': 1, 'красныммалиновым': 1, 'ключница': 1, 'картина': 1, 'замок': 1, 'мантоваркапароварка': 1, 'картонная': 1, 'уголками': 1, 'клубки': 1, 'пряжи': 1, 'серыйрозовый': 1, 'герметичный': 1, 'дымчатый': 1, 'пластмассовых': 1, 'соуса': 1, 'ложкой': 1, 'фикус': 1, 'каучуконосный': 1, 'эластика': 1, 'абиджан': 1, 'мариса': 1, 'защитная': 1, 'соль': 1, 'гипоаллергенный': 1, 'тканей': 1, 'готический': 1, 'пластмассовое': 1, 'куэна': 1, 'вешалкаперекладина': 1, 'двойная': 1, 'антискользящим': 1, 'мерная': 1, 'серочерный': 1, 'шампань': 1, 'модульная': 1, 'одноуровневая': 1, 'ролл': 1, 'детские': 1, 'лестница': 1, 'конёк': 1, 'тс': 1, 'краником': 1, 'берлин': 1, 'ракушки': 1, 'латунь': 1, 'просеиватель': 1, 'муки': 1, 'прямоугольнаях': 1, 'настольные': 1, 'ксе': 1, 'медь': 1, 'мужчина': 1, 'розой': 1, 'двм': 1, 'дсж_йота_': 1, 'комфорт': 1, 'вкс': 1, 'фиксатором': 1, 'кодонанта': 1, 'добро': 1, 'пожаловать': 1, 'средний': 1, 'инжи': 1, 'быстрого': 1, 'жировых': 1, 'загрязнений': 1, 'стальных': 1, 'длинных': 1, 'рукоятках': 1, 'доминик': 1, 'серебристый': 1, 'кб': 1, 'белльюниор': 1, 'сити': 1, 'пикассо': 1, 'сина': 1, 'шэйдс': 1, 'желтооранжевая': 1, 'насадкаотжим': 1, 'дивали': 1, 'эл': 1, 'вырезом': 1, 'пластиковое': 1, 'волны': 1, 'велада': 1, 'раздвижное': 1, 'гимнокалициум': 1, 'марли': 1, 'блюдце': 1, 'утро': 1, 'против': 1, 'образования': 1, 'зубного': 1, 'камня': 1, 'кроката': 1, 'сумок': 1, 'рябая': 1, 'тропик': 1, 'найт': 1, 'штука': 1, 'вакуумная': 1, 'фит_': 1, 'коврового': 1, 'покрытия': 1, 'вино': 1, 'мадрид': 1, 'металлизированной': 1, 'полосой': 1, 'промо_': 1, 'ч': 1, 'капроновый': 1, 'бухте': 1, 'орехоколка': 1, 'морокан': 1, 'эппл': 1, 'минт': 1, 'лагун': 1, 'вульгарис': 1, 'компактус': 1, 'отантик': 1, 'увлажняющая': 1, 'маска': 1, 'светлолиловый': 1, 'темносерая': 1, 'химера': 1, 'ртслрозр': 1, 'сливочнорозовый': 1, 'крокусы': 1, 'яромир': 1, 'кремль': 1, 'ярм': 1, 'сирень': 1, 'вафельное': 1, 'элия': 1, 'ринго': 1, 'гипсофила': 1, 'аврора': 1, 'израиль': 1, 'мультиблум': 1, 'скарлет': 1, 'ай': 1, 'тюльпаны': 1, 'токио': 1, 'фреш': 1, 'серозеленый': 1, 'голден': 1, 'селебрейшен': 1, 'императрица': 1, 'колетт': 1, 'эпипремнум': 1, 'розовую': 1, 'коробке': 1, 'педальным': 1, 'сувенир': 1, 'иктерина': 1, 'изящный': 1, 'родничок': 1, 'колибри': 1, 'гиацинты': 1, 'кустовая': 1, 'стреса': 1, 'женский': 1, 'алина_': 1, 'барлоу': 1, 'зеленого': 1, 'фиолетового': 1, 'амброзия': 1, 'барон': 1, 'солемахер': 1, 'дюн': 1, 'валей': 1, 'кинг': 1, 'почвопокровный': 1, 'медок': 1, 'балконное': 1, 'укроп': 1, 'обильнолистный': 1, 'нефролепис': 1, 'бостон': 1, 'юник': 1, 'эквадор': 1, 'подставке': 1, 'яблоневый': 1, 'бахромчатый': 1, 'штангенциркуль': 1, 'точность': 1, 'поэма': 1, 'мылоскраб': 1, 'мочалкой': 1, 'люфой': 1, 'мандала': 1, 'около': 1, 'пуэбло': 1, 'корал': 1, 'мылом': 1, 'удобрением': 1, 'подарочном': 1, 'пакете': 1, 'горошек': 1, 'тач': 1, 'мандариновая': 1, 'полиакрил': 1, 'нв': 1, 'гиацинт': 1, 'подошва': 1, 'самоочистка': 1, 'паровой': 1, 'удар': 1, 'шваброй': 1, 'моп': 1, 'черенком': 1, 'стеклянный': 1, 'прецизионных': 1, 'напильников': 1, 'двухкомпонентной': 1, 'тёмнокоричневая': 1, 'скалка': 1, 'чабер': 1, 'прованс': 1, 'ранункулус': 1, 'клуни': 1, 'ханои': 1, 'белорозовая': 1, 'ньюйорк': 1, 'правый': 1, 'белыйголубой': 1, 'монако': 1, 'низкие': 1, 'золотое': 1, 'руно': 1, 'любимец': 1, 'подмосковья': 1, 'фламинго': 1, 'челнок': 1, 'венчик': 1, 'хохломская': 1, 'роспись': 1, 'сито': 1, 'лилия': 1, 'бак': 1, 'труднодоступных': 1, 'мест': 1, 'скребком': 1, 'барселона': 1, 'фазенда': 1, 'пцзлпр': 1, 'надверная': 1, 'нота': 1, 'внд': 1, 'многоцветковый': 1, 'од': 1, 'альто': 1, 'овсянница': 1, 'сизая': 1, 'нт': 1, 'концентрат': 1, 'россиякорея': 1, 'кекса': 1, 'открытый': 1, 'яркокрасный': 1, 'лимонад': 1, 'снежный': 1, 'смолевка': 1, 'звездный': 1, 'взрыв': 1, 'ацтек': 1, 'хаага': 1, 'олд': 1, 'мехико': 1, 'торх': 1, 'прован': 1, 'эа': 1, 'кологн': 1, 'пастернак': 1, 'прострэйт': 1, 'цитриодорус': 1, 'крымский': 1, 'тортница': 1, 'блюдо': 1, 'конья': 1, 'пцлм': 1, 'паровыпускным': 1, 'клапаном': 1, 'вербейник': 1, 'монетчатый': 1, 'желты': 1, 'травянка': 1, 'персиколистный': 1, 'котовник': 1, 'растопыренный': 1, 'эхинацея': 1, 'ясколка': 1, 'войлочная': 1, 'рио': 1, 'каллы': 1, 'махито': 1, 'па': 1, 'колец': 1, 'желтокрасная': 1, 'розовосиреневая': 1, 'зефир': 1, 'шоколаде': 1, 'забава': 1, 'ркм': 1, 'открытим': 1, 'рифленая': 1, 'иоген': 1, 'ола': 1, 'эфемер': 1, 'стекол': 1, 'рогатая': 1, 'высокорослый': 1, 'папоротник': 1, 'страусник': 1, 'платикодон': 1, 'энотера': 1, 'миссурийская': 1, 'сменная': 1, 'кухонная': 1, 'лимонная': 1, 'лидер': 1, 'перца': 1, 'болгарского': 1, 'сладкого': 1, 'джессика': 1, 'аделина': 1, 'барао': 1, 'хурма': 1, 'суперэкзотик': 1, 'мускаде': 1, 'керио': 1, 'лимбо': 1, 'изи': 1, 'вейв': 1, 'нежинский': 1, 'закрытый': 1, 'светлосиреневая': 1, 'цитрофортунелла': 1, 'кумкват': 1, 'штамбовая': 1, 'пеперомия': 1, 'василек': 1, 'двухуровневая': 1, 'грейт': 1, 'стар': 1, 'млада': 1, 'симпатия': 1, 'бэби': 1, 'казачка': 1, 'вима': 1, 'рина': 1, 'ремонтантная': 1, 'раздвижная': 1, 'синнингия': 1, 'орхидея': 1, 'синтетическая': 1, 'фиалки': 1, 'валера': 1, 'поворотным': 1, 'шарниром': 1, 'белорусская': 1, 'дачная': 1, 'дрова': 1, 'канестрино': 1, 'бычье': 1, 'суприм': 1, 'колобок': 1, 'сибирячка': 1, 'фаворит': 1, 'ильди': 1, 'анна': 1, 'застольный': 1, 'лунный': 1, 'орхидное': 1, 'этпз': 1, 'ящиком': 1, 'тускан': 1, 'хамаекипарисус': 1, 'корневой': 1, 'силач': 1, 'квин': 1, 'цимбопогон': 1, 'лемонграсс': 1, 'наматрацник': 1, 'бархатный': 1, 'ббн': 1, 'углам': 1, 'темостеганое': 1, 'автоматическая': 1, 'тряпкодержатель': 1, 'креплением': 1, 'светлолиловая': 1, 'круглые': 1, 'стеклянные': 1, 'кггр': 1, 'шпинат': 1, 'девичий': 1, 'пятилисточковый': 1, 'индиго': 1, 'исуповский': 1, 'казацкий': 1, 'легенда': 1, 'тарасенко': 1, 'минусинские': 1, 'этуаль': 1, 'юсуповский': 1, 'узбекский': 1, 'астраханский': 1, 'продюсер': 1, 'витаминная': 1, 'джалпа': 1, 'колоновидный': 1, 'дисней': 1, 'микки': 1, 'колорс': 1, 'валентина': 1, 'сверло': 1, 'металлу': 1, 'рм': 1, 'цилиндрическим': 1, 'хвостиком': 1, 'гост': 1, 'надежда': 1, 'гудмен': 1, 'фиксаторшар': 1, 'жилками': 1, 'фиолетовобелая': 1, 'красные': 1, 'сердца': 1, 'желтом': 1, 'фоне': 1, 'канарейка': 1, 'амурский': 1, 'арбузный': 1, 'болгарска': 1, 'хала': 1, 'кубы': 1, 'голубика': 1, 'красоты': 1, 'медовая': 1, 'капля': 1, 'кейт': 1, 'мэризол': 1, 'русский': 1, 'перцевидный': 1, 'поцелуй': 1, 'герани': 1, 'пурпурная': 1, 'солнечный': 1, 'танцы': 1, 'смурфиками': 1, 'галактика': 1, 'черниченский': 1, 'малиновобелая': 1, 'пионов': 1, 'ягод': 1, 'разборная': 1, 'минни': 1, 'милена': 1, 'мускари': 1, 'пиретрум': 1, 'робинсон': 1, 'райдер': 1, 'абрикос': 1, 'абрикосовый': 1, 'брендивайн': 1, 'абруццо': 1, 'вернисаж': 1, 'ручей': 1, 'графити': 1, 'грейпфрут': 1, 'пушистый': 1, 'кумато': 1, 'фиолетовыми': 1, 'пятнами': 1, 'примари': 1, 'колорз': 1, 'роджеро': 1, 'спящая': 1, 'фейерверк': 1, 'шахерезада': 1, 'ширли': 1, 'сердцевидный': 1, 'южный': 1, 'вечер': 1, 'мари': 1, 'москвичка': 1, 'эфиопка': 1, 'слава': 1, 'универс': 1, 'галс': 1, 'мелкоцветковый': 1, 'небесноголубой': 1, 'прожилкой': 1, 'виннобелая': 1, 'гелихризум': 1, 'агератум': 1, 'муррайя': 1, 'глория': 1, 'болгарский': 1, 'радиаторный': 1, 'ручки': 1, 'маяк': 1, 'шопен': 1, 'аргирантерум': 1, 'левкой': 1, 'свитуния': 1, 'темной': 1, 'сердцевиной': 1, 'вероника': 1, 'колосковая': 1, 'дихондра': 1, 'калибрахоя': 1, 'темнокрасная': 1, 'вариегэйтид': 1, 'белокочанная': 1, 'рв': 1, 'мангольд': 1, 'яркорозовая': 1, 'маттиола': 1, 'ночная': 1, 'московская': 1, 'сноуболл': 1, 'стимул': 1, 'кучерявец': 1, 'барбекю': 1, 'бодрость': 1, 'холодок': 1, 'бейби': 1, 'самурай': 1, 'шар': 1, 'спас': 1, 'награда': 1, 'альба': 1, 'мара': 1, 'буа': 1, 'клери': 1, 'сладкая': 1, 'кибиц': 1, 'лук': 1, 'порей': 1, 'победитель': 1, 'амтаман': 1, 'грибовский': 1, 'спэйниш': 1, 'джункус': 1, 'пенсил': 1, 'грасс': 1, 'арбузик': 1, 'бандед': 1, 'амазон': 1, 'белогор': 1, 'реванш': 1, 'виолетта': 1, 'герман': 1, 'персей': 1, 'амазонка': 1, 'жемчужина': 1, 'россиянка': 1, 'драцена': 1, 'фрагранс': 1, 'компакта': 1, 'найфа': 1, 'волгоградец': 1, 'мадонна': 1, 'фараон': 1, 'каролина': 1, 'аргентинская': 1, 'сливка': 1, 'есаул': 1, 'конни': 1, 'магнат': 1, 'форсаж': 1, 'эдельвейс': 1, 'хиларис': 1, 'лемон': 1, 'булка': 1, 'хоста': 1, 'арамис': 1, 'портос': 1, 'смайлик': 1, 'ракета': 1, 'аэронавт': 1, 'горный': 1, 'сосновский': 1, 'скворушка': 1, 'ранняя': 1, 'малахит': 1, 'альфа': 1, 'алтай': 1, 'аристократ': 1, 'багратион': 1, 'боярский': 1, 'государь': 1, 'грандесса': 1, 'сердолик': 1, 'дабл': 1, 'делайт': 1, 'лампион': 1, 'бренди': 1, 'шоколадная': 1, 'наволочка': 1, 'бьянка': 1, 'вок': 1, 'якорь': 1, 'даша': 1, 'тачки': 1, 'гайлардия': 1, 'желтокрасный': 1, 'бергамо': 1, 'нивянник': 1, 'золотинка': 1, 'рудбекия': 1, 'тайгер': 1, 'кадриль': 1, 'компактум': 1, 'съемным': 1, 'дном': 1, 'фтрд': 1, 'тряпки': 1, 'обувница': 1, 'квадро': 1, 'тяжелый': 1, 'травянистая': 1, 'очиток': 1, 'видный': 1, 'рукояткой': 1, 'кармен_в': 1, 'папилон': 1, 'отжим': 1, 'тюльпановидная': 1, 'вельсофт': 1, 'вышивкой': 1, 'эстель': 1, 'пряные': 1, 'тауэр': 1, 'скальный': 1, 'альпийская': 1, 'бузульник': 1, 'пржевальского': 1, 'кленолистный': 1, 'арендса': 1, 'флорал': 1, 'карпет': 1, 'дипп': 1, 'ватер': 1, 'плетистая': 1, 'шванензее': 1, 'мими': 1, 'амнезия': 1, 'парфюм': 1, 'дежавю': 1, 'биг': 1, 'перпл': 1, 'эдванс': 1, 'солидаго': 1, 'физостегия': 1, 'вергинская': 1, 'брюссельская': 1, 'зонтик': 1, 'гранд': 1, 'нг': 1, 'сердце_': 1, 'бадан': 1, 'сердцелистный': 1, 'тенистая': 1, 'лен': 1, 'небесная': 1, 'лазурь': 1, 'антинакипин': 1, 'утюгов': 1, 'ампулы': 1, 'одеял': 1, 'барвинок': 1, 'сиреневобелая': 1, 'оранжевокрасная': 1, 'бобине': 1, 'размотка': 1, 'изнутри': 1, 'съемной': 1, 'насадкой': 1, 'петунии': 1, 'узоры': 1, 'лион': 1, 'вязь': 1, 'эмалированная': 1, 'магда': 1, 'сотейник': 1, 'приварная': 1, 'гаражная': 1, 'шариком': 1, 'кристина': 1, 'ободком': 1, 'аспен': 1, 'светлый': 1, 'нобилис': 1, 'бэррис': 1, 'энд': 1, 'крим': 1, 'грэйпфрут': 1, 'строуберри': 1, 'детский': 1, 'пуф': 1, 'пожарная': 1, 'машинка': 1, 'лист': 1, 'клена': 1, 'лаватера': 1, 'монт': 1, 'блан': 1, 'лидия': 1, 'солнечная': 1, 'девочка': 1, 'анастасия': 1, 'цветочная': 1, 'ливия': 1, 'ванна': 1, 'гмагнитогорск': 1, 'буддлея': 1, 'вейера': 1, 'валериана': 1, 'кардиола': 1, 'змееголовник': 1, 'молдавский': 1, 'горыныч': 1, 'марвел': 1, 'сеазонс': 1, 'мовир': 1, 'любисток': 1, 'удалец': 1, 'нежный': 1, 'курительный': 1, 'юбилейный': 1, 'шалфей': 1, 'нектар': 1, 'корзинка': 1, 'ваза': 1, 'кокос': 1, 'свк': 1, 'летнее': 1, 'солнце': 1, 'мтм': 1, 'хлопковая': 1, 'удлиненная': 1, 'врезным': 1, 'почта': 1, 'вигна': 1, 'лилиана': 1, 'изумруд': 1, 'закусочный': 1, 'тыква': 1, 'крупноплодная': 1, 'хамедорея': 1, 'элк': 1, 'класс': 1, 'плюс': 1, 'белоруссия': 1, 'настеннопотолочная': 1, 'вптб': 1, 'киви': 1, 'грибы': 1, 'рд': 1, 'азур': 1, 'деревянные': 1, 'почвопокровная': 1, 'вельвет': 1, 'джэк': 1, 'румба': 1, 'аква': 1, 'блек': 1, 'бакара': 1, 'сатина': 1, 'перфорированная': 1, 'мединилла': 1, 'магнифика': 1, 'хозяйственный': 1, 'б': 1, 'прямая': 1, 'отделитель': 1, 'косточек': 1, 'вишен': 1, 'поварской': 1, 'циркониевой': 1, 'керамики': 1, 'акк': 1, 'авто_': 1, 'долька': 1, 'пикника': 1, 'персоны': 1, 'пиано': 1, 'лауретта': 1, 'ками': 1, 'груп': 1, 'стерилизации': 1, 'банок': 1, 'банки': 1, 'шприц': 1, 'насадками': 1, 'импатиенс': 1, 'нью': 1, 'гвинея': 1, 'защелке': 1, 'арт': 1, 'клен': 1, 'ложноплатановый': 1, 'леопольди': 1, 'пластмасовая': 1, 'веревка': 1, 'полипропиленовая': 1, 'открытая': 1, 'варенья': 1, 'строительного': 1, 'алюминиевом': 1, 'кейсе': 1, 'кузьмич': 1, 'ник': 1, 'гигиенических': 1, 'впитывания': 1, 'антибактериальным': 1, 'замиокулькас': 1, 'желтое': 1, 'отбеливатель': 1, 'пероксоль': 1, 'лилиям': 1, 'сахарница': 1, 'ежевика': 1, 'амели_': 1, 'профилактики': 1, 'заболеваний': 1, 'десен': 1, 'японский': 1, 'кипарис': 1, 'береза': 1, 'япония': 1, 'деликатной': 1, 'море': 1, 'подсолнух': 1, 'сальвадор': 1, 'авангард': 1, 'боннтяжелая': 1, 'сл': 1, 'эльзаюниор': 1, 'элю': 1, 'петух': 1, 'полина': 1, 'чурленис': 1, 'плектрантус': 1, 'торонто': 1, 'мебельная': 1, 'кольцо': 1, 'чиппендейл': 1, 'восточный': 1, 'сливочножелтого': 1, 'малиновыми': 1, 'краями': 1, 'защитой': 1, 'аллергии': 1, 'кральями': 1, 'амариллис': 1, 'темнокрасный': 1, 'луковица': 1, 'гладкая': 1, 'стейка': 1, 'секционная': 1, 'лососевый': 1, 'пьезозажигалка': 1, 'мультиискрой': 1, 'батарейке': 1, 'тдв': 1, 'квадратная': 1, 'блистере': 1, 'туттифрутти': 1, 'италия': 1, 'белыйсерый': 1, 'дождь': 1, 'эп': 1, 'соковыжималка': 1, 'цитрусовых': 1, 'дакки': 1, 'внт': 1, 'решетка': 1, 'вентиляционная': 1, 'золото': 1, 'запасная': 1, 'ерша': 1, 'чернобелая': 1, 'веревке': 1, 'жасмин': 1, 'сыра': 1, 'нейлона': 1, 'ванильный': 1, 'щётка': 1, 'двуспальная': 1, 'белосиреневая': 1, 'ваниль_а': 1, 'персия': 1, 'бордо': 1, 'камилла': 1, 'гжель': 1, 'дракон': 1, 'земляничное': 1, 'суфле': 1, 'катенькакатюша': 1, 'специальная': 1, 'защита': 1, 'дикая': 1, 'оливетта': 1, 'сицилия': 1, 'мисс': 1, 'джесоп': 1, 'вакуумный': 1, 'пакет': 1, 'лила': 1, 'чина': 1, 'хедера': 1, 'листва': 1, 'рязанские': 1, 'тряпка': 1, 'кафеля': 1, 'паркета': 1, 'макси': 1, 'витнетт': 1, 'металический': 1, 'любимцы': 1, 'золы': 1, 'августа': 1, 'луиза': 1, 'вальс': 1, 'татьяна': 1, 'яйца': 1, 'двуспальное': 1, 'постельное': 1, 'белье': 1, 'фимако': 1, 'плетеный': 1, 'хлеб': 1, 'кусок': 1, 'ручная': 1, 'клеткой': 1, 'кипятильник': 1, 'квт': 1, 'короткой': 1, 'хелло': 1, 'китти': 1, 'снск': 1, 'складывающаяся': 1, 'нежнорозовая': 1, 'темнофиолетовая': 1, 'вишневыми': 1, 'красными': 1, 'голубые': 1, 'пахира': 1, 'акватика': 1, 'мультистем': 1, 'пуховое': 1, 'пух': 1, 'ампельнвя': 1, 'сатиновая': 1, 'полутороспальная': 1, 'дримс': 1, 'влажной': 1, 'сухой': 1, 'традесканция': 1, 'фанк': 1, 'лк': 1, 'березка': 1, 'лотком': 1, 'графитовый': 1, 'гранит': 1, 'бутылочный': 1, 'пес': 1, 'основание': 1, 'пробки': 1, 'пекин': 1, 'мерный': 1, 'пластиков': 1, 'стяжки': 1, 'чехла': 1, 'юпитер': 1, 'севилья_': 1, 'малиновое': 1, 'литопс': 1, 'русские': 1, 'мотивы': 1, 'погружной': 1, 'сиреневым': 1, 'скоростей': 1, 'оля': 1, 'стандартная': 1, 'колумбия': 1, 'ручкаскоба': 1, 'рс': 1, 'трибатрон': 1, 'капелла': 1, 'нетканые': 1, 'салфетки': 1, 'рулоне': 1, 'трубочкой': 1, 'мяч': 1})\n"
     ]
    }
   ],
   "source": [
    "product_names = ' '.join(product_names)\n",
    "product_names = re.sub(r'\\s+[а-яА-Я]\\s+', ' ', product_names)\n",
    "product_names = re.sub(r'\\s+[a-zA-Z]\\s+', ' ', product_names)\n",
    "product_names = re.sub(r'[a-zA-Z]', ' ', product_names)\n",
    "product_names = re.sub(r'\\s+', ' ', product_names, flags=re.I)\n",
    "product_names = re.sub(r'[^\\w\\s]+|[\\d]+', r'', product_names)\n",
    "product_names = product_names.lower()\n",
    "product_names = product_names.split()\n",
    "product_names = [wnl.lemmatize(word) for word in product_names]\n",
    "print(Counter(product_names))"
   ]
  },
  {
   "cell_type": "markdown",
   "id": "0ee1f30f",
   "metadata": {},
   "source": [
    "Все слова нам не понадобятся, удаляем почти все прилагательные за исключением тех, которые часто встречаются и ярко характеризуют товар.\n",
    "Словарь был составлен вручную"
   ]
  },
  {
   "cell_type": "code",
   "execution_count": 48,
   "id": "9ae80a3b",
   "metadata": {},
   "outputs": [],
   "source": [
    "category_dict = {'товары для дома': ['сушилка', \"гладильная\", 'хозяйственная', 'коврик', 'чехол', 'штора', 'придверный', 'таз', 'вешалка', 'горшок',\n",
    "                                     'потолочная', 'напольная', 'кашпо', 'контейнер', 'щетка', 'полки', 'ванны', 'полотенце', 'швабра',\n",
    "                                     'вешалок', 'карниз', 'крючок', 'ёрш', 'ковер', 'жаккард', 'ванну', 'ручка', 'фужеров', 'кофр',\n",
    "                                     'лоток', 'весы', 'подставка', 'термокружка', 'термос', 'свч', 'спрей', 'щетка-сметка',\n",
    "                                     'плед', 'простыня', 'крышка', \"пылесос\", 'мыло', 'ящик', 'сиденье', 'покрывало', 'этажерка', 'мешок',\n",
    "                                     'сетка', 'плечики', 'веник', 'вешалка-плечики', 'вешалка-стойка', 'вешалки',\n",
    "                                     'крючка', 'бокалов', 'стаканов', 'скребок', 'наволочки', 'напольные', 'одеяло', 'вантуз',\n",
    "                                     'совок', 'ведра', 'полка', 'ткань', 'прищепки', 'ерш', 'подкладка', 'дозатор', 'подушка',\n",
    "                                     'крепеж', 'короб', 'утюг', 'халат', 'обувная', 'термометр', 'комод', 'гель', 'пододеяльник',\n",
    "                                     'штанга', 'пепельница', 'стеллаж', 'насадки', 'биопорошок', 'светильник', 'ламп', 'лампа',\n",
    "                                     'щетка-утюжок', 'ковёр', 'наматрасник', 'салфетница', 'ролик', 'сменный блок', 'ножницы',\n",
    "                                     'ополаскиватель', 'мыльница', 'фоторамка', 'кондиционер', 'простынь', 'салфетки', 'мыло-скраб',\n",
    "                                     'концентрат', 'наматрацник', 'наволочка', 'валик', 'тряпки', 'обувница', 'антинакипин',\n",
    "                                     'сотейник', 'ванна', 'корзинка', 'ваза', 'шприц', 'насадками', 'защелка', 'отбеливатель',\n",
    "                                     'сахарница', 'пьезозажигалка', 'щётка', 'гжель', 'уголок', 'тряпка', 'белье', 'шпингалет', 'муляж', 'стол'],\n",
    "                 'товары для кухни': ['кухни', 'тарелка', 'скатерть', 'салатник', 'чайник', 'кружка', 'нож', 'десертная', 'обеденная',\n",
    "                                      'ложка', 'посуды', 'салфетка', 'сковорода', 'перчатки', 'вилка', 'стакан', 'выпечки', 'кастрюля',\n",
    "                                      'разделочная', 'миксер', 'подрукавник', 'терка', 'миска', 'хлебница', 'форма', 'толкушка',\n",
    "                                      'рыбочистка', 'ковш', 'термостакан', 'соковарка', 'противень', 'минисковорода', 'ножеточка',\n",
    "                                      'масленка', 'овощеварка', 'овощечистка', 'измельчитель', 'мантоварка', 'картофелемялка',\n",
    "                                      'дуршлаг', 'мясорубки', 'мясорубка', 'электроштопор', 'бульонница', 'блюдце', 'орехоколка',\n",
    "                                      'скалка', 'венчик', 'сито', 'тортница', 'блюдо', 'соковыжималка', 'половник', 'кипятильник'],\n",
    "                 'товары для дачи и ремонтных работ': ['садовая', 'стремянка', 'черенок', 'ведро', 'лестница-стремянка',\n",
    "                                                       'тележки', 'корыто', 'кисточка', 'камнеломка', 'шпагат', 'пена', 'бензин',\n",
    "                                                       'камешки', 'пеперомия', 'дрова', 'сверло', 'веревка', 'лестница'],\n",
    "                 'еда и напитки': ['сильвердроп', 'капучино', 'брауни', 'виски', 'латте', 'скелетон', 'лейс', 'вино', 'зефир',\n",
    "                                   'булка', 'бренди', 'тоффи', 'тутти-фрутти', 'суфле', \"вода\"],\n",
    "                 'растения': ['рассада', 'томата', 'пеларгония', 'роза', 'петуния', 'однолетних', 'герань', 'мята', 'белокачанная',\n",
    "                              'калибрахоа', 'однолетнее', 'цикламен', 'флокс', 'примула', 'базилик', 'тимьян',\n",
    "                              'вербена', 'фиалка', 'пуансеттия', 'гвоздика', 'бегония', 'бакопа', 'петрушка',\n",
    "                              'розмарин', 'бальзамин', 'космея', 'хризантема', 'антуриум', 'спирелла',\n",
    "                              'тюльпан', 'лаванда', 'виола', 'сальвия', 'кабачка', 'эвкалипт', 'азалия', 'андрианум',\n",
    "                              'ель', 'комнатный', 'кольраби', 'гербера', 'кокоса', 'ромашка', 'горох', 'ротанг', 'алиссум',\n",
    "                              'оффициналис', 'декабрист', 'лобелия', 'индика', 'гортензия', 'кордана', 'акаулис', 'дендробиум',\n",
    "                              'львиный зев', 'коника', 'цинния', 'пиперита', 'астра', 'патиссон', 'зверобой', 'эхеверия', 'верона',\n",
    "                              'кориандр', 'иссоп', 'лекарственный', 'аспарагус', 'бэлльюниор', 'душица', 'мелисса', 'сорго',\n",
    "                              'мак', 'нарцисс', 'каланхое', 'каландива', 'стэма', 'настурция', 'воларэ', 'календула',\n",
    "                              'фаленопсис', 'ландыш', 'подснежник', 'ауреум', 'земляника', 'калла', 'газания',\n",
    "                              'цитрата', 'колокольчик', 'остеоспермум', 'семена', 'саженец', 'саженцы', 'сельдерей',\n",
    "                              'тагетис', 'портулак', 'целозия', 'шеффлера', 'тимьян-чабрец', 'гунни', 'калатея',\n",
    "                              'глоксиния', 'мирт', 'шалфея', 'сантолина', 'афеляндра', 'скуарроса', 'лаванды', 'розмарина',\n",
    "                              'тимьяна', 'орегано', 'морковь', 'розебад', 'крокус', 'ирис', 'крассула', 'мимоза', 'калитва',\n",
    "                              'кореопсис', 'лапчатка', 'цинерария', 'диффенбахия', 'аптения', 'арлет', 'сциндапсус', 'плющ',\n",
    "                              'эмпилабль', 'эхинокактус', 'ориганум', 'луковицы', 'незабудка', 'седум', 'георгин', 'шаймет',\n",
    "                              'касади', 'анемона', 'зенгана', 'циния', 'гардения', 'колеус', 'цинерания', 'фатсия', 'кабачок',\n",
    "                              'монарда', 'вариегата', 'осина', 'сосна', 'лантана', 'салат', 'рукола', 'радермахера',\n",
    "                              'хризолидокарпус', 'лутесценс', 'циперус', 'зумула', 'лузеана', 'юкка', 'суккулент', 'дампьер',\n",
    "                              'кумган', 'адиантум', 'кампанула', 'мейера', 'розебуд', 'спиралис', 'артемизия', 'полынь',\n",
    "                              'калоцефалус', 'каллуна', 'капсикум', 'бархатцы', 'лобулярия', 'годеция', 'друммонда', 'эшшольция',\n",
    "                              'подсолнечник', 'пуансетия', 'кипарисовик', 'элвуди', 'скиммия', 'рубелла', 'спренжери', 'фиттония',\n",
    "                              'куэна', 'сирень', 'гипсофила', 'укроп', 'нефролепис', 'гиацинт', 'ранункулус', 'цитриодорус',\n",
    "                              'вербейник', 'травянка', 'котовник', 'эхинацея', 'ясколка', 'папоротник', 'страусник', 'платикодон',\n",
    "                              'энотера', 'цитрофортунелла', 'василек', 'синнингия', 'орхидея', 'фиалки', 'тускан', 'хамаекипарисус',\n",
    "                              'цимбопогон', 'шпинат', 'джалпа', 'голубика', 'мускари', 'пиретрум', 'гелихризум', 'агератум',\n",
    "                              'муррайя', 'дихондра', 'калибрахоя', 'маттиола', 'джункус', 'драцена', 'эдельвейс', 'хиларис',\n",
    "                              'хоста', 'грандесса', 'лампион', 'гайлардия', 'нивянник', 'рудбекия', 'бузульник', 'физостегия',\n",
    "                              'бадан', 'буддлея', 'вейера', 'валериана', 'кардиола', 'змееголовник', 'шалфей', 'хамедорея',\n",
    "                              'гвинея', 'замиокулькас', 'чурленис', 'плектрантус', 'амариллис', 'пахира', 'традесканция', 'комнатное растение',\n",
    "                              'комнатное', 'комнатный', 'комнатная', 'растение'],\n",
    "                 }"
   ]
  },
  {
   "cell_type": "code",
   "execution_count": 49,
   "id": "6b651202",
   "metadata": {},
   "outputs": [],
   "source": [
    "# функция для категоризации\n",
    "def categorize_product(product):\n",
    "    for category, items_of_list in category_dict.items():\n",
    "        for item in items_of_list:\n",
    "            if item in product:\n",
    "                return category\n",
    "    return category"
   ]
  },
  {
   "cell_type": "code",
   "execution_count": 50,
   "id": "d3f2c3de",
   "metadata": {},
   "outputs": [],
   "source": [
    "data_merge_assort_group['product_category'] = data_merge_assort_group['product'].apply(categorize_product)"
   ]
  },
  {
   "cell_type": "code",
   "execution_count": 51,
   "id": "5cf56cb2",
   "metadata": {},
   "outputs": [
    {
     "name": "stdout",
     "output_type": "stream",
     "text": [
      "                                   customer_id  quantity  order_id  product   price  revenue\n",
      "product_category                                                                            \n",
      "еда и напитки                               22        34        22       13  173.50     5426\n",
      "растения                                  1118      3933      2508      956  289.60   899121\n",
      "товары для дачи и ремонтных работ          284       600       468      104  333.29   174157\n",
      "товары для дома                           1257      3042      1871      948  993.75  2167213\n",
      "товары для кухни                           328       964       561      279  320.66   260636\n",
      "2300\n"
     ]
    }
   ],
   "source": [
    "# параметры, чтобы увидеть таблицу со значениями для каждой категории полностью\n",
    "pd.set_option('display.max_columns', 500)\n",
    "pd.set_option('display.width', 1000)\n",
    "category_data = data_merge_assort_group.groupby('product_category').agg({'customer_id': 'nunique',\n",
    "                                                                         'quantity': 'sum',\n",
    "                                                                         'order_id': 'count',\n",
    "                                                                         'product': 'nunique',\n",
    "                                                                         'price': 'mean',\n",
    "                                                                         'revenue': 'sum'}).round(2)\n",
    "print(category_data)\n",
    "print(category_data['product'].sum())"
   ]
  },
  {
   "cell_type": "markdown",
   "id": "221f4799",
   "metadata": {},
   "source": [
    "Больше всех выручки приносят товары для дома - более 2 млн. На втором месте растения - почти 900 тысяч, хотя их было продано больше, чем товаров для дома, средняя цена растений меньше в 3 раза. А вот у товаров для кухни и товаров для дачи и ремонтных работ средняя цена почти одинаковая, но второй категории было продано на 1/3 меньше единиц. Самой непопулярной категорией является еда и напитки.  "
   ]
  },
  {
   "cell_type": "code",
   "execution_count": 52,
   "id": "c03ff864",
   "metadata": {},
   "outputs": [
    {
     "name": "stdout",
     "output_type": "stream",
     "text": [
      "<class 'pandas.core.frame.DataFrame'>\n",
      "RangeIndex: 16 entries, 0 to 15\n",
      "Data columns (total 7 columns):\n",
      " #   Column                             Non-Null Count  Dtype   \n",
      "---  ------                             --------------  -----   \n",
      " 0   year                               16 non-null     int32   \n",
      " 1   month                              16 non-null     category\n",
      " 2   еда и напитки                      11 non-null     float64 \n",
      " 3   растения                           16 non-null     float64 \n",
      " 4   товары для дачи и ремонтных работ  16 non-null     float64 \n",
      " 5   товары для дома                    16 non-null     float64 \n",
      " 6   товары для кухни                   16 non-null     float64 \n",
      "dtypes: category(1), float64(5), int32(1)\n",
      "memory usage: 1.2 KB\n",
      "None\n"
     ]
    }
   ],
   "source": [
    "# таблица и график, показывающие, сколько единиц каждой категории было продано в разные месяцы разных лет\n",
    "month_category_quantity = data_merge_assort_group.pivot_table(index=['year', 'month'],\n",
    "                                                              columns='product_category',\n",
    "                                                              values='quantity',\n",
    "                                                              aggfunc='sum').reset_index()\n",
    "months = [\"January\", \"February\", \"March\", \"April\", \"May\", \"June\",\n",
    "          \"July\", \"August\", \"September\", \"October\", \"November\", \"December\"]\n",
    "month_category_quantity['month'] = pd.Categorical(month_category_quantity['month'],\n",
    "                                                  categories=months,\n",
    "                                                  ordered=True)\n",
    "month_category_quantity = month_category_quantity.sort_values(by=['year', 'month']).reset_index(drop=True)\n",
    "print(month_category_quantity.info())"
   ]
  },
  {
   "cell_type": "code",
   "execution_count": 53,
   "id": "3b526050",
   "metadata": {},
   "outputs": [
    {
     "name": "stdout",
     "output_type": "stream",
     "text": [
      "product_category  year      month еда и напитки  растения  товары для дачи и ремонтных работ  товары для дома  товары для кухни\n",
      "0                 2018    October                   264.0                               13.0            441.0              82.0\n",
      "1                 2018   November           1.0     180.0                                6.0            351.0             172.0\n",
      "2                 2018   December                   166.0                               10.0            249.0              91.0\n",
      "3                 2019    January           3.0     116.0                                7.0            153.0              45.0\n",
      "4                 2019   February           1.0     263.0                               81.0            184.0              66.0\n",
      "5                 2019      March           2.0     358.0                               94.0            160.0              80.0\n",
      "6                 2019      April           7.0     778.0                              117.0            250.0              50.0\n",
      "7                 2019        May           2.0     593.0                               57.0            193.0             140.0\n",
      "8                 2019       June           7.0     245.0                               49.0            150.0              33.0\n",
      "9                 2019       July           2.0     226.0                               37.0            232.0              33.0\n",
      "10                2019     August                   130.0                               39.0            107.0              29.0\n",
      "11                2019  September           6.0     128.0                               29.0            118.0              35.0\n",
      "12                2019    October           1.0     142.0                               27.0            125.0              15.0\n",
      "13                2019   November                   103.0                                8.0             97.0              28.0\n",
      "14                2019   December           2.0     103.0                               11.0            122.0              27.0\n",
      "15                2020    January                   138.0                               15.0            110.0              38.0\n"
     ]
    }
   ],
   "source": [
    "month_category_quantity.loc[:, ['еда и напитки']] = month_category_quantity.loc[:, ['еда и напитки']].fillna('')\n",
    "print(month_category_quantity)"
   ]
  },
  {
   "cell_type": "markdown",
   "id": "cdfb660f",
   "metadata": {},
   "source": [
    "Построим график по таблице выше."
   ]
  },
  {
   "cell_type": "code",
   "execution_count": 54,
   "id": "5c3c98a5",
   "metadata": {},
   "outputs": [
    {
     "data": {
      "image/svg+xml": [
       "<svg class=\"main-svg\" xmlns=\"http://www.w3.org/2000/svg\" xmlns:xlink=\"http://www.w3.org/1999/xlink\" width=\"1050\" height=\"750\" style=\"\" viewBox=\"0 0 700 500\"><rect x=\"0\" y=\"0\" width=\"700\" height=\"500\" style=\"fill: rgb(17, 17, 17); fill-opacity: 1;\"/><defs id=\"defs-3156dc\"><g class=\"clips\"><clipPath id=\"clip3156dcxyplot\" class=\"plotclip\"><rect width=\"325\" height=\"262\"/></clipPath><clipPath class=\"axesclip\" id=\"clip3156dcx\"><rect x=\"80\" y=\"0\" width=\"325\" height=\"500\"/></clipPath><clipPath class=\"axesclip\" id=\"clip3156dcy\"><rect x=\"0\" y=\"100\" width=\"700\" height=\"262\"/></clipPath><clipPath class=\"axesclip\" id=\"clip3156dcxy\"><rect x=\"80\" y=\"100\" width=\"325\" height=\"262\"/></clipPath></g><g class=\"gradients\"/><g class=\"patterns\"/></defs><g class=\"bglayer\"/><g class=\"layer-below\"><g class=\"imagelayer\"/><g class=\"shapelayer\"/></g><g class=\"cartesianlayer\"><g class=\"subplot xy\"><g class=\"layer-subplot\"><g class=\"shapelayer\"/><g class=\"imagelayer\"/></g><g class=\"minor-gridlayer\"><g class=\"x\"/><g class=\"y\"/></g><g class=\"gridlayer\"><g class=\"x\"/><g class=\"y\"><path class=\"ygrid crisp\" transform=\"translate(0,320.59000000000003)\" d=\"M80,0h325\" style=\"stroke: rgb(40, 52, 66); stroke-opacity: 1; stroke-width: 1px;\"/><path class=\"ygrid crisp\" transform=\"translate(0,279.16999999999996)\" d=\"M80,0h325\" style=\"stroke: rgb(40, 52, 66); stroke-opacity: 1; stroke-width: 1px;\"/><path class=\"ygrid crisp\" transform=\"translate(0,237.76)\" d=\"M80,0h325\" style=\"stroke: rgb(40, 52, 66); stroke-opacity: 1; stroke-width: 1px;\"/><path class=\"ygrid crisp\" transform=\"translate(0,196.34)\" d=\"M80,0h325\" style=\"stroke: rgb(40, 52, 66); stroke-opacity: 1; stroke-width: 1px;\"/><path class=\"ygrid crisp\" transform=\"translate(0,154.93)\" d=\"M80,0h325\" style=\"stroke: rgb(40, 52, 66); stroke-opacity: 1; stroke-width: 1px;\"/><path class=\"ygrid crisp\" transform=\"translate(0,113.51)\" d=\"M80,0h325\" style=\"stroke: rgb(40, 52, 66); stroke-opacity: 1; stroke-width: 1px;\"/></g></g><g class=\"zerolinelayer\"><path class=\"yzl zl crisp\" transform=\"translate(0,362)\" d=\"M80,0h325\" style=\"stroke: rgb(40, 52, 66); stroke-opacity: 1; stroke-width: 2px;\"/></g><path class=\"xlines-below\"/><path class=\"ylines-below\"/><g class=\"overlines-below\"/><g class=\"xaxislayer-below\"/><g class=\"yaxislayer-below\"/><g class=\"overaxes-below\"/><g class=\"plot\" transform=\"translate(80,100)\" clip-path=\"url(#clip3156dcxyplot)\"><g class=\"barlayer mlayer\"><g class=\"trace bars\" shape-rendering=\"crispEdges\" style=\"opacity: 1;\"><g class=\"points\"><g class=\"point\"><path d=\"M0,0Z\" style=\"vector-effect: non-scaling-stroke; opacity: 1; stroke-width: 0px; fill: rgb(102, 197, 204); fill-opacity: 1; stroke: rgb(17, 17, 17); stroke-opacity: 1;\"/></g><g class=\"point\"><path d=\"M22.34,262V261.79H38.59V262Z\" style=\"vector-effect: non-scaling-stroke; opacity: 1; stroke-width: 0.5px; fill: rgb(102, 197, 204); fill-opacity: 1; stroke: rgb(17, 17, 17); stroke-opacity: 1;\"/></g><g class=\"point\"><path d=\"M0,0Z\" style=\"vector-effect: non-scaling-stroke; opacity: 1; stroke-width: 0px; fill: rgb(102, 197, 204); fill-opacity: 1; stroke: rgb(17, 17, 17); stroke-opacity: 1;\"/></g><g class=\"point\"><path d=\"M123.91,262V261.38H140.16V262Z\" style=\"vector-effect: non-scaling-stroke; opacity: 1; stroke-width: 0.5px; fill: rgb(102, 197, 204); fill-opacity: 1; stroke: rgb(17, 17, 17); stroke-opacity: 1;\"/></g><g class=\"point\"><path d=\"M144.22,262V261.79H160.47V262Z\" style=\"vector-effect: non-scaling-stroke; opacity: 1; stroke-width: 0.5px; fill: rgb(102, 197, 204); fill-opacity: 1; stroke: rgb(17, 17, 17); stroke-opacity: 1;\"/></g><g class=\"point\"><path d=\"M164.53,262V261.59H180.78V262Z\" style=\"vector-effect: non-scaling-stroke; opacity: 1; stroke-width: 0.5px; fill: rgb(102, 197, 204); fill-opacity: 1; stroke: rgb(17, 17, 17); stroke-opacity: 1;\"/></g><g class=\"point\"><path d=\"M184.84,262V260.55H201.09V262Z\" style=\"vector-effect: non-scaling-stroke; opacity: 1; stroke-width: 0.5px; fill: rgb(102, 197, 204); fill-opacity: 1; stroke: rgb(17, 17, 17); stroke-opacity: 1;\"/></g><g class=\"point\"><path d=\"M205.16,262V261.59H221.41V262Z\" style=\"vector-effect: non-scaling-stroke; opacity: 1; stroke-width: 0.5px; fill: rgb(102, 197, 204); fill-opacity: 1; stroke: rgb(17, 17, 17); stroke-opacity: 1;\"/></g><g class=\"point\"><path d=\"M225.47,262V260.55H241.72V262Z\" style=\"vector-effect: non-scaling-stroke; opacity: 1; stroke-width: 0.5px; fill: rgb(102, 197, 204); fill-opacity: 1; stroke: rgb(17, 17, 17); stroke-opacity: 1;\"/></g><g class=\"point\"><path d=\"M245.78,262V261.59H262.03V262Z\" style=\"vector-effect: non-scaling-stroke; opacity: 1; stroke-width: 0.5px; fill: rgb(102, 197, 204); fill-opacity: 1; stroke: rgb(17, 17, 17); stroke-opacity: 1;\"/></g><g class=\"point\"><path d=\"M0,0Z\" style=\"vector-effect: non-scaling-stroke; opacity: 1; stroke-width: 0px; fill: rgb(102, 197, 204); fill-opacity: 1; stroke: rgb(17, 17, 17); stroke-opacity: 1;\"/></g><g class=\"point\"><path d=\"M286.41,262V260.76H302.66V262Z\" style=\"vector-effect: non-scaling-stroke; opacity: 1; stroke-width: 0.5px; fill: rgb(102, 197, 204); fill-opacity: 1; stroke: rgb(17, 17, 17); stroke-opacity: 1;\"/></g><g class=\"point\"><path d=\"M62.97,262V261.79H79.22V262Z\" style=\"vector-effect: non-scaling-stroke; opacity: 1; stroke-width: 0.5px; fill: rgb(102, 197, 204); fill-opacity: 1; stroke: rgb(17, 17, 17); stroke-opacity: 1;\"/></g><g class=\"point\"><path d=\"M0,0Z\" style=\"vector-effect: non-scaling-stroke; opacity: 1; stroke-width: 0px; fill: rgb(102, 197, 204); fill-opacity: 1; stroke: rgb(17, 17, 17); stroke-opacity: 1;\"/></g><g class=\"point\"><path d=\"M103.59,262V261.59H119.84V262Z\" style=\"vector-effect: non-scaling-stroke; opacity: 1; stroke-width: 0.5px; fill: rgb(102, 197, 204); fill-opacity: 1; stroke: rgb(17, 17, 17); stroke-opacity: 1;\"/></g><g class=\"point\"><path d=\"M0,0Z\" style=\"vector-effect: non-scaling-stroke; opacity: 1; stroke-width: 0px; fill: rgb(102, 197, 204); fill-opacity: 1; stroke: rgb(17, 17, 17); stroke-opacity: 1;\"/></g></g></g><g class=\"trace bars\" shape-rendering=\"crispEdges\" style=\"opacity: 1;\"><g class=\"points\"><g class=\"point\"><path d=\"M2.03,262V207.33H18.28V262Z\" style=\"vector-effect: non-scaling-stroke; opacity: 1; stroke-width: 0.5px; fill: rgb(246, 207, 113); fill-opacity: 1; stroke: rgb(17, 17, 17); stroke-opacity: 1;\"/></g><g class=\"point\"><path d=\"M22.34,261.79V224.52H38.59V261.79Z\" style=\"vector-effect: non-scaling-stroke; opacity: 1; stroke-width: 0.5px; fill: rgb(246, 207, 113); fill-opacity: 1; stroke: rgb(17, 17, 17); stroke-opacity: 1;\"/></g><g class=\"point\"><path d=\"M42.66,262V227.63H58.91V262Z\" style=\"vector-effect: non-scaling-stroke; opacity: 1; stroke-width: 0.5px; fill: rgb(246, 207, 113); fill-opacity: 1; stroke: rgb(17, 17, 17); stroke-opacity: 1;\"/></g><g class=\"point\"><path d=\"M123.91,261.38V237.36H140.16V261.38Z\" style=\"vector-effect: non-scaling-stroke; opacity: 1; stroke-width: 0.5px; fill: rgb(246, 207, 113); fill-opacity: 1; stroke: rgb(17, 17, 17); stroke-opacity: 1;\"/></g><g class=\"point\"><path d=\"M144.22,261.79V207.33H160.47V261.79Z\" style=\"vector-effect: non-scaling-stroke; opacity: 1; stroke-width: 0.5px; fill: rgb(246, 207, 113); fill-opacity: 1; stroke: rgb(17, 17, 17); stroke-opacity: 1;\"/></g><g class=\"point\"><path d=\"M164.53,261.59V187.45H180.78V261.59Z\" style=\"vector-effect: non-scaling-stroke; opacity: 1; stroke-width: 0.5px; fill: rgb(246, 207, 113); fill-opacity: 1; stroke: rgb(17, 17, 17); stroke-opacity: 1;\"/></g><g class=\"point\"><path d=\"M184.84,260.55V99.45H201.09V260.55Z\" style=\"vector-effect: non-scaling-stroke; opacity: 1; stroke-width: 0.5px; fill: rgb(246, 207, 113); fill-opacity: 1; stroke: rgb(17, 17, 17); stroke-opacity: 1;\"/></g><g class=\"point\"><path d=\"M205.16,261.59V138.79H221.41V261.59Z\" style=\"vector-effect: non-scaling-stroke; opacity: 1; stroke-width: 0.5px; fill: rgb(246, 207, 113); fill-opacity: 1; stroke: rgb(17, 17, 17); stroke-opacity: 1;\"/></g><g class=\"point\"><path d=\"M225.47,260.55V209.82H241.72V260.55Z\" style=\"vector-effect: non-scaling-stroke; opacity: 1; stroke-width: 0.5px; fill: rgb(246, 207, 113); fill-opacity: 1; stroke: rgb(17, 17, 17); stroke-opacity: 1;\"/></g><g class=\"point\"><path d=\"M245.78,261.59V214.79H262.03V261.59Z\" style=\"vector-effect: non-scaling-stroke; opacity: 1; stroke-width: 0.5px; fill: rgb(246, 207, 113); fill-opacity: 1; stroke: rgb(17, 17, 17); stroke-opacity: 1;\"/></g><g class=\"point\"><path d=\"M266.09,262V235.08H282.34V262Z\" style=\"vector-effect: non-scaling-stroke; opacity: 1; stroke-width: 0.5px; fill: rgb(246, 207, 113); fill-opacity: 1; stroke: rgb(17, 17, 17); stroke-opacity: 1;\"/></g><g class=\"point\"><path d=\"M286.41,260.76V234.25H302.66V260.76Z\" style=\"vector-effect: non-scaling-stroke; opacity: 1; stroke-width: 0.5px; fill: rgb(246, 207, 113); fill-opacity: 1; stroke: rgb(17, 17, 17); stroke-opacity: 1;\"/></g><g class=\"point\"><path d=\"M62.97,261.79V232.39H79.22V261.79Z\" style=\"vector-effect: non-scaling-stroke; opacity: 1; stroke-width: 0.5px; fill: rgb(246, 207, 113); fill-opacity: 1; stroke: rgb(17, 17, 17); stroke-opacity: 1;\"/></g><g class=\"point\"><path d=\"M83.28,262V240.67H99.53V262Z\" style=\"vector-effect: non-scaling-stroke; opacity: 1; stroke-width: 0.5px; fill: rgb(246, 207, 113); fill-opacity: 1; stroke: rgb(17, 17, 17); stroke-opacity: 1;\"/></g><g class=\"point\"><path d=\"M103.59,261.59V240.26H119.84V261.59Z\" style=\"vector-effect: non-scaling-stroke; opacity: 1; stroke-width: 0.5px; fill: rgb(246, 207, 113); fill-opacity: 1; stroke: rgb(17, 17, 17); stroke-opacity: 1;\"/></g><g class=\"point\"><path d=\"M306.72,262V233.42H322.97V262Z\" style=\"vector-effect: non-scaling-stroke; opacity: 1; stroke-width: 0.5px; fill: rgb(246, 207, 113); fill-opacity: 1; stroke: rgb(17, 17, 17); stroke-opacity: 1;\"/></g></g></g><g class=\"trace bars\" shape-rendering=\"crispEdges\" style=\"opacity: 1;\"><g class=\"points\"><g class=\"point\"><path d=\"M2.03,207.33V204.64H18.28V207.33Z\" style=\"vector-effect: non-scaling-stroke; opacity: 1; stroke-width: 0.5px; fill: rgb(248, 156, 116); fill-opacity: 1; stroke: rgb(17, 17, 17); stroke-opacity: 1;\"/></g><g class=\"point\"><path d=\"M22.34,224.52V223.28H38.59V224.52Z\" style=\"vector-effect: non-scaling-stroke; opacity: 1; stroke-width: 0.5px; fill: rgb(248, 156, 116); fill-opacity: 1; stroke: rgb(17, 17, 17); stroke-opacity: 1;\"/></g><g class=\"point\"><path d=\"M42.66,227.63V225.56H58.91V227.63Z\" style=\"vector-effect: non-scaling-stroke; opacity: 1; stroke-width: 0.5px; fill: rgb(248, 156, 116); fill-opacity: 1; stroke: rgb(17, 17, 17); stroke-opacity: 1;\"/></g><g class=\"point\"><path d=\"M123.91,237.36V235.91H140.16V237.36Z\" style=\"vector-effect: non-scaling-stroke; opacity: 1; stroke-width: 0.5px; fill: rgb(248, 156, 116); fill-opacity: 1; stroke: rgb(17, 17, 17); stroke-opacity: 1;\"/></g><g class=\"point\"><path d=\"M144.22,207.33V190.56H160.47V207.33Z\" style=\"vector-effect: non-scaling-stroke; opacity: 1; stroke-width: 0.5px; fill: rgb(248, 156, 116); fill-opacity: 1; stroke: rgb(17, 17, 17); stroke-opacity: 1;\"/></g><g class=\"point\"><path d=\"M164.53,187.45V167.99H180.78V187.45Z\" style=\"vector-effect: non-scaling-stroke; opacity: 1; stroke-width: 0.5px; fill: rgb(248, 156, 116); fill-opacity: 1; stroke: rgb(17, 17, 17); stroke-opacity: 1;\"/></g><g class=\"point\"><path d=\"M184.84,99.45V75.22H201.09V99.45Z\" style=\"vector-effect: non-scaling-stroke; opacity: 1; stroke-width: 0.5px; fill: rgb(248, 156, 116); fill-opacity: 1; stroke: rgb(17, 17, 17); stroke-opacity: 1;\"/></g><g class=\"point\"><path d=\"M205.16,138.79V126.99H221.41V138.79Z\" style=\"vector-effect: non-scaling-stroke; opacity: 1; stroke-width: 0.5px; fill: rgb(248, 156, 116); fill-opacity: 1; stroke: rgb(17, 17, 17); stroke-opacity: 1;\"/></g><g class=\"point\"><path d=\"M225.47,209.82V199.67H241.72V209.82Z\" style=\"vector-effect: non-scaling-stroke; opacity: 1; stroke-width: 0.5px; fill: rgb(248, 156, 116); fill-opacity: 1; stroke: rgb(17, 17, 17); stroke-opacity: 1;\"/></g><g class=\"point\"><path d=\"M245.78,214.79V207.13H262.03V214.79Z\" style=\"vector-effect: non-scaling-stroke; opacity: 1; stroke-width: 0.5px; fill: rgb(248, 156, 116); fill-opacity: 1; stroke: rgb(17, 17, 17); stroke-opacity: 1;\"/></g><g class=\"point\"><path d=\"M266.09,235.08V227H282.34V235.08Z\" style=\"vector-effect: non-scaling-stroke; opacity: 1; stroke-width: 0.5px; fill: rgb(248, 156, 116); fill-opacity: 1; stroke: rgb(17, 17, 17); stroke-opacity: 1;\"/></g><g class=\"point\"><path d=\"M286.41,234.25V228.25H302.66V234.25Z\" style=\"vector-effect: non-scaling-stroke; opacity: 1; stroke-width: 0.5px; fill: rgb(248, 156, 116); fill-opacity: 1; stroke: rgb(17, 17, 17); stroke-opacity: 1;\"/></g><g class=\"point\"><path d=\"M62.97,232.39V226.8H79.22V232.39Z\" style=\"vector-effect: non-scaling-stroke; opacity: 1; stroke-width: 0.5px; fill: rgb(248, 156, 116); fill-opacity: 1; stroke: rgb(17, 17, 17); stroke-opacity: 1;\"/></g><g class=\"point\"><path d=\"M83.28,240.67V239.02H99.53V240.67Z\" style=\"vector-effect: non-scaling-stroke; opacity: 1; stroke-width: 0.5px; fill: rgb(248, 156, 116); fill-opacity: 1; stroke: rgb(17, 17, 17); stroke-opacity: 1;\"/></g><g class=\"point\"><path d=\"M103.59,240.26V237.98H119.84V240.26Z\" style=\"vector-effect: non-scaling-stroke; opacity: 1; stroke-width: 0.5px; fill: rgb(248, 156, 116); fill-opacity: 1; stroke: rgb(17, 17, 17); stroke-opacity: 1;\"/></g><g class=\"point\"><path d=\"M306.72,233.42V230.32H322.97V233.42Z\" style=\"vector-effect: non-scaling-stroke; opacity: 1; stroke-width: 0.5px; fill: rgb(248, 156, 116); fill-opacity: 1; stroke: rgb(17, 17, 17); stroke-opacity: 1;\"/></g></g></g><g class=\"trace bars\" shape-rendering=\"crispEdges\" style=\"opacity: 1;\"><g class=\"points\"><g class=\"point\"><path d=\"M2.03,204.64V113.32H18.28V204.64Z\" style=\"vector-effect: non-scaling-stroke; opacity: 1; stroke-width: 0.5px; fill: rgb(220, 176, 242); fill-opacity: 1; stroke: rgb(17, 17, 17); stroke-opacity: 1;\"/></g><g class=\"point\"><path d=\"M22.34,223.28V150.6H38.59V223.28Z\" style=\"vector-effect: non-scaling-stroke; opacity: 1; stroke-width: 0.5px; fill: rgb(220, 176, 242); fill-opacity: 1; stroke: rgb(17, 17, 17); stroke-opacity: 1;\"/></g><g class=\"point\"><path d=\"M42.66,225.56V173.99H58.91V225.56Z\" style=\"vector-effect: non-scaling-stroke; opacity: 1; stroke-width: 0.5px; fill: rgb(220, 176, 242); fill-opacity: 1; stroke: rgb(17, 17, 17); stroke-opacity: 1;\"/></g><g class=\"point\"><path d=\"M123.91,235.91V204.23H140.16V235.91Z\" style=\"vector-effect: non-scaling-stroke; opacity: 1; stroke-width: 0.5px; fill: rgb(220, 176, 242); fill-opacity: 1; stroke: rgb(17, 17, 17); stroke-opacity: 1;\"/></g><g class=\"point\"><path d=\"M144.22,190.56V152.46H160.47V190.56Z\" style=\"vector-effect: non-scaling-stroke; opacity: 1; stroke-width: 0.5px; fill: rgb(220, 176, 242); fill-opacity: 1; stroke: rgb(17, 17, 17); stroke-opacity: 1;\"/></g><g class=\"point\"><path d=\"M164.53,167.99V134.86H180.78V167.99Z\" style=\"vector-effect: non-scaling-stroke; opacity: 1; stroke-width: 0.5px; fill: rgb(220, 176, 242); fill-opacity: 1; stroke: rgb(17, 17, 17); stroke-opacity: 1;\"/></g><g class=\"point\"><path d=\"M184.84,75.22V23.45H201.09V75.22Z\" style=\"vector-effect: non-scaling-stroke; opacity: 1; stroke-width: 0.5px; fill: rgb(220, 176, 242); fill-opacity: 1; stroke: rgb(17, 17, 17); stroke-opacity: 1;\"/></g><g class=\"point\"><path d=\"M205.16,126.99V87.02H221.41V126.99Z\" style=\"vector-effect: non-scaling-stroke; opacity: 1; stroke-width: 0.5px; fill: rgb(220, 176, 242); fill-opacity: 1; stroke: rgb(17, 17, 17); stroke-opacity: 1;\"/></g><g class=\"point\"><path d=\"M225.47,199.67V168.61H241.72V199.67Z\" style=\"vector-effect: non-scaling-stroke; opacity: 1; stroke-width: 0.5px; fill: rgb(220, 176, 242); fill-opacity: 1; stroke: rgb(17, 17, 17); stroke-opacity: 1;\"/></g><g class=\"point\"><path d=\"M245.78,207.13V159.09H262.03V207.13Z\" style=\"vector-effect: non-scaling-stroke; opacity: 1; stroke-width: 0.5px; fill: rgb(220, 176, 242); fill-opacity: 1; stroke: rgb(17, 17, 17); stroke-opacity: 1;\"/></g><g class=\"point\"><path d=\"M266.09,227V204.85H282.34V227Z\" style=\"vector-effect: non-scaling-stroke; opacity: 1; stroke-width: 0.5px; fill: rgb(220, 176, 242); fill-opacity: 1; stroke: rgb(17, 17, 17); stroke-opacity: 1;\"/></g><g class=\"point\"><path d=\"M286.41,228.25V203.81H302.66V228.25Z\" style=\"vector-effect: non-scaling-stroke; opacity: 1; stroke-width: 0.5px; fill: rgb(220, 176, 242); fill-opacity: 1; stroke: rgb(17, 17, 17); stroke-opacity: 1;\"/></g><g class=\"point\"><path d=\"M62.97,226.8V200.91H79.22V226.8Z\" style=\"vector-effect: non-scaling-stroke; opacity: 1; stroke-width: 0.5px; fill: rgb(220, 176, 242); fill-opacity: 1; stroke: rgb(17, 17, 17); stroke-opacity: 1;\"/></g><g class=\"point\"><path d=\"M83.28,239.02V218.93H99.53V239.02Z\" style=\"vector-effect: non-scaling-stroke; opacity: 1; stroke-width: 0.5px; fill: rgb(220, 176, 242); fill-opacity: 1; stroke: rgb(17, 17, 17); stroke-opacity: 1;\"/></g><g class=\"point\"><path d=\"M103.59,237.98V212.72H119.84V237.98Z\" style=\"vector-effect: non-scaling-stroke; opacity: 1; stroke-width: 0.5px; fill: rgb(220, 176, 242); fill-opacity: 1; stroke: rgb(17, 17, 17); stroke-opacity: 1;\"/></g><g class=\"point\"><path d=\"M306.72,230.32V207.54H322.97V230.32Z\" style=\"vector-effect: non-scaling-stroke; opacity: 1; stroke-width: 0.5px; fill: rgb(220, 176, 242); fill-opacity: 1; stroke: rgb(17, 17, 17); stroke-opacity: 1;\"/></g></g></g><g class=\"trace bars\" shape-rendering=\"crispEdges\" style=\"opacity: 1;\"><g class=\"points\"><g class=\"point\"><path d=\"M2.03,113.32V96.34H18.28V113.32Z\" style=\"vector-effect: non-scaling-stroke; opacity: 1; stroke-width: 0.5px; fill: rgb(135, 197, 95); fill-opacity: 1; stroke: rgb(17, 17, 17); stroke-opacity: 1;\"/></g><g class=\"point\"><path d=\"M22.34,150.6V114.98H38.59V150.6Z\" style=\"vector-effect: non-scaling-stroke; opacity: 1; stroke-width: 0.5px; fill: rgb(135, 197, 95); fill-opacity: 1; stroke: rgb(17, 17, 17); stroke-opacity: 1;\"/></g><g class=\"point\"><path d=\"M42.66,173.99V155.15H58.91V173.99Z\" style=\"vector-effect: non-scaling-stroke; opacity: 1; stroke-width: 0.5px; fill: rgb(135, 197, 95); fill-opacity: 1; stroke: rgb(17, 17, 17); stroke-opacity: 1;\"/></g><g class=\"point\"><path d=\"M123.91,204.23V194.91H140.16V204.23Z\" style=\"vector-effect: non-scaling-stroke; opacity: 1; stroke-width: 0.5px; fill: rgb(135, 197, 95); fill-opacity: 1; stroke: rgb(17, 17, 17); stroke-opacity: 1;\"/></g><g class=\"point\"><path d=\"M144.22,152.46V138.79H160.47V152.46Z\" style=\"vector-effect: non-scaling-stroke; opacity: 1; stroke-width: 0.5px; fill: rgb(135, 197, 95); fill-opacity: 1; stroke: rgb(17, 17, 17); stroke-opacity: 1;\"/></g><g class=\"point\"><path d=\"M164.53,134.86V118.29H180.78V134.86Z\" style=\"vector-effect: non-scaling-stroke; opacity: 1; stroke-width: 0.5px; fill: rgb(135, 197, 95); fill-opacity: 1; stroke: rgb(17, 17, 17); stroke-opacity: 1;\"/></g><g class=\"point\"><path d=\"M184.84,23.45V13.1H201.09V23.45Z\" style=\"vector-effect: non-scaling-stroke; opacity: 1; stroke-width: 0.5px; fill: rgb(135, 197, 95); fill-opacity: 1; stroke: rgb(17, 17, 17); stroke-opacity: 1;\"/></g><g class=\"point\"><path d=\"M205.16,87.02V58.03H221.41V87.02Z\" style=\"vector-effect: non-scaling-stroke; opacity: 1; stroke-width: 0.5px; fill: rgb(135, 197, 95); fill-opacity: 1; stroke: rgb(17, 17, 17); stroke-opacity: 1;\"/></g><g class=\"point\"><path d=\"M225.47,168.61V161.78H241.72V168.61Z\" style=\"vector-effect: non-scaling-stroke; opacity: 1; stroke-width: 0.5px; fill: rgb(135, 197, 95); fill-opacity: 1; stroke: rgb(17, 17, 17); stroke-opacity: 1;\"/></g><g class=\"point\"><path d=\"M245.78,159.09V152.25H262.03V159.09Z\" style=\"vector-effect: non-scaling-stroke; opacity: 1; stroke-width: 0.5px; fill: rgb(135, 197, 95); fill-opacity: 1; stroke: rgb(17, 17, 17); stroke-opacity: 1;\"/></g><g class=\"point\"><path d=\"M266.09,204.85V198.84H282.34V204.85Z\" style=\"vector-effect: non-scaling-stroke; opacity: 1; stroke-width: 0.5px; fill: rgb(135, 197, 95); fill-opacity: 1; stroke: rgb(17, 17, 17); stroke-opacity: 1;\"/></g><g class=\"point\"><path d=\"M286.41,203.81V196.57H302.66V203.81Z\" style=\"vector-effect: non-scaling-stroke; opacity: 1; stroke-width: 0.5px; fill: rgb(135, 197, 95); fill-opacity: 1; stroke: rgb(17, 17, 17); stroke-opacity: 1;\"/></g><g class=\"point\"><path d=\"M62.97,200.91V197.81H79.22V200.91Z\" style=\"vector-effect: non-scaling-stroke; opacity: 1; stroke-width: 0.5px; fill: rgb(135, 197, 95); fill-opacity: 1; stroke: rgb(17, 17, 17); stroke-opacity: 1;\"/></g><g class=\"point\"><path d=\"M83.28,218.93V213.13H99.53V218.93Z\" style=\"vector-effect: non-scaling-stroke; opacity: 1; stroke-width: 0.5px; fill: rgb(135, 197, 95); fill-opacity: 1; stroke: rgb(17, 17, 17); stroke-opacity: 1;\"/></g><g class=\"point\"><path d=\"M103.59,212.72V207.13H119.84V212.72Z\" style=\"vector-effect: non-scaling-stroke; opacity: 1; stroke-width: 0.5px; fill: rgb(135, 197, 95); fill-opacity: 1; stroke: rgb(17, 17, 17); stroke-opacity: 1;\"/></g><g class=\"point\"><path d=\"M306.72,207.54V199.67H322.97V207.54Z\" style=\"vector-effect: non-scaling-stroke; opacity: 1; stroke-width: 0.5px; fill: rgb(135, 197, 95); fill-opacity: 1; stroke: rgb(17, 17, 17); stroke-opacity: 1;\"/></g></g></g></g></g><g class=\"overplot\"/><path class=\"xlines-above crisp\" d=\"M0,0\" style=\"fill: none;\"/><path class=\"ylines-above crisp\" d=\"M0,0\" style=\"fill: none;\"/><g class=\"overlines-above\"/><g class=\"xaxislayer-above\"><path class=\"xdivider crisp\" transform=\"translate(405,0)\" d=\"M0,363v101.125\" style=\"stroke: rgb(68, 68, 68); stroke-opacity: 1; stroke-width: 1px;\"/><path class=\"xdivider crisp\" transform=\"translate(384.69,0)\" d=\"M0,363v101.125\" style=\"stroke: rgb(68, 68, 68); stroke-opacity: 1; stroke-width: 1px;\"/><path class=\"xdivider crisp\" transform=\"translate(140.94,0)\" d=\"M0,363v101.125\" style=\"stroke: rgb(68, 68, 68); stroke-opacity: 1; stroke-width: 1px;\"/><path class=\"xdivider crisp\" transform=\"translate(80,0)\" d=\"M0,363v101.125\" style=\"stroke: rgb(68, 68, 68); stroke-opacity: 1; stroke-width: 1px;\"/><g class=\"xtick\"><text text-anchor=\"start\" x=\"0\" y=\"375\" transform=\"translate(90.16,0) rotate(90,0,369)\" style=\"font-family: 'Open Sans', verdana, arial, sans-serif; font-size: 12px; fill: rgb(242, 245, 250); fill-opacity: 1; white-space: pre; opacity: 1;\">October</text></g><g class=\"xtick\"><text text-anchor=\"start\" x=\"0\" y=\"375\" transform=\"translate(110.47,0) rotate(90,0,369)\" style=\"font-family: 'Open Sans', verdana, arial, sans-serif; font-size: 12px; fill: rgb(242, 245, 250); fill-opacity: 1; white-space: pre; opacity: 1;\">November</text></g><g class=\"xtick\"><text text-anchor=\"start\" x=\"0\" y=\"375\" transform=\"translate(130.78,0) rotate(90,0,369)\" style=\"font-family: 'Open Sans', verdana, arial, sans-serif; font-size: 12px; fill: rgb(242, 245, 250); fill-opacity: 1; white-space: pre; opacity: 1;\">December</text></g><g class=\"xtick\"><text text-anchor=\"start\" x=\"0\" y=\"375\" transform=\"translate(151.09,0) rotate(90,0,369)\" style=\"font-family: 'Open Sans', verdana, arial, sans-serif; font-size: 12px; fill: rgb(242, 245, 250); fill-opacity: 1; white-space: pre; opacity: 1;\">October</text></g><g class=\"xtick\"><text text-anchor=\"start\" x=\"0\" y=\"375\" transform=\"translate(171.41,0) rotate(90,0,369)\" style=\"font-family: 'Open Sans', verdana, arial, sans-serif; font-size: 12px; fill: rgb(242, 245, 250); fill-opacity: 1; white-space: pre; opacity: 1;\">November</text></g><g class=\"xtick\"><text text-anchor=\"start\" x=\"0\" y=\"375\" transform=\"translate(191.72,0) rotate(90,0,369)\" style=\"font-family: 'Open Sans', verdana, arial, sans-serif; font-size: 12px; fill: rgb(242, 245, 250); fill-opacity: 1; white-space: pre; opacity: 1;\">December</text></g><g class=\"xtick\"><text text-anchor=\"start\" x=\"0\" y=\"375\" transform=\"translate(212.03,0) rotate(90,0,369)\" style=\"font-family: 'Open Sans', verdana, arial, sans-serif; font-size: 12px; fill: rgb(242, 245, 250); fill-opacity: 1; white-space: pre; opacity: 1;\">January</text></g><g class=\"xtick\"><text text-anchor=\"start\" x=\"0\" y=\"375\" transform=\"translate(232.34,0) rotate(90,0,369)\" style=\"font-family: 'Open Sans', verdana, arial, sans-serif; font-size: 12px; fill: rgb(242, 245, 250); fill-opacity: 1; white-space: pre; opacity: 1;\">February</text></g><g class=\"xtick\"><text text-anchor=\"start\" x=\"0\" y=\"375\" transform=\"translate(252.66,0) rotate(90,0,369)\" style=\"font-family: 'Open Sans', verdana, arial, sans-serif; font-size: 12px; fill: rgb(242, 245, 250); fill-opacity: 1; white-space: pre; opacity: 1;\">March</text></g><g class=\"xtick\"><text text-anchor=\"start\" x=\"0\" y=\"375\" transform=\"translate(272.97,0) rotate(90,0,369)\" style=\"font-family: 'Open Sans', verdana, arial, sans-serif; font-size: 12px; fill: rgb(242, 245, 250); fill-opacity: 1; white-space: pre; opacity: 1;\">April</text></g><g class=\"xtick\"><text text-anchor=\"start\" x=\"0\" y=\"375\" transform=\"translate(293.28,0) rotate(90,0,369)\" style=\"font-family: 'Open Sans', verdana, arial, sans-serif; font-size: 12px; fill: rgb(242, 245, 250); fill-opacity: 1; white-space: pre; opacity: 1;\">May</text></g><g class=\"xtick\"><text text-anchor=\"start\" x=\"0\" y=\"375\" transform=\"translate(313.59000000000003,0) rotate(90,0,369)\" style=\"font-family: 'Open Sans', verdana, arial, sans-serif; font-size: 12px; fill: rgb(242, 245, 250); fill-opacity: 1; white-space: pre; opacity: 1;\">June</text></g><g class=\"xtick\"><text text-anchor=\"start\" x=\"0\" y=\"375\" transform=\"translate(333.90999999999997,0) rotate(90,0,369)\" style=\"font-family: 'Open Sans', verdana, arial, sans-serif; font-size: 12px; fill: rgb(242, 245, 250); fill-opacity: 1; white-space: pre; opacity: 1;\">July</text></g><g class=\"xtick\"><text text-anchor=\"start\" x=\"0\" y=\"375\" transform=\"translate(354.22,0) rotate(90,0,369)\" style=\"font-family: 'Open Sans', verdana, arial, sans-serif; font-size: 12px; fill: rgb(242, 245, 250); fill-opacity: 1; white-space: pre; opacity: 1;\">August</text></g><g class=\"xtick\"><text text-anchor=\"start\" x=\"0\" y=\"375\" transform=\"translate(374.53,0) rotate(90,0,369)\" style=\"font-family: 'Open Sans', verdana, arial, sans-serif; font-size: 12px; fill: rgb(242, 245, 250); fill-opacity: 1; white-space: pre; opacity: 1;\">September</text></g><g class=\"xtick\"><text text-anchor=\"start\" x=\"0\" y=\"375\" transform=\"translate(394.84,0) rotate(90,0,369)\" style=\"font-family: 'Open Sans', verdana, arial, sans-serif; font-size: 12px; fill: rgb(242, 245, 250); fill-opacity: 1; white-space: pre; opacity: 1;\">January</text></g><g class=\"xtick2\"><text text-anchor=\"middle\" x=\"0\" y=\"460.615625\" transform=\"translate(110.47,0)\" style=\"font-family: 'Open Sans', verdana, arial, sans-serif; font-size: 12px; fill: rgb(242, 245, 250); fill-opacity: 1; white-space: pre; opacity: 1;\">2018</text></g><g class=\"xtick2\"><text text-anchor=\"middle\" x=\"0\" y=\"460.615625\" transform=\"translate(262.81,0)\" style=\"font-family: 'Open Sans', verdana, arial, sans-serif; font-size: 12px; fill: rgb(242, 245, 250); fill-opacity: 1; white-space: pre; opacity: 1;\">2019</text></g><g class=\"xtick2\"><text text-anchor=\"middle\" x=\"0\" y=\"460.615625\" transform=\"translate(394.84,0)\" style=\"font-family: 'Open Sans', verdana, arial, sans-serif; font-size: 12px; fill: rgb(242, 245, 250); fill-opacity: 1; white-space: pre; opacity: 1;\">2020</text></g></g><g class=\"yaxislayer-above\"><g class=\"ytick\"><text text-anchor=\"end\" x=\"79\" y=\"4.199999999999999\" transform=\"translate(0,362)\" style=\"font-family: 'Open Sans', verdana, arial, sans-serif; font-size: 12px; fill: rgb(242, 245, 250); fill-opacity: 1; white-space: pre; opacity: 1;\">0</text></g><g class=\"ytick\"><text text-anchor=\"end\" x=\"79\" y=\"4.199999999999999\" style=\"font-family: 'Open Sans', verdana, arial, sans-serif; font-size: 12px; fill: rgb(242, 245, 250); fill-opacity: 1; white-space: pre; opacity: 1;\" transform=\"translate(0,320.59000000000003)\">200</text></g><g class=\"ytick\"><text text-anchor=\"end\" x=\"79\" y=\"4.199999999999999\" style=\"font-family: 'Open Sans', verdana, arial, sans-serif; font-size: 12px; fill: rgb(242, 245, 250); fill-opacity: 1; white-space: pre; opacity: 1;\" transform=\"translate(0,279.16999999999996)\">400</text></g><g class=\"ytick\"><text text-anchor=\"end\" x=\"79\" y=\"4.199999999999999\" style=\"font-family: 'Open Sans', verdana, arial, sans-serif; font-size: 12px; fill: rgb(242, 245, 250); fill-opacity: 1; white-space: pre; opacity: 1;\" transform=\"translate(0,237.76)\">600</text></g><g class=\"ytick\"><text text-anchor=\"end\" x=\"79\" y=\"4.199999999999999\" style=\"font-family: 'Open Sans', verdana, arial, sans-serif; font-size: 12px; fill: rgb(242, 245, 250); fill-opacity: 1; white-space: pre; opacity: 1;\" transform=\"translate(0,196.34)\">800</text></g><g class=\"ytick\"><text text-anchor=\"end\" x=\"79\" y=\"4.199999999999999\" style=\"font-family: 'Open Sans', verdana, arial, sans-serif; font-size: 12px; fill: rgb(242, 245, 250); fill-opacity: 1; white-space: pre; opacity: 1;\" transform=\"translate(0,154.93)\">1000</text></g><g class=\"ytick\"><text text-anchor=\"end\" x=\"79\" y=\"4.199999999999999\" style=\"font-family: 'Open Sans', verdana, arial, sans-serif; font-size: 12px; fill: rgb(242, 245, 250); fill-opacity: 1; white-space: pre; opacity: 1;\" transform=\"translate(0,113.51)\">1200</text></g></g><g class=\"overaxes-above\"/></g></g><g class=\"polarlayer\"/><g class=\"smithlayer\"/><g class=\"ternarylayer\"/><g class=\"geolayer\"/><g class=\"funnelarealayer\"/><g class=\"pielayer\"/><g class=\"iciclelayer\"/><g class=\"treemaplayer\"/><g class=\"sunburstlayer\"/><g class=\"glimages\"/><defs id=\"topdefs-3156dc\"><g class=\"clips\"/><clipPath id=\"legend3156dc\"><rect width=\"276\" height=\"145\" x=\"0\" y=\"0\"/></clipPath></defs><g class=\"layer-above\"><g class=\"imagelayer\"/><g class=\"shapelayer\"/></g><g class=\"infolayer\"><g class=\"legend\" pointer-events=\"all\" transform=\"translate(411.5,100)\"><rect class=\"bg\" shape-rendering=\"crispEdges\" style=\"stroke: rgb(68, 68, 68); stroke-opacity: 1; fill: rgb(17, 17, 17); fill-opacity: 1; stroke-width: 0px;\" width=\"276\" height=\"145\" x=\"0\" y=\"0\"/><g class=\"scrollbox\" transform=\"\" clip-path=\"url(#legend3156dc)\"><g class=\"groups\" transform=\"\"><g class=\"traces\" transform=\"translate(0,14.5)\" style=\"opacity: 1;\"><text class=\"legendtext\" text-anchor=\"start\" x=\"40\" y=\"4.680000000000001\" style=\"font-family: 'Open Sans', verdana, arial, sans-serif; font-size: 12px; fill: rgb(242, 245, 250); fill-opacity: 1; white-space: pre;\">еда и напитки</text><g class=\"layers\" style=\"opacity: 1;\"><g class=\"legendfill\"/><g class=\"legendlines\"/><g class=\"legendsymbols\"><g class=\"legendpoints\"><path class=\"legendundefined\" d=\"M6,6H-6V-6H6Z\" transform=\"translate(20,0)\" style=\"stroke-width: 0.5px; fill: rgb(102, 197, 204); fill-opacity: 1; stroke: rgb(17, 17, 17); stroke-opacity: 1;\"/></g></g></g><rect class=\"legendtoggle\" x=\"0\" y=\"-9.5\" width=\"270.5625\" height=\"19\" style=\"fill: rgb(0, 0, 0); fill-opacity: 0;\"/></g></g><g class=\"groups\" transform=\"translate(0,10)\"><g class=\"traces\" transform=\"translate(0,33.5)\" style=\"opacity: 1;\"><text class=\"legendtext\" text-anchor=\"start\" x=\"40\" y=\"4.680000000000001\" style=\"font-family: 'Open Sans', verdana, arial, sans-serif; font-size: 12px; fill: rgb(242, 245, 250); fill-opacity: 1; white-space: pre;\">растения</text><g class=\"layers\" style=\"opacity: 1;\"><g class=\"legendfill\"/><g class=\"legendlines\"/><g class=\"legendsymbols\"><g class=\"legendpoints\"><path class=\"legendundefined\" d=\"M6,6H-6V-6H6Z\" transform=\"translate(20,0)\" style=\"stroke-width: 0.5px; fill: rgb(246, 207, 113); fill-opacity: 1; stroke: rgb(17, 17, 17); stroke-opacity: 1;\"/></g></g></g><rect class=\"legendtoggle\" x=\"0\" y=\"-9.5\" width=\"270.5625\" height=\"19\" style=\"fill: rgb(0, 0, 0); fill-opacity: 0;\"/></g></g><g class=\"groups\" transform=\"translate(0,20)\"><g class=\"traces\" transform=\"translate(0,52.5)\" style=\"opacity: 1;\"><text class=\"legendtext\" text-anchor=\"start\" x=\"40\" y=\"4.680000000000001\" style=\"font-family: 'Open Sans', verdana, arial, sans-serif; font-size: 12px; fill: rgb(242, 245, 250); fill-opacity: 1; white-space: pre;\">товары для дачи и ремонтных работ</text><g class=\"layers\" style=\"opacity: 1;\"><g class=\"legendfill\"/><g class=\"legendlines\"/><g class=\"legendsymbols\"><g class=\"legendpoints\"><path class=\"legendundefined\" d=\"M6,6H-6V-6H6Z\" transform=\"translate(20,0)\" style=\"stroke-width: 0.5px; fill: rgb(248, 156, 116); fill-opacity: 1; stroke: rgb(17, 17, 17); stroke-opacity: 1;\"/></g></g></g><rect class=\"legendtoggle\" x=\"0\" y=\"-9.5\" width=\"270.5625\" height=\"19\" style=\"fill: rgb(0, 0, 0); fill-opacity: 0;\"/></g></g><g class=\"groups\" transform=\"translate(0,30)\"><g class=\"traces\" transform=\"translate(0,71.5)\" style=\"opacity: 1;\"><text class=\"legendtext\" text-anchor=\"start\" x=\"40\" y=\"4.680000000000001\" style=\"font-family: 'Open Sans', verdana, arial, sans-serif; font-size: 12px; fill: rgb(242, 245, 250); fill-opacity: 1; white-space: pre;\">товары для дома</text><g class=\"layers\" style=\"opacity: 1;\"><g class=\"legendfill\"/><g class=\"legendlines\"/><g class=\"legendsymbols\"><g class=\"legendpoints\"><path class=\"legendundefined\" d=\"M6,6H-6V-6H6Z\" transform=\"translate(20,0)\" style=\"stroke-width: 0.5px; fill: rgb(220, 176, 242); fill-opacity: 1; stroke: rgb(17, 17, 17); stroke-opacity: 1;\"/></g></g></g><rect class=\"legendtoggle\" x=\"0\" y=\"-9.5\" width=\"270.5625\" height=\"19\" style=\"fill: rgb(0, 0, 0); fill-opacity: 0;\"/></g></g><g class=\"groups\" transform=\"translate(0,40)\"><g class=\"traces\" transform=\"translate(0,90.5)\" style=\"opacity: 1;\"><text class=\"legendtext\" text-anchor=\"start\" x=\"40\" y=\"4.680000000000001\" style=\"font-family: 'Open Sans', verdana, arial, sans-serif; font-size: 12px; fill: rgb(242, 245, 250); fill-opacity: 1; white-space: pre;\">товары для кухни</text><g class=\"layers\" style=\"opacity: 1;\"><g class=\"legendfill\"/><g class=\"legendlines\"/><g class=\"legendsymbols\"><g class=\"legendpoints\"><path class=\"legendundefined\" d=\"M6,6H-6V-6H6Z\" transform=\"translate(20,0)\" style=\"stroke-width: 0.5px; fill: rgb(135, 197, 95); fill-opacity: 1; stroke: rgb(17, 17, 17); stroke-opacity: 1;\"/></g></g></g><rect class=\"legendtoggle\" x=\"0\" y=\"-9.5\" width=\"270.5625\" height=\"19\" style=\"fill: rgb(0, 0, 0); fill-opacity: 0;\"/></g></g></g><rect class=\"scrollbar\" rx=\"20\" ry=\"3\" width=\"0\" height=\"0\" style=\"fill: rgb(128, 139, 164); fill-opacity: 1;\" x=\"0\" y=\"0\"/></g><g class=\"g-gtitle\"><text class=\"gtitle\" x=\"35\" y=\"50\" text-anchor=\"start\" dy=\"0em\" style=\"font-family: 'Open Sans', verdana, arial, sans-serif; font-size: 17px; fill: rgb(242, 245, 250); opacity: 1; font-weight: normal; white-space: pre;\">Количество товаров каждой категории по месяцам</text></g><g class=\"g-xtitle\"><text class=\"xtitle\" x=\"242.5\" y=\"487.925\" text-anchor=\"middle\" style=\"font-family: 'Open Sans', verdana, arial, sans-serif; font-size: 14px; fill: rgb(242, 245, 250); opacity: 1; font-weight: normal; white-space: pre;\">Год и месяц</text></g><g class=\"g-ytitle\"><text class=\"ytitle\" transform=\"rotate(-90,23.684375000000003,231)\" x=\"23.684375000000003\" y=\"231\" text-anchor=\"middle\" style=\"font-family: 'Open Sans', verdana, arial, sans-serif; font-size: 14px; fill: rgb(242, 245, 250); opacity: 1; font-weight: normal; white-space: pre;\">Количество товаров</text></g></g></svg>"
      ]
     },
     "metadata": {},
     "output_type": "display_data"
    }
   ],
   "source": [
    "columns = month_category_quantity.columns[2:]\n",
    "palette = cycle(px.colors.qualitative.Pastel)\n",
    "colors = {c: next(palette) for c in columns}\n",
    "fig = make_subplots(rows=1, cols=1)\n",
    "for cols in columns:\n",
    "    fig.add_trace(go.Bar(x=[month_category_quantity['year'], month_category_quantity['month']],\n",
    "                         y=month_category_quantity[cols],\n",
    "                         name=cols,\n",
    "                         legendgroup=cols,\n",
    "                         marker_color=colors[cols],\n",
    "                         showlegend=True), row=1, col=1)\n",
    "    \n",
    "fig.update_layout(title_text='Количество товаров каждой категории по месяцам',\n",
    "                  xaxis_title='Год и месяц',\n",
    "                  yaxis_title='Количество товаров',\n",
    "                  barmode='stack',\n",
    "                  template='plotly_dark'\n",
    "                  )\n",
    "fig.show()"
   ]
  },
  {
   "cell_type": "markdown",
   "id": "6ce731dc",
   "metadata": {},
   "source": [
    "С февраля по июль мы видим возрастание и спад популярности растений и товаров для дачи и ремонтных работ, ее пик приходится на апрель-май, также растения становятся заметны в ноябре, декабре 2019 года и январе 2020 при том, что год назад мы почти не видим в эти месяцы данную категорию. В холодное время года могут покупать комнатные растения, поэтому в данные месяцы стоит расширить их ассортимент и посмотреть, как быстро заканчивается товар, возможно, его количество следует увеличить. Товары для дома востребованы большую часть года как и товары для кухни, но меньше всего их покупают в ноябре, апреле и мае 2019 года."
   ]
  },
  {
   "cell_type": "code",
   "execution_count": 55,
   "id": "bc9f5218",
   "metadata": {},
   "outputs": [
    {
     "data": {
      "image/svg+xml": [
       "<svg class=\"main-svg\" xmlns=\"http://www.w3.org/2000/svg\" xmlns:xlink=\"http://www.w3.org/1999/xlink\" width=\"1050\" height=\"750\" style=\"\" viewBox=\"0 0 700 500\"><rect x=\"0\" y=\"0\" width=\"700\" height=\"500\" style=\"fill: rgb(17, 17, 17); fill-opacity: 1;\"/><defs id=\"defs-6208fb\"><g class=\"clips\"><clipPath id=\"clip6208fbxyplot\" class=\"plotclip\"><rect width=\"325\" height=\"262\"/></clipPath><clipPath class=\"axesclip\" id=\"clip6208fbx\"><rect x=\"80\" y=\"0\" width=\"325\" height=\"500\"/></clipPath><clipPath class=\"axesclip\" id=\"clip6208fby\"><rect x=\"0\" y=\"100\" width=\"700\" height=\"262\"/></clipPath><clipPath class=\"axesclip\" id=\"clip6208fbxy\"><rect x=\"80\" y=\"100\" width=\"325\" height=\"262\"/></clipPath></g><g class=\"gradients\"/><g class=\"patterns\"/></defs><g class=\"bglayer\"/><g class=\"layer-below\"><g class=\"imagelayer\"/><g class=\"shapelayer\"/></g><g class=\"cartesianlayer\"><g class=\"subplot xy\"><g class=\"layer-subplot\"><g class=\"shapelayer\"/><g class=\"imagelayer\"/></g><g class=\"minor-gridlayer\"><g class=\"x\"/><g class=\"y\"/></g><g class=\"gridlayer\"><g class=\"x\"/><g class=\"y\"><path class=\"ygrid crisp\" transform=\"translate(0,323.05)\" d=\"M80,0h325\" style=\"stroke: rgb(40, 52, 66); stroke-opacity: 1; stroke-width: 1px;\"/><path class=\"ygrid crisp\" transform=\"translate(0,284.09000000000003)\" d=\"M80,0h325\" style=\"stroke: rgb(40, 52, 66); stroke-opacity: 1; stroke-width: 1px;\"/><path class=\"ygrid crisp\" transform=\"translate(0,245.14)\" d=\"M80,0h325\" style=\"stroke: rgb(40, 52, 66); stroke-opacity: 1; stroke-width: 1px;\"/><path class=\"ygrid crisp\" transform=\"translate(0,206.19)\" d=\"M80,0h325\" style=\"stroke: rgb(40, 52, 66); stroke-opacity: 1; stroke-width: 1px;\"/><path class=\"ygrid crisp\" transform=\"translate(0,167.24)\" d=\"M80,0h325\" style=\"stroke: rgb(40, 52, 66); stroke-opacity: 1; stroke-width: 1px;\"/><path class=\"ygrid crisp\" transform=\"translate(0,128.28)\" d=\"M80,0h325\" style=\"stroke: rgb(40, 52, 66); stroke-opacity: 1; stroke-width: 1px;\"/></g></g><g class=\"zerolinelayer\"><path class=\"yzl zl crisp\" transform=\"translate(0,362)\" d=\"M80,0h325\" style=\"stroke: rgb(40, 52, 66); stroke-opacity: 1; stroke-width: 2px;\"/></g><path class=\"xlines-below\"/><path class=\"ylines-below\"/><g class=\"overlines-below\"/><g class=\"xaxislayer-below\"/><g class=\"yaxislayer-below\"/><g class=\"overaxes-below\"/><g class=\"plot\" transform=\"translate(80,100)\" clip-path=\"url(#clip6208fbxyplot)\"><g class=\"barlayer mlayer\"><g class=\"trace bars\" shape-rendering=\"crispEdges\" style=\"opacity: 1;\"><g class=\"points\"><g class=\"point\"><path d=\"M0,0Z\" style=\"vector-effect: non-scaling-stroke; opacity: 1; stroke-width: 0px; fill: rgb(102, 197, 204); fill-opacity: 1; stroke: rgb(17, 17, 17); stroke-opacity: 1;\"/></g><g class=\"point\"><path d=\"M22.34,262V261.81H38.59V262Z\" style=\"vector-effect: non-scaling-stroke; opacity: 1; stroke-width: 0.5px; fill: rgb(102, 197, 204); fill-opacity: 1; stroke: rgb(17, 17, 17); stroke-opacity: 1;\"/></g><g class=\"point\"><path d=\"M0,0Z\" style=\"vector-effect: non-scaling-stroke; opacity: 1; stroke-width: 0px; fill: rgb(102, 197, 204); fill-opacity: 1; stroke: rgb(17, 17, 17); stroke-opacity: 1;\"/></g><g class=\"point\"><path d=\"M123.91,262V261.71H140.16V262Z\" style=\"vector-effect: non-scaling-stroke; opacity: 1; stroke-width: 0.5px; fill: rgb(102, 197, 204); fill-opacity: 1; stroke: rgb(17, 17, 17); stroke-opacity: 1;\"/></g><g class=\"point\"><path d=\"M0,0Z\" style=\"vector-effect: non-scaling-stroke; opacity: 1; stroke-width: 0px; fill: rgb(102, 197, 204); fill-opacity: 1; stroke: rgb(17, 17, 17); stroke-opacity: 1;\"/></g><g class=\"point\"><path d=\"M164.53,262V261.24H180.78V262Z\" style=\"vector-effect: non-scaling-stroke; opacity: 1; stroke-width: 0.5px; fill: rgb(102, 197, 204); fill-opacity: 1; stroke: rgb(17, 17, 17); stroke-opacity: 1;\"/></g><g class=\"point\"><path d=\"M184.84,262V261.62H201.09V262Z\" style=\"vector-effect: non-scaling-stroke; opacity: 1; stroke-width: 0.5px; fill: rgb(102, 197, 204); fill-opacity: 1; stroke: rgb(17, 17, 17); stroke-opacity: 1;\"/></g><g class=\"point\"><path d=\"M205.16,262V261.12H221.41V262Z\" style=\"vector-effect: non-scaling-stroke; opacity: 1; stroke-width: 0.5px; fill: rgb(102, 197, 204); fill-opacity: 1; stroke: rgb(17, 17, 17); stroke-opacity: 1;\"/></g><g class=\"point\"><path d=\"M225.47,262V261.94H241.72V262Z\" style=\"vector-effect: non-scaling-stroke; opacity: 1; stroke-width: 0.5px; fill: rgb(102, 197, 204); fill-opacity: 1; stroke: rgb(17, 17, 17); stroke-opacity: 1;\"/></g><g class=\"point\"><path d=\"M245.78,262V261.56H262.03V262Z\" style=\"vector-effect: non-scaling-stroke; opacity: 1; stroke-width: 0.5px; fill: rgb(102, 197, 204); fill-opacity: 1; stroke: rgb(17, 17, 17); stroke-opacity: 1;\"/></g><g class=\"point\"><path d=\"M266.09,262V261.24H282.34V262Z\" style=\"vector-effect: non-scaling-stroke; opacity: 1; stroke-width: 0.5px; fill: rgb(102, 197, 204); fill-opacity: 1; stroke: rgb(17, 17, 17); stroke-opacity: 1;\"/></g><g class=\"point\"><path d=\"M286.41,262V261.89H302.66V262Z\" style=\"vector-effect: non-scaling-stroke; opacity: 1; stroke-width: 0.5px; fill: rgb(102, 197, 204); fill-opacity: 1; stroke: rgb(17, 17, 17); stroke-opacity: 1;\"/></g><g class=\"point\"><path d=\"M0,0Z\" style=\"vector-effect: non-scaling-stroke; opacity: 1; stroke-width: 0px; fill: rgb(102, 197, 204); fill-opacity: 1; stroke: rgb(17, 17, 17); stroke-opacity: 1;\"/></g><g class=\"point\"><path d=\"M83.28,262V261.94H99.53V262Z\" style=\"vector-effect: non-scaling-stroke; opacity: 1; stroke-width: 0.5px; fill: rgb(102, 197, 204); fill-opacity: 1; stroke: rgb(17, 17, 17); stroke-opacity: 1;\"/></g><g class=\"point\"><path d=\"M103.59,262V261.69H119.84V262Z\" style=\"vector-effect: non-scaling-stroke; opacity: 1; stroke-width: 0.5px; fill: rgb(102, 197, 204); fill-opacity: 1; stroke: rgb(17, 17, 17); stroke-opacity: 1;\"/></g><g class=\"point\"><path d=\"M0,0Z\" style=\"vector-effect: non-scaling-stroke; opacity: 1; stroke-width: 0px; fill: rgb(102, 197, 204); fill-opacity: 1; stroke: rgb(17, 17, 17); stroke-opacity: 1;\"/></g></g></g><g class=\"trace bars\" shape-rendering=\"crispEdges\" style=\"opacity: 1;\"><g class=\"points\"><g class=\"point\"><path d=\"M2.03,262V206.01H18.28V262Z\" style=\"vector-effect: non-scaling-stroke; opacity: 1; stroke-width: 0.5px; fill: rgb(246, 207, 113); fill-opacity: 1; stroke: rgb(17, 17, 17); stroke-opacity: 1;\"/></g><g class=\"point\"><path d=\"M22.34,261.81V200.4H38.59V261.81Z\" style=\"vector-effect: non-scaling-stroke; opacity: 1; stroke-width: 0.5px; fill: rgb(246, 207, 113); fill-opacity: 1; stroke: rgb(17, 17, 17); stroke-opacity: 1;\"/></g><g class=\"point\"><path d=\"M42.66,262V216.56H58.91V262Z\" style=\"vector-effect: non-scaling-stroke; opacity: 1; stroke-width: 0.5px; fill: rgb(246, 207, 113); fill-opacity: 1; stroke: rgb(17, 17, 17); stroke-opacity: 1;\"/></g><g class=\"point\"><path d=\"M123.91,261.71V178.49H140.16V261.71Z\" style=\"vector-effect: non-scaling-stroke; opacity: 1; stroke-width: 0.5px; fill: rgb(246, 207, 113); fill-opacity: 1; stroke: rgb(17, 17, 17); stroke-opacity: 1;\"/></g><g class=\"point\"><path d=\"M144.22,262V204.52H160.47V262Z\" style=\"vector-effect: non-scaling-stroke; opacity: 1; stroke-width: 0.5px; fill: rgb(246, 207, 113); fill-opacity: 1; stroke: rgb(17, 17, 17); stroke-opacity: 1;\"/></g><g class=\"point\"><path d=\"M164.53,261.24V236.11H180.78V261.24Z\" style=\"vector-effect: non-scaling-stroke; opacity: 1; stroke-width: 0.5px; fill: rgb(246, 207, 113); fill-opacity: 1; stroke: rgb(17, 17, 17); stroke-opacity: 1;\"/></g><g class=\"point\"><path d=\"M184.84,261.62V216.5H201.09V261.62Z\" style=\"vector-effect: non-scaling-stroke; opacity: 1; stroke-width: 0.5px; fill: rgb(246, 207, 113); fill-opacity: 1; stroke: rgb(17, 17, 17); stroke-opacity: 1;\"/></g><g class=\"point\"><path d=\"M205.16,261.12V237.13H221.41V261.12Z\" style=\"vector-effect: non-scaling-stroke; opacity: 1; stroke-width: 0.5px; fill: rgb(246, 207, 113); fill-opacity: 1; stroke: rgb(17, 17, 17); stroke-opacity: 1;\"/></g><g class=\"point\"><path d=\"M225.47,261.94V229.92H241.72V261.94Z\" style=\"vector-effect: non-scaling-stroke; opacity: 1; stroke-width: 0.5px; fill: rgb(246, 207, 113); fill-opacity: 1; stroke: rgb(17, 17, 17); stroke-opacity: 1;\"/></g><g class=\"point\"><path d=\"M245.78,261.56V220.93H262.03V261.56Z\" style=\"vector-effect: non-scaling-stroke; opacity: 1; stroke-width: 0.5px; fill: rgb(246, 207, 113); fill-opacity: 1; stroke: rgb(17, 17, 17); stroke-opacity: 1;\"/></g><g class=\"point\"><path d=\"M266.09,261.24V212.13H282.34V261.24Z\" style=\"vector-effect: non-scaling-stroke; opacity: 1; stroke-width: 0.5px; fill: rgb(246, 207, 113); fill-opacity: 1; stroke: rgb(17, 17, 17); stroke-opacity: 1;\"/></g><g class=\"point\"><path d=\"M286.41,261.89V198.08H302.66V261.89Z\" style=\"vector-effect: non-scaling-stroke; opacity: 1; stroke-width: 0.5px; fill: rgb(246, 207, 113); fill-opacity: 1; stroke: rgb(17, 17, 17); stroke-opacity: 1;\"/></g><g class=\"point\"><path d=\"M62.97,262V238.51H79.22V262Z\" style=\"vector-effect: non-scaling-stroke; opacity: 1; stroke-width: 0.5px; fill: rgb(246, 207, 113); fill-opacity: 1; stroke: rgb(17, 17, 17); stroke-opacity: 1;\"/></g><g class=\"point\"><path d=\"M83.28,261.94V220.16H99.53V261.94Z\" style=\"vector-effect: non-scaling-stroke; opacity: 1; stroke-width: 0.5px; fill: rgb(246, 207, 113); fill-opacity: 1; stroke: rgb(17, 17, 17); stroke-opacity: 1;\"/></g><g class=\"point\"><path d=\"M103.59,261.69V235.81H119.84V261.69Z\" style=\"vector-effect: non-scaling-stroke; opacity: 1; stroke-width: 0.5px; fill: rgb(246, 207, 113); fill-opacity: 1; stroke: rgb(17, 17, 17); stroke-opacity: 1;\"/></g><g class=\"point\"><path d=\"M306.72,262V236.05H322.97V262Z\" style=\"vector-effect: non-scaling-stroke; opacity: 1; stroke-width: 0.5px; fill: rgb(246, 207, 113); fill-opacity: 1; stroke: rgb(17, 17, 17); stroke-opacity: 1;\"/></g></g></g><g class=\"trace bars\" shape-rendering=\"crispEdges\" style=\"opacity: 1;\"><g class=\"points\"><g class=\"point\"><path d=\"M2.03,206.01V201.56H18.28V206.01Z\" style=\"vector-effect: non-scaling-stroke; opacity: 1; stroke-width: 0.5px; fill: rgb(248, 156, 116); fill-opacity: 1; stroke: rgb(17, 17, 17); stroke-opacity: 1;\"/></g><g class=\"point\"><path d=\"M22.34,200.4V194.97H38.59V200.4Z\" style=\"vector-effect: non-scaling-stroke; opacity: 1; stroke-width: 0.5px; fill: rgb(248, 156, 116); fill-opacity: 1; stroke: rgb(17, 17, 17); stroke-opacity: 1;\"/></g><g class=\"point\"><path d=\"M42.66,216.56V202.66H58.91V216.56Z\" style=\"vector-effect: non-scaling-stroke; opacity: 1; stroke-width: 0.5px; fill: rgb(248, 156, 116); fill-opacity: 1; stroke: rgb(17, 17, 17); stroke-opacity: 1;\"/></g><g class=\"point\"><path d=\"M123.91,178.49V166.92H140.16V178.49Z\" style=\"vector-effect: non-scaling-stroke; opacity: 1; stroke-width: 0.5px; fill: rgb(248, 156, 116); fill-opacity: 1; stroke: rgb(17, 17, 17); stroke-opacity: 1;\"/></g><g class=\"point\"><path d=\"M144.22,204.52V195.8H160.47V204.52Z\" style=\"vector-effect: non-scaling-stroke; opacity: 1; stroke-width: 0.5px; fill: rgb(248, 156, 116); fill-opacity: 1; stroke: rgb(17, 17, 17); stroke-opacity: 1;\"/></g><g class=\"point\"><path d=\"M164.53,236.11V232.73H180.78V236.11Z\" style=\"vector-effect: non-scaling-stroke; opacity: 1; stroke-width: 0.5px; fill: rgb(248, 156, 116); fill-opacity: 1; stroke: rgb(17, 17, 17); stroke-opacity: 1;\"/></g><g class=\"point\"><path d=\"M184.84,216.5V204.65H201.09V216.5Z\" style=\"vector-effect: non-scaling-stroke; opacity: 1; stroke-width: 0.5px; fill: rgb(248, 156, 116); fill-opacity: 1; stroke: rgb(17, 17, 17); stroke-opacity: 1;\"/></g><g class=\"point\"><path d=\"M205.16,237.13V228.26H221.41V237.13Z\" style=\"vector-effect: non-scaling-stroke; opacity: 1; stroke-width: 0.5px; fill: rgb(248, 156, 116); fill-opacity: 1; stroke: rgb(17, 17, 17); stroke-opacity: 1;\"/></g><g class=\"point\"><path d=\"M225.47,229.92V216.15H241.72V229.92Z\" style=\"vector-effect: non-scaling-stroke; opacity: 1; stroke-width: 0.5px; fill: rgb(248, 156, 116); fill-opacity: 1; stroke: rgb(17, 17, 17); stroke-opacity: 1;\"/></g><g class=\"point\"><path d=\"M245.78,220.93V211.68H262.03V220.93Z\" style=\"vector-effect: non-scaling-stroke; opacity: 1; stroke-width: 0.5px; fill: rgb(248, 156, 116); fill-opacity: 1; stroke: rgb(17, 17, 17); stroke-opacity: 1;\"/></g><g class=\"point\"><path d=\"M266.09,212.13V200.01H282.34V212.13Z\" style=\"vector-effect: non-scaling-stroke; opacity: 1; stroke-width: 0.5px; fill: rgb(248, 156, 116); fill-opacity: 1; stroke: rgb(17, 17, 17); stroke-opacity: 1;\"/></g><g class=\"point\"><path d=\"M286.41,198.08V187.64H302.66V198.08Z\" style=\"vector-effect: non-scaling-stroke; opacity: 1; stroke-width: 0.5px; fill: rgb(248, 156, 116); fill-opacity: 1; stroke: rgb(17, 17, 17); stroke-opacity: 1;\"/></g><g class=\"point\"><path d=\"M62.97,238.51V236.95H79.22V238.51Z\" style=\"vector-effect: non-scaling-stroke; opacity: 1; stroke-width: 0.5px; fill: rgb(248, 156, 116); fill-opacity: 1; stroke: rgb(17, 17, 17); stroke-opacity: 1;\"/></g><g class=\"point\"><path d=\"M83.28,220.16V206.65H99.53V220.16Z\" style=\"vector-effect: non-scaling-stroke; opacity: 1; stroke-width: 0.5px; fill: rgb(248, 156, 116); fill-opacity: 1; stroke: rgb(17, 17, 17); stroke-opacity: 1;\"/></g><g class=\"point\"><path d=\"M103.59,235.81V231.82H119.84V235.81Z\" style=\"vector-effect: non-scaling-stroke; opacity: 1; stroke-width: 0.5px; fill: rgb(248, 156, 116); fill-opacity: 1; stroke: rgb(17, 17, 17); stroke-opacity: 1;\"/></g><g class=\"point\"><path d=\"M306.72,236.05V233.17H322.97V236.05Z\" style=\"vector-effect: non-scaling-stroke; opacity: 1; stroke-width: 0.5px; fill: rgb(248, 156, 116); fill-opacity: 1; stroke: rgb(17, 17, 17); stroke-opacity: 1;\"/></g></g></g><g class=\"trace bars\" shape-rendering=\"crispEdges\" style=\"opacity: 1;\"><g class=\"points\"><g class=\"point\"><path d=\"M2.03,201.56V48.63H18.28V201.56Z\" style=\"vector-effect: non-scaling-stroke; opacity: 1; stroke-width: 0.5px; fill: rgb(220, 176, 242); fill-opacity: 1; stroke: rgb(17, 17, 17); stroke-opacity: 1;\"/></g><g class=\"point\"><path d=\"M22.34,194.97V57.17H38.59V194.97Z\" style=\"vector-effect: non-scaling-stroke; opacity: 1; stroke-width: 0.5px; fill: rgb(220, 176, 242); fill-opacity: 1; stroke: rgb(17, 17, 17); stroke-opacity: 1;\"/></g><g class=\"point\"><path d=\"M42.66,202.66V29.15H58.91V202.66Z\" style=\"vector-effect: non-scaling-stroke; opacity: 1; stroke-width: 0.5px; fill: rgb(220, 176, 242); fill-opacity: 1; stroke: rgb(17, 17, 17); stroke-opacity: 1;\"/></g><g class=\"point\"><path d=\"M123.91,166.92V40.13H140.16V166.92Z\" style=\"vector-effect: non-scaling-stroke; opacity: 1; stroke-width: 0.5px; fill: rgb(220, 176, 242); fill-opacity: 1; stroke: rgb(17, 17, 17); stroke-opacity: 1;\"/></g><g class=\"point\"><path d=\"M144.22,195.8V130.94H160.47V195.8Z\" style=\"vector-effect: non-scaling-stroke; opacity: 1; stroke-width: 0.5px; fill: rgb(220, 176, 242); fill-opacity: 1; stroke: rgb(17, 17, 17); stroke-opacity: 1;\"/></g><g class=\"point\"><path d=\"M164.53,232.73V111.88H180.78V232.73Z\" style=\"vector-effect: non-scaling-stroke; opacity: 1; stroke-width: 0.5px; fill: rgb(220, 176, 242); fill-opacity: 1; stroke: rgb(17, 17, 17); stroke-opacity: 1;\"/></g><g class=\"point\"><path d=\"M184.84,204.65V62.94H201.09V204.65Z\" style=\"vector-effect: non-scaling-stroke; opacity: 1; stroke-width: 0.5px; fill: rgb(220, 176, 242); fill-opacity: 1; stroke: rgb(17, 17, 17); stroke-opacity: 1;\"/></g><g class=\"point\"><path d=\"M205.16,228.26V149.82H221.41V228.26Z\" style=\"vector-effect: non-scaling-stroke; opacity: 1; stroke-width: 0.5px; fill: rgb(220, 176, 242); fill-opacity: 1; stroke: rgb(17, 17, 17); stroke-opacity: 1;\"/></g><g class=\"point\"><path d=\"M225.47,216.15V92.56H241.72V216.15Z\" style=\"vector-effect: non-scaling-stroke; opacity: 1; stroke-width: 0.5px; fill: rgb(220, 176, 242); fill-opacity: 1; stroke: rgb(17, 17, 17); stroke-opacity: 1;\"/></g><g class=\"point\"><path d=\"M245.78,211.68V144.25H262.03V211.68Z\" style=\"vector-effect: non-scaling-stroke; opacity: 1; stroke-width: 0.5px; fill: rgb(220, 176, 242); fill-opacity: 1; stroke: rgb(17, 17, 17); stroke-opacity: 1;\"/></g><g class=\"point\"><path d=\"M266.09,200.01V91.98H282.34V200.01Z\" style=\"vector-effect: non-scaling-stroke; opacity: 1; stroke-width: 0.5px; fill: rgb(220, 176, 242); fill-opacity: 1; stroke: rgb(17, 17, 17); stroke-opacity: 1;\"/></g><g class=\"point\"><path d=\"M286.41,187.64V123.48H302.66V187.64Z\" style=\"vector-effect: non-scaling-stroke; opacity: 1; stroke-width: 0.5px; fill: rgb(220, 176, 242); fill-opacity: 1; stroke: rgb(17, 17, 17); stroke-opacity: 1;\"/></g><g class=\"point\"><path d=\"M62.97,236.95V168.31H79.22V236.95Z\" style=\"vector-effect: non-scaling-stroke; opacity: 1; stroke-width: 0.5px; fill: rgb(220, 176, 242); fill-opacity: 1; stroke: rgb(17, 17, 17); stroke-opacity: 1;\"/></g><g class=\"point\"><path d=\"M83.28,206.65V120.24H99.53V206.65Z\" style=\"vector-effect: non-scaling-stroke; opacity: 1; stroke-width: 0.5px; fill: rgb(220, 176, 242); fill-opacity: 1; stroke: rgb(17, 17, 17); stroke-opacity: 1;\"/></g><g class=\"point\"><path d=\"M103.59,231.82V152.85H119.84V231.82Z\" style=\"vector-effect: non-scaling-stroke; opacity: 1; stroke-width: 0.5px; fill: rgb(220, 176, 242); fill-opacity: 1; stroke: rgb(17, 17, 17); stroke-opacity: 1;\"/></g><g class=\"point\"><path d=\"M306.72,233.17V138.94H322.97V233.17Z\" style=\"vector-effect: non-scaling-stroke; opacity: 1; stroke-width: 0.5px; fill: rgb(220, 176, 242); fill-opacity: 1; stroke: rgb(17, 17, 17); stroke-opacity: 1;\"/></g></g></g><g class=\"trace bars\" shape-rendering=\"crispEdges\" style=\"opacity: 1;\"><g class=\"points\"><g class=\"point\"><path d=\"M2.03,48.63V32.78H18.28V48.63Z\" style=\"vector-effect: non-scaling-stroke; opacity: 1; stroke-width: 0.5px; fill: rgb(135, 197, 95); fill-opacity: 1; stroke: rgb(17, 17, 17); stroke-opacity: 1;\"/></g><g class=\"point\"><path d=\"M22.34,57.17V34.23H38.59V57.17Z\" style=\"vector-effect: non-scaling-stroke; opacity: 1; stroke-width: 0.5px; fill: rgb(135, 197, 95); fill-opacity: 1; stroke: rgb(17, 17, 17); stroke-opacity: 1;\"/></g><g class=\"point\"><path d=\"M42.66,29.15V13.1H58.91V29.15Z\" style=\"vector-effect: non-scaling-stroke; opacity: 1; stroke-width: 0.5px; fill: rgb(135, 197, 95); fill-opacity: 1; stroke: rgb(17, 17, 17); stroke-opacity: 1;\"/></g><g class=\"point\"><path d=\"M123.91,40.13V35.26H140.16V40.13Z\" style=\"vector-effect: non-scaling-stroke; opacity: 1; stroke-width: 0.5px; fill: rgb(135, 197, 95); fill-opacity: 1; stroke: rgb(17, 17, 17); stroke-opacity: 1;\"/></g><g class=\"point\"><path d=\"M144.22,130.94V123.64H160.47V130.94Z\" style=\"vector-effect: non-scaling-stroke; opacity: 1; stroke-width: 0.5px; fill: rgb(135, 197, 95); fill-opacity: 1; stroke: rgb(17, 17, 17); stroke-opacity: 1;\"/></g><g class=\"point\"><path d=\"M164.53,111.88V103.95H180.78V111.88Z\" style=\"vector-effect: non-scaling-stroke; opacity: 1; stroke-width: 0.5px; fill: rgb(135, 197, 95); fill-opacity: 1; stroke: rgb(17, 17, 17); stroke-opacity: 1;\"/></g><g class=\"point\"><path d=\"M184.84,62.94V48.97H201.09V62.94Z\" style=\"vector-effect: non-scaling-stroke; opacity: 1; stroke-width: 0.5px; fill: rgb(135, 197, 95); fill-opacity: 1; stroke: rgb(17, 17, 17); stroke-opacity: 1;\"/></g><g class=\"point\"><path d=\"M205.16,149.82V136.31H221.41V149.82Z\" style=\"vector-effect: non-scaling-stroke; opacity: 1; stroke-width: 0.5px; fill: rgb(135, 197, 95); fill-opacity: 1; stroke: rgb(17, 17, 17); stroke-opacity: 1;\"/></g><g class=\"point\"><path d=\"M225.47,92.56V86.39H241.72V92.56Z\" style=\"vector-effect: non-scaling-stroke; opacity: 1; stroke-width: 0.5px; fill: rgb(135, 197, 95); fill-opacity: 1; stroke: rgb(17, 17, 17); stroke-opacity: 1;\"/></g><g class=\"point\"><path d=\"M245.78,144.25V126.57H262.03V144.25Z\" style=\"vector-effect: non-scaling-stroke; opacity: 1; stroke-width: 0.5px; fill: rgb(135, 197, 95); fill-opacity: 1; stroke: rgb(17, 17, 17); stroke-opacity: 1;\"/></g><g class=\"point\"><path d=\"M266.09,91.98V76.69H282.34V91.98Z\" style=\"vector-effect: non-scaling-stroke; opacity: 1; stroke-width: 0.5px; fill: rgb(135, 197, 95); fill-opacity: 1; stroke: rgb(17, 17, 17); stroke-opacity: 1;\"/></g><g class=\"point\"><path d=\"M286.41,123.48V104.51H302.66V123.48Z\" style=\"vector-effect: non-scaling-stroke; opacity: 1; stroke-width: 0.5px; fill: rgb(135, 197, 95); fill-opacity: 1; stroke: rgb(17, 17, 17); stroke-opacity: 1;\"/></g><g class=\"point\"><path d=\"M62.97,168.31V161.67H79.22V168.31Z\" style=\"vector-effect: non-scaling-stroke; opacity: 1; stroke-width: 0.5px; fill: rgb(135, 197, 95); fill-opacity: 1; stroke: rgb(17, 17, 17); stroke-opacity: 1;\"/></g><g class=\"point\"><path d=\"M83.28,120.24V116.66H99.53V120.24Z\" style=\"vector-effect: non-scaling-stroke; opacity: 1; stroke-width: 0.5px; fill: rgb(135, 197, 95); fill-opacity: 1; stroke: rgb(17, 17, 17); stroke-opacity: 1;\"/></g><g class=\"point\"><path d=\"M103.59,152.85V133.06H119.84V152.85Z\" style=\"vector-effect: non-scaling-stroke; opacity: 1; stroke-width: 0.5px; fill: rgb(135, 197, 95); fill-opacity: 1; stroke: rgb(17, 17, 17); stroke-opacity: 1;\"/></g><g class=\"point\"><path d=\"M306.72,138.94V126.42H322.97V138.94Z\" style=\"vector-effect: non-scaling-stroke; opacity: 1; stroke-width: 0.5px; fill: rgb(135, 197, 95); fill-opacity: 1; stroke: rgb(17, 17, 17); stroke-opacity: 1;\"/></g></g></g></g></g><g class=\"overplot\"/><path class=\"xlines-above crisp\" d=\"M0,0\" style=\"fill: none;\"/><path class=\"ylines-above crisp\" d=\"M0,0\" style=\"fill: none;\"/><g class=\"overlines-above\"/><g class=\"xaxislayer-above\"><path class=\"xdivider crisp\" transform=\"translate(405,0)\" d=\"M0,363v101.125\" style=\"stroke: rgb(68, 68, 68); stroke-opacity: 1; stroke-width: 1px;\"/><path class=\"xdivider crisp\" transform=\"translate(384.69,0)\" d=\"M0,363v101.125\" style=\"stroke: rgb(68, 68, 68); stroke-opacity: 1; stroke-width: 1px;\"/><path class=\"xdivider crisp\" transform=\"translate(140.94,0)\" d=\"M0,363v101.125\" style=\"stroke: rgb(68, 68, 68); stroke-opacity: 1; stroke-width: 1px;\"/><path class=\"xdivider crisp\" transform=\"translate(80,0)\" d=\"M0,363v101.125\" style=\"stroke: rgb(68, 68, 68); stroke-opacity: 1; stroke-width: 1px;\"/><g class=\"xtick\"><text text-anchor=\"start\" x=\"0\" y=\"375\" transform=\"translate(90.16,0) rotate(90,0,369)\" style=\"font-family: 'Open Sans', verdana, arial, sans-serif; font-size: 12px; fill: rgb(242, 245, 250); fill-opacity: 1; white-space: pre; opacity: 1;\">October</text></g><g class=\"xtick\"><text text-anchor=\"start\" x=\"0\" y=\"375\" transform=\"translate(110.47,0) rotate(90,0,369)\" style=\"font-family: 'Open Sans', verdana, arial, sans-serif; font-size: 12px; fill: rgb(242, 245, 250); fill-opacity: 1; white-space: pre; opacity: 1;\">November</text></g><g class=\"xtick\"><text text-anchor=\"start\" x=\"0\" y=\"375\" transform=\"translate(130.78,0) rotate(90,0,369)\" style=\"font-family: 'Open Sans', verdana, arial, sans-serif; font-size: 12px; fill: rgb(242, 245, 250); fill-opacity: 1; white-space: pre; opacity: 1;\">December</text></g><g class=\"xtick\"><text text-anchor=\"start\" x=\"0\" y=\"375\" transform=\"translate(151.09,0) rotate(90,0,369)\" style=\"font-family: 'Open Sans', verdana, arial, sans-serif; font-size: 12px; fill: rgb(242, 245, 250); fill-opacity: 1; white-space: pre; opacity: 1;\">October</text></g><g class=\"xtick\"><text text-anchor=\"start\" x=\"0\" y=\"375\" transform=\"translate(171.41,0) rotate(90,0,369)\" style=\"font-family: 'Open Sans', verdana, arial, sans-serif; font-size: 12px; fill: rgb(242, 245, 250); fill-opacity: 1; white-space: pre; opacity: 1;\">November</text></g><g class=\"xtick\"><text text-anchor=\"start\" x=\"0\" y=\"375\" transform=\"translate(191.72,0) rotate(90,0,369)\" style=\"font-family: 'Open Sans', verdana, arial, sans-serif; font-size: 12px; fill: rgb(242, 245, 250); fill-opacity: 1; white-space: pre; opacity: 1;\">December</text></g><g class=\"xtick\"><text text-anchor=\"start\" x=\"0\" y=\"375\" transform=\"translate(212.03,0) rotate(90,0,369)\" style=\"font-family: 'Open Sans', verdana, arial, sans-serif; font-size: 12px; fill: rgb(242, 245, 250); fill-opacity: 1; white-space: pre; opacity: 1;\">January</text></g><g class=\"xtick\"><text text-anchor=\"start\" x=\"0\" y=\"375\" transform=\"translate(232.34,0) rotate(90,0,369)\" style=\"font-family: 'Open Sans', verdana, arial, sans-serif; font-size: 12px; fill: rgb(242, 245, 250); fill-opacity: 1; white-space: pre; opacity: 1;\">February</text></g><g class=\"xtick\"><text text-anchor=\"start\" x=\"0\" y=\"375\" transform=\"translate(252.66,0) rotate(90,0,369)\" style=\"font-family: 'Open Sans', verdana, arial, sans-serif; font-size: 12px; fill: rgb(242, 245, 250); fill-opacity: 1; white-space: pre; opacity: 1;\">March</text></g><g class=\"xtick\"><text text-anchor=\"start\" x=\"0\" y=\"375\" transform=\"translate(272.97,0) rotate(90,0,369)\" style=\"font-family: 'Open Sans', verdana, arial, sans-serif; font-size: 12px; fill: rgb(242, 245, 250); fill-opacity: 1; white-space: pre; opacity: 1;\">April</text></g><g class=\"xtick\"><text text-anchor=\"start\" x=\"0\" y=\"375\" transform=\"translate(293.28,0) rotate(90,0,369)\" style=\"font-family: 'Open Sans', verdana, arial, sans-serif; font-size: 12px; fill: rgb(242, 245, 250); fill-opacity: 1; white-space: pre; opacity: 1;\">May</text></g><g class=\"xtick\"><text text-anchor=\"start\" x=\"0\" y=\"375\" transform=\"translate(313.59000000000003,0) rotate(90,0,369)\" style=\"font-family: 'Open Sans', verdana, arial, sans-serif; font-size: 12px; fill: rgb(242, 245, 250); fill-opacity: 1; white-space: pre; opacity: 1;\">June</text></g><g class=\"xtick\"><text text-anchor=\"start\" x=\"0\" y=\"375\" transform=\"translate(333.90999999999997,0) rotate(90,0,369)\" style=\"font-family: 'Open Sans', verdana, arial, sans-serif; font-size: 12px; fill: rgb(242, 245, 250); fill-opacity: 1; white-space: pre; opacity: 1;\">July</text></g><g class=\"xtick\"><text text-anchor=\"start\" x=\"0\" y=\"375\" transform=\"translate(354.22,0) rotate(90,0,369)\" style=\"font-family: 'Open Sans', verdana, arial, sans-serif; font-size: 12px; fill: rgb(242, 245, 250); fill-opacity: 1; white-space: pre; opacity: 1;\">August</text></g><g class=\"xtick\"><text text-anchor=\"start\" x=\"0\" y=\"375\" transform=\"translate(374.53,0) rotate(90,0,369)\" style=\"font-family: 'Open Sans', verdana, arial, sans-serif; font-size: 12px; fill: rgb(242, 245, 250); fill-opacity: 1; white-space: pre; opacity: 1;\">September</text></g><g class=\"xtick\"><text text-anchor=\"start\" x=\"0\" y=\"375\" transform=\"translate(394.84,0) rotate(90,0,369)\" style=\"font-family: 'Open Sans', verdana, arial, sans-serif; font-size: 12px; fill: rgb(242, 245, 250); fill-opacity: 1; white-space: pre; opacity: 1;\">January</text></g><g class=\"xtick2\"><text text-anchor=\"middle\" x=\"0\" y=\"460.615625\" transform=\"translate(110.47,0)\" style=\"font-family: 'Open Sans', verdana, arial, sans-serif; font-size: 12px; fill: rgb(242, 245, 250); fill-opacity: 1; white-space: pre; opacity: 1;\">2018</text></g><g class=\"xtick2\"><text text-anchor=\"middle\" x=\"0\" y=\"460.615625\" transform=\"translate(262.81,0)\" style=\"font-family: 'Open Sans', verdana, arial, sans-serif; font-size: 12px; fill: rgb(242, 245, 250); fill-opacity: 1; white-space: pre; opacity: 1;\">2019</text></g><g class=\"xtick2\"><text text-anchor=\"middle\" x=\"0\" y=\"460.615625\" transform=\"translate(394.84,0)\" style=\"font-family: 'Open Sans', verdana, arial, sans-serif; font-size: 12px; fill: rgb(242, 245, 250); fill-opacity: 1; white-space: pre; opacity: 1;\">2020</text></g></g><g class=\"yaxislayer-above\"><g class=\"ytick\"><text text-anchor=\"end\" x=\"79\" y=\"4.199999999999999\" transform=\"translate(0,362)\" style=\"font-family: 'Open Sans', verdana, arial, sans-serif; font-size: 12px; fill: rgb(242, 245, 250); fill-opacity: 1; white-space: pre; opacity: 1;\">0</text></g><g class=\"ytick\"><text text-anchor=\"end\" x=\"79\" y=\"4.199999999999999\" style=\"font-family: 'Open Sans', verdana, arial, sans-serif; font-size: 12px; fill: rgb(242, 245, 250); fill-opacity: 1; white-space: pre; opacity: 1;\" transform=\"translate(0,323.05)\">50k</text></g><g class=\"ytick\"><text text-anchor=\"end\" x=\"79\" y=\"4.199999999999999\" style=\"font-family: 'Open Sans', verdana, arial, sans-serif; font-size: 12px; fill: rgb(242, 245, 250); fill-opacity: 1; white-space: pre; opacity: 1;\" transform=\"translate(0,284.09000000000003)\">100k</text></g><g class=\"ytick\"><text text-anchor=\"end\" x=\"79\" y=\"4.199999999999999\" style=\"font-family: 'Open Sans', verdana, arial, sans-serif; font-size: 12px; fill: rgb(242, 245, 250); fill-opacity: 1; white-space: pre; opacity: 1;\" transform=\"translate(0,245.14)\">150k</text></g><g class=\"ytick\"><text text-anchor=\"end\" x=\"79\" y=\"4.199999999999999\" style=\"font-family: 'Open Sans', verdana, arial, sans-serif; font-size: 12px; fill: rgb(242, 245, 250); fill-opacity: 1; white-space: pre; opacity: 1;\" transform=\"translate(0,206.19)\">200k</text></g><g class=\"ytick\"><text text-anchor=\"end\" x=\"79\" y=\"4.199999999999999\" style=\"font-family: 'Open Sans', verdana, arial, sans-serif; font-size: 12px; fill: rgb(242, 245, 250); fill-opacity: 1; white-space: pre; opacity: 1;\" transform=\"translate(0,167.24)\">250k</text></g><g class=\"ytick\"><text text-anchor=\"end\" x=\"79\" y=\"4.199999999999999\" style=\"font-family: 'Open Sans', verdana, arial, sans-serif; font-size: 12px; fill: rgb(242, 245, 250); fill-opacity: 1; white-space: pre; opacity: 1;\" transform=\"translate(0,128.28)\">300k</text></g></g><g class=\"overaxes-above\"/></g></g><g class=\"polarlayer\"/><g class=\"smithlayer\"/><g class=\"ternarylayer\"/><g class=\"geolayer\"/><g class=\"funnelarealayer\"/><g class=\"pielayer\"/><g class=\"iciclelayer\"/><g class=\"treemaplayer\"/><g class=\"sunburstlayer\"/><g class=\"glimages\"/><defs id=\"topdefs-6208fb\"><g class=\"clips\"/><clipPath id=\"legend6208fb\"><rect width=\"276\" height=\"145\" x=\"0\" y=\"0\"/></clipPath></defs><g class=\"layer-above\"><g class=\"imagelayer\"/><g class=\"shapelayer\"/></g><g class=\"infolayer\"><g class=\"legend\" pointer-events=\"all\" transform=\"translate(411.5,100)\"><rect class=\"bg\" shape-rendering=\"crispEdges\" width=\"276\" height=\"145\" x=\"0\" y=\"0\" style=\"stroke: rgb(68, 68, 68); stroke-opacity: 1; fill: rgb(17, 17, 17); fill-opacity: 1; stroke-width: 0px;\"/><g class=\"scrollbox\" transform=\"\" clip-path=\"url(#legend6208fb)\"><g class=\"groups\" transform=\"\"><g class=\"traces\" transform=\"translate(0,14.5)\" style=\"opacity: 1;\"><text class=\"legendtext\" text-anchor=\"start\" x=\"40\" y=\"4.680000000000001\" style=\"font-family: 'Open Sans', verdana, arial, sans-serif; font-size: 12px; fill: rgb(242, 245, 250); fill-opacity: 1; white-space: pre;\">еда и напитки</text><g class=\"layers\" style=\"opacity: 1;\"><g class=\"legendfill\"/><g class=\"legendlines\"/><g class=\"legendsymbols\"><g class=\"legendpoints\"><path class=\"legendundefined\" d=\"M6,6H-6V-6H6Z\" transform=\"translate(20,0)\" style=\"stroke-width: 0.5px; fill: rgb(102, 197, 204); fill-opacity: 1; stroke: rgb(17, 17, 17); stroke-opacity: 1;\"/></g></g></g><rect class=\"legendtoggle\" x=\"0\" y=\"-9.5\" width=\"270.5625\" height=\"19\" style=\"fill: rgb(0, 0, 0); fill-opacity: 0;\"/></g></g><g class=\"groups\" transform=\"translate(0,10)\"><g class=\"traces\" transform=\"translate(0,33.5)\" style=\"opacity: 1;\"><text class=\"legendtext\" text-anchor=\"start\" x=\"40\" y=\"4.680000000000001\" style=\"font-family: 'Open Sans', verdana, arial, sans-serif; font-size: 12px; fill: rgb(242, 245, 250); fill-opacity: 1; white-space: pre;\">растения</text><g class=\"layers\" style=\"opacity: 1;\"><g class=\"legendfill\"/><g class=\"legendlines\"/><g class=\"legendsymbols\"><g class=\"legendpoints\"><path class=\"legendundefined\" d=\"M6,6H-6V-6H6Z\" transform=\"translate(20,0)\" style=\"stroke-width: 0.5px; fill: rgb(246, 207, 113); fill-opacity: 1; stroke: rgb(17, 17, 17); stroke-opacity: 1;\"/></g></g></g><rect class=\"legendtoggle\" x=\"0\" y=\"-9.5\" width=\"270.5625\" height=\"19\" style=\"fill: rgb(0, 0, 0); fill-opacity: 0;\"/></g></g><g class=\"groups\" transform=\"translate(0,20)\"><g class=\"traces\" transform=\"translate(0,52.5)\" style=\"opacity: 1;\"><text class=\"legendtext\" text-anchor=\"start\" x=\"40\" y=\"4.680000000000001\" style=\"font-family: 'Open Sans', verdana, arial, sans-serif; font-size: 12px; fill: rgb(242, 245, 250); fill-opacity: 1; white-space: pre;\">товары для дачи и ремонтных работ</text><g class=\"layers\" style=\"opacity: 1;\"><g class=\"legendfill\"/><g class=\"legendlines\"/><g class=\"legendsymbols\"><g class=\"legendpoints\"><path class=\"legendundefined\" d=\"M6,6H-6V-6H6Z\" transform=\"translate(20,0)\" style=\"stroke-width: 0.5px; fill: rgb(248, 156, 116); fill-opacity: 1; stroke: rgb(17, 17, 17); stroke-opacity: 1;\"/></g></g></g><rect class=\"legendtoggle\" x=\"0\" y=\"-9.5\" width=\"270.5625\" height=\"19\" style=\"fill: rgb(0, 0, 0); fill-opacity: 0;\"/></g></g><g class=\"groups\" transform=\"translate(0,30)\"><g class=\"traces\" transform=\"translate(0,71.5)\" style=\"opacity: 1;\"><text class=\"legendtext\" text-anchor=\"start\" x=\"40\" y=\"4.680000000000001\" style=\"font-family: 'Open Sans', verdana, arial, sans-serif; font-size: 12px; fill: rgb(242, 245, 250); fill-opacity: 1; white-space: pre;\">товары для дома</text><g class=\"layers\" style=\"opacity: 1;\"><g class=\"legendfill\"/><g class=\"legendlines\"/><g class=\"legendsymbols\"><g class=\"legendpoints\"><path class=\"legendundefined\" d=\"M6,6H-6V-6H6Z\" transform=\"translate(20,0)\" style=\"stroke-width: 0.5px; fill: rgb(220, 176, 242); fill-opacity: 1; stroke: rgb(17, 17, 17); stroke-opacity: 1;\"/></g></g></g><rect class=\"legendtoggle\" x=\"0\" y=\"-9.5\" width=\"270.5625\" height=\"19\" style=\"fill: rgb(0, 0, 0); fill-opacity: 0;\"/></g></g><g class=\"groups\" transform=\"translate(0,40)\"><g class=\"traces\" transform=\"translate(0,90.5)\" style=\"opacity: 1;\"><text class=\"legendtext\" text-anchor=\"start\" x=\"40\" y=\"4.680000000000001\" style=\"font-family: 'Open Sans', verdana, arial, sans-serif; font-size: 12px; fill: rgb(242, 245, 250); fill-opacity: 1; white-space: pre;\">товары для кухни</text><g class=\"layers\" style=\"opacity: 1;\"><g class=\"legendfill\"/><g class=\"legendlines\"/><g class=\"legendsymbols\"><g class=\"legendpoints\"><path class=\"legendundefined\" d=\"M6,6H-6V-6H6Z\" transform=\"translate(20,0)\" style=\"stroke-width: 0.5px; fill: rgb(135, 197, 95); fill-opacity: 1; stroke: rgb(17, 17, 17); stroke-opacity: 1;\"/></g></g></g><rect class=\"legendtoggle\" x=\"0\" y=\"-9.5\" width=\"270.5625\" height=\"19\" style=\"fill: rgb(0, 0, 0); fill-opacity: 0;\"/></g></g></g><rect class=\"scrollbar\" rx=\"20\" ry=\"3\" width=\"0\" height=\"0\" x=\"0\" y=\"0\" style=\"fill: rgb(128, 139, 164); fill-opacity: 1;\"/></g><g class=\"g-gtitle\"><text class=\"gtitle\" x=\"35\" y=\"50\" text-anchor=\"start\" dy=\"0em\" style=\"font-family: 'Open Sans', verdana, arial, sans-serif; font-size: 17px; fill: rgb(242, 245, 250); opacity: 1; font-weight: normal; white-space: pre;\">Выручка каждой категории по месяцам</text></g><g class=\"g-xtitle\"><text class=\"xtitle\" x=\"242.5\" y=\"487.925\" text-anchor=\"middle\" style=\"font-family: 'Open Sans', verdana, arial, sans-serif; font-size: 14px; fill: rgb(242, 245, 250); opacity: 1; font-weight: normal; white-space: pre;\">Год и месяц</text></g><g class=\"g-ytitle\"><text class=\"ytitle\" transform=\"rotate(-90,24.200000000000003,231)\" x=\"24.200000000000003\" y=\"231\" text-anchor=\"middle\" style=\"font-family: 'Open Sans', verdana, arial, sans-serif; font-size: 14px; fill: rgb(242, 245, 250); opacity: 1; font-weight: normal; white-space: pre;\">Выручка</text></g></g></svg>"
      ]
     },
     "metadata": {},
     "output_type": "display_data"
    }
   ],
   "source": [
    "# таблица и график, показывающие, сколько единиц каждой категории было продано в разные месяцы разных лет\n",
    "month_category_revenue = data_merge_assort_group.pivot_table(index=['year', 'month'],\n",
    "                                                              columns='product_category',\n",
    "                                                              values='revenue',\n",
    "                                                              aggfunc='sum').reset_index()\n",
    "months = [\"January\", \"February\", \"March\", \"April\", \"May\", \"June\",\n",
    "          \"July\", \"August\", \"September\", \"October\", \"November\", \"December\"]\n",
    "month_category_revenue['month'] = pd.Categorical(month_category_quantity['month'],\n",
    "                                                  categories=months,\n",
    "                                                  ordered=True)\n",
    "month_category_revenue = month_category_revenue.sort_values(by=['year', 'month']).reset_index(drop=True)\n",
    "month_category_revenue.loc[:, ['еда и напитки']] = month_category_revenue.loc[:, ['еда и напитки']].fillna('')\n",
    "\n",
    "columns = month_category_revenue.columns[2:]\n",
    "palette = cycle(px.colors.qualitative.Pastel)\n",
    "colors = {c: next(palette) for c in columns}\n",
    "fig = make_subplots(rows=1, cols=1)\n",
    "for cols in columns:\n",
    "    fig.add_trace(go.Bar(x=[month_category_revenue['year'], month_category_revenue['month']],\n",
    "                         y=month_category_revenue[cols],\n",
    "                         name=cols,\n",
    "                         legendgroup=cols,\n",
    "                         marker_color=colors[cols],\n",
    "                         showlegend=True), row=1, col=1)\n",
    "    \n",
    "fig.update_layout(title_text='Выручка каждой категории по месяцам',\n",
    "                  xaxis_title='Год и месяц',\n",
    "                  yaxis_title='Выручка',\n",
    "                  barmode='stack',\n",
    "                  template='plotly_dark'\n",
    "                  )\n",
    "fig.show()"
   ]
  },
  {
   "cell_type": "markdown",
   "id": "0833d5cf",
   "metadata": {},
   "source": [
    "Мы видим, что товароы для дома каждый месяц приносят больше всего выручки, только в сентябре 2019 они почти сравнялись с растениями. На других графиках апрель и май лидировали по количеству проданного товара, но оказывается хоть в октябре, ноябре и декабре 2018 было продано меньше единиц, эти месяцы принесли больше выручки. То же самое относится и к январю 2019 года. Также заметна сильная разница между октябрем, ноябрем и декабрем 2019 и 2018 годов. В 2019 в каждом месяцев выручки было почти 2 раза меньше, чем год назад."
   ]
  },
  {
   "cell_type": "markdown",
   "id": "64580e22",
   "metadata": {},
   "source": [
    "***Вывод по разделу \"Категоризацая данных\"***\n",
    "\n",
    "Чтобы привести названия товара в удобный вид и категоризировать их в последствие, мы использовали регулярные выражения и лемматизацию. Словарь с категориями был составлен вручную. После добавления столбеца с ними в общую таблицу мы сгруппировали данные по категориям и узнали, как много единиц товаров каждой из категорий было продано, сколько человек их купили и как много выручки принесли эти товары. \n",
    "\n",
    "Также мы построили два графика по количеству проданного товара каждой категории и выручке. "
   ]
  },
  {
   "cell_type": "markdown",
   "id": "4e9011af",
   "metadata": {},
   "source": [
    "## Проверка гипотез"
   ]
  },
  {
   "cell_type": "markdown",
   "id": "18183f02",
   "metadata": {},
   "source": [
    "Н0: среднее количество проданных дополнительных товаров в понедельник\n",
    " равно среднему количеству проданных дополнительных товаров в субботу."
   ]
  },
  {
   "cell_type": "markdown",
   "id": "ee9c8bd7",
   "metadata": {},
   "source": [
    "Н1: среднее количество проданных дополнительных товаров в понедельник\n",
    "неравно среднему количеству проданных дополнительных товаров в субботу."
   ]
  },
  {
   "cell_type": "code",
   "execution_count": 56,
   "id": "d61957fa",
   "metadata": {},
   "outputs": [],
   "source": [
    "# prevent SettingWithCopyWarning message from appearing\n",
    "# pd.options.mode.chained_assignment = None"
   ]
  },
  {
   "cell_type": "code",
   "execution_count": 57,
   "id": "265a82fb",
   "metadata": {},
   "outputs": [],
   "source": [
    "monday_additional_sales = data_merge_assort_group.query('day==\"Monday\" & assort_group==\"дополнительный\"')\n",
    "saturday_additional_sales = data_merge_assort_group.query('day==\"Saturday\" & assort_group==\"дополнительный\"')"
   ]
  },
  {
   "cell_type": "code",
   "execution_count": 58,
   "id": "65f98149",
   "metadata": {},
   "outputs": [
    {
     "name": "stderr",
     "output_type": "stream",
     "text": [
      "C:\\Users\\Polly\\AppData\\Local\\Temp\\ipykernel_13324\\60429631.py:1: SettingWithCopyWarning:\n",
      "\n",
      "\n",
      "A value is trying to be set on a copy of a slice from a DataFrame.\n",
      "Try using .loc[row_indexer,col_indexer] = value instead\n",
      "\n",
      "See the caveats in the documentation: https://pandas.pydata.org/pandas-docs/stable/user_guide/indexing.html#returning-a-view-versus-a-copy\n",
      "\n",
      "C:\\Users\\Polly\\AppData\\Local\\Temp\\ipykernel_13324\\60429631.py:2: SettingWithCopyWarning:\n",
      "\n",
      "\n",
      "A value is trying to be set on a copy of a slice from a DataFrame.\n",
      "Try using .loc[row_indexer,col_indexer] = value instead\n",
      "\n",
      "See the caveats in the documentation: https://pandas.pydata.org/pandas-docs/stable/user_guide/indexing.html#returning-a-view-versus-a-copy\n",
      "\n"
     ]
    }
   ],
   "source": [
    "monday_additional_sales['date'] = monday_additional_sales['date'].dt.date\n",
    "saturday_additional_sales['date'] = saturday_additional_sales['date'].dt.date"
   ]
  },
  {
   "cell_type": "code",
   "execution_count": 59,
   "id": "54229df0",
   "metadata": {},
   "outputs": [],
   "source": [
    "monday_grouped_additional_sales = monday_additional_sales.groupby('date')['assort_group'].agg('count').reset_index()\n",
    "monday_grouped_additional_sales.columns = ('day', 'count')"
   ]
  },
  {
   "cell_type": "code",
   "execution_count": 60,
   "id": "acc62a3f",
   "metadata": {},
   "outputs": [],
   "source": [
    "saturday_grouped_additional_sales = saturday_additional_sales.groupby('date')['assort_group'].agg('count').reset_index()\n",
    "saturday_grouped_additional_sales.columns = ('day', 'count')"
   ]
  },
  {
   "cell_type": "code",
   "execution_count": 61,
   "id": "a05491a8",
   "metadata": {},
   "outputs": [
    {
     "name": "stdout",
     "output_type": "stream",
     "text": [
      "          day  count\n",
      "0  2018-10-01      8\n",
      "1  2018-10-08      4\n",
      "2  2018-10-15      2\n",
      "3  2018-10-22     12\n",
      "4  2018-10-29      7\n"
     ]
    }
   ],
   "source": [
    "print(monday_grouped_additional_sales.head())"
   ]
  },
  {
   "cell_type": "code",
   "execution_count": 62,
   "id": "69d063c5",
   "metadata": {},
   "outputs": [
    {
     "name": "stdout",
     "output_type": "stream",
     "text": [
      "p-значение: 0.3860198951762496\n",
      "Мы не можем отвергнуть нулевую гипотезу. Среднее количество проданных дополнительных товаров в понедельник равно среднему количеству проданных дополнительных товаров во вторник.\n"
     ]
    }
   ],
   "source": [
    "alpha = 0.05\n",
    "\n",
    "result = st.ttest_ind(monday_grouped_additional_sales['count'],\n",
    "                      saturday_grouped_additional_sales['count'])\n",
    "\n",
    "print('p-значение:', result.pvalue)\n",
    "if result.pvalue < alpha:\n",
    "    print('Нулевая гипотеза отвергается. Среднее количество проданных дополнительных товаров в понедельник неравно среднему количеству проданных дополнительных товаров во вторник.')\n",
    "else:\n",
    "    print('Мы не можем отвергнуть нулевую гипотезу. Среднее количество проданных дополнительных товаров в понедельник равно среднему количеству проданных дополнительных товаров во вторник.')"
   ]
  },
  {
   "cell_type": "markdown",
   "id": "acda4425",
   "metadata": {},
   "source": [
    "Н0: среднее количество проданных основных товаров в марте равно среднему количеству проданных основных товаров в августе.   \n",
    "Н1: среднее количество проданных основных товаров в марте неравно среднему количеству проданных основных товаров в августе."
   ]
  },
  {
   "cell_type": "code",
   "execution_count": 63,
   "id": "ed1f9be3",
   "metadata": {},
   "outputs": [],
   "source": [
    "march_basic_sales = data_merge_assort_group.query('month==\"March\" & assort_group==\"дополнительный\"')\n",
    "august_basic_sales = data_merge_assort_group.query('month==\"August\" & assort_group==\"дополнительный\"')"
   ]
  },
  {
   "cell_type": "code",
   "execution_count": 64,
   "id": "14709b35",
   "metadata": {},
   "outputs": [
    {
     "name": "stderr",
     "output_type": "stream",
     "text": [
      "C:\\Users\\Polly\\AppData\\Local\\Temp\\ipykernel_13324\\191774025.py:1: SettingWithCopyWarning:\n",
      "\n",
      "\n",
      "A value is trying to be set on a copy of a slice from a DataFrame.\n",
      "Try using .loc[row_indexer,col_indexer] = value instead\n",
      "\n",
      "See the caveats in the documentation: https://pandas.pydata.org/pandas-docs/stable/user_guide/indexing.html#returning-a-view-versus-a-copy\n",
      "\n",
      "C:\\Users\\Polly\\AppData\\Local\\Temp\\ipykernel_13324\\191774025.py:2: SettingWithCopyWarning:\n",
      "\n",
      "\n",
      "A value is trying to be set on a copy of a slice from a DataFrame.\n",
      "Try using .loc[row_indexer,col_indexer] = value instead\n",
      "\n",
      "See the caveats in the documentation: https://pandas.pydata.org/pandas-docs/stable/user_guide/indexing.html#returning-a-view-versus-a-copy\n",
      "\n"
     ]
    }
   ],
   "source": [
    "march_basic_sales['date'] = march_basic_sales['date'].dt.date\n",
    "august_basic_sales['date'] = august_basic_sales['date'].dt.date"
   ]
  },
  {
   "cell_type": "code",
   "execution_count": 65,
   "id": "f005398a",
   "metadata": {},
   "outputs": [],
   "source": [
    "march_grouped_basic_sales = march_basic_sales.groupby('date')['assort_group'].agg('count').reset_index()\n",
    "march_grouped_basic_sales.columns = ('date', 'count')"
   ]
  },
  {
   "cell_type": "code",
   "execution_count": 66,
   "id": "1c0a7230",
   "metadata": {},
   "outputs": [],
   "source": [
    "august_grouped_basic_sales = august_basic_sales.groupby('date')['assort_group'].agg('count').reset_index()\n",
    "august_grouped_basic_sales.columns = ('date', 'count')"
   ]
  },
  {
   "cell_type": "code",
   "execution_count": 67,
   "id": "07a03103",
   "metadata": {},
   "outputs": [
    {
     "name": "stdout",
     "output_type": "stream",
     "text": [
      "         date  count\n",
      "0  2019-03-01      4\n",
      "1  2019-03-02      1\n",
      "2  2019-03-03      8\n",
      "3  2019-03-04     12\n",
      "4  2019-03-05      2\n"
     ]
    }
   ],
   "source": [
    "print(march_grouped_basic_sales.head())"
   ]
  },
  {
   "cell_type": "code",
   "execution_count": 68,
   "id": "f2eea30a",
   "metadata": {},
   "outputs": [],
   "source": [
    "result = st.ttest_ind(march_grouped_basic_sales['count'], august_grouped_basic_sales['count'])"
   ]
  },
  {
   "cell_type": "code",
   "execution_count": 69,
   "id": "9bec13df",
   "metadata": {},
   "outputs": [
    {
     "name": "stdout",
     "output_type": "stream",
     "text": [
      "p-значение: 0.1595010826086022\n",
      "Мы не можем отвергнуть нулевую гипотезу. Среднее количество проданных основных товаров в марте равно среднему количеству проданных основных товаров в августе.\n"
     ]
    }
   ],
   "source": [
    "print('p-значение:', result.pvalue)\n",
    "if result.pvalue < alpha:\n",
    "    print('Нулевая гипотеза отвергается. Среднее количество проданных основных товаров в марте неравно среднему количеству проданных основных товаров в августе.')\n",
    "else:\n",
    "    print('Мы не можем отвергнуть нулевую гипотезу. Среднее количество проданных основных товаров в марте равно среднему количеству проданных основных товаров в августе.')"
   ]
  },
  {
   "cell_type": "markdown",
   "id": "628a8967",
   "metadata": {},
   "source": [
    "Н0: средняя выручка заказов сделанных с 23 часов ночи до 11 часов утра равна средней выручке заказов, сделанных с 11 часов утра до 23 часов ночи"
   ]
  },
  {
   "cell_type": "markdown",
   "id": "f472d01e",
   "metadata": {},
   "source": [
    "Н1: средняя выручка заказов сделанных с 23 часов ночи до 11 часов утра неравна средней выручке заказов, сделанных с 11 часов утра до 23 часов ночи"
   ]
  },
  {
   "cell_type": "code",
   "execution_count": 70,
   "id": "e7546241",
   "metadata": {},
   "outputs": [],
   "source": [
    "night_orders = data_merge_assort_group.query('hour<11 or hour==23')\n",
    "day_orders = data_merge_assort_group.query('hour>=11 and hour!=23')"
   ]
  },
  {
   "cell_type": "code",
   "execution_count": 71,
   "id": "d835ac0c",
   "metadata": {},
   "outputs": [
    {
     "name": "stdout",
     "output_type": "stream",
     "text": [
      "    hour      revenue\n",
      "0      0   700.164179\n",
      "1      1   468.413793\n",
      "2      2  1051.851852\n",
      "3      3  1022.727273\n",
      "4      4   677.500000\n",
      "5      5   554.717949\n",
      "6      6  1036.867925\n",
      "7      7  1033.040816\n",
      "8      8   556.325088\n",
      "9      9   616.441176\n",
      "10    10   627.057743\n",
      "11    23   550.827338     hour     revenue\n",
      "0     11  645.724832\n",
      "1     12  732.036939\n",
      "2     13  620.089686\n",
      "3     14  539.494226\n",
      "4     15  630.476965\n",
      "5     16  550.456522\n",
      "6     17  767.474916\n",
      "7     18  860.061321\n",
      "8     19  677.532520\n",
      "9     20  633.230769\n",
      "10    21  574.424242\n",
      "11    22  593.050459\n"
     ]
    }
   ],
   "source": [
    "night_orders_money = night_orders.groupby('hour')['revenue'].agg('mean').reset_index().sort_values(by='hour')\n",
    "day_orders_money = day_orders.groupby('hour')['revenue'].agg('mean').reset_index().sort_values(by='hour')\n",
    "print(night_orders_money, day_orders_money)"
   ]
  },
  {
   "cell_type": "code",
   "execution_count": 72,
   "id": "5cbf6e3b",
   "metadata": {},
   "outputs": [],
   "source": [
    "result = st.ttest_ind(day_orders_money['revenue'], night_orders_money['revenue'], alternative='greater')"
   ]
  },
  {
   "cell_type": "code",
   "execution_count": 73,
   "id": "f4bb5636",
   "metadata": {},
   "outputs": [
    {
     "name": "stdout",
     "output_type": "stream",
     "text": [
      "p-значение: 0.8900810999656744\n",
      "Мы не можем отвергнуть нулевую гипотезу. Средняя выручка заказов сделанных с 23 часов ночи до 11 часов утра равна средней выручке заказов, сделанных с 11 часов утра до 23 часов ночи\n"
     ]
    }
   ],
   "source": [
    "print('p-значение:', result.pvalue)\n",
    "if result.pvalue < alpha:\n",
    "    print('Нулевая гипотеза отвергается. Средняя выручка заказов сделанных с 23 часов ночи до 11 часов утра неравна средней выручке заказов, сделанных с 11 часов утра до 23 часов ночи')\n",
    "else:\n",
    "    print('Мы не можем отвергнуть нулевую гипотезу. Средняя выручка заказов сделанных с 23 часов ночи до 11 часов утра равна средней выручке заказов, сделанных с 11 часов утра до 23 часов ночи')"
   ]
  },
  {
   "cell_type": "code",
   "execution_count": 74,
   "id": "3d762693",
   "metadata": {},
   "outputs": [],
   "source": [
    "# Н0:средняя выручка товаров для кухни за месяц равна средней выручке товаров для дома.\n",
    "# Н1:средняя выручка товаров для кухни за месяц больше средней выручки товаров для дома.\n",
    "products_kitchen = data_merge_assort_group.query('product_category==\"товары для кухни\"')\n",
    "products_home = data_merge_assort_group.query('product_category==\"товары для дома\"')"
   ]
  },
  {
   "cell_type": "code",
   "execution_count": 75,
   "id": "bd5eb435",
   "metadata": {},
   "outputs": [],
   "source": [
    "kitchen_mean_revenue = products_kitchen.pivot_table(index='month', values='revenue', aggfunc='mean').reset_index()"
   ]
  },
  {
   "cell_type": "code",
   "execution_count": 76,
   "id": "b71caf96",
   "metadata": {},
   "outputs": [],
   "source": [
    "kitchen_mean_revenue['month'] = pd.Categorical(kitchen_mean_revenue['month'],\n",
    "                                               categories=months,\n",
    "                                               ordered=True)\n",
    "kitchen_mean_revenue = kitchen_mean_revenue.sort_values(by='month').reset_index(drop=True)"
   ]
  },
  {
   "cell_type": "code",
   "execution_count": 77,
   "id": "60aecf5d",
   "metadata": {},
   "outputs": [],
   "source": [
    "home_mean_revenue = products_home.pivot_table(index='month', values='revenue', aggfunc='mean').reset_index()\n",
    "home_mean_revenue['month'] = pd.Categorical(home_mean_revenue['month'],\n",
    "                                            categories=months,\n",
    "                                            ordered=True)\n",
    "home_mean_revenue = home_mean_revenue.sort_values(by='month').reset_index(drop=True)"
   ]
  },
  {
   "cell_type": "code",
   "execution_count": 78,
   "id": "67c3eb6a",
   "metadata": {},
   "outputs": [],
   "source": [
    "result = st.ttest_ind(kitchen_mean_revenue['revenue'], home_mean_revenue['revenue'], alternative='greater')"
   ]
  },
  {
   "cell_type": "code",
   "execution_count": 79,
   "id": "5c99056c",
   "metadata": {},
   "outputs": [
    {
     "name": "stdout",
     "output_type": "stream",
     "text": [
      "p-значение: 0.9946480651334015\n",
      "Мы не можем отвергнуть нулевую гипотезу. Средняя выручка товаров для кухни за месяц равна средней выручки товаров для дома.\n"
     ]
    }
   ],
   "source": [
    "print('p-значение:', result.pvalue)\n",
    "if result.pvalue < alpha:\n",
    "    print('Нулевая гипотеза отвергается. Средняя выручка товаров для кухни за месяц больше средней выручки товаров для дома.')\n",
    "else:\n",
    "    print('Мы не можем отвергнуть нулевую гипотезу. Средняя выручка товаров для кухни за месяц равна средней выручки товаров для дома.')"
   ]
  },
  {
   "cell_type": "markdown",
   "id": "9bd07d6d",
   "metadata": {},
   "source": [
    "Н0:средняя выручка товаров для кухни за месяц равна средней выручке товаров для дома.   \n",
    "Н1:средняя выручка товаров для кухни за месяц меньше средней выручки товаров для дома."
   ]
  },
  {
   "cell_type": "code",
   "execution_count": 80,
   "id": "9d6ade5b",
   "metadata": {},
   "outputs": [],
   "source": [
    "result = st.ttest_ind(kitchen_mean_revenue['revenue'], home_mean_revenue['revenue'], alternative='less')"
   ]
  },
  {
   "cell_type": "code",
   "execution_count": 81,
   "id": "1eac513c",
   "metadata": {},
   "outputs": [
    {
     "name": "stdout",
     "output_type": "stream",
     "text": [
      "p-значение: 0.005351934866598523\n",
      "Нулевая гипотеза отвергается. Средняя выручка товаров для кухни за месяц меньше средней выручки товаров для дома.\n"
     ]
    }
   ],
   "source": [
    "print('p-значение:', result.pvalue)\n",
    "if result.pvalue < alpha:\n",
    "    print('Нулевая гипотеза отвергается. Средняя выручка товаров для кухни за месяц меньше средней выручки товаров для дома.')\n",
    "else:\n",
    "    print('Мы не можем отвергнуть нулевую гипотезу. Средняя выручка товаров для кухни за месяц равна средней выручки товаров для дома.')"
   ]
  },
  {
   "cell_type": "markdown",
   "id": "71c270fd",
   "metadata": {},
   "source": [
    "## Общий вывод"
   ]
  },
  {
   "cell_type": "markdown",
   "id": "d1b49480",
   "metadata": {},
   "source": [
    "Для анализа ассортимента мы получили данные, в которых хранилась информация за период с 1 октября 2018 года по 31 января 2020 года. В столбцах находились дата и час заказа, id покупателя, название купленного товара, id заказа, количество товара и цена. Для начала мы изменили тип данных в столбце с датой и часом, а также сделали цену целым числом. Изначально в датасете было 7474 строк. Явных дубликатов обнаружено не было, но в данных присутствовало множество неявных дубликатов, где отличалось только время заказа, возможно в таблицу заносился каждый шаг покупки. Поэтому мы оставили только последние записи. Также были обнаружены id заказов с несколькими покупателями, в этом случае мы удалили все подобные записи. В итоге в датасете осталось 5522 строк.\n",
    "\n",
    "     Исследовательский анализ данных\n",
    "Мы посмотрели самые популярные наименования. В ТОП 30 наиболее покупаемых товаров 18 раз входят различные сорта Пеларгонии. Узнали, в какие месяцы и дни заходит больше всего уникальных покупателей. Их числом выделяются октябрь, ноябрь, декабрь и январь. Их относительно высокие показатели можно объяснить задвоением в данных, данные за месяцы разных лет объединились в одном столбце диаграммы. Позже мы разберемся в этом подробнее. Зато четко видно, что в феврале, марте и апреле уникальных покупателей больше, чем в теплые месяцы.\n",
    "Исходя из анализа тех месяцев, по которым есть данные виден всплеск покупательской активности в январе 2020: было сделано на 100 заказов больше, чем в январе 2019. Самое низкое значение в июне – 160 заказов. Кроме того, на графике видно, что в будние дни заказов больше, с пятницы их число снижается, в субботу мы видим самый низкий уровень.\n",
    "\n",
    "     Анализ ассортимента\n",
    "Для разделения ассортимента на основной и дополнительный в исследовании нами был использован АВС-анализ. С его помощью товары разделяются на группы:    \n",
    "А — наиболее ценные, 20 % — ассортимента (номенклатура); 80 % — продаж\n",
    "В — промежуточные, 30 % — ассортимента; 15 % — продаж\n",
    "С — наименее ценные, 50 % — ассортимента; 5 % — продаж\n",
    "\n",
    "В результате удалось выделить: основной ассортимент - 49.8%, дополнительный ассортимент - 50.2%. Продажи основных товаров чаще происходят по рабочим дням. Наибольшая разница между продажами основного и дополнительного ассортимента в четверг, в этот день вырос показатель основного ассортимента, а продажи дополнительного снизились по сравнению с началом недели. С понедельника по среду наблюдается плавный спад в продажах основного товара. Больше всего дополнительного товара продажется в понедельник. В течение недели показатель снижается и в воскресенье этих товаров продается меньше всего. Если смотреть по месяцам, то видно что октябрь и ноябрь 2019 сильно отличаются в отрицательную сторону от показателей год назад. Самый большой разрыв в продажах основных и дополнительных товаров был в фефрале 2019, а самый маленький в ноябре 2019. В целом динамика продаж такая же, как на графике без разделения на основной и дополнительный ассортимент: рост продаж к апрелю, всплеск, затем спад. \n",
    "\n",
    "\n",
    "         Категоризация данных\n",
    "\n",
    "Также одной из наших задач было разделить все товары на категории и проанализировать их продажи. Для ее выполнения был создан словарь, где выделено 5 категорий: растения, товары для дома, товары для кухни, товары для дачи и ремонтных работ, еда и напитки.   \n",
    "Больше всех выручки приносят товары для дома - более 2 млн. На втором месте растения - почти 900 тысяч, хотя их было продано больше, чем товаров для дома, средняя цена растений меньше в 3 раза. Товары для кухни и товары для дачи и ремонтных работ занимают средние позиции. Самой непопулярной категорией является еда и напитки.      \n",
    "С февраля по июль происходили возрастание и спад популярности растений и товаров для дачи и ремонтных работ, ее пик приходится на апрель-май, также растения становятся заметны в ноябре, декабре 2019 года и январе 2020 при том, что год назад мы почти не видим в эти месяцы данную категорию - продавалось не более 15 штук в месяц. В холодное время года могут покупать комнатные растения, поэтому в данные месяцы стоит расширить их ассортимент и посмотреть, как быстро заканчивается товар, возможно, его количество следует увеличить. Товары для дома востребованы большую часть года, как и товары для кухни. \n",
    "Товары для дома каждый месяц приносят больше всего выручки, только в сентябре 2019 они почти сравнялись с растениями. Также из графика по выручке категорий мы узнали, что хоть в октябре, ноябре, декабре 2018 и январе 2019 года было продано меньше единиц, эти месяцы принесли больше выручки, чем апрель и май, которые выделялись на графиках большим количеством проданного товара. Сильно заметна разница между октябрем, ноябрем и декабрем 2019 и 2018 годов. В 2019 в каждом месяцев выручки было почти 2 раза меньше, чем год назад.  \n",
    "\n",
    "\n",
    "        Статистический анализ данных\n",
    "\n",
    "На основе изученной базы данных мы выдвинули несколько гипотез о равенстве средних с уровнем значимости 0.05:\n",
    "\n",
    "**Н0: среднее количество проданных дополнительных товаров в понедельник равно среднему количеству проданных дополнительных товаров в субботу.   \n",
    "Н1: среднее количество проданных дополнительных товаров в понедельник неравно среднему количеству проданных дополнительных товаров в субботу.**\n",
    "\n",
    "Результат: p-значение: 0.2862525906690279. Мы не можем отвергнуть нулевую гипотезу. Среднее количество проданных дополнительных товаров в понедельник равно среднему количеству проданных дополнительных товаров в субботу.\n",
    "\n",
    "\n",
    "**Н0: среднее количество проданных основных товаров в марте равно среднему количеству проданных основных товаров в августе.   \n",
    "Н1: среднее количество проданных основных товаров в марте неравно среднему количеству проданных основных товаров в августе.**\n",
    "\n",
    "Результат: p-значение: 0.15382645943917914. Мы не можем отвергнуть нулевую гипотезу. Среднее количество проданных основных товаров в марте равно среднему \n",
    "количеству проданных основных товаров в августе.\n",
    "\n",
    "\n",
    "**Н0: средняя выручка заказов, сделанных с 23 часов ночи до 11 часов утра равна средней выручке заказов, сделанных с 11 часов утра до 23 часов ночи.   \n",
    "Н1: средняя выручка заказов, сделанных с 23 часов ночи до 11 часов утра неравна средней выручке заказов, сделанных с 11 часов утра до 23 часов ночи.**   \n",
    "\n",
    "Результат: p-значение: 0.37249019359654123. Мы не можем отвергнуть нулевую гипотезу. Средняя выручка заказов, сделанных с 23 часов ночи до 11 часов утра \n",
    "равна средней выручке за-казов, сделанных с 11 часов утра до 23 часов ночи.\n",
    "\n",
    "\n",
    "**Н0: средняя выручка товаров для кухни за месяц равна средней выручке товаров для дома.   \n",
    "Н1: средняя выручка товаров для кухни за месяц больше средней выручки товаров для дома.**   \n",
    "\n",
    "Результат: p-значение: 0.9999999999999273. Мы не можем отвергнуть нулевую гипотезу. Средняя выручка товаров для кухни за месяц равна средней выручки товаров для дома.\n",
    "\n",
    "\n",
    "**Н0: средняя выручка товаров для кухни за месяц равна средней выручке товаров для дома.   \n",
    "Н1: средняя выручка товаров для кухни за месяц меньше средней выручки товаров для дома.**   \n",
    "\n",
    "Результат: p-значение: 7.27139797943766e-14. Нулевая гипотеза отвергается. Средняя выручка товаров для кухни за месяц меньше средней выручки товаров для дома."
   ]
  }
 ],
 "metadata": {
  "ExecuteTimeLog": [
   {
    "duration": 1629,
    "start_time": "2024-01-13T21:53:32.958Z"
   },
   {
    "duration": 223,
    "start_time": "2024-01-13T21:53:34.588Z"
   },
   {
    "duration": 117,
    "start_time": "2024-01-13T21:53:34.812Z"
   },
   {
    "duration": 715,
    "start_time": "2024-01-13T21:53:34.930Z"
   },
   {
    "duration": 0,
    "start_time": "2024-01-13T21:53:35.649Z"
   },
   {
    "duration": 0,
    "start_time": "2024-01-13T21:53:35.650Z"
   },
   {
    "duration": 0,
    "start_time": "2024-01-13T21:53:35.651Z"
   },
   {
    "duration": 0,
    "start_time": "2024-01-13T21:53:35.652Z"
   },
   {
    "duration": 0,
    "start_time": "2024-01-13T21:53:35.654Z"
   },
   {
    "duration": 0,
    "start_time": "2024-01-13T21:53:35.655Z"
   },
   {
    "duration": 1,
    "start_time": "2024-01-13T21:53:35.655Z"
   },
   {
    "duration": 0,
    "start_time": "2024-01-13T21:53:35.657Z"
   },
   {
    "duration": 0,
    "start_time": "2024-01-13T21:53:35.658Z"
   },
   {
    "duration": 0,
    "start_time": "2024-01-13T21:53:35.659Z"
   },
   {
    "duration": 0,
    "start_time": "2024-01-13T21:53:35.660Z"
   },
   {
    "duration": 0,
    "start_time": "2024-01-13T21:53:35.661Z"
   },
   {
    "duration": 0,
    "start_time": "2024-01-13T21:53:35.662Z"
   },
   {
    "duration": 0,
    "start_time": "2024-01-13T21:53:35.663Z"
   },
   {
    "duration": 0,
    "start_time": "2024-01-13T21:53:35.664Z"
   },
   {
    "duration": 0,
    "start_time": "2024-01-13T21:53:35.665Z"
   },
   {
    "duration": 0,
    "start_time": "2024-01-13T21:53:35.667Z"
   },
   {
    "duration": 0,
    "start_time": "2024-01-13T21:53:35.668Z"
   },
   {
    "duration": 0,
    "start_time": "2024-01-13T21:53:35.669Z"
   },
   {
    "duration": 0,
    "start_time": "2024-01-13T21:53:35.670Z"
   },
   {
    "duration": 0,
    "start_time": "2024-01-13T21:53:35.671Z"
   },
   {
    "duration": 0,
    "start_time": "2024-01-13T21:53:35.672Z"
   },
   {
    "duration": 0,
    "start_time": "2024-01-13T21:53:35.673Z"
   },
   {
    "duration": 0,
    "start_time": "2024-01-13T21:53:35.675Z"
   },
   {
    "duration": 0,
    "start_time": "2024-01-13T21:53:35.676Z"
   },
   {
    "duration": 0,
    "start_time": "2024-01-13T21:53:35.677Z"
   },
   {
    "duration": 0,
    "start_time": "2024-01-13T21:53:35.678Z"
   },
   {
    "duration": 0,
    "start_time": "2024-01-13T21:53:35.679Z"
   },
   {
    "duration": 0,
    "start_time": "2024-01-13T21:53:35.680Z"
   },
   {
    "duration": 0,
    "start_time": "2024-01-13T21:53:35.681Z"
   },
   {
    "duration": 0,
    "start_time": "2024-01-13T21:53:35.682Z"
   },
   {
    "duration": 0,
    "start_time": "2024-01-13T21:53:35.684Z"
   },
   {
    "duration": 0,
    "start_time": "2024-01-13T21:53:35.715Z"
   },
   {
    "duration": 0,
    "start_time": "2024-01-13T21:53:35.717Z"
   },
   {
    "duration": 0,
    "start_time": "2024-01-13T21:53:35.718Z"
   },
   {
    "duration": 0,
    "start_time": "2024-01-13T21:53:35.719Z"
   },
   {
    "duration": 0,
    "start_time": "2024-01-13T21:53:35.720Z"
   },
   {
    "duration": 0,
    "start_time": "2024-01-13T21:53:35.721Z"
   },
   {
    "duration": 0,
    "start_time": "2024-01-13T21:53:35.722Z"
   },
   {
    "duration": 0,
    "start_time": "2024-01-13T21:53:35.723Z"
   },
   {
    "duration": 0,
    "start_time": "2024-01-13T21:53:35.724Z"
   },
   {
    "duration": 0,
    "start_time": "2024-01-13T21:53:35.726Z"
   },
   {
    "duration": 0,
    "start_time": "2024-01-13T21:53:35.727Z"
   },
   {
    "duration": 0,
    "start_time": "2024-01-13T21:53:35.728Z"
   },
   {
    "duration": 0,
    "start_time": "2024-01-13T21:53:35.730Z"
   },
   {
    "duration": 0,
    "start_time": "2024-01-13T21:53:35.731Z"
   },
   {
    "duration": 0,
    "start_time": "2024-01-13T21:53:35.733Z"
   },
   {
    "duration": 0,
    "start_time": "2024-01-13T21:53:35.734Z"
   },
   {
    "duration": 0,
    "start_time": "2024-01-13T21:53:35.735Z"
   },
   {
    "duration": 0,
    "start_time": "2024-01-13T21:53:35.737Z"
   },
   {
    "duration": 0,
    "start_time": "2024-01-13T21:53:35.738Z"
   },
   {
    "duration": 0,
    "start_time": "2024-01-13T21:53:35.739Z"
   },
   {
    "duration": 0,
    "start_time": "2024-01-13T21:53:35.741Z"
   },
   {
    "duration": 0,
    "start_time": "2024-01-13T21:53:35.742Z"
   },
   {
    "duration": 0,
    "start_time": "2024-01-13T21:53:35.743Z"
   },
   {
    "duration": 0,
    "start_time": "2024-01-13T21:53:35.744Z"
   },
   {
    "duration": 0,
    "start_time": "2024-01-13T21:53:35.746Z"
   },
   {
    "duration": 0,
    "start_time": "2024-01-13T21:53:35.747Z"
   },
   {
    "duration": 0,
    "start_time": "2024-01-13T21:53:35.748Z"
   },
   {
    "duration": 0,
    "start_time": "2024-01-13T21:53:35.750Z"
   },
   {
    "duration": 0,
    "start_time": "2024-01-13T21:53:35.751Z"
   },
   {
    "duration": 0,
    "start_time": "2024-01-13T21:53:35.815Z"
   },
   {
    "duration": 0,
    "start_time": "2024-01-13T21:53:35.816Z"
   },
   {
    "duration": 0,
    "start_time": "2024-01-13T21:53:35.817Z"
   },
   {
    "duration": 0,
    "start_time": "2024-01-13T21:53:35.818Z"
   },
   {
    "duration": 0,
    "start_time": "2024-01-13T21:53:35.819Z"
   },
   {
    "duration": 0,
    "start_time": "2024-01-13T21:53:35.820Z"
   },
   {
    "duration": 0,
    "start_time": "2024-01-13T21:53:35.821Z"
   },
   {
    "duration": 0,
    "start_time": "2024-01-13T21:53:35.822Z"
   },
   {
    "duration": 0,
    "start_time": "2024-01-13T21:53:35.823Z"
   },
   {
    "duration": 0,
    "start_time": "2024-01-13T21:53:35.824Z"
   },
   {
    "duration": 0,
    "start_time": "2024-01-13T21:53:35.825Z"
   },
   {
    "duration": 0,
    "start_time": "2024-01-13T21:53:35.825Z"
   },
   {
    "duration": 0,
    "start_time": "2024-01-13T21:53:35.827Z"
   },
   {
    "duration": 0,
    "start_time": "2024-01-13T21:53:35.828Z"
   },
   {
    "duration": 0,
    "start_time": "2024-01-13T21:53:35.829Z"
   },
   {
    "duration": 0,
    "start_time": "2024-01-13T21:53:35.829Z"
   },
   {
    "duration": 0,
    "start_time": "2024-01-13T21:53:35.831Z"
   },
   {
    "duration": 0,
    "start_time": "2024-01-13T21:53:35.831Z"
   },
   {
    "duration": 0,
    "start_time": "2024-01-13T21:53:35.832Z"
   },
   {
    "duration": 0,
    "start_time": "2024-01-13T21:53:35.833Z"
   },
   {
    "duration": 0,
    "start_time": "2024-01-13T21:53:35.834Z"
   },
   {
    "duration": 0,
    "start_time": "2024-01-13T21:53:35.835Z"
   },
   {
    "duration": 0,
    "start_time": "2024-01-13T21:53:35.836Z"
   },
   {
    "duration": 0,
    "start_time": "2024-01-13T21:53:35.837Z"
   },
   {
    "duration": 0,
    "start_time": "2024-01-13T21:53:35.838Z"
   },
   {
    "duration": 0,
    "start_time": "2024-01-13T21:53:35.839Z"
   },
   {
    "duration": 0,
    "start_time": "2024-01-13T21:53:35.840Z"
   },
   {
    "duration": 0,
    "start_time": "2024-01-13T21:53:35.841Z"
   },
   {
    "duration": 0,
    "start_time": "2024-01-13T21:53:35.842Z"
   },
   {
    "duration": 0,
    "start_time": "2024-01-13T21:53:35.842Z"
   },
   {
    "duration": 760,
    "start_time": "2024-01-13T22:00:05.157Z"
   },
   {
    "duration": 1264,
    "start_time": "2024-01-13T22:03:45.874Z"
   },
   {
    "duration": 152,
    "start_time": "2024-01-13T22:03:47.140Z"
   },
   {
    "duration": 176,
    "start_time": "2024-01-13T22:03:47.293Z"
   },
   {
    "duration": 814,
    "start_time": "2024-01-13T22:03:47.471Z"
   },
   {
    "duration": 0,
    "start_time": "2024-01-13T22:03:48.289Z"
   },
   {
    "duration": 0,
    "start_time": "2024-01-13T22:03:48.290Z"
   },
   {
    "duration": 0,
    "start_time": "2024-01-13T22:03:48.291Z"
   },
   {
    "duration": 0,
    "start_time": "2024-01-13T22:03:48.292Z"
   },
   {
    "duration": 0,
    "start_time": "2024-01-13T22:03:48.293Z"
   },
   {
    "duration": 0,
    "start_time": "2024-01-13T22:03:48.294Z"
   },
   {
    "duration": 0,
    "start_time": "2024-01-13T22:03:48.295Z"
   },
   {
    "duration": 0,
    "start_time": "2024-01-13T22:03:48.296Z"
   },
   {
    "duration": 0,
    "start_time": "2024-01-13T22:03:48.298Z"
   },
   {
    "duration": 0,
    "start_time": "2024-01-13T22:03:48.299Z"
   },
   {
    "duration": 0,
    "start_time": "2024-01-13T22:03:48.300Z"
   },
   {
    "duration": 0,
    "start_time": "2024-01-13T22:03:48.301Z"
   },
   {
    "duration": 0,
    "start_time": "2024-01-13T22:03:48.302Z"
   },
   {
    "duration": 0,
    "start_time": "2024-01-13T22:03:48.303Z"
   },
   {
    "duration": 0,
    "start_time": "2024-01-13T22:03:48.304Z"
   },
   {
    "duration": 0,
    "start_time": "2024-01-13T22:03:48.305Z"
   },
   {
    "duration": 0,
    "start_time": "2024-01-13T22:03:48.306Z"
   },
   {
    "duration": 0,
    "start_time": "2024-01-13T22:03:48.307Z"
   },
   {
    "duration": 0,
    "start_time": "2024-01-13T22:03:48.308Z"
   },
   {
    "duration": 0,
    "start_time": "2024-01-13T22:03:48.309Z"
   },
   {
    "duration": 0,
    "start_time": "2024-01-13T22:03:48.310Z"
   },
   {
    "duration": 0,
    "start_time": "2024-01-13T22:03:48.311Z"
   },
   {
    "duration": 0,
    "start_time": "2024-01-13T22:03:48.312Z"
   },
   {
    "duration": 0,
    "start_time": "2024-01-13T22:03:48.313Z"
   },
   {
    "duration": 0,
    "start_time": "2024-01-13T22:03:48.314Z"
   },
   {
    "duration": 0,
    "start_time": "2024-01-13T22:03:48.315Z"
   },
   {
    "duration": 0,
    "start_time": "2024-01-13T22:03:48.316Z"
   },
   {
    "duration": 0,
    "start_time": "2024-01-13T22:03:48.317Z"
   },
   {
    "duration": 0,
    "start_time": "2024-01-13T22:03:48.318Z"
   },
   {
    "duration": 0,
    "start_time": "2024-01-13T22:03:48.319Z"
   },
   {
    "duration": 0,
    "start_time": "2024-01-13T22:03:48.319Z"
   },
   {
    "duration": 0,
    "start_time": "2024-01-13T22:03:48.320Z"
   },
   {
    "duration": 0,
    "start_time": "2024-01-13T22:03:48.321Z"
   },
   {
    "duration": 0,
    "start_time": "2024-01-13T22:03:48.322Z"
   },
   {
    "duration": 0,
    "start_time": "2024-01-13T22:03:48.323Z"
   },
   {
    "duration": 0,
    "start_time": "2024-01-13T22:03:48.324Z"
   },
   {
    "duration": 0,
    "start_time": "2024-01-13T22:03:48.325Z"
   },
   {
    "duration": 0,
    "start_time": "2024-01-13T22:03:48.326Z"
   },
   {
    "duration": 0,
    "start_time": "2024-01-13T22:03:48.327Z"
   },
   {
    "duration": 0,
    "start_time": "2024-01-13T22:03:48.328Z"
   },
   {
    "duration": 1,
    "start_time": "2024-01-13T22:03:48.328Z"
   },
   {
    "duration": 0,
    "start_time": "2024-01-13T22:03:48.329Z"
   },
   {
    "duration": 0,
    "start_time": "2024-01-13T22:03:48.330Z"
   },
   {
    "duration": 0,
    "start_time": "2024-01-13T22:03:48.331Z"
   },
   {
    "duration": 0,
    "start_time": "2024-01-13T22:03:48.332Z"
   },
   {
    "duration": 0,
    "start_time": "2024-01-13T22:03:48.333Z"
   },
   {
    "duration": 0,
    "start_time": "2024-01-13T22:03:48.334Z"
   },
   {
    "duration": 0,
    "start_time": "2024-01-13T22:03:48.335Z"
   },
   {
    "duration": 0,
    "start_time": "2024-01-13T22:03:48.336Z"
   },
   {
    "duration": 0,
    "start_time": "2024-01-13T22:03:48.336Z"
   },
   {
    "duration": 0,
    "start_time": "2024-01-13T22:03:48.337Z"
   },
   {
    "duration": 0,
    "start_time": "2024-01-13T22:03:48.338Z"
   },
   {
    "duration": 0,
    "start_time": "2024-01-13T22:03:48.340Z"
   },
   {
    "duration": 0,
    "start_time": "2024-01-13T22:03:48.341Z"
   },
   {
    "duration": 0,
    "start_time": "2024-01-13T22:03:48.341Z"
   },
   {
    "duration": 0,
    "start_time": "2024-01-13T22:03:48.342Z"
   },
   {
    "duration": 0,
    "start_time": "2024-01-13T22:03:48.344Z"
   },
   {
    "duration": 0,
    "start_time": "2024-01-13T22:03:48.344Z"
   },
   {
    "duration": 0,
    "start_time": "2024-01-13T22:03:48.345Z"
   },
   {
    "duration": 0,
    "start_time": "2024-01-13T22:03:48.346Z"
   },
   {
    "duration": 0,
    "start_time": "2024-01-13T22:03:48.347Z"
   },
   {
    "duration": 0,
    "start_time": "2024-01-13T22:03:48.348Z"
   },
   {
    "duration": 0,
    "start_time": "2024-01-13T22:03:48.349Z"
   },
   {
    "duration": 0,
    "start_time": "2024-01-13T22:03:48.350Z"
   },
   {
    "duration": 0,
    "start_time": "2024-01-13T22:03:48.351Z"
   },
   {
    "duration": 0,
    "start_time": "2024-01-13T22:03:48.352Z"
   },
   {
    "duration": 0,
    "start_time": "2024-01-13T22:03:48.353Z"
   },
   {
    "duration": 0,
    "start_time": "2024-01-13T22:03:48.353Z"
   },
   {
    "duration": 0,
    "start_time": "2024-01-13T22:03:48.415Z"
   },
   {
    "duration": 0,
    "start_time": "2024-01-13T22:03:48.416Z"
   },
   {
    "duration": 0,
    "start_time": "2024-01-13T22:03:48.417Z"
   },
   {
    "duration": 0,
    "start_time": "2024-01-13T22:03:48.418Z"
   },
   {
    "duration": 0,
    "start_time": "2024-01-13T22:03:48.419Z"
   },
   {
    "duration": 0,
    "start_time": "2024-01-13T22:03:48.420Z"
   },
   {
    "duration": 0,
    "start_time": "2024-01-13T22:03:48.421Z"
   },
   {
    "duration": 0,
    "start_time": "2024-01-13T22:03:48.422Z"
   },
   {
    "duration": 0,
    "start_time": "2024-01-13T22:03:48.423Z"
   },
   {
    "duration": 0,
    "start_time": "2024-01-13T22:03:48.424Z"
   },
   {
    "duration": 0,
    "start_time": "2024-01-13T22:03:48.425Z"
   },
   {
    "duration": 0,
    "start_time": "2024-01-13T22:03:48.426Z"
   },
   {
    "duration": 0,
    "start_time": "2024-01-13T22:03:48.427Z"
   },
   {
    "duration": 0,
    "start_time": "2024-01-13T22:03:48.428Z"
   },
   {
    "duration": 0,
    "start_time": "2024-01-13T22:03:48.429Z"
   },
   {
    "duration": 0,
    "start_time": "2024-01-13T22:03:48.430Z"
   },
   {
    "duration": 0,
    "start_time": "2024-01-13T22:03:48.431Z"
   },
   {
    "duration": 0,
    "start_time": "2024-01-13T22:03:48.432Z"
   },
   {
    "duration": 0,
    "start_time": "2024-01-13T22:03:48.433Z"
   },
   {
    "duration": 0,
    "start_time": "2024-01-13T22:03:48.434Z"
   },
   {
    "duration": 0,
    "start_time": "2024-01-13T22:03:48.435Z"
   },
   {
    "duration": 0,
    "start_time": "2024-01-13T22:03:48.436Z"
   },
   {
    "duration": 0,
    "start_time": "2024-01-13T22:03:48.437Z"
   },
   {
    "duration": 605,
    "start_time": "2024-01-13T22:06:29.171Z"
   },
   {
    "duration": 1231,
    "start_time": "2024-01-13T22:06:47.364Z"
   },
   {
    "duration": 147,
    "start_time": "2024-01-13T22:06:48.597Z"
   },
   {
    "duration": 113,
    "start_time": "2024-01-13T22:06:48.746Z"
   },
   {
    "duration": 715,
    "start_time": "2024-01-13T22:06:48.861Z"
   },
   {
    "duration": 0,
    "start_time": "2024-01-13T22:06:49.579Z"
   },
   {
    "duration": 0,
    "start_time": "2024-01-13T22:06:49.581Z"
   },
   {
    "duration": 0,
    "start_time": "2024-01-13T22:06:49.582Z"
   },
   {
    "duration": 0,
    "start_time": "2024-01-13T22:06:49.583Z"
   },
   {
    "duration": 0,
    "start_time": "2024-01-13T22:06:49.584Z"
   },
   {
    "duration": 0,
    "start_time": "2024-01-13T22:06:49.585Z"
   },
   {
    "duration": 0,
    "start_time": "2024-01-13T22:06:49.586Z"
   },
   {
    "duration": 0,
    "start_time": "2024-01-13T22:06:49.587Z"
   },
   {
    "duration": 0,
    "start_time": "2024-01-13T22:06:49.588Z"
   },
   {
    "duration": 0,
    "start_time": "2024-01-13T22:06:49.589Z"
   },
   {
    "duration": 0,
    "start_time": "2024-01-13T22:06:49.590Z"
   },
   {
    "duration": 0,
    "start_time": "2024-01-13T22:06:49.591Z"
   },
   {
    "duration": 0,
    "start_time": "2024-01-13T22:06:49.592Z"
   },
   {
    "duration": 0,
    "start_time": "2024-01-13T22:06:49.593Z"
   },
   {
    "duration": 0,
    "start_time": "2024-01-13T22:06:49.594Z"
   },
   {
    "duration": 0,
    "start_time": "2024-01-13T22:06:49.595Z"
   },
   {
    "duration": 0,
    "start_time": "2024-01-13T22:06:49.595Z"
   },
   {
    "duration": 0,
    "start_time": "2024-01-13T22:06:49.596Z"
   },
   {
    "duration": 0,
    "start_time": "2024-01-13T22:06:49.597Z"
   },
   {
    "duration": 0,
    "start_time": "2024-01-13T22:06:49.598Z"
   },
   {
    "duration": 0,
    "start_time": "2024-01-13T22:06:49.599Z"
   },
   {
    "duration": 0,
    "start_time": "2024-01-13T22:06:49.600Z"
   },
   {
    "duration": 0,
    "start_time": "2024-01-13T22:06:49.601Z"
   },
   {
    "duration": 0,
    "start_time": "2024-01-13T22:06:49.602Z"
   },
   {
    "duration": 0,
    "start_time": "2024-01-13T22:06:49.603Z"
   },
   {
    "duration": 0,
    "start_time": "2024-01-13T22:06:49.604Z"
   },
   {
    "duration": 0,
    "start_time": "2024-01-13T22:06:49.605Z"
   },
   {
    "duration": 0,
    "start_time": "2024-01-13T22:06:49.606Z"
   },
   {
    "duration": 0,
    "start_time": "2024-01-13T22:06:49.607Z"
   },
   {
    "duration": 0,
    "start_time": "2024-01-13T22:06:49.608Z"
   },
   {
    "duration": 0,
    "start_time": "2024-01-13T22:06:49.608Z"
   },
   {
    "duration": 0,
    "start_time": "2024-01-13T22:06:49.609Z"
   },
   {
    "duration": 0,
    "start_time": "2024-01-13T22:06:49.610Z"
   },
   {
    "duration": 0,
    "start_time": "2024-01-13T22:06:49.611Z"
   },
   {
    "duration": 0,
    "start_time": "2024-01-13T22:06:49.612Z"
   },
   {
    "duration": 0,
    "start_time": "2024-01-13T22:06:49.613Z"
   },
   {
    "duration": 0,
    "start_time": "2024-01-13T22:06:49.614Z"
   },
   {
    "duration": 0,
    "start_time": "2024-01-13T22:06:49.615Z"
   },
   {
    "duration": 0,
    "start_time": "2024-01-13T22:06:49.616Z"
   },
   {
    "duration": 0,
    "start_time": "2024-01-13T22:06:49.617Z"
   },
   {
    "duration": 0,
    "start_time": "2024-01-13T22:06:49.618Z"
   },
   {
    "duration": 0,
    "start_time": "2024-01-13T22:06:49.619Z"
   },
   {
    "duration": 0,
    "start_time": "2024-01-13T22:06:49.620Z"
   },
   {
    "duration": 0,
    "start_time": "2024-01-13T22:06:49.621Z"
   },
   {
    "duration": 0,
    "start_time": "2024-01-13T22:06:49.622Z"
   },
   {
    "duration": 0,
    "start_time": "2024-01-13T22:06:49.623Z"
   },
   {
    "duration": 0,
    "start_time": "2024-01-13T22:06:49.624Z"
   },
   {
    "duration": 0,
    "start_time": "2024-01-13T22:06:49.625Z"
   },
   {
    "duration": 0,
    "start_time": "2024-01-13T22:06:49.626Z"
   },
   {
    "duration": 0,
    "start_time": "2024-01-13T22:06:49.627Z"
   },
   {
    "duration": 0,
    "start_time": "2024-01-13T22:06:49.628Z"
   },
   {
    "duration": 0,
    "start_time": "2024-01-13T22:06:49.629Z"
   },
   {
    "duration": 0,
    "start_time": "2024-01-13T22:06:49.630Z"
   },
   {
    "duration": 0,
    "start_time": "2024-01-13T22:06:49.631Z"
   },
   {
    "duration": 0,
    "start_time": "2024-01-13T22:06:49.632Z"
   },
   {
    "duration": 0,
    "start_time": "2024-01-13T22:06:49.633Z"
   },
   {
    "duration": 0,
    "start_time": "2024-01-13T22:06:49.634Z"
   },
   {
    "duration": 0,
    "start_time": "2024-01-13T22:06:49.635Z"
   },
   {
    "duration": 0,
    "start_time": "2024-01-13T22:06:49.636Z"
   },
   {
    "duration": 0,
    "start_time": "2024-01-13T22:06:49.637Z"
   },
   {
    "duration": 0,
    "start_time": "2024-01-13T22:06:49.638Z"
   },
   {
    "duration": 0,
    "start_time": "2024-01-13T22:06:49.639Z"
   },
   {
    "duration": 0,
    "start_time": "2024-01-13T22:06:49.640Z"
   },
   {
    "duration": 0,
    "start_time": "2024-01-13T22:06:49.640Z"
   },
   {
    "duration": 0,
    "start_time": "2024-01-13T22:06:49.641Z"
   },
   {
    "duration": 0,
    "start_time": "2024-01-13T22:06:49.642Z"
   },
   {
    "duration": 0,
    "start_time": "2024-01-13T22:06:49.643Z"
   },
   {
    "duration": 0,
    "start_time": "2024-01-13T22:06:49.644Z"
   },
   {
    "duration": 0,
    "start_time": "2024-01-13T22:06:49.645Z"
   },
   {
    "duration": 0,
    "start_time": "2024-01-13T22:06:49.646Z"
   },
   {
    "duration": 0,
    "start_time": "2024-01-13T22:06:49.647Z"
   },
   {
    "duration": 0,
    "start_time": "2024-01-13T22:06:49.648Z"
   },
   {
    "duration": 0,
    "start_time": "2024-01-13T22:06:49.649Z"
   },
   {
    "duration": 0,
    "start_time": "2024-01-13T22:06:49.650Z"
   },
   {
    "duration": 0,
    "start_time": "2024-01-13T22:06:49.651Z"
   },
   {
    "duration": 0,
    "start_time": "2024-01-13T22:06:49.652Z"
   },
   {
    "duration": 0,
    "start_time": "2024-01-13T22:06:49.653Z"
   },
   {
    "duration": 0,
    "start_time": "2024-01-13T22:06:49.654Z"
   },
   {
    "duration": 0,
    "start_time": "2024-01-13T22:06:49.714Z"
   },
   {
    "duration": 0,
    "start_time": "2024-01-13T22:06:49.716Z"
   },
   {
    "duration": 0,
    "start_time": "2024-01-13T22:06:49.716Z"
   },
   {
    "duration": 0,
    "start_time": "2024-01-13T22:06:49.718Z"
   },
   {
    "duration": 0,
    "start_time": "2024-01-13T22:06:49.719Z"
   },
   {
    "duration": 0,
    "start_time": "2024-01-13T22:06:49.719Z"
   },
   {
    "duration": 0,
    "start_time": "2024-01-13T22:06:49.721Z"
   },
   {
    "duration": 0,
    "start_time": "2024-01-13T22:06:49.721Z"
   },
   {
    "duration": 0,
    "start_time": "2024-01-13T22:06:49.722Z"
   },
   {
    "duration": 0,
    "start_time": "2024-01-13T22:06:49.723Z"
   },
   {
    "duration": 0,
    "start_time": "2024-01-13T22:06:49.724Z"
   },
   {
    "duration": 0,
    "start_time": "2024-01-13T22:06:49.725Z"
   },
   {
    "duration": 0,
    "start_time": "2024-01-13T22:06:49.726Z"
   },
   {
    "duration": 1214,
    "start_time": "2024-01-13T22:07:09.232Z"
   },
   {
    "duration": 149,
    "start_time": "2024-01-13T22:07:10.448Z"
   },
   {
    "duration": 117,
    "start_time": "2024-01-13T22:07:10.598Z"
   },
   {
    "duration": 5,
    "start_time": "2024-01-13T22:07:10.716Z"
   },
   {
    "duration": 10,
    "start_time": "2024-01-13T22:07:10.722Z"
   },
   {
    "duration": 14,
    "start_time": "2024-01-13T22:07:10.733Z"
   },
   {
    "duration": 6,
    "start_time": "2024-01-13T22:07:10.748Z"
   },
   {
    "duration": 6,
    "start_time": "2024-01-13T22:07:10.756Z"
   },
   {
    "duration": 17,
    "start_time": "2024-01-13T22:07:10.763Z"
   },
   {
    "duration": 44,
    "start_time": "2024-01-13T22:07:10.783Z"
   },
   {
    "duration": 10,
    "start_time": "2024-01-13T22:07:10.829Z"
   },
   {
    "duration": 4,
    "start_time": "2024-01-13T22:07:10.841Z"
   },
   {
    "duration": 135,
    "start_time": "2024-01-13T22:07:10.846Z"
   },
   {
    "duration": 0,
    "start_time": "2024-01-13T22:07:10.984Z"
   },
   {
    "duration": 0,
    "start_time": "2024-01-13T22:07:10.985Z"
   },
   {
    "duration": 0,
    "start_time": "2024-01-13T22:07:10.986Z"
   },
   {
    "duration": 0,
    "start_time": "2024-01-13T22:07:10.988Z"
   },
   {
    "duration": 0,
    "start_time": "2024-01-13T22:07:10.989Z"
   },
   {
    "duration": 0,
    "start_time": "2024-01-13T22:07:10.990Z"
   },
   {
    "duration": 0,
    "start_time": "2024-01-13T22:07:10.991Z"
   },
   {
    "duration": 0,
    "start_time": "2024-01-13T22:07:10.992Z"
   },
   {
    "duration": 0,
    "start_time": "2024-01-13T22:07:10.993Z"
   },
   {
    "duration": 0,
    "start_time": "2024-01-13T22:07:11.015Z"
   },
   {
    "duration": 0,
    "start_time": "2024-01-13T22:07:11.016Z"
   },
   {
    "duration": 0,
    "start_time": "2024-01-13T22:07:11.017Z"
   },
   {
    "duration": 0,
    "start_time": "2024-01-13T22:07:11.018Z"
   },
   {
    "duration": 0,
    "start_time": "2024-01-13T22:07:11.018Z"
   },
   {
    "duration": 0,
    "start_time": "2024-01-13T22:07:11.019Z"
   },
   {
    "duration": 0,
    "start_time": "2024-01-13T22:07:11.021Z"
   },
   {
    "duration": 0,
    "start_time": "2024-01-13T22:07:11.022Z"
   },
   {
    "duration": 0,
    "start_time": "2024-01-13T22:07:11.023Z"
   },
   {
    "duration": 0,
    "start_time": "2024-01-13T22:07:11.024Z"
   },
   {
    "duration": 0,
    "start_time": "2024-01-13T22:07:11.025Z"
   },
   {
    "duration": 0,
    "start_time": "2024-01-13T22:07:11.026Z"
   },
   {
    "duration": 0,
    "start_time": "2024-01-13T22:07:11.027Z"
   },
   {
    "duration": 0,
    "start_time": "2024-01-13T22:07:11.028Z"
   },
   {
    "duration": 0,
    "start_time": "2024-01-13T22:07:11.029Z"
   },
   {
    "duration": 0,
    "start_time": "2024-01-13T22:07:11.031Z"
   },
   {
    "duration": 0,
    "start_time": "2024-01-13T22:07:11.031Z"
   },
   {
    "duration": 0,
    "start_time": "2024-01-13T22:07:11.032Z"
   },
   {
    "duration": 0,
    "start_time": "2024-01-13T22:07:11.034Z"
   },
   {
    "duration": 0,
    "start_time": "2024-01-13T22:07:11.034Z"
   },
   {
    "duration": 0,
    "start_time": "2024-01-13T22:07:11.035Z"
   },
   {
    "duration": 0,
    "start_time": "2024-01-13T22:07:11.036Z"
   },
   {
    "duration": 0,
    "start_time": "2024-01-13T22:07:11.037Z"
   },
   {
    "duration": 0,
    "start_time": "2024-01-13T22:07:11.038Z"
   },
   {
    "duration": 0,
    "start_time": "2024-01-13T22:07:11.039Z"
   },
   {
    "duration": 0,
    "start_time": "2024-01-13T22:07:11.040Z"
   },
   {
    "duration": 0,
    "start_time": "2024-01-13T22:07:11.041Z"
   },
   {
    "duration": 0,
    "start_time": "2024-01-13T22:07:11.042Z"
   },
   {
    "duration": 0,
    "start_time": "2024-01-13T22:07:11.043Z"
   },
   {
    "duration": 0,
    "start_time": "2024-01-13T22:07:11.044Z"
   },
   {
    "duration": 0,
    "start_time": "2024-01-13T22:07:11.045Z"
   },
   {
    "duration": 0,
    "start_time": "2024-01-13T22:07:11.046Z"
   },
   {
    "duration": 0,
    "start_time": "2024-01-13T22:07:11.047Z"
   },
   {
    "duration": 0,
    "start_time": "2024-01-13T22:07:11.048Z"
   },
   {
    "duration": 0,
    "start_time": "2024-01-13T22:07:11.049Z"
   },
   {
    "duration": 0,
    "start_time": "2024-01-13T22:07:11.050Z"
   },
   {
    "duration": 0,
    "start_time": "2024-01-13T22:07:11.051Z"
   },
   {
    "duration": 0,
    "start_time": "2024-01-13T22:07:11.052Z"
   },
   {
    "duration": 0,
    "start_time": "2024-01-13T22:07:11.053Z"
   },
   {
    "duration": 0,
    "start_time": "2024-01-13T22:07:11.054Z"
   },
   {
    "duration": 0,
    "start_time": "2024-01-13T22:07:11.115Z"
   },
   {
    "duration": 0,
    "start_time": "2024-01-13T22:07:11.116Z"
   },
   {
    "duration": 0,
    "start_time": "2024-01-13T22:07:11.117Z"
   },
   {
    "duration": 0,
    "start_time": "2024-01-13T22:07:11.118Z"
   },
   {
    "duration": 0,
    "start_time": "2024-01-13T22:07:11.119Z"
   },
   {
    "duration": 0,
    "start_time": "2024-01-13T22:07:11.120Z"
   },
   {
    "duration": 0,
    "start_time": "2024-01-13T22:07:11.121Z"
   },
   {
    "duration": 0,
    "start_time": "2024-01-13T22:07:11.122Z"
   },
   {
    "duration": 0,
    "start_time": "2024-01-13T22:07:11.123Z"
   },
   {
    "duration": 0,
    "start_time": "2024-01-13T22:07:11.124Z"
   },
   {
    "duration": 0,
    "start_time": "2024-01-13T22:07:11.125Z"
   },
   {
    "duration": 0,
    "start_time": "2024-01-13T22:07:11.126Z"
   },
   {
    "duration": 0,
    "start_time": "2024-01-13T22:07:11.126Z"
   },
   {
    "duration": 0,
    "start_time": "2024-01-13T22:07:11.127Z"
   },
   {
    "duration": 0,
    "start_time": "2024-01-13T22:07:11.128Z"
   },
   {
    "duration": 0,
    "start_time": "2024-01-13T22:07:11.129Z"
   },
   {
    "duration": 0,
    "start_time": "2024-01-13T22:07:11.130Z"
   },
   {
    "duration": 0,
    "start_time": "2024-01-13T22:07:11.131Z"
   },
   {
    "duration": 0,
    "start_time": "2024-01-13T22:07:11.132Z"
   },
   {
    "duration": 0,
    "start_time": "2024-01-13T22:07:11.133Z"
   },
   {
    "duration": 0,
    "start_time": "2024-01-13T22:07:11.134Z"
   },
   {
    "duration": 0,
    "start_time": "2024-01-13T22:07:11.134Z"
   },
   {
    "duration": 0,
    "start_time": "2024-01-13T22:07:11.135Z"
   },
   {
    "duration": 0,
    "start_time": "2024-01-13T22:07:11.136Z"
   },
   {
    "duration": 0,
    "start_time": "2024-01-13T22:07:11.138Z"
   },
   {
    "duration": 0,
    "start_time": "2024-01-13T22:07:11.138Z"
   },
   {
    "duration": 0,
    "start_time": "2024-01-13T22:07:11.139Z"
   },
   {
    "duration": 0,
    "start_time": "2024-01-13T22:07:11.140Z"
   },
   {
    "duration": 0,
    "start_time": "2024-01-13T22:07:11.141Z"
   },
   {
    "duration": 0,
    "start_time": "2024-01-13T22:07:11.142Z"
   },
   {
    "duration": 0,
    "start_time": "2024-01-13T22:07:11.143Z"
   },
   {
    "duration": 0,
    "start_time": "2024-01-13T22:07:11.144Z"
   },
   {
    "duration": 0,
    "start_time": "2024-01-13T22:07:11.144Z"
   },
   {
    "duration": 1265,
    "start_time": "2024-01-13T22:08:04.079Z"
   },
   {
    "duration": 148,
    "start_time": "2024-01-13T22:08:05.346Z"
   },
   {
    "duration": 69,
    "start_time": "2024-01-13T22:08:05.496Z"
   },
   {
    "duration": 4,
    "start_time": "2024-01-13T22:08:05.567Z"
   },
   {
    "duration": 10,
    "start_time": "2024-01-13T22:08:05.572Z"
   },
   {
    "duration": 14,
    "start_time": "2024-01-13T22:08:05.584Z"
   },
   {
    "duration": 6,
    "start_time": "2024-01-13T22:08:05.599Z"
   },
   {
    "duration": 10,
    "start_time": "2024-01-13T22:08:05.606Z"
   },
   {
    "duration": 18,
    "start_time": "2024-01-13T22:08:05.617Z"
   },
   {
    "duration": 13,
    "start_time": "2024-01-13T22:08:05.638Z"
   },
   {
    "duration": 10,
    "start_time": "2024-01-13T22:08:05.653Z"
   },
   {
    "duration": 5,
    "start_time": "2024-01-13T22:08:05.664Z"
   },
   {
    "duration": 156,
    "start_time": "2024-01-13T22:08:05.670Z"
   },
   {
    "duration": 0,
    "start_time": "2024-01-13T22:08:05.830Z"
   },
   {
    "duration": 0,
    "start_time": "2024-01-13T22:08:05.831Z"
   },
   {
    "duration": 0,
    "start_time": "2024-01-13T22:08:05.832Z"
   },
   {
    "duration": 0,
    "start_time": "2024-01-13T22:08:05.833Z"
   },
   {
    "duration": 0,
    "start_time": "2024-01-13T22:08:05.833Z"
   },
   {
    "duration": 0,
    "start_time": "2024-01-13T22:08:05.834Z"
   },
   {
    "duration": 0,
    "start_time": "2024-01-13T22:08:05.835Z"
   },
   {
    "duration": 0,
    "start_time": "2024-01-13T22:08:05.836Z"
   },
   {
    "duration": 0,
    "start_time": "2024-01-13T22:08:05.837Z"
   },
   {
    "duration": 0,
    "start_time": "2024-01-13T22:08:05.838Z"
   },
   {
    "duration": 0,
    "start_time": "2024-01-13T22:08:05.839Z"
   },
   {
    "duration": 0,
    "start_time": "2024-01-13T22:08:05.840Z"
   },
   {
    "duration": 0,
    "start_time": "2024-01-13T22:08:05.841Z"
   },
   {
    "duration": 0,
    "start_time": "2024-01-13T22:08:05.842Z"
   },
   {
    "duration": 0,
    "start_time": "2024-01-13T22:08:05.843Z"
   },
   {
    "duration": 0,
    "start_time": "2024-01-13T22:08:05.844Z"
   },
   {
    "duration": 0,
    "start_time": "2024-01-13T22:08:05.845Z"
   },
   {
    "duration": 0,
    "start_time": "2024-01-13T22:08:05.846Z"
   },
   {
    "duration": 0,
    "start_time": "2024-01-13T22:08:05.847Z"
   },
   {
    "duration": 0,
    "start_time": "2024-01-13T22:08:05.848Z"
   },
   {
    "duration": 0,
    "start_time": "2024-01-13T22:08:05.849Z"
   },
   {
    "duration": 0,
    "start_time": "2024-01-13T22:08:05.850Z"
   },
   {
    "duration": 0,
    "start_time": "2024-01-13T22:08:05.850Z"
   },
   {
    "duration": 0,
    "start_time": "2024-01-13T22:08:05.851Z"
   },
   {
    "duration": 0,
    "start_time": "2024-01-13T22:08:05.852Z"
   },
   {
    "duration": 0,
    "start_time": "2024-01-13T22:08:05.853Z"
   },
   {
    "duration": 0,
    "start_time": "2024-01-13T22:08:05.854Z"
   },
   {
    "duration": 0,
    "start_time": "2024-01-13T22:08:05.854Z"
   },
   {
    "duration": 0,
    "start_time": "2024-01-13T22:08:05.855Z"
   },
   {
    "duration": 0,
    "start_time": "2024-01-13T22:08:05.856Z"
   },
   {
    "duration": 0,
    "start_time": "2024-01-13T22:08:05.857Z"
   },
   {
    "duration": 0,
    "start_time": "2024-01-13T22:08:05.858Z"
   },
   {
    "duration": 0,
    "start_time": "2024-01-13T22:08:05.859Z"
   },
   {
    "duration": 0,
    "start_time": "2024-01-13T22:08:05.915Z"
   },
   {
    "duration": 0,
    "start_time": "2024-01-13T22:08:05.916Z"
   },
   {
    "duration": 0,
    "start_time": "2024-01-13T22:08:05.917Z"
   },
   {
    "duration": 0,
    "start_time": "2024-01-13T22:08:05.918Z"
   },
   {
    "duration": 0,
    "start_time": "2024-01-13T22:08:05.919Z"
   },
   {
    "duration": 0,
    "start_time": "2024-01-13T22:08:05.919Z"
   },
   {
    "duration": 0,
    "start_time": "2024-01-13T22:08:05.920Z"
   },
   {
    "duration": 0,
    "start_time": "2024-01-13T22:08:05.921Z"
   },
   {
    "duration": 0,
    "start_time": "2024-01-13T22:08:05.922Z"
   },
   {
    "duration": 0,
    "start_time": "2024-01-13T22:08:05.923Z"
   },
   {
    "duration": 0,
    "start_time": "2024-01-13T22:08:05.924Z"
   },
   {
    "duration": 0,
    "start_time": "2024-01-13T22:08:05.925Z"
   },
   {
    "duration": 0,
    "start_time": "2024-01-13T22:08:05.925Z"
   },
   {
    "duration": 0,
    "start_time": "2024-01-13T22:08:05.926Z"
   },
   {
    "duration": 0,
    "start_time": "2024-01-13T22:08:05.928Z"
   },
   {
    "duration": 0,
    "start_time": "2024-01-13T22:08:05.928Z"
   },
   {
    "duration": 0,
    "start_time": "2024-01-13T22:08:05.929Z"
   },
   {
    "duration": 0,
    "start_time": "2024-01-13T22:08:05.930Z"
   },
   {
    "duration": 0,
    "start_time": "2024-01-13T22:08:05.931Z"
   },
   {
    "duration": 0,
    "start_time": "2024-01-13T22:08:05.932Z"
   },
   {
    "duration": 0,
    "start_time": "2024-01-13T22:08:05.933Z"
   },
   {
    "duration": 0,
    "start_time": "2024-01-13T22:08:05.934Z"
   },
   {
    "duration": 0,
    "start_time": "2024-01-13T22:08:05.935Z"
   },
   {
    "duration": 0,
    "start_time": "2024-01-13T22:08:05.936Z"
   },
   {
    "duration": 0,
    "start_time": "2024-01-13T22:08:05.937Z"
   },
   {
    "duration": 1,
    "start_time": "2024-01-13T22:08:05.937Z"
   },
   {
    "duration": 0,
    "start_time": "2024-01-13T22:08:05.939Z"
   },
   {
    "duration": 0,
    "start_time": "2024-01-13T22:08:05.939Z"
   },
   {
    "duration": 0,
    "start_time": "2024-01-13T22:08:05.940Z"
   },
   {
    "duration": 0,
    "start_time": "2024-01-13T22:08:05.941Z"
   },
   {
    "duration": 0,
    "start_time": "2024-01-13T22:08:05.942Z"
   },
   {
    "duration": 0,
    "start_time": "2024-01-13T22:08:05.943Z"
   },
   {
    "duration": 0,
    "start_time": "2024-01-13T22:08:05.944Z"
   },
   {
    "duration": 0,
    "start_time": "2024-01-13T22:08:05.945Z"
   },
   {
    "duration": 0,
    "start_time": "2024-01-13T22:08:05.946Z"
   },
   {
    "duration": 0,
    "start_time": "2024-01-13T22:08:05.947Z"
   },
   {
    "duration": 0,
    "start_time": "2024-01-13T22:08:05.947Z"
   },
   {
    "duration": 0,
    "start_time": "2024-01-13T22:08:05.948Z"
   },
   {
    "duration": 0,
    "start_time": "2024-01-13T22:08:05.949Z"
   },
   {
    "duration": 0,
    "start_time": "2024-01-13T22:08:05.950Z"
   },
   {
    "duration": 0,
    "start_time": "2024-01-13T22:08:05.951Z"
   },
   {
    "duration": 0,
    "start_time": "2024-01-13T22:08:05.952Z"
   },
   {
    "duration": 0,
    "start_time": "2024-01-13T22:08:05.953Z"
   },
   {
    "duration": 0,
    "start_time": "2024-01-13T22:08:06.015Z"
   },
   {
    "duration": 0,
    "start_time": "2024-01-13T22:08:06.016Z"
   },
   {
    "duration": 0,
    "start_time": "2024-01-13T22:08:06.017Z"
   },
   {
    "duration": 0,
    "start_time": "2024-01-13T22:08:06.018Z"
   },
   {
    "duration": 0,
    "start_time": "2024-01-13T22:08:06.019Z"
   },
   {
    "duration": 0,
    "start_time": "2024-01-13T22:08:06.019Z"
   },
   {
    "duration": 8,
    "start_time": "2024-01-13T22:08:42.205Z"
   },
   {
    "duration": 1288,
    "start_time": "2024-01-13T22:08:55.689Z"
   },
   {
    "duration": 153,
    "start_time": "2024-01-13T22:08:56.979Z"
   },
   {
    "duration": 116,
    "start_time": "2024-01-13T22:08:57.133Z"
   },
   {
    "duration": 8,
    "start_time": "2024-01-13T22:08:57.251Z"
   },
   {
    "duration": 20,
    "start_time": "2024-01-13T22:08:57.260Z"
   },
   {
    "duration": 13,
    "start_time": "2024-01-13T22:08:57.282Z"
   },
   {
    "duration": 6,
    "start_time": "2024-01-13T22:08:57.296Z"
   },
   {
    "duration": 22,
    "start_time": "2024-01-13T22:08:57.303Z"
   },
   {
    "duration": 21,
    "start_time": "2024-01-13T22:08:57.326Z"
   },
   {
    "duration": 15,
    "start_time": "2024-01-13T22:08:57.350Z"
   },
   {
    "duration": 6,
    "start_time": "2024-01-13T22:08:57.367Z"
   },
   {
    "duration": 23,
    "start_time": "2024-01-13T22:08:57.374Z"
   },
   {
    "duration": 12,
    "start_time": "2024-01-13T22:08:57.398Z"
   },
   {
    "duration": 658,
    "start_time": "2024-01-13T22:08:57.414Z"
   },
   {
    "duration": 9,
    "start_time": "2024-01-13T22:08:58.074Z"
   },
   {
    "duration": 154,
    "start_time": "2024-01-13T22:08:58.084Z"
   },
   {
    "duration": 9,
    "start_time": "2024-01-13T22:08:58.240Z"
   },
   {
    "duration": 125,
    "start_time": "2024-01-13T22:08:58.251Z"
   },
   {
    "duration": 7,
    "start_time": "2024-01-13T22:08:58.378Z"
   },
   {
    "duration": 146,
    "start_time": "2024-01-13T22:08:58.386Z"
   },
   {
    "duration": 44,
    "start_time": "2024-01-13T22:08:58.534Z"
   },
   {
    "duration": 12,
    "start_time": "2024-01-13T22:08:58.580Z"
   },
   {
    "duration": 21,
    "start_time": "2024-01-13T22:08:58.615Z"
   },
   {
    "duration": 20,
    "start_time": "2024-01-13T22:08:58.638Z"
   },
   {
    "duration": 6,
    "start_time": "2024-01-13T22:08:58.660Z"
   },
   {
    "duration": 13,
    "start_time": "2024-01-13T22:08:58.668Z"
   },
   {
    "duration": 80,
    "start_time": "2024-01-13T22:08:58.682Z"
   },
   {
    "duration": 9,
    "start_time": "2024-01-13T22:08:58.766Z"
   },
   {
    "duration": 14,
    "start_time": "2024-01-13T22:08:58.777Z"
   },
   {
    "duration": 54,
    "start_time": "2024-01-13T22:08:58.793Z"
   },
   {
    "duration": 8,
    "start_time": "2024-01-13T22:08:58.849Z"
   },
   {
    "duration": 13,
    "start_time": "2024-01-13T22:08:58.858Z"
   },
   {
    "duration": 44,
    "start_time": "2024-01-13T22:08:58.872Z"
   },
   {
    "duration": 5,
    "start_time": "2024-01-13T22:08:58.917Z"
   },
   {
    "duration": 25,
    "start_time": "2024-01-13T22:08:58.924Z"
   },
   {
    "duration": 6,
    "start_time": "2024-01-13T22:08:58.951Z"
   },
   {
    "duration": 5,
    "start_time": "2024-01-13T22:08:58.958Z"
   },
   {
    "duration": 9,
    "start_time": "2024-01-13T22:08:58.964Z"
   },
   {
    "duration": 15,
    "start_time": "2024-01-13T22:08:58.974Z"
   },
   {
    "duration": 32,
    "start_time": "2024-01-13T22:08:58.991Z"
   },
   {
    "duration": 21,
    "start_time": "2024-01-13T22:08:59.024Z"
   },
   {
    "duration": 16,
    "start_time": "2024-01-13T22:08:59.047Z"
   },
   {
    "duration": 6,
    "start_time": "2024-01-13T22:08:59.065Z"
   },
   {
    "duration": 28,
    "start_time": "2024-01-13T22:08:59.073Z"
   },
   {
    "duration": 42,
    "start_time": "2024-01-13T22:08:59.103Z"
   },
   {
    "duration": 12,
    "start_time": "2024-01-13T22:08:59.147Z"
   },
   {
    "duration": 12,
    "start_time": "2024-01-13T22:08:59.161Z"
   },
   {
    "duration": 12,
    "start_time": "2024-01-13T22:08:59.175Z"
   },
   {
    "duration": 27,
    "start_time": "2024-01-13T22:08:59.189Z"
   },
   {
    "duration": 22,
    "start_time": "2024-01-13T22:08:59.217Z"
   },
   {
    "duration": 12,
    "start_time": "2024-01-13T22:08:59.240Z"
   },
   {
    "duration": 6,
    "start_time": "2024-01-13T22:08:59.254Z"
   },
   {
    "duration": 6,
    "start_time": "2024-01-13T22:08:59.262Z"
   },
   {
    "duration": 52,
    "start_time": "2024-01-13T22:08:59.269Z"
   },
   {
    "duration": 3,
    "start_time": "2024-01-13T22:08:59.323Z"
   },
   {
    "duration": 1253,
    "start_time": "2024-01-13T22:08:59.327Z"
   },
   {
    "duration": 33,
    "start_time": "2024-01-13T22:09:00.582Z"
   },
   {
    "duration": 27,
    "start_time": "2024-01-13T22:09:00.618Z"
   },
   {
    "duration": 238,
    "start_time": "2024-01-13T22:09:00.647Z"
   },
   {
    "duration": 34,
    "start_time": "2024-01-13T22:09:00.887Z"
   },
   {
    "duration": 13,
    "start_time": "2024-01-13T22:09:00.923Z"
   },
   {
    "duration": 59,
    "start_time": "2024-01-13T22:09:00.938Z"
   },
   {
    "duration": 21,
    "start_time": "2024-01-13T22:09:00.999Z"
   },
   {
    "duration": 33,
    "start_time": "2024-01-13T22:09:01.022Z"
   },
   {
    "duration": 64,
    "start_time": "2024-01-13T22:09:01.057Z"
   },
   {
    "duration": 39,
    "start_time": "2024-01-13T22:09:01.122Z"
   },
   {
    "duration": 43,
    "start_time": "2024-01-13T22:09:01.163Z"
   },
   {
    "duration": 51,
    "start_time": "2024-01-13T22:09:01.207Z"
   },
   {
    "duration": 45,
    "start_time": "2024-01-13T22:09:01.259Z"
   },
   {
    "duration": 42,
    "start_time": "2024-01-13T22:09:01.305Z"
   },
   {
    "duration": 27,
    "start_time": "2024-01-13T22:09:01.349Z"
   },
   {
    "duration": 35,
    "start_time": "2024-01-13T22:09:01.378Z"
   },
   {
    "duration": 46,
    "start_time": "2024-01-13T22:09:01.415Z"
   },
   {
    "duration": 43,
    "start_time": "2024-01-13T22:09:01.462Z"
   },
   {
    "duration": 36,
    "start_time": "2024-01-13T22:09:01.507Z"
   },
   {
    "duration": 24,
    "start_time": "2024-01-13T22:09:01.545Z"
   },
   {
    "duration": 44,
    "start_time": "2024-01-13T22:09:01.570Z"
   },
   {
    "duration": 44,
    "start_time": "2024-01-13T22:09:01.615Z"
   },
   {
    "duration": 47,
    "start_time": "2024-01-13T22:09:01.660Z"
   },
   {
    "duration": 29,
    "start_time": "2024-01-13T22:09:01.709Z"
   },
   {
    "duration": 26,
    "start_time": "2024-01-13T22:09:01.740Z"
   },
   {
    "duration": 17,
    "start_time": "2024-01-13T22:09:01.774Z"
   },
   {
    "duration": 35,
    "start_time": "2024-01-13T22:09:01.792Z"
   },
   {
    "duration": 24,
    "start_time": "2024-01-13T22:09:01.829Z"
   },
   {
    "duration": 26,
    "start_time": "2024-01-13T22:09:01.854Z"
   },
   {
    "duration": 13,
    "start_time": "2024-01-13T22:09:01.881Z"
   },
   {
    "duration": 20,
    "start_time": "2024-01-13T22:09:01.896Z"
   },
   {
    "duration": 35,
    "start_time": "2024-01-13T22:09:01.918Z"
   },
   {
    "duration": 17,
    "start_time": "2024-01-13T22:09:01.955Z"
   },
   {
    "duration": 22,
    "start_time": "2024-01-13T22:09:01.974Z"
   },
   {
    "duration": 24,
    "start_time": "2024-01-13T22:09:01.997Z"
   },
   {
    "duration": 22,
    "start_time": "2024-01-13T22:09:02.023Z"
   },
   {
    "duration": 20,
    "start_time": "2024-01-13T22:09:02.047Z"
   },
   {
    "duration": 14,
    "start_time": "2024-01-13T22:09:02.069Z"
   },
   {
    "duration": 8,
    "start_time": "2024-01-13T22:09:02.085Z"
   },
   {
    "duration": 1266,
    "start_time": "2024-01-13T22:15:51.439Z"
   },
   {
    "duration": 204,
    "start_time": "2024-01-13T22:15:52.707Z"
   },
   {
    "duration": 134,
    "start_time": "2024-01-13T22:15:52.913Z"
   },
   {
    "duration": 14,
    "start_time": "2024-01-13T22:15:53.049Z"
   },
   {
    "duration": 9,
    "start_time": "2024-01-13T22:15:53.064Z"
   },
   {
    "duration": 13,
    "start_time": "2024-01-13T22:15:53.075Z"
   },
   {
    "duration": 79,
    "start_time": "2024-01-13T22:15:53.089Z"
   },
   {
    "duration": 0,
    "start_time": "2024-01-13T22:15:53.172Z"
   },
   {
    "duration": 0,
    "start_time": "2024-01-13T22:15:53.172Z"
   },
   {
    "duration": 0,
    "start_time": "2024-01-13T22:15:53.173Z"
   },
   {
    "duration": 0,
    "start_time": "2024-01-13T22:15:53.175Z"
   },
   {
    "duration": 0,
    "start_time": "2024-01-13T22:15:53.175Z"
   },
   {
    "duration": 0,
    "start_time": "2024-01-13T22:15:53.176Z"
   },
   {
    "duration": 0,
    "start_time": "2024-01-13T22:15:53.177Z"
   },
   {
    "duration": 0,
    "start_time": "2024-01-13T22:15:53.178Z"
   },
   {
    "duration": 0,
    "start_time": "2024-01-13T22:15:53.179Z"
   },
   {
    "duration": 0,
    "start_time": "2024-01-13T22:15:53.180Z"
   },
   {
    "duration": 0,
    "start_time": "2024-01-13T22:15:53.181Z"
   },
   {
    "duration": 0,
    "start_time": "2024-01-13T22:15:53.182Z"
   },
   {
    "duration": 0,
    "start_time": "2024-01-13T22:15:53.183Z"
   },
   {
    "duration": 0,
    "start_time": "2024-01-13T22:15:53.184Z"
   },
   {
    "duration": 0,
    "start_time": "2024-01-13T22:15:53.185Z"
   },
   {
    "duration": 0,
    "start_time": "2024-01-13T22:15:53.186Z"
   },
   {
    "duration": 0,
    "start_time": "2024-01-13T22:15:53.187Z"
   },
   {
    "duration": 0,
    "start_time": "2024-01-13T22:15:53.188Z"
   },
   {
    "duration": 0,
    "start_time": "2024-01-13T22:15:53.188Z"
   },
   {
    "duration": 0,
    "start_time": "2024-01-13T22:15:53.190Z"
   },
   {
    "duration": 0,
    "start_time": "2024-01-13T22:15:53.191Z"
   },
   {
    "duration": 0,
    "start_time": "2024-01-13T22:15:53.192Z"
   },
   {
    "duration": 0,
    "start_time": "2024-01-13T22:15:53.192Z"
   },
   {
    "duration": 0,
    "start_time": "2024-01-13T22:15:53.193Z"
   },
   {
    "duration": 0,
    "start_time": "2024-01-13T22:15:53.195Z"
   },
   {
    "duration": 0,
    "start_time": "2024-01-13T22:15:53.196Z"
   },
   {
    "duration": 0,
    "start_time": "2024-01-13T22:15:53.197Z"
   },
   {
    "duration": 0,
    "start_time": "2024-01-13T22:15:53.197Z"
   },
   {
    "duration": 0,
    "start_time": "2024-01-13T22:15:53.198Z"
   },
   {
    "duration": 0,
    "start_time": "2024-01-13T22:15:53.199Z"
   },
   {
    "duration": 0,
    "start_time": "2024-01-13T22:15:53.200Z"
   },
   {
    "duration": 0,
    "start_time": "2024-01-13T22:15:53.201Z"
   },
   {
    "duration": 0,
    "start_time": "2024-01-13T22:15:53.202Z"
   },
   {
    "duration": 0,
    "start_time": "2024-01-13T22:15:53.203Z"
   },
   {
    "duration": 0,
    "start_time": "2024-01-13T22:15:53.204Z"
   },
   {
    "duration": 0,
    "start_time": "2024-01-13T22:15:53.205Z"
   },
   {
    "duration": 0,
    "start_time": "2024-01-13T22:15:53.206Z"
   },
   {
    "duration": 0,
    "start_time": "2024-01-13T22:15:53.207Z"
   },
   {
    "duration": 0,
    "start_time": "2024-01-13T22:15:53.208Z"
   },
   {
    "duration": 0,
    "start_time": "2024-01-13T22:15:53.209Z"
   },
   {
    "duration": 0,
    "start_time": "2024-01-13T22:15:53.214Z"
   },
   {
    "duration": 0,
    "start_time": "2024-01-13T22:15:53.215Z"
   },
   {
    "duration": 0,
    "start_time": "2024-01-13T22:15:53.216Z"
   },
   {
    "duration": 0,
    "start_time": "2024-01-13T22:15:53.217Z"
   },
   {
    "duration": 0,
    "start_time": "2024-01-13T22:15:53.218Z"
   },
   {
    "duration": 0,
    "start_time": "2024-01-13T22:15:53.219Z"
   },
   {
    "duration": 1,
    "start_time": "2024-01-13T22:15:53.219Z"
   },
   {
    "duration": 0,
    "start_time": "2024-01-13T22:15:53.220Z"
   },
   {
    "duration": 0,
    "start_time": "2024-01-13T22:15:53.221Z"
   },
   {
    "duration": 0,
    "start_time": "2024-01-13T22:15:53.222Z"
   },
   {
    "duration": 0,
    "start_time": "2024-01-13T22:15:53.223Z"
   },
   {
    "duration": 0,
    "start_time": "2024-01-13T22:15:53.223Z"
   },
   {
    "duration": 0,
    "start_time": "2024-01-13T22:15:53.224Z"
   },
   {
    "duration": 0,
    "start_time": "2024-01-13T22:15:53.225Z"
   },
   {
    "duration": 0,
    "start_time": "2024-01-13T22:15:53.226Z"
   },
   {
    "duration": 0,
    "start_time": "2024-01-13T22:15:53.227Z"
   },
   {
    "duration": 0,
    "start_time": "2024-01-13T22:15:53.228Z"
   },
   {
    "duration": 0,
    "start_time": "2024-01-13T22:15:53.229Z"
   },
   {
    "duration": 0,
    "start_time": "2024-01-13T22:15:53.230Z"
   },
   {
    "duration": 0,
    "start_time": "2024-01-13T22:15:53.231Z"
   },
   {
    "duration": 0,
    "start_time": "2024-01-13T22:15:53.232Z"
   },
   {
    "duration": 0,
    "start_time": "2024-01-13T22:15:53.232Z"
   },
   {
    "duration": 0,
    "start_time": "2024-01-13T22:15:53.233Z"
   },
   {
    "duration": 0,
    "start_time": "2024-01-13T22:15:53.234Z"
   },
   {
    "duration": 0,
    "start_time": "2024-01-13T22:15:53.235Z"
   },
   {
    "duration": 0,
    "start_time": "2024-01-13T22:15:53.236Z"
   },
   {
    "duration": 0,
    "start_time": "2024-01-13T22:15:53.237Z"
   },
   {
    "duration": 0,
    "start_time": "2024-01-13T22:15:53.238Z"
   },
   {
    "duration": 0,
    "start_time": "2024-01-13T22:15:53.239Z"
   },
   {
    "duration": 0,
    "start_time": "2024-01-13T22:15:53.240Z"
   },
   {
    "duration": 0,
    "start_time": "2024-01-13T22:15:53.241Z"
   },
   {
    "duration": 0,
    "start_time": "2024-01-13T22:15:53.242Z"
   },
   {
    "duration": 0,
    "start_time": "2024-01-13T22:15:53.243Z"
   },
   {
    "duration": 0,
    "start_time": "2024-01-13T22:15:53.244Z"
   },
   {
    "duration": 0,
    "start_time": "2024-01-13T22:15:53.244Z"
   },
   {
    "duration": 0,
    "start_time": "2024-01-13T22:15:53.245Z"
   },
   {
    "duration": 0,
    "start_time": "2024-01-13T22:15:53.246Z"
   },
   {
    "duration": 0,
    "start_time": "2024-01-13T22:15:53.247Z"
   },
   {
    "duration": 0,
    "start_time": "2024-01-13T22:15:53.247Z"
   },
   {
    "duration": 0,
    "start_time": "2024-01-13T22:15:53.249Z"
   },
   {
    "duration": 0,
    "start_time": "2024-01-13T22:15:53.249Z"
   },
   {
    "duration": 0,
    "start_time": "2024-01-13T22:15:53.250Z"
   },
   {
    "duration": 0,
    "start_time": "2024-01-13T22:15:53.314Z"
   },
   {
    "duration": 0,
    "start_time": "2024-01-13T22:15:53.315Z"
   },
   {
    "duration": 0,
    "start_time": "2024-01-13T22:15:53.316Z"
   },
   {
    "duration": 0,
    "start_time": "2024-01-13T22:15:53.317Z"
   },
   {
    "duration": 0,
    "start_time": "2024-01-13T22:15:53.318Z"
   },
   {
    "duration": 0,
    "start_time": "2024-01-13T22:15:53.319Z"
   },
   {
    "duration": 0,
    "start_time": "2024-01-13T22:15:53.320Z"
   },
   {
    "duration": 1301,
    "start_time": "2024-01-13T22:16:37.616Z"
   },
   {
    "duration": 149,
    "start_time": "2024-01-13T22:16:38.919Z"
   },
   {
    "duration": 60,
    "start_time": "2024-01-13T22:16:39.069Z"
   },
   {
    "duration": 14,
    "start_time": "2024-01-13T22:16:39.131Z"
   },
   {
    "duration": 9,
    "start_time": "2024-01-13T22:16:39.146Z"
   },
   {
    "duration": 15,
    "start_time": "2024-01-13T22:16:39.157Z"
   },
   {
    "duration": 6,
    "start_time": "2024-01-13T22:16:39.173Z"
   },
   {
    "duration": 4,
    "start_time": "2024-01-13T22:16:39.180Z"
   },
   {
    "duration": 46,
    "start_time": "2024-01-13T22:16:39.186Z"
   },
   {
    "duration": 16,
    "start_time": "2024-01-13T22:16:39.234Z"
   },
   {
    "duration": 6,
    "start_time": "2024-01-13T22:16:39.252Z"
   },
   {
    "duration": 10,
    "start_time": "2024-01-13T22:16:39.259Z"
   },
   {
    "duration": 11,
    "start_time": "2024-01-13T22:16:39.270Z"
   },
   {
    "duration": 673,
    "start_time": "2024-01-13T22:16:39.283Z"
   },
   {
    "duration": 8,
    "start_time": "2024-01-13T22:16:39.957Z"
   },
   {
    "duration": 149,
    "start_time": "2024-01-13T22:16:39.966Z"
   },
   {
    "duration": 9,
    "start_time": "2024-01-13T22:16:40.117Z"
   },
   {
    "duration": 95,
    "start_time": "2024-01-13T22:16:40.127Z"
   },
   {
    "duration": 7,
    "start_time": "2024-01-13T22:16:40.223Z"
   },
   {
    "duration": 148,
    "start_time": "2024-01-13T22:16:40.232Z"
   },
   {
    "duration": 54,
    "start_time": "2024-01-13T22:16:40.382Z"
   },
   {
    "duration": 13,
    "start_time": "2024-01-13T22:16:40.437Z"
   },
   {
    "duration": 21,
    "start_time": "2024-01-13T22:16:40.452Z"
   },
   {
    "duration": 43,
    "start_time": "2024-01-13T22:16:40.475Z"
   },
   {
    "duration": 4,
    "start_time": "2024-01-13T22:16:40.520Z"
   },
   {
    "duration": 11,
    "start_time": "2024-01-13T22:16:40.525Z"
   },
   {
    "duration": 77,
    "start_time": "2024-01-13T22:16:40.538Z"
   },
   {
    "duration": 11,
    "start_time": "2024-01-13T22:16:40.619Z"
   },
   {
    "duration": 19,
    "start_time": "2024-01-13T22:16:40.631Z"
   },
   {
    "duration": 36,
    "start_time": "2024-01-13T22:16:40.652Z"
   },
   {
    "duration": 8,
    "start_time": "2024-01-13T22:16:40.690Z"
   },
   {
    "duration": 14,
    "start_time": "2024-01-13T22:16:40.714Z"
   },
   {
    "duration": 24,
    "start_time": "2024-01-13T22:16:40.729Z"
   },
   {
    "duration": 4,
    "start_time": "2024-01-13T22:16:40.755Z"
   },
   {
    "duration": 27,
    "start_time": "2024-01-13T22:16:40.761Z"
   },
   {
    "duration": 6,
    "start_time": "2024-01-13T22:16:40.790Z"
   },
   {
    "duration": 3,
    "start_time": "2024-01-13T22:16:40.815Z"
   },
   {
    "duration": 10,
    "start_time": "2024-01-13T22:16:40.820Z"
   },
   {
    "duration": 15,
    "start_time": "2024-01-13T22:16:40.832Z"
   },
   {
    "duration": 11,
    "start_time": "2024-01-13T22:16:40.849Z"
   },
   {
    "duration": 22,
    "start_time": "2024-01-13T22:16:40.862Z"
   },
   {
    "duration": 33,
    "start_time": "2024-01-13T22:16:40.886Z"
   },
   {
    "duration": 8,
    "start_time": "2024-01-13T22:16:40.920Z"
   },
   {
    "duration": 26,
    "start_time": "2024-01-13T22:16:40.929Z"
   },
   {
    "duration": 37,
    "start_time": "2024-01-13T22:16:40.957Z"
   },
   {
    "duration": 27,
    "start_time": "2024-01-13T22:16:40.996Z"
   },
   {
    "duration": 13,
    "start_time": "2024-01-13T22:16:41.024Z"
   },
   {
    "duration": 7,
    "start_time": "2024-01-13T22:16:41.038Z"
   },
   {
    "duration": 6,
    "start_time": "2024-01-13T22:16:41.046Z"
   },
   {
    "duration": 27,
    "start_time": "2024-01-13T22:16:41.053Z"
   },
   {
    "duration": 43,
    "start_time": "2024-01-13T22:16:41.081Z"
   },
   {
    "duration": 7,
    "start_time": "2024-01-13T22:16:41.125Z"
   },
   {
    "duration": 8,
    "start_time": "2024-01-13T22:16:41.133Z"
   },
   {
    "duration": 23,
    "start_time": "2024-01-13T22:16:41.142Z"
   },
   {
    "duration": 4,
    "start_time": "2024-01-13T22:16:41.166Z"
   },
   {
    "duration": 1248,
    "start_time": "2024-01-13T22:16:41.171Z"
   },
   {
    "duration": 31,
    "start_time": "2024-01-13T22:16:42.420Z"
   },
   {
    "duration": 17,
    "start_time": "2024-01-13T22:16:42.452Z"
   },
   {
    "duration": 236,
    "start_time": "2024-01-13T22:16:42.471Z"
   },
   {
    "duration": 27,
    "start_time": "2024-01-13T22:16:42.709Z"
   },
   {
    "duration": 11,
    "start_time": "2024-01-13T22:16:42.738Z"
   },
   {
    "duration": 20,
    "start_time": "2024-01-13T22:16:42.751Z"
   },
   {
    "duration": 7,
    "start_time": "2024-01-13T22:16:42.773Z"
   },
   {
    "duration": 42,
    "start_time": "2024-01-13T22:16:42.781Z"
   },
   {
    "duration": 30,
    "start_time": "2024-01-13T22:16:42.825Z"
   },
   {
    "duration": 19,
    "start_time": "2024-01-13T22:16:42.856Z"
   },
   {
    "duration": 43,
    "start_time": "2024-01-13T22:16:42.877Z"
   },
   {
    "duration": 11,
    "start_time": "2024-01-13T22:16:42.921Z"
   },
   {
    "duration": 10,
    "start_time": "2024-01-13T22:16:42.933Z"
   },
   {
    "duration": 4,
    "start_time": "2024-01-13T22:16:42.944Z"
   },
   {
    "duration": 7,
    "start_time": "2024-01-13T22:16:42.949Z"
   },
   {
    "duration": 5,
    "start_time": "2024-01-13T22:16:42.957Z"
   },
   {
    "duration": 5,
    "start_time": "2024-01-13T22:16:42.963Z"
   },
   {
    "duration": 3,
    "start_time": "2024-01-13T22:16:42.970Z"
   },
   {
    "duration": 6,
    "start_time": "2024-01-13T22:16:42.974Z"
   },
   {
    "duration": 5,
    "start_time": "2024-01-13T22:16:42.981Z"
   },
   {
    "duration": 30,
    "start_time": "2024-01-13T22:16:42.987Z"
   },
   {
    "duration": 6,
    "start_time": "2024-01-13T22:16:43.018Z"
   },
   {
    "duration": 11,
    "start_time": "2024-01-13T22:16:43.025Z"
   },
   {
    "duration": 5,
    "start_time": "2024-01-13T22:16:43.037Z"
   },
   {
    "duration": 8,
    "start_time": "2024-01-13T22:16:43.043Z"
   },
   {
    "duration": 3,
    "start_time": "2024-01-13T22:16:43.055Z"
   },
   {
    "duration": 4,
    "start_time": "2024-01-13T22:16:43.060Z"
   },
   {
    "duration": 9,
    "start_time": "2024-01-13T22:16:43.065Z"
   },
   {
    "duration": 40,
    "start_time": "2024-01-13T22:16:43.075Z"
   },
   {
    "duration": 4,
    "start_time": "2024-01-13T22:16:43.116Z"
   },
   {
    "duration": 5,
    "start_time": "2024-01-13T22:16:43.121Z"
   },
   {
    "duration": 10,
    "start_time": "2024-01-13T22:16:43.127Z"
   },
   {
    "duration": 11,
    "start_time": "2024-01-13T22:16:43.138Z"
   },
   {
    "duration": 5,
    "start_time": "2024-01-13T22:16:43.150Z"
   },
   {
    "duration": 12,
    "start_time": "2024-01-13T22:16:43.156Z"
   },
   {
    "duration": 6,
    "start_time": "2024-01-13T22:16:43.169Z"
   },
   {
    "duration": 12,
    "start_time": "2024-01-13T22:16:43.177Z"
   },
   {
    "duration": 4,
    "start_time": "2024-01-13T22:16:43.215Z"
   },
   {
    "duration": 5,
    "start_time": "2024-01-13T22:16:43.220Z"
   },
   {
    "duration": 1383,
    "start_time": "2024-01-14T11:41:39.639Z"
   },
   {
    "duration": 210,
    "start_time": "2024-01-14T11:41:41.023Z"
   },
   {
    "duration": 146,
    "start_time": "2024-01-14T11:41:41.235Z"
   },
   {
    "duration": 14,
    "start_time": "2024-01-14T11:41:41.383Z"
   },
   {
    "duration": 10,
    "start_time": "2024-01-14T11:41:41.399Z"
   },
   {
    "duration": 22,
    "start_time": "2024-01-14T11:41:41.410Z"
   },
   {
    "duration": 9,
    "start_time": "2024-01-14T11:41:41.433Z"
   },
   {
    "duration": 11,
    "start_time": "2024-01-14T11:41:41.443Z"
   },
   {
    "duration": 39,
    "start_time": "2024-01-14T11:41:41.455Z"
   },
   {
    "duration": 14,
    "start_time": "2024-01-14T11:41:41.496Z"
   },
   {
    "duration": 15,
    "start_time": "2024-01-14T11:41:41.512Z"
   },
   {
    "duration": 11,
    "start_time": "2024-01-14T11:41:41.528Z"
   },
   {
    "duration": 11,
    "start_time": "2024-01-14T11:41:41.540Z"
   },
   {
    "duration": 414,
    "start_time": "2024-01-14T11:41:41.553Z"
   },
   {
    "duration": 8,
    "start_time": "2024-01-14T11:41:41.968Z"
   },
   {
    "duration": 216,
    "start_time": "2024-01-14T11:41:41.977Z"
   },
   {
    "duration": 7,
    "start_time": "2024-01-14T11:41:42.195Z"
   },
   {
    "duration": 91,
    "start_time": "2024-01-14T11:41:42.203Z"
   },
   {
    "duration": 7,
    "start_time": "2024-01-14T11:41:42.296Z"
   },
   {
    "duration": 84,
    "start_time": "2024-01-14T11:41:42.304Z"
   },
   {
    "duration": 45,
    "start_time": "2024-01-14T11:41:42.390Z"
   },
   {
    "duration": 12,
    "start_time": "2024-01-14T11:41:42.437Z"
   },
   {
    "duration": 49,
    "start_time": "2024-01-14T11:41:42.450Z"
   },
   {
    "duration": 23,
    "start_time": "2024-01-14T11:41:42.500Z"
   },
   {
    "duration": 4,
    "start_time": "2024-01-14T11:41:42.525Z"
   },
   {
    "duration": 20,
    "start_time": "2024-01-14T11:41:42.530Z"
   },
   {
    "duration": 81,
    "start_time": "2024-01-14T11:41:42.551Z"
   },
   {
    "duration": 11,
    "start_time": "2024-01-14T11:41:42.636Z"
   },
   {
    "duration": 10,
    "start_time": "2024-01-14T11:41:42.648Z"
   },
   {
    "duration": 59,
    "start_time": "2024-01-14T11:41:42.660Z"
   },
   {
    "duration": 8,
    "start_time": "2024-01-14T11:41:42.721Z"
   },
   {
    "duration": 13,
    "start_time": "2024-01-14T11:41:42.731Z"
   },
   {
    "duration": 48,
    "start_time": "2024-01-14T11:41:42.745Z"
   },
   {
    "duration": 5,
    "start_time": "2024-01-14T11:41:42.794Z"
   },
   {
    "duration": 29,
    "start_time": "2024-01-14T11:41:42.800Z"
   },
   {
    "duration": 8,
    "start_time": "2024-01-14T11:41:42.830Z"
   },
   {
    "duration": 4,
    "start_time": "2024-01-14T11:41:42.840Z"
   },
   {
    "duration": 8,
    "start_time": "2024-01-14T11:41:42.845Z"
   },
   {
    "duration": 33,
    "start_time": "2024-01-14T11:41:42.855Z"
   },
   {
    "duration": 9,
    "start_time": "2024-01-14T11:41:42.890Z"
   },
   {
    "duration": 11,
    "start_time": "2024-01-14T11:41:42.901Z"
   },
   {
    "duration": 5,
    "start_time": "2024-01-14T11:41:42.913Z"
   },
   {
    "duration": 23,
    "start_time": "2024-01-14T11:41:42.920Z"
   },
   {
    "duration": 40,
    "start_time": "2024-01-14T11:41:42.945Z"
   },
   {
    "duration": 44,
    "start_time": "2024-01-14T11:41:42.987Z"
   },
   {
    "duration": 10,
    "start_time": "2024-01-14T11:41:43.032Z"
   },
   {
    "duration": 22,
    "start_time": "2024-01-14T11:41:43.044Z"
   },
   {
    "duration": 23,
    "start_time": "2024-01-14T11:41:43.067Z"
   },
   {
    "duration": 10,
    "start_time": "2024-01-14T11:41:43.092Z"
   },
   {
    "duration": 25,
    "start_time": "2024-01-14T11:41:43.103Z"
   },
   {
    "duration": 20,
    "start_time": "2024-01-14T11:41:43.130Z"
   },
   {
    "duration": 7,
    "start_time": "2024-01-14T11:41:43.152Z"
   },
   {
    "duration": 9,
    "start_time": "2024-01-14T11:41:43.161Z"
   },
   {
    "duration": 40,
    "start_time": "2024-01-14T11:41:43.171Z"
   },
   {
    "duration": 5,
    "start_time": "2024-01-14T11:41:43.213Z"
   },
   {
    "duration": 1310,
    "start_time": "2024-01-14T11:41:43.220Z"
   },
   {
    "duration": 29,
    "start_time": "2024-01-14T11:41:44.532Z"
   },
   {
    "duration": 5,
    "start_time": "2024-01-14T11:41:44.563Z"
   },
   {
    "duration": 285,
    "start_time": "2024-01-14T11:41:44.569Z"
   },
   {
    "duration": 34,
    "start_time": "2024-01-14T11:41:44.856Z"
   },
   {
    "duration": 13,
    "start_time": "2024-01-14T11:41:44.892Z"
   },
   {
    "duration": 19,
    "start_time": "2024-01-14T11:41:44.907Z"
   },
   {
    "duration": 3,
    "start_time": "2024-01-14T11:41:44.927Z"
   },
   {
    "duration": 19,
    "start_time": "2024-01-14T11:41:44.931Z"
   },
   {
    "duration": 45,
    "start_time": "2024-01-14T11:41:44.951Z"
   },
   {
    "duration": 17,
    "start_time": "2024-01-14T11:41:44.998Z"
   },
   {
    "duration": 58,
    "start_time": "2024-01-14T11:41:45.016Z"
   },
   {
    "duration": 25,
    "start_time": "2024-01-14T11:41:45.076Z"
   },
   {
    "duration": 19,
    "start_time": "2024-01-14T11:41:45.103Z"
   },
   {
    "duration": 17,
    "start_time": "2024-01-14T11:41:45.124Z"
   },
   {
    "duration": 21,
    "start_time": "2024-01-14T11:41:45.143Z"
   },
   {
    "duration": 41,
    "start_time": "2024-01-14T11:41:45.165Z"
   },
   {
    "duration": 13,
    "start_time": "2024-01-14T11:41:45.207Z"
   },
   {
    "duration": 13,
    "start_time": "2024-01-14T11:41:45.222Z"
   },
   {
    "duration": 11,
    "start_time": "2024-01-14T11:41:45.236Z"
   },
   {
    "duration": 5,
    "start_time": "2024-01-14T11:41:45.249Z"
   },
   {
    "duration": 18,
    "start_time": "2024-01-14T11:41:45.255Z"
   },
   {
    "duration": 4,
    "start_time": "2024-01-14T11:41:45.275Z"
   },
   {
    "duration": 15,
    "start_time": "2024-01-14T11:41:45.280Z"
   },
   {
    "duration": 6,
    "start_time": "2024-01-14T11:41:45.296Z"
   },
   {
    "duration": 14,
    "start_time": "2024-01-14T11:41:45.303Z"
   },
   {
    "duration": 3,
    "start_time": "2024-01-14T11:41:45.323Z"
   },
   {
    "duration": 15,
    "start_time": "2024-01-14T11:41:45.327Z"
   },
   {
    "duration": 20,
    "start_time": "2024-01-14T11:41:45.343Z"
   },
   {
    "duration": 12,
    "start_time": "2024-01-14T11:41:45.364Z"
   },
   {
    "duration": 4,
    "start_time": "2024-01-14T11:41:45.377Z"
   },
   {
    "duration": 8,
    "start_time": "2024-01-14T11:41:45.382Z"
   },
   {
    "duration": 12,
    "start_time": "2024-01-14T11:41:45.391Z"
   },
   {
    "duration": 12,
    "start_time": "2024-01-14T11:41:45.405Z"
   },
   {
    "duration": 16,
    "start_time": "2024-01-14T11:41:45.418Z"
   },
   {
    "duration": 14,
    "start_time": "2024-01-14T11:41:45.435Z"
   },
   {
    "duration": 6,
    "start_time": "2024-01-14T11:41:45.451Z"
   },
   {
    "duration": 9,
    "start_time": "2024-01-14T11:41:45.459Z"
   },
   {
    "duration": 3,
    "start_time": "2024-01-14T11:41:45.470Z"
   },
   {
    "duration": 10,
    "start_time": "2024-01-14T11:41:45.474Z"
   },
   {
    "duration": 41,
    "start_time": "2024-01-14T11:51:38.073Z"
   },
   {
    "duration": 13,
    "start_time": "2024-01-14T13:10:07.706Z"
   },
   {
    "duration": 11,
    "start_time": "2024-01-14T13:10:33.519Z"
   },
   {
    "duration": 14,
    "start_time": "2024-01-14T13:11:44.304Z"
   },
   {
    "duration": 10,
    "start_time": "2024-01-14T13:19:57.931Z"
   },
   {
    "duration": 9,
    "start_time": "2024-01-14T13:23:18.566Z"
   },
   {
    "duration": 82,
    "start_time": "2024-01-14T13:28:15.697Z"
   },
   {
    "duration": 16,
    "start_time": "2024-01-14T13:28:26.776Z"
   },
   {
    "duration": 17,
    "start_time": "2024-01-14T13:28:41.206Z"
   },
   {
    "duration": 16,
    "start_time": "2024-01-14T13:28:53.602Z"
   },
   {
    "duration": 17,
    "start_time": "2024-01-14T13:29:13.210Z"
   },
   {
    "duration": 4,
    "start_time": "2024-01-14T13:29:27.685Z"
   },
   {
    "duration": 9,
    "start_time": "2024-01-14T13:35:33.439Z"
   },
   {
    "duration": 3,
    "start_time": "2024-01-14T13:40:04.780Z"
   },
   {
    "duration": 36,
    "start_time": "2024-01-14T13:45:42.655Z"
   },
   {
    "duration": 8,
    "start_time": "2024-01-14T13:58:11.649Z"
   },
   {
    "duration": 72,
    "start_time": "2024-01-14T14:01:41.604Z"
   },
   {
    "duration": 69,
    "start_time": "2024-01-14T14:02:47.572Z"
   },
   {
    "duration": 62,
    "start_time": "2024-01-14T14:02:55.017Z"
   },
   {
    "duration": 63,
    "start_time": "2024-01-14T14:03:05.686Z"
   },
   {
    "duration": 10,
    "start_time": "2024-01-14T14:06:15.108Z"
   },
   {
    "duration": 72,
    "start_time": "2024-01-14T14:06:59.417Z"
   },
   {
    "duration": 59,
    "start_time": "2024-01-14T14:09:11.015Z"
   },
   {
    "duration": 76,
    "start_time": "2024-01-14T14:09:53.472Z"
   },
   {
    "duration": 197,
    "start_time": "2024-01-14T14:10:10.851Z"
   },
   {
    "duration": 63,
    "start_time": "2024-01-14T14:10:22.819Z"
   },
   {
    "duration": 62,
    "start_time": "2024-01-14T14:11:57.119Z"
   },
   {
    "duration": 1494,
    "start_time": "2024-01-14T14:12:07.271Z"
   },
   {
    "duration": 63,
    "start_time": "2024-01-14T14:12:08.767Z"
   },
   {
    "duration": 15,
    "start_time": "2024-01-14T14:12:08.832Z"
   },
   {
    "duration": 17,
    "start_time": "2024-01-14T14:12:08.849Z"
   },
   {
    "duration": 24,
    "start_time": "2024-01-14T14:12:08.868Z"
   },
   {
    "duration": 20,
    "start_time": "2024-01-14T14:12:08.894Z"
   },
   {
    "duration": 24,
    "start_time": "2024-01-14T14:12:08.916Z"
   },
   {
    "duration": 28,
    "start_time": "2024-01-14T14:12:08.941Z"
   },
   {
    "duration": 20,
    "start_time": "2024-01-14T14:12:08.971Z"
   },
   {
    "duration": 402,
    "start_time": "2024-01-14T14:12:08.994Z"
   },
   {
    "duration": 217,
    "start_time": "2024-01-14T14:12:09.398Z"
   },
   {
    "duration": 17,
    "start_time": "2024-01-14T14:12:09.616Z"
   },
   {
    "duration": 4,
    "start_time": "2024-01-14T14:12:09.635Z"
   },
   {
    "duration": 12,
    "start_time": "2024-01-14T14:12:09.642Z"
   },
   {
    "duration": 38,
    "start_time": "2024-01-14T14:12:09.655Z"
   },
   {
    "duration": 175,
    "start_time": "2024-01-14T14:12:09.694Z"
   },
   {
    "duration": 0,
    "start_time": "2024-01-14T14:12:09.872Z"
   },
   {
    "duration": 0,
    "start_time": "2024-01-14T14:12:09.873Z"
   },
   {
    "duration": 0,
    "start_time": "2024-01-14T14:12:09.874Z"
   },
   {
    "duration": 0,
    "start_time": "2024-01-14T14:12:09.875Z"
   },
   {
    "duration": 0,
    "start_time": "2024-01-14T14:12:09.888Z"
   },
   {
    "duration": 0,
    "start_time": "2024-01-14T14:12:09.889Z"
   },
   {
    "duration": 0,
    "start_time": "2024-01-14T14:12:09.890Z"
   },
   {
    "duration": 0,
    "start_time": "2024-01-14T14:12:09.891Z"
   },
   {
    "duration": 0,
    "start_time": "2024-01-14T14:12:09.892Z"
   },
   {
    "duration": 0,
    "start_time": "2024-01-14T14:12:09.893Z"
   },
   {
    "duration": 0,
    "start_time": "2024-01-14T14:12:09.894Z"
   },
   {
    "duration": 0,
    "start_time": "2024-01-14T14:12:09.895Z"
   },
   {
    "duration": 0,
    "start_time": "2024-01-14T14:12:09.896Z"
   },
   {
    "duration": 0,
    "start_time": "2024-01-14T14:12:09.897Z"
   },
   {
    "duration": 0,
    "start_time": "2024-01-14T14:12:09.898Z"
   },
   {
    "duration": 0,
    "start_time": "2024-01-14T14:12:09.900Z"
   },
   {
    "duration": 0,
    "start_time": "2024-01-14T14:12:09.901Z"
   },
   {
    "duration": 0,
    "start_time": "2024-01-14T14:12:09.902Z"
   },
   {
    "duration": 0,
    "start_time": "2024-01-14T14:12:09.903Z"
   },
   {
    "duration": 0,
    "start_time": "2024-01-14T14:12:09.904Z"
   },
   {
    "duration": 0,
    "start_time": "2024-01-14T14:12:09.906Z"
   },
   {
    "duration": 0,
    "start_time": "2024-01-14T14:12:09.907Z"
   },
   {
    "duration": 0,
    "start_time": "2024-01-14T14:12:09.908Z"
   },
   {
    "duration": 0,
    "start_time": "2024-01-14T14:12:09.909Z"
   },
   {
    "duration": 0,
    "start_time": "2024-01-14T14:12:09.910Z"
   },
   {
    "duration": 0,
    "start_time": "2024-01-14T14:12:09.911Z"
   },
   {
    "duration": 0,
    "start_time": "2024-01-14T14:12:09.912Z"
   },
   {
    "duration": 0,
    "start_time": "2024-01-14T14:12:09.913Z"
   },
   {
    "duration": 0,
    "start_time": "2024-01-14T14:12:09.914Z"
   },
   {
    "duration": 0,
    "start_time": "2024-01-14T14:12:09.916Z"
   },
   {
    "duration": 0,
    "start_time": "2024-01-14T14:12:09.917Z"
   },
   {
    "duration": 0,
    "start_time": "2024-01-14T14:12:09.918Z"
   },
   {
    "duration": 0,
    "start_time": "2024-01-14T14:12:09.919Z"
   },
   {
    "duration": 0,
    "start_time": "2024-01-14T14:12:09.920Z"
   },
   {
    "duration": 0,
    "start_time": "2024-01-14T14:12:09.921Z"
   },
   {
    "duration": 0,
    "start_time": "2024-01-14T14:12:09.922Z"
   },
   {
    "duration": 0,
    "start_time": "2024-01-14T14:12:09.923Z"
   },
   {
    "duration": 0,
    "start_time": "2024-01-14T14:12:09.924Z"
   },
   {
    "duration": 0,
    "start_time": "2024-01-14T14:12:09.926Z"
   },
   {
    "duration": 0,
    "start_time": "2024-01-14T14:12:09.926Z"
   },
   {
    "duration": 0,
    "start_time": "2024-01-14T14:12:09.927Z"
   },
   {
    "duration": 0,
    "start_time": "2024-01-14T14:12:09.928Z"
   },
   {
    "duration": 0,
    "start_time": "2024-01-14T14:12:09.988Z"
   },
   {
    "duration": 0,
    "start_time": "2024-01-14T14:12:09.989Z"
   },
   {
    "duration": 0,
    "start_time": "2024-01-14T14:12:09.990Z"
   },
   {
    "duration": 0,
    "start_time": "2024-01-14T14:12:09.992Z"
   },
   {
    "duration": 0,
    "start_time": "2024-01-14T14:12:09.993Z"
   },
   {
    "duration": 0,
    "start_time": "2024-01-14T14:12:09.993Z"
   },
   {
    "duration": 0,
    "start_time": "2024-01-14T14:12:09.994Z"
   },
   {
    "duration": 0,
    "start_time": "2024-01-14T14:12:09.995Z"
   },
   {
    "duration": 0,
    "start_time": "2024-01-14T14:12:09.997Z"
   },
   {
    "duration": 0,
    "start_time": "2024-01-14T14:12:09.997Z"
   },
   {
    "duration": 0,
    "start_time": "2024-01-14T14:12:09.998Z"
   },
   {
    "duration": 1,
    "start_time": "2024-01-14T14:12:09.999Z"
   },
   {
    "duration": 0,
    "start_time": "2024-01-14T14:12:10.001Z"
   },
   {
    "duration": 0,
    "start_time": "2024-01-14T14:12:10.002Z"
   },
   {
    "duration": 0,
    "start_time": "2024-01-14T14:12:10.002Z"
   },
   {
    "duration": 0,
    "start_time": "2024-01-14T14:12:10.003Z"
   },
   {
    "duration": 0,
    "start_time": "2024-01-14T14:12:10.004Z"
   },
   {
    "duration": 0,
    "start_time": "2024-01-14T14:12:10.006Z"
   },
   {
    "duration": 0,
    "start_time": "2024-01-14T14:12:10.006Z"
   },
   {
    "duration": 0,
    "start_time": "2024-01-14T14:12:10.008Z"
   },
   {
    "duration": 0,
    "start_time": "2024-01-14T14:12:10.008Z"
   },
   {
    "duration": 0,
    "start_time": "2024-01-14T14:12:10.010Z"
   },
   {
    "duration": 0,
    "start_time": "2024-01-14T14:12:10.010Z"
   },
   {
    "duration": 0,
    "start_time": "2024-01-14T14:12:10.012Z"
   },
   {
    "duration": 0,
    "start_time": "2024-01-14T14:12:10.012Z"
   },
   {
    "duration": 0,
    "start_time": "2024-01-14T14:12:10.014Z"
   },
   {
    "duration": 0,
    "start_time": "2024-01-14T14:12:10.015Z"
   },
   {
    "duration": 0,
    "start_time": "2024-01-14T14:12:10.016Z"
   },
   {
    "duration": 3,
    "start_time": "2024-01-14T14:13:33.313Z"
   },
   {
    "duration": 87,
    "start_time": "2024-01-14T14:13:33.318Z"
   },
   {
    "duration": 14,
    "start_time": "2024-01-14T14:13:33.407Z"
   },
   {
    "duration": 16,
    "start_time": "2024-01-14T14:13:33.423Z"
   },
   {
    "duration": 19,
    "start_time": "2024-01-14T14:13:33.441Z"
   },
   {
    "duration": 30,
    "start_time": "2024-01-14T14:13:33.461Z"
   },
   {
    "duration": 10,
    "start_time": "2024-01-14T14:13:33.492Z"
   },
   {
    "duration": 29,
    "start_time": "2024-01-14T14:13:33.503Z"
   },
   {
    "duration": 14,
    "start_time": "2024-01-14T14:13:33.534Z"
   },
   {
    "duration": 99,
    "start_time": "2024-01-14T14:13:33.550Z"
   },
   {
    "duration": 83,
    "start_time": "2024-01-14T14:13:33.651Z"
   },
   {
    "duration": 18,
    "start_time": "2024-01-14T14:13:33.736Z"
   },
   {
    "duration": 10,
    "start_time": "2024-01-14T14:13:33.756Z"
   },
   {
    "duration": 25,
    "start_time": "2024-01-14T14:13:33.768Z"
   },
   {
    "duration": 30,
    "start_time": "2024-01-14T14:13:33.795Z"
   },
   {
    "duration": 49,
    "start_time": "2024-01-14T14:13:39.277Z"
   },
   {
    "duration": 10,
    "start_time": "2024-01-14T14:13:39.327Z"
   },
   {
    "duration": 12,
    "start_time": "2024-01-14T14:13:39.339Z"
   },
   {
    "duration": 0,
    "start_time": "2024-01-14T14:13:39.353Z"
   },
   {
    "duration": 0,
    "start_time": "2024-01-14T14:13:39.354Z"
   },
   {
    "duration": 0,
    "start_time": "2024-01-14T14:13:39.355Z"
   },
   {
    "duration": 0,
    "start_time": "2024-01-14T14:13:39.356Z"
   },
   {
    "duration": 0,
    "start_time": "2024-01-14T14:13:39.358Z"
   },
   {
    "duration": 0,
    "start_time": "2024-01-14T14:13:39.388Z"
   },
   {
    "duration": 0,
    "start_time": "2024-01-14T14:13:39.389Z"
   },
   {
    "duration": 0,
    "start_time": "2024-01-14T14:13:39.391Z"
   },
   {
    "duration": 0,
    "start_time": "2024-01-14T14:13:39.392Z"
   },
   {
    "duration": 0,
    "start_time": "2024-01-14T14:13:39.393Z"
   },
   {
    "duration": 0,
    "start_time": "2024-01-14T14:13:39.394Z"
   },
   {
    "duration": 0,
    "start_time": "2024-01-14T14:13:39.395Z"
   },
   {
    "duration": 0,
    "start_time": "2024-01-14T14:13:39.397Z"
   },
   {
    "duration": 0,
    "start_time": "2024-01-14T14:13:39.398Z"
   },
   {
    "duration": 0,
    "start_time": "2024-01-14T14:13:39.399Z"
   },
   {
    "duration": 0,
    "start_time": "2024-01-14T14:13:39.400Z"
   },
   {
    "duration": 0,
    "start_time": "2024-01-14T14:13:39.401Z"
   },
   {
    "duration": 0,
    "start_time": "2024-01-14T14:13:39.402Z"
   },
   {
    "duration": 11,
    "start_time": "2024-01-14T14:13:39.405Z"
   },
   {
    "duration": 0,
    "start_time": "2024-01-14T14:13:39.417Z"
   },
   {
    "duration": 0,
    "start_time": "2024-01-14T14:13:39.418Z"
   },
   {
    "duration": 0,
    "start_time": "2024-01-14T14:13:39.419Z"
   },
   {
    "duration": 0,
    "start_time": "2024-01-14T14:13:39.420Z"
   },
   {
    "duration": 0,
    "start_time": "2024-01-14T14:13:39.421Z"
   },
   {
    "duration": 0,
    "start_time": "2024-01-14T14:13:39.423Z"
   },
   {
    "duration": 0,
    "start_time": "2024-01-14T14:13:39.423Z"
   },
   {
    "duration": 0,
    "start_time": "2024-01-14T14:13:39.425Z"
   },
   {
    "duration": 0,
    "start_time": "2024-01-14T14:13:39.426Z"
   },
   {
    "duration": 0,
    "start_time": "2024-01-14T14:13:39.488Z"
   },
   {
    "duration": 0,
    "start_time": "2024-01-14T14:13:39.489Z"
   },
   {
    "duration": 0,
    "start_time": "2024-01-14T14:13:39.490Z"
   },
   {
    "duration": 0,
    "start_time": "2024-01-14T14:13:39.491Z"
   },
   {
    "duration": 0,
    "start_time": "2024-01-14T14:13:39.492Z"
   },
   {
    "duration": 0,
    "start_time": "2024-01-14T14:13:39.493Z"
   },
   {
    "duration": 0,
    "start_time": "2024-01-14T14:13:39.494Z"
   },
   {
    "duration": 0,
    "start_time": "2024-01-14T14:13:39.495Z"
   },
   {
    "duration": 0,
    "start_time": "2024-01-14T14:13:39.496Z"
   },
   {
    "duration": 0,
    "start_time": "2024-01-14T14:13:39.497Z"
   },
   {
    "duration": 19,
    "start_time": "2024-01-14T14:13:39.502Z"
   },
   {
    "duration": 0,
    "start_time": "2024-01-14T14:13:39.522Z"
   },
   {
    "duration": 0,
    "start_time": "2024-01-14T14:13:39.523Z"
   },
   {
    "duration": 0,
    "start_time": "2024-01-14T14:13:39.524Z"
   },
   {
    "duration": 1,
    "start_time": "2024-01-14T14:13:39.525Z"
   },
   {
    "duration": 0,
    "start_time": "2024-01-14T14:13:39.526Z"
   },
   {
    "duration": 0,
    "start_time": "2024-01-14T14:13:39.528Z"
   },
   {
    "duration": 0,
    "start_time": "2024-01-14T14:13:39.528Z"
   },
   {
    "duration": 0,
    "start_time": "2024-01-14T14:13:39.529Z"
   },
   {
    "duration": 0,
    "start_time": "2024-01-14T14:13:39.530Z"
   },
   {
    "duration": 1,
    "start_time": "2024-01-14T14:13:39.587Z"
   },
   {
    "duration": 0,
    "start_time": "2024-01-14T14:13:39.589Z"
   },
   {
    "duration": 0,
    "start_time": "2024-01-14T14:13:39.590Z"
   },
   {
    "duration": 0,
    "start_time": "2024-01-14T14:13:39.591Z"
   },
   {
    "duration": 0,
    "start_time": "2024-01-14T14:13:39.592Z"
   },
   {
    "duration": 0,
    "start_time": "2024-01-14T14:13:39.592Z"
   },
   {
    "duration": 0,
    "start_time": "2024-01-14T14:13:39.594Z"
   },
   {
    "duration": 1,
    "start_time": "2024-01-14T14:13:39.594Z"
   },
   {
    "duration": 0,
    "start_time": "2024-01-14T14:13:39.595Z"
   },
   {
    "duration": 0,
    "start_time": "2024-01-14T14:13:39.596Z"
   },
   {
    "duration": 0,
    "start_time": "2024-01-14T14:13:39.597Z"
   },
   {
    "duration": 0,
    "start_time": "2024-01-14T14:13:39.598Z"
   },
   {
    "duration": 0,
    "start_time": "2024-01-14T14:13:39.599Z"
   },
   {
    "duration": 0,
    "start_time": "2024-01-14T14:13:39.600Z"
   },
   {
    "duration": 0,
    "start_time": "2024-01-14T14:13:39.601Z"
   },
   {
    "duration": 0,
    "start_time": "2024-01-14T14:13:39.602Z"
   },
   {
    "duration": 0,
    "start_time": "2024-01-14T14:13:39.603Z"
   },
   {
    "duration": 0,
    "start_time": "2024-01-14T14:13:39.604Z"
   },
   {
    "duration": 0,
    "start_time": "2024-01-14T14:13:39.605Z"
   },
   {
    "duration": 0,
    "start_time": "2024-01-14T14:13:39.606Z"
   },
   {
    "duration": 66,
    "start_time": "2024-01-14T14:14:30.905Z"
   },
   {
    "duration": 10,
    "start_time": "2024-01-14T14:14:33.328Z"
   },
   {
    "duration": 10,
    "start_time": "2024-01-14T14:14:34.739Z"
   },
   {
    "duration": 40,
    "start_time": "2024-01-14T14:14:35.290Z"
   },
   {
    "duration": 8,
    "start_time": "2024-01-14T14:14:35.715Z"
   },
   {
    "duration": 13,
    "start_time": "2024-01-14T14:14:36.116Z"
   },
   {
    "duration": 25,
    "start_time": "2024-01-14T14:14:36.524Z"
   },
   {
    "duration": 4,
    "start_time": "2024-01-14T14:14:37.763Z"
   },
   {
    "duration": 15,
    "start_time": "2024-01-14T14:14:38.612Z"
   },
   {
    "duration": 7,
    "start_time": "2024-01-14T14:14:39.727Z"
   },
   {
    "duration": 3,
    "start_time": "2024-01-14T14:14:40.736Z"
   },
   {
    "duration": 8,
    "start_time": "2024-01-14T14:14:41.305Z"
   },
   {
    "duration": 13,
    "start_time": "2024-01-14T14:14:45.607Z"
   },
   {
    "duration": 10,
    "start_time": "2024-01-14T14:14:46.376Z"
   },
   {
    "duration": 10,
    "start_time": "2024-01-14T14:14:48.818Z"
   },
   {
    "duration": 5,
    "start_time": "2024-01-14T14:14:50.232Z"
   },
   {
    "duration": 3,
    "start_time": "2024-01-14T14:14:51.208Z"
   },
   {
    "duration": 26,
    "start_time": "2024-01-14T14:14:51.696Z"
   },
   {
    "duration": 38,
    "start_time": "2024-01-14T14:14:52.169Z"
   },
   {
    "duration": 10,
    "start_time": "2024-01-14T14:14:55.855Z"
   },
   {
    "duration": 12,
    "start_time": "2024-01-14T14:14:56.891Z"
   },
   {
    "duration": 8,
    "start_time": "2024-01-14T14:14:57.265Z"
   },
   {
    "duration": 6,
    "start_time": "2024-01-14T14:14:57.641Z"
   },
   {
    "duration": 22,
    "start_time": "2024-01-14T14:14:58.064Z"
   },
   {
    "duration": 12,
    "start_time": "2024-01-14T14:14:58.951Z"
   },
   {
    "duration": 7,
    "start_time": "2024-01-14T14:14:59.265Z"
   },
   {
    "duration": 5,
    "start_time": "2024-01-14T14:14:59.616Z"
   },
   {
    "duration": 27,
    "start_time": "2024-01-14T14:14:59.792Z"
   },
   {
    "duration": 4,
    "start_time": "2024-01-14T14:15:00.704Z"
   },
   {
    "duration": 1319,
    "start_time": "2024-01-14T14:15:00.881Z"
   },
   {
    "duration": 31,
    "start_time": "2024-01-14T14:15:02.202Z"
   },
   {
    "duration": 104,
    "start_time": "2024-01-14T14:15:02.235Z"
   },
   {
    "duration": 287,
    "start_time": "2024-01-14T14:15:02.341Z"
   },
   {
    "duration": 28,
    "start_time": "2024-01-14T14:15:02.630Z"
   },
   {
    "duration": 26,
    "start_time": "2024-01-14T14:15:02.660Z"
   },
   {
    "duration": 33,
    "start_time": "2024-01-14T14:15:02.688Z"
   },
   {
    "duration": 23,
    "start_time": "2024-01-14T14:15:02.723Z"
   },
   {
    "duration": 263,
    "start_time": "2024-01-14T14:15:02.748Z"
   },
   {
    "duration": 60,
    "start_time": "2024-01-14T14:15:03.013Z"
   },
   {
    "duration": 24,
    "start_time": "2024-01-14T14:15:03.075Z"
   },
   {
    "duration": 24,
    "start_time": "2024-01-14T14:15:03.313Z"
   },
   {
    "duration": 2,
    "start_time": "2024-01-14T14:15:05.320Z"
   },
   {
    "duration": 12,
    "start_time": "2024-01-14T14:15:05.488Z"
   },
   {
    "duration": 4,
    "start_time": "2024-01-14T14:15:05.655Z"
   },
   {
    "duration": 6,
    "start_time": "2024-01-14T14:15:05.832Z"
   },
   {
    "duration": 6,
    "start_time": "2024-01-14T14:15:05.989Z"
   },
   {
    "duration": 5,
    "start_time": "2024-01-14T14:15:06.160Z"
   },
   {
    "duration": 2,
    "start_time": "2024-01-14T14:15:06.327Z"
   },
   {
    "duration": 3,
    "start_time": "2024-01-14T14:15:06.496Z"
   },
   {
    "duration": 3,
    "start_time": "2024-01-14T14:15:06.665Z"
   },
   {
    "duration": 8,
    "start_time": "2024-01-14T14:15:07.143Z"
   },
   {
    "duration": 4,
    "start_time": "2024-01-14T14:15:07.313Z"
   },
   {
    "duration": 5,
    "start_time": "2024-01-14T14:15:07.472Z"
   },
   {
    "duration": 5,
    "start_time": "2024-01-14T14:15:07.646Z"
   },
   {
    "duration": 5,
    "start_time": "2024-01-14T14:15:07.807Z"
   },
   {
    "duration": 3,
    "start_time": "2024-01-14T14:15:07.976Z"
   },
   {
    "duration": 4,
    "start_time": "2024-01-14T14:15:08.143Z"
   },
   {
    "duration": 8,
    "start_time": "2024-01-14T14:15:08.768Z"
   },
   {
    "duration": 13,
    "start_time": "2024-01-14T14:15:08.927Z"
   },
   {
    "duration": 4,
    "start_time": "2024-01-14T14:15:09.086Z"
   },
   {
    "duration": 4,
    "start_time": "2024-01-14T14:15:09.383Z"
   },
   {
    "duration": 7,
    "start_time": "2024-01-14T14:15:09.551Z"
   },
   {
    "duration": 13,
    "start_time": "2024-01-14T14:15:09.729Z"
   },
   {
    "duration": 5,
    "start_time": "2024-01-14T14:15:09.896Z"
   },
   {
    "duration": 13,
    "start_time": "2024-01-14T14:15:10.072Z"
   },
   {
    "duration": 4,
    "start_time": "2024-01-14T14:15:10.255Z"
   },
   {
    "duration": 13,
    "start_time": "2024-01-14T14:15:10.420Z"
   },
   {
    "duration": 3,
    "start_time": "2024-01-14T14:15:10.878Z"
   },
   {
    "duration": 4,
    "start_time": "2024-01-14T14:15:11.048Z"
   },
   {
    "duration": 60,
    "start_time": "2024-01-14T14:16:21.107Z"
   },
   {
    "duration": 59,
    "start_time": "2024-01-14T14:16:43.780Z"
   },
   {
    "duration": 206,
    "start_time": "2024-01-14T14:17:30.007Z"
   },
   {
    "duration": 72,
    "start_time": "2024-01-14T14:18:35.807Z"
   },
   {
    "duration": 1513,
    "start_time": "2024-01-14T14:19:02.557Z"
   },
   {
    "duration": 62,
    "start_time": "2024-01-14T14:19:04.071Z"
   },
   {
    "duration": 15,
    "start_time": "2024-01-14T14:19:04.134Z"
   },
   {
    "duration": 9,
    "start_time": "2024-01-14T14:19:04.151Z"
   },
   {
    "duration": 16,
    "start_time": "2024-01-14T14:19:04.161Z"
   },
   {
    "duration": 8,
    "start_time": "2024-01-14T14:19:04.189Z"
   },
   {
    "duration": 5,
    "start_time": "2024-01-14T14:19:04.198Z"
   },
   {
    "duration": 25,
    "start_time": "2024-01-14T14:19:04.204Z"
   },
   {
    "duration": 10,
    "start_time": "2024-01-14T14:19:04.231Z"
   },
   {
    "duration": 403,
    "start_time": "2024-01-14T14:19:04.244Z"
   },
   {
    "duration": 217,
    "start_time": "2024-01-14T14:19:04.649Z"
   },
   {
    "duration": 28,
    "start_time": "2024-01-14T14:19:04.868Z"
   },
   {
    "duration": 3,
    "start_time": "2024-01-14T14:19:04.898Z"
   },
   {
    "duration": 10,
    "start_time": "2024-01-14T14:19:04.903Z"
   },
   {
    "duration": 18,
    "start_time": "2024-01-14T14:19:04.914Z"
   },
   {
    "duration": 62,
    "start_time": "2024-01-14T14:19:04.933Z"
   },
   {
    "duration": 8,
    "start_time": "2024-01-14T14:19:04.997Z"
   },
   {
    "duration": 69,
    "start_time": "2024-01-14T14:19:05.007Z"
   },
   {
    "duration": 9,
    "start_time": "2024-01-14T14:19:05.089Z"
   },
   {
    "duration": 25,
    "start_time": "2024-01-14T14:19:05.099Z"
   },
   {
    "duration": 55,
    "start_time": "2024-01-14T14:19:05.125Z"
   },
   {
    "duration": 8,
    "start_time": "2024-01-14T14:19:05.182Z"
   },
   {
    "duration": 43,
    "start_time": "2024-01-14T14:19:05.191Z"
   },
   {
    "duration": 54,
    "start_time": "2024-01-14T14:19:05.236Z"
   },
   {
    "duration": 5,
    "start_time": "2024-01-14T14:19:05.292Z"
   },
   {
    "duration": 39,
    "start_time": "2024-01-14T14:19:05.298Z"
   },
   {
    "duration": 5,
    "start_time": "2024-01-14T14:19:05.339Z"
   },
   {
    "duration": 4,
    "start_time": "2024-01-14T14:19:05.349Z"
   },
   {
    "duration": 29,
    "start_time": "2024-01-14T14:19:05.355Z"
   },
   {
    "duration": 21,
    "start_time": "2024-01-14T14:19:05.385Z"
   },
   {
    "duration": 11,
    "start_time": "2024-01-14T14:19:05.407Z"
   },
   {
    "duration": 11,
    "start_time": "2024-01-14T14:19:05.419Z"
   },
   {
    "duration": 11,
    "start_time": "2024-01-14T14:19:05.431Z"
   },
   {
    "duration": 4,
    "start_time": "2024-01-14T14:19:05.444Z"
   },
   {
    "duration": 46,
    "start_time": "2024-01-14T14:19:05.449Z"
   },
   {
    "duration": 37,
    "start_time": "2024-01-14T14:19:05.496Z"
   },
   {
    "duration": 11,
    "start_time": "2024-01-14T14:19:05.534Z"
   },
   {
    "duration": 41,
    "start_time": "2024-01-14T14:19:05.547Z"
   },
   {
    "duration": 8,
    "start_time": "2024-01-14T14:19:05.589Z"
   },
   {
    "duration": 16,
    "start_time": "2024-01-14T14:19:05.598Z"
   },
   {
    "duration": 39,
    "start_time": "2024-01-14T14:19:05.616Z"
   },
   {
    "duration": 12,
    "start_time": "2024-01-14T14:19:05.656Z"
   },
   {
    "duration": 7,
    "start_time": "2024-01-14T14:19:05.670Z"
   },
   {
    "duration": 13,
    "start_time": "2024-01-14T14:19:05.687Z"
   },
   {
    "duration": 27,
    "start_time": "2024-01-14T14:19:05.702Z"
   },
   {
    "duration": 5,
    "start_time": "2024-01-14T14:19:05.731Z"
   },
   {
    "duration": 1277,
    "start_time": "2024-01-14T14:19:05.737Z"
   },
   {
    "duration": 30,
    "start_time": "2024-01-14T14:19:07.016Z"
   },
   {
    "duration": 11,
    "start_time": "2024-01-14T14:19:07.047Z"
   },
   {
    "duration": 241,
    "start_time": "2024-01-14T14:19:07.060Z"
   },
   {
    "duration": 27,
    "start_time": "2024-01-14T14:19:07.303Z"
   },
   {
    "duration": 11,
    "start_time": "2024-01-14T14:19:07.332Z"
   },
   {
    "duration": 37,
    "start_time": "2024-01-14T14:19:07.345Z"
   },
   {
    "duration": 5,
    "start_time": "2024-01-14T14:19:07.383Z"
   },
   {
    "duration": 26,
    "start_time": "2024-01-14T14:19:07.389Z"
   },
   {
    "duration": 27,
    "start_time": "2024-01-14T14:19:07.416Z"
   },
   {
    "duration": 16,
    "start_time": "2024-01-14T14:19:07.445Z"
   },
   {
    "duration": 35,
    "start_time": "2024-01-14T14:19:07.463Z"
   },
   {
    "duration": 2,
    "start_time": "2024-01-14T14:19:07.500Z"
   },
   {
    "duration": 9,
    "start_time": "2024-01-14T14:19:07.503Z"
   },
   {
    "duration": 5,
    "start_time": "2024-01-14T14:19:07.513Z"
   },
   {
    "duration": 5,
    "start_time": "2024-01-14T14:19:07.519Z"
   },
   {
    "duration": 6,
    "start_time": "2024-01-14T14:19:07.526Z"
   },
   {
    "duration": 7,
    "start_time": "2024-01-14T14:19:07.533Z"
   },
   {
    "duration": 4,
    "start_time": "2024-01-14T14:19:07.541Z"
   },
   {
    "duration": 5,
    "start_time": "2024-01-14T14:19:07.546Z"
   },
   {
    "duration": 5,
    "start_time": "2024-01-14T14:19:07.587Z"
   },
   {
    "duration": 16,
    "start_time": "2024-01-14T14:19:07.594Z"
   },
   {
    "duration": 12,
    "start_time": "2024-01-14T14:19:07.611Z"
   },
   {
    "duration": 32,
    "start_time": "2024-01-14T14:19:07.625Z"
   },
   {
    "duration": 20,
    "start_time": "2024-01-14T14:19:07.659Z"
   },
   {
    "duration": 26,
    "start_time": "2024-01-14T14:19:07.680Z"
   },
   {
    "duration": 23,
    "start_time": "2024-01-14T14:19:07.708Z"
   },
   {
    "duration": 14,
    "start_time": "2024-01-14T14:19:07.732Z"
   },
   {
    "duration": 12,
    "start_time": "2024-01-14T14:19:07.747Z"
   },
   {
    "duration": 14,
    "start_time": "2024-01-14T14:19:07.760Z"
   },
   {
    "duration": 3,
    "start_time": "2024-01-14T14:19:07.776Z"
   },
   {
    "duration": 7,
    "start_time": "2024-01-14T14:19:07.780Z"
   },
   {
    "duration": 24,
    "start_time": "2024-01-14T14:19:07.789Z"
   },
   {
    "duration": 18,
    "start_time": "2024-01-14T14:19:07.815Z"
   },
   {
    "duration": 6,
    "start_time": "2024-01-14T14:19:07.834Z"
   },
   {
    "duration": 28,
    "start_time": "2024-01-14T14:19:07.846Z"
   },
   {
    "duration": 9,
    "start_time": "2024-01-14T14:19:07.875Z"
   },
   {
    "duration": 10,
    "start_time": "2024-01-14T14:19:07.885Z"
   },
   {
    "duration": 4,
    "start_time": "2024-01-14T14:19:07.896Z"
   },
   {
    "duration": 7,
    "start_time": "2024-01-14T14:19:07.901Z"
   },
   {
    "duration": 26,
    "start_time": "2024-01-14T14:20:42.299Z"
   },
   {
    "duration": 22,
    "start_time": "2024-01-14T14:21:12.828Z"
   },
   {
    "duration": 5,
    "start_time": "2024-01-14T14:21:25.196Z"
   },
   {
    "duration": 23,
    "start_time": "2024-01-14T14:21:25.759Z"
   },
   {
    "duration": 41,
    "start_time": "2024-01-14T14:24:32.338Z"
   },
   {
    "duration": 67,
    "start_time": "2024-01-14T14:28:41.144Z"
   },
   {
    "duration": 1335,
    "start_time": "2024-01-14T14:29:05.469Z"
   },
   {
    "duration": 14,
    "start_time": "2024-01-14T14:30:45.622Z"
   },
   {
    "duration": 12,
    "start_time": "2024-01-14T14:30:46.539Z"
   },
   {
    "duration": 1194,
    "start_time": "2024-01-14T14:30:48.423Z"
   },
   {
    "duration": 96,
    "start_time": "2024-01-14T14:31:53.840Z"
   },
   {
    "duration": 18,
    "start_time": "2024-01-14T14:40:36.832Z"
   },
   {
    "duration": 16,
    "start_time": "2024-01-14T14:40:46.675Z"
   },
   {
    "duration": 6,
    "start_time": "2024-01-14T14:42:30.142Z"
   },
   {
    "duration": 46,
    "start_time": "2024-01-14T14:46:23.743Z"
   },
   {
    "duration": 4,
    "start_time": "2024-01-14T14:46:25.238Z"
   },
   {
    "duration": 238,
    "start_time": "2024-01-14T14:46:27.478Z"
   },
   {
    "duration": 16,
    "start_time": "2024-01-14T14:46:29.483Z"
   },
   {
    "duration": 6,
    "start_time": "2024-01-14T14:51:15.961Z"
   },
   {
    "duration": 22,
    "start_time": "2024-01-14T14:52:06.332Z"
   },
   {
    "duration": 21,
    "start_time": "2024-01-14T14:52:07.122Z"
   },
   {
    "duration": 3,
    "start_time": "2024-01-14T14:52:15.239Z"
   },
   {
    "duration": 234,
    "start_time": "2024-01-14T14:52:16.401Z"
   },
   {
    "duration": 16,
    "start_time": "2024-01-14T14:52:17.319Z"
   },
   {
    "duration": 6,
    "start_time": "2024-01-14T14:52:21.425Z"
   },
   {
    "duration": 4,
    "start_time": "2024-01-14T14:56:54.898Z"
   },
   {
    "duration": 285,
    "start_time": "2024-01-14T14:56:55.947Z"
   },
   {
    "duration": 4,
    "start_time": "2024-01-14T14:57:08.601Z"
   },
   {
    "duration": 272,
    "start_time": "2024-01-14T14:57:09.483Z"
   },
   {
    "duration": 17,
    "start_time": "2024-01-14T14:57:11.084Z"
   },
   {
    "duration": 5,
    "start_time": "2024-01-14T14:57:15.554Z"
   },
   {
    "duration": 8,
    "start_time": "2024-01-14T15:03:15.175Z"
   },
   {
    "duration": 4,
    "start_time": "2024-01-14T15:08:35.577Z"
   },
   {
    "duration": 95,
    "start_time": "2024-01-14T15:08:36.493Z"
   },
   {
    "duration": 16,
    "start_time": "2024-01-14T15:08:37.257Z"
   },
   {
    "duration": 61,
    "start_time": "2024-01-14T15:09:45.472Z"
   },
   {
    "duration": 14,
    "start_time": "2024-01-14T15:09:54.130Z"
   },
   {
    "duration": 4,
    "start_time": "2024-01-14T15:09:59.744Z"
   },
   {
    "duration": 98,
    "start_time": "2024-01-14T15:10:02.292Z"
   },
   {
    "duration": 16,
    "start_time": "2024-01-14T15:10:04.707Z"
   },
   {
    "duration": 3,
    "start_time": "2024-01-14T15:10:14.842Z"
   },
   {
    "duration": 89,
    "start_time": "2024-01-14T15:10:15.871Z"
   },
   {
    "duration": 16,
    "start_time": "2024-01-14T15:10:16.394Z"
   },
   {
    "duration": 3,
    "start_time": "2024-01-14T15:10:36.561Z"
   },
   {
    "duration": 94,
    "start_time": "2024-01-14T15:10:41.210Z"
   },
   {
    "duration": 16,
    "start_time": "2024-01-14T15:10:41.847Z"
   },
   {
    "duration": 3,
    "start_time": "2024-01-14T15:10:58.338Z"
   },
   {
    "duration": 91,
    "start_time": "2024-01-14T15:10:58.736Z"
   },
   {
    "duration": 15,
    "start_time": "2024-01-14T15:10:59.139Z"
   },
   {
    "duration": 16,
    "start_time": "2024-01-14T15:12:00.322Z"
   },
   {
    "duration": 16,
    "start_time": "2024-01-14T15:12:28.709Z"
   },
   {
    "duration": 16,
    "start_time": "2024-01-14T15:14:08.492Z"
   },
   {
    "duration": 32,
    "start_time": "2024-01-14T15:14:31.481Z"
   },
   {
    "duration": 17,
    "start_time": "2024-01-14T15:14:32.148Z"
   },
   {
    "duration": 49,
    "start_time": "2024-01-14T15:14:35.720Z"
   },
   {
    "duration": 41,
    "start_time": "2024-01-14T15:15:15.576Z"
   },
   {
    "duration": 1450,
    "start_time": "2024-01-14T15:16:46.888Z"
   },
   {
    "duration": 59,
    "start_time": "2024-01-14T15:16:48.340Z"
   },
   {
    "duration": 13,
    "start_time": "2024-01-14T15:16:48.401Z"
   },
   {
    "duration": 9,
    "start_time": "2024-01-14T15:16:48.416Z"
   },
   {
    "duration": 16,
    "start_time": "2024-01-14T15:16:48.426Z"
   },
   {
    "duration": 7,
    "start_time": "2024-01-14T15:16:48.443Z"
   },
   {
    "duration": 4,
    "start_time": "2024-01-14T15:16:48.451Z"
   },
   {
    "duration": 46,
    "start_time": "2024-01-14T15:16:48.456Z"
   },
   {
    "duration": 11,
    "start_time": "2024-01-14T15:16:48.504Z"
   },
   {
    "duration": 440,
    "start_time": "2024-01-14T15:16:48.518Z"
   },
   {
    "duration": 203,
    "start_time": "2024-01-14T15:16:48.960Z"
   },
   {
    "duration": 33,
    "start_time": "2024-01-14T15:16:49.164Z"
   },
   {
    "duration": 5,
    "start_time": "2024-01-14T15:16:49.199Z"
   },
   {
    "duration": 18,
    "start_time": "2024-01-14T15:16:49.205Z"
   },
   {
    "duration": 12,
    "start_time": "2024-01-14T15:16:49.225Z"
   },
   {
    "duration": 58,
    "start_time": "2024-01-14T15:16:49.238Z"
   },
   {
    "duration": 9,
    "start_time": "2024-01-14T15:16:49.298Z"
   },
   {
    "duration": 64,
    "start_time": "2024-01-14T15:16:49.308Z"
   },
   {
    "duration": 10,
    "start_time": "2024-01-14T15:16:49.388Z"
   },
   {
    "duration": 9,
    "start_time": "2024-01-14T15:16:49.400Z"
   },
   {
    "duration": 40,
    "start_time": "2024-01-14T15:16:49.410Z"
   },
   {
    "duration": 8,
    "start_time": "2024-01-14T15:16:49.451Z"
   },
   {
    "duration": 39,
    "start_time": "2024-01-14T15:16:49.461Z"
   },
   {
    "duration": 26,
    "start_time": "2024-01-14T15:16:49.501Z"
   },
   {
    "duration": 4,
    "start_time": "2024-01-14T15:16:49.528Z"
   },
   {
    "duration": 28,
    "start_time": "2024-01-14T15:16:49.534Z"
   },
   {
    "duration": 5,
    "start_time": "2024-01-14T15:16:49.564Z"
   },
   {
    "duration": 2,
    "start_time": "2024-01-14T15:16:49.591Z"
   },
   {
    "duration": 15,
    "start_time": "2024-01-14T15:16:49.595Z"
   },
   {
    "duration": 14,
    "start_time": "2024-01-14T15:16:49.612Z"
   },
   {
    "duration": 9,
    "start_time": "2024-01-14T15:16:49.628Z"
   },
   {
    "duration": 20,
    "start_time": "2024-01-14T15:16:49.638Z"
   },
   {
    "duration": 5,
    "start_time": "2024-01-14T15:16:49.659Z"
   },
   {
    "duration": 8,
    "start_time": "2024-01-14T15:16:49.666Z"
   },
   {
    "duration": 38,
    "start_time": "2024-01-14T15:16:49.675Z"
   },
   {
    "duration": 45,
    "start_time": "2024-01-14T15:16:49.715Z"
   },
   {
    "duration": 27,
    "start_time": "2024-01-14T15:16:49.765Z"
   },
   {
    "duration": 14,
    "start_time": "2024-01-14T15:16:49.793Z"
   },
   {
    "duration": 7,
    "start_time": "2024-01-14T15:16:49.809Z"
   },
   {
    "duration": 19,
    "start_time": "2024-01-14T15:16:49.817Z"
   },
   {
    "duration": 25,
    "start_time": "2024-01-14T15:16:49.838Z"
   },
   {
    "duration": 29,
    "start_time": "2024-01-14T15:16:49.865Z"
   },
   {
    "duration": 8,
    "start_time": "2024-01-14T15:16:49.896Z"
   },
   {
    "duration": 8,
    "start_time": "2024-01-14T15:16:49.906Z"
   },
   {
    "duration": 27,
    "start_time": "2024-01-14T15:16:49.915Z"
   },
   {
    "duration": 22,
    "start_time": "2024-01-14T15:16:49.944Z"
   },
   {
    "duration": 1289,
    "start_time": "2024-01-14T15:16:49.967Z"
   },
   {
    "duration": 16,
    "start_time": "2024-01-14T15:16:51.258Z"
   },
   {
    "duration": 31,
    "start_time": "2024-01-14T15:16:51.275Z"
   },
   {
    "duration": 116,
    "start_time": "2024-01-14T15:16:51.308Z"
   },
   {
    "duration": 18,
    "start_time": "2024-01-14T15:16:51.426Z"
   },
   {
    "duration": 203,
    "start_time": "2024-01-14T15:16:51.446Z"
   },
   {
    "duration": 0,
    "start_time": "2024-01-14T15:16:51.651Z"
   },
   {
    "duration": 0,
    "start_time": "2024-01-14T15:16:51.653Z"
   },
   {
    "duration": 0,
    "start_time": "2024-01-14T15:16:51.654Z"
   },
   {
    "duration": 0,
    "start_time": "2024-01-14T15:16:51.656Z"
   },
   {
    "duration": 0,
    "start_time": "2024-01-14T15:16:51.657Z"
   },
   {
    "duration": 0,
    "start_time": "2024-01-14T15:16:51.658Z"
   },
   {
    "duration": 0,
    "start_time": "2024-01-14T15:16:51.660Z"
   },
   {
    "duration": 0,
    "start_time": "2024-01-14T15:16:51.662Z"
   },
   {
    "duration": 0,
    "start_time": "2024-01-14T15:16:51.663Z"
   },
   {
    "duration": 0,
    "start_time": "2024-01-14T15:16:51.664Z"
   },
   {
    "duration": 0,
    "start_time": "2024-01-14T15:16:51.666Z"
   },
   {
    "duration": 0,
    "start_time": "2024-01-14T15:16:51.688Z"
   },
   {
    "duration": 0,
    "start_time": "2024-01-14T15:16:51.690Z"
   },
   {
    "duration": 0,
    "start_time": "2024-01-14T15:16:51.691Z"
   },
   {
    "duration": 0,
    "start_time": "2024-01-14T15:16:51.693Z"
   },
   {
    "duration": 0,
    "start_time": "2024-01-14T15:16:51.694Z"
   },
   {
    "duration": 0,
    "start_time": "2024-01-14T15:16:51.696Z"
   },
   {
    "duration": 0,
    "start_time": "2024-01-14T15:16:51.697Z"
   },
   {
    "duration": 0,
    "start_time": "2024-01-14T15:16:51.698Z"
   },
   {
    "duration": 0,
    "start_time": "2024-01-14T15:16:51.700Z"
   },
   {
    "duration": 0,
    "start_time": "2024-01-14T15:16:51.701Z"
   },
   {
    "duration": 0,
    "start_time": "2024-01-14T15:16:51.703Z"
   },
   {
    "duration": 0,
    "start_time": "2024-01-14T15:16:51.704Z"
   },
   {
    "duration": 0,
    "start_time": "2024-01-14T15:16:51.705Z"
   },
   {
    "duration": 0,
    "start_time": "2024-01-14T15:16:51.707Z"
   },
   {
    "duration": 0,
    "start_time": "2024-01-14T15:16:51.708Z"
   },
   {
    "duration": 0,
    "start_time": "2024-01-14T15:16:51.710Z"
   },
   {
    "duration": 0,
    "start_time": "2024-01-14T15:16:51.711Z"
   },
   {
    "duration": 0,
    "start_time": "2024-01-14T15:16:51.713Z"
   },
   {
    "duration": 0,
    "start_time": "2024-01-14T15:16:51.714Z"
   },
   {
    "duration": 21,
    "start_time": "2024-01-14T15:17:36.701Z"
   },
   {
    "duration": 20,
    "start_time": "2024-01-14T15:17:37.715Z"
   },
   {
    "duration": 38,
    "start_time": "2024-01-14T15:17:40.146Z"
   },
   {
    "duration": 3,
    "start_time": "2024-01-14T15:17:44.434Z"
   },
   {
    "duration": 10,
    "start_time": "2024-01-14T15:17:44.923Z"
   },
   {
    "duration": 5,
    "start_time": "2024-01-14T15:17:45.520Z"
   },
   {
    "duration": 15,
    "start_time": "2024-01-14T15:17:50.679Z"
   },
   {
    "duration": 6,
    "start_time": "2024-01-14T15:17:51.142Z"
   },
   {
    "duration": 3,
    "start_time": "2024-01-14T15:18:42.637Z"
   },
   {
    "duration": 8,
    "start_time": "2024-01-14T15:18:43.207Z"
   },
   {
    "duration": 5,
    "start_time": "2024-01-14T15:18:43.925Z"
   },
   {
    "duration": 5,
    "start_time": "2024-01-14T15:18:45.659Z"
   },
   {
    "duration": 5,
    "start_time": "2024-01-14T15:18:46.365Z"
   },
   {
    "duration": 4,
    "start_time": "2024-01-14T15:18:47.100Z"
   },
   {
    "duration": 3,
    "start_time": "2024-01-14T15:18:48.018Z"
   },
   {
    "duration": 4,
    "start_time": "2024-01-14T15:18:48.708Z"
   },
   {
    "duration": 4,
    "start_time": "2024-01-14T15:18:49.876Z"
   },
   {
    "duration": 5,
    "start_time": "2024-01-14T15:19:16.156Z"
   },
   {
    "duration": 10,
    "start_time": "2024-01-14T15:19:18.281Z"
   },
   {
    "duration": 5,
    "start_time": "2024-01-14T15:19:18.965Z"
   },
   {
    "duration": 6,
    "start_time": "2024-01-14T15:19:19.427Z"
   },
   {
    "duration": 6,
    "start_time": "2024-01-14T15:19:19.884Z"
   },
   {
    "duration": 4,
    "start_time": "2024-01-14T15:19:20.325Z"
   },
   {
    "duration": 4,
    "start_time": "2024-01-14T15:19:20.724Z"
   },
   {
    "duration": 4,
    "start_time": "2024-01-14T15:19:21.211Z"
   },
   {
    "duration": 11,
    "start_time": "2024-01-14T15:19:23.461Z"
   },
   {
    "duration": 12,
    "start_time": "2024-01-14T15:19:23.901Z"
   },
   {
    "duration": 3,
    "start_time": "2024-01-14T15:19:24.238Z"
   },
   {
    "duration": 4,
    "start_time": "2024-01-14T15:19:25.684Z"
   },
   {
    "duration": 8,
    "start_time": "2024-01-14T15:19:26.046Z"
   },
   {
    "duration": 11,
    "start_time": "2024-01-14T15:19:26.396Z"
   },
   {
    "duration": 5,
    "start_time": "2024-01-14T15:19:26.707Z"
   },
   {
    "duration": 12,
    "start_time": "2024-01-14T15:19:26.995Z"
   },
   {
    "duration": 4,
    "start_time": "2024-01-14T15:19:27.292Z"
   },
   {
    "duration": 4,
    "start_time": "2024-01-14T15:19:27.581Z"
   },
   {
    "duration": 5,
    "start_time": "2024-01-14T15:19:28.174Z"
   },
   {
    "duration": 4,
    "start_time": "2024-01-14T15:19:28.750Z"
   },
   {
    "duration": 56,
    "start_time": "2024-01-14T15:20:52.413Z"
   },
   {
    "duration": 15,
    "start_time": "2024-01-14T15:21:31.353Z"
   },
   {
    "duration": 12,
    "start_time": "2024-01-14T15:22:25.431Z"
   },
   {
    "duration": 1466,
    "start_time": "2024-01-14T15:22:32.681Z"
   },
   {
    "duration": 60,
    "start_time": "2024-01-14T15:22:34.148Z"
   },
   {
    "duration": 14,
    "start_time": "2024-01-14T15:22:34.209Z"
   },
   {
    "duration": 14,
    "start_time": "2024-01-14T15:22:34.225Z"
   },
   {
    "duration": 15,
    "start_time": "2024-01-14T15:22:34.241Z"
   },
   {
    "duration": 6,
    "start_time": "2024-01-14T15:22:34.258Z"
   },
   {
    "duration": 25,
    "start_time": "2024-01-14T15:22:34.266Z"
   },
   {
    "duration": 30,
    "start_time": "2024-01-14T15:22:34.292Z"
   },
   {
    "duration": 19,
    "start_time": "2024-01-14T15:22:34.324Z"
   },
   {
    "duration": 10,
    "start_time": "2024-01-14T15:22:34.345Z"
   },
   {
    "duration": 390,
    "start_time": "2024-01-14T15:22:34.357Z"
   },
   {
    "duration": 203,
    "start_time": "2024-01-14T15:22:34.748Z"
   },
   {
    "duration": 14,
    "start_time": "2024-01-14T15:22:34.952Z"
   },
   {
    "duration": 20,
    "start_time": "2024-01-14T15:22:34.968Z"
   },
   {
    "duration": 11,
    "start_time": "2024-01-14T15:22:34.989Z"
   },
   {
    "duration": 23,
    "start_time": "2024-01-14T15:22:35.001Z"
   },
   {
    "duration": 47,
    "start_time": "2024-01-14T15:22:35.026Z"
   },
   {
    "duration": 19,
    "start_time": "2024-01-14T15:22:35.074Z"
   },
   {
    "duration": 65,
    "start_time": "2024-01-14T15:22:35.095Z"
   },
   {
    "duration": 9,
    "start_time": "2024-01-14T15:22:35.162Z"
   },
   {
    "duration": 21,
    "start_time": "2024-01-14T15:22:35.172Z"
   },
   {
    "duration": 36,
    "start_time": "2024-01-14T15:22:35.195Z"
   },
   {
    "duration": 7,
    "start_time": "2024-01-14T15:22:35.233Z"
   },
   {
    "duration": 30,
    "start_time": "2024-01-14T15:22:35.241Z"
   },
   {
    "duration": 32,
    "start_time": "2024-01-14T15:22:35.272Z"
   },
   {
    "duration": 4,
    "start_time": "2024-01-14T15:22:35.305Z"
   },
   {
    "duration": 37,
    "start_time": "2024-01-14T15:22:35.310Z"
   },
   {
    "duration": 6,
    "start_time": "2024-01-14T15:22:35.351Z"
   },
   {
    "duration": 17,
    "start_time": "2024-01-14T15:22:35.358Z"
   },
   {
    "duration": 14,
    "start_time": "2024-01-14T15:22:35.377Z"
   },
   {
    "duration": 17,
    "start_time": "2024-01-14T15:22:35.393Z"
   },
   {
    "duration": 10,
    "start_time": "2024-01-14T15:22:35.411Z"
   },
   {
    "duration": 20,
    "start_time": "2024-01-14T15:22:35.422Z"
   },
   {
    "duration": 5,
    "start_time": "2024-01-14T15:22:35.444Z"
   },
   {
    "duration": 6,
    "start_time": "2024-01-14T15:22:35.450Z"
   },
   {
    "duration": 35,
    "start_time": "2024-01-14T15:22:35.457Z"
   },
   {
    "duration": 39,
    "start_time": "2024-01-14T15:22:35.494Z"
   },
   {
    "duration": 11,
    "start_time": "2024-01-14T15:22:35.534Z"
   },
   {
    "duration": 18,
    "start_time": "2024-01-14T15:22:35.547Z"
   },
   {
    "duration": 25,
    "start_time": "2024-01-14T15:22:35.567Z"
   },
   {
    "duration": 14,
    "start_time": "2024-01-14T15:22:35.594Z"
   },
   {
    "duration": 30,
    "start_time": "2024-01-14T15:22:35.609Z"
   },
   {
    "duration": 61,
    "start_time": "2024-01-14T15:22:35.641Z"
   },
   {
    "duration": 11,
    "start_time": "2024-01-14T15:22:35.703Z"
   },
   {
    "duration": 28,
    "start_time": "2024-01-14T15:22:35.716Z"
   },
   {
    "duration": 31,
    "start_time": "2024-01-14T15:22:35.746Z"
   },
   {
    "duration": 3,
    "start_time": "2024-01-14T15:22:35.779Z"
   },
   {
    "duration": 1246,
    "start_time": "2024-01-14T15:22:35.784Z"
   },
   {
    "duration": 16,
    "start_time": "2024-01-14T15:22:37.031Z"
   },
   {
    "duration": 16,
    "start_time": "2024-01-14T15:22:37.049Z"
   },
   {
    "duration": 95,
    "start_time": "2024-01-14T15:22:37.067Z"
   },
   {
    "duration": 16,
    "start_time": "2024-01-14T15:22:37.164Z"
   },
   {
    "duration": 28,
    "start_time": "2024-01-14T15:22:37.181Z"
   },
   {
    "duration": 18,
    "start_time": "2024-01-14T15:22:37.210Z"
   },
   {
    "duration": 43,
    "start_time": "2024-01-14T15:22:37.230Z"
   },
   {
    "duration": 15,
    "start_time": "2024-01-14T15:22:37.274Z"
   },
   {
    "duration": 13,
    "start_time": "2024-01-14T15:22:37.290Z"
   },
   {
    "duration": 26,
    "start_time": "2024-01-14T15:22:37.304Z"
   },
   {
    "duration": 18,
    "start_time": "2024-01-14T15:22:37.331Z"
   },
   {
    "duration": 13,
    "start_time": "2024-01-14T15:22:37.350Z"
   },
   {
    "duration": 13,
    "start_time": "2024-01-14T15:22:37.364Z"
   },
   {
    "duration": 20,
    "start_time": "2024-01-14T15:22:37.379Z"
   },
   {
    "duration": 30,
    "start_time": "2024-01-14T15:22:37.401Z"
   },
   {
    "duration": 9,
    "start_time": "2024-01-14T15:22:37.432Z"
   },
   {
    "duration": 11,
    "start_time": "2024-01-14T15:22:37.442Z"
   },
   {
    "duration": 23,
    "start_time": "2024-01-14T15:22:37.454Z"
   },
   {
    "duration": 16,
    "start_time": "2024-01-14T15:22:37.478Z"
   },
   {
    "duration": 12,
    "start_time": "2024-01-14T15:22:37.496Z"
   },
   {
    "duration": 33,
    "start_time": "2024-01-14T15:22:37.509Z"
   },
   {
    "duration": 17,
    "start_time": "2024-01-14T15:22:37.543Z"
   },
   {
    "duration": 12,
    "start_time": "2024-01-14T15:22:37.562Z"
   },
   {
    "duration": 17,
    "start_time": "2024-01-14T15:22:37.575Z"
   },
   {
    "duration": 14,
    "start_time": "2024-01-14T15:22:37.593Z"
   },
   {
    "duration": 40,
    "start_time": "2024-01-14T15:22:37.609Z"
   },
   {
    "duration": 23,
    "start_time": "2024-01-14T15:22:37.651Z"
   },
   {
    "duration": 17,
    "start_time": "2024-01-14T15:22:37.676Z"
   },
   {
    "duration": 27,
    "start_time": "2024-01-14T15:22:37.695Z"
   },
   {
    "duration": 22,
    "start_time": "2024-01-14T15:22:37.724Z"
   },
   {
    "duration": 26,
    "start_time": "2024-01-14T15:22:37.747Z"
   },
   {
    "duration": 10,
    "start_time": "2024-01-14T15:22:37.775Z"
   },
   {
    "duration": 14,
    "start_time": "2024-01-14T15:22:37.787Z"
   },
   {
    "duration": 169,
    "start_time": "2024-01-14T15:28:08.032Z"
   },
   {
    "duration": 17,
    "start_time": "2024-01-14T15:28:41.429Z"
   },
   {
    "duration": 17,
    "start_time": "2024-01-14T15:29:15.352Z"
   },
   {
    "duration": 9,
    "start_time": "2024-01-14T15:29:29.882Z"
   },
   {
    "duration": 29,
    "start_time": "2024-01-14T15:31:23.483Z"
   },
   {
    "duration": 26,
    "start_time": "2024-01-14T15:39:36.187Z"
   },
   {
    "duration": 25,
    "start_time": "2024-01-14T15:39:46.471Z"
   },
   {
    "duration": 28,
    "start_time": "2024-01-14T16:06:45.352Z"
   },
   {
    "duration": 10,
    "start_time": "2024-01-14T16:06:46.503Z"
   },
   {
    "duration": 58,
    "start_time": "2024-01-14T16:18:42.574Z"
   },
   {
    "duration": 46,
    "start_time": "2024-01-14T16:39:25.149Z"
   },
   {
    "duration": 36,
    "start_time": "2024-01-14T16:39:40.414Z"
   },
   {
    "duration": 34,
    "start_time": "2024-01-14T16:46:58.563Z"
   },
   {
    "duration": 46,
    "start_time": "2024-01-14T16:48:44.586Z"
   },
   {
    "duration": 15,
    "start_time": "2024-01-14T16:55:49.298Z"
   },
   {
    "duration": 3,
    "start_time": "2024-01-14T16:55:50.131Z"
   },
   {
    "duration": 87,
    "start_time": "2024-01-14T16:55:50.582Z"
   },
   {
    "duration": 16,
    "start_time": "2024-01-14T16:55:51.033Z"
   },
   {
    "duration": 26,
    "start_time": "2024-01-14T17:46:07.697Z"
   },
   {
    "duration": 5,
    "start_time": "2024-01-14T17:47:21.644Z"
   },
   {
    "duration": 21,
    "start_time": "2024-01-14T17:47:22.252Z"
   },
   {
    "duration": 11,
    "start_time": "2024-01-14T17:59:41.459Z"
   },
   {
    "duration": 8,
    "start_time": "2024-01-14T17:59:50.162Z"
   },
   {
    "duration": 6,
    "start_time": "2024-01-14T18:00:03.546Z"
   },
   {
    "duration": 41,
    "start_time": "2024-01-14T18:22:23.394Z"
   },
   {
    "duration": 38,
    "start_time": "2024-01-14T18:22:42.484Z"
   },
   {
    "duration": 38,
    "start_time": "2024-01-14T18:32:01.856Z"
   },
   {
    "duration": 53,
    "start_time": "2024-01-14T18:35:50.680Z"
   },
   {
    "duration": 3275,
    "start_time": "2024-01-15T17:53:17.934Z"
   },
   {
    "duration": 158,
    "start_time": "2024-01-15T17:53:21.211Z"
   },
   {
    "duration": 13,
    "start_time": "2024-01-15T17:53:21.371Z"
   },
   {
    "duration": 18,
    "start_time": "2024-01-15T17:53:21.386Z"
   },
   {
    "duration": 15,
    "start_time": "2024-01-15T17:53:21.406Z"
   },
   {
    "duration": 6,
    "start_time": "2024-01-15T17:53:21.423Z"
   },
   {
    "duration": 10,
    "start_time": "2024-01-15T17:53:21.430Z"
   },
   {
    "duration": 12,
    "start_time": "2024-01-15T17:53:21.441Z"
   },
   {
    "duration": 17,
    "start_time": "2024-01-15T17:53:21.454Z"
   },
   {
    "duration": 32,
    "start_time": "2024-01-15T17:53:21.474Z"
   },
   {
    "duration": 760,
    "start_time": "2024-01-15T17:53:21.507Z"
   },
   {
    "duration": 192,
    "start_time": "2024-01-15T17:53:22.268Z"
   },
   {
    "duration": 14,
    "start_time": "2024-01-15T17:53:22.461Z"
   },
   {
    "duration": 16,
    "start_time": "2024-01-15T17:53:22.493Z"
   },
   {
    "duration": 10,
    "start_time": "2024-01-15T17:53:22.510Z"
   },
   {
    "duration": 7,
    "start_time": "2024-01-15T17:53:22.522Z"
   },
   {
    "duration": 18,
    "start_time": "2024-01-15T17:53:22.530Z"
   },
   {
    "duration": 55,
    "start_time": "2024-01-15T17:53:22.550Z"
   },
   {
    "duration": 9,
    "start_time": "2024-01-15T17:53:22.606Z"
   },
   {
    "duration": 59,
    "start_time": "2024-01-15T17:53:22.616Z"
   },
   {
    "duration": 29,
    "start_time": "2024-01-15T17:53:22.676Z"
   },
   {
    "duration": 22,
    "start_time": "2024-01-15T17:53:22.707Z"
   },
   {
    "duration": 44,
    "start_time": "2024-01-15T17:53:22.730Z"
   },
   {
    "duration": 13,
    "start_time": "2024-01-15T17:53:22.776Z"
   },
   {
    "duration": 28,
    "start_time": "2024-01-15T17:53:22.791Z"
   },
   {
    "duration": 5,
    "start_time": "2024-01-15T17:53:22.821Z"
   },
   {
    "duration": 7,
    "start_time": "2024-01-15T17:53:22.827Z"
   },
   {
    "duration": 7,
    "start_time": "2024-01-15T17:53:22.839Z"
   },
   {
    "duration": 13,
    "start_time": "2024-01-15T17:53:22.847Z"
   },
   {
    "duration": 10,
    "start_time": "2024-01-15T17:53:22.862Z"
   },
   {
    "duration": 33,
    "start_time": "2024-01-15T17:53:22.874Z"
   },
   {
    "duration": 5,
    "start_time": "2024-01-15T17:53:22.909Z"
   },
   {
    "duration": 9,
    "start_time": "2024-01-15T17:53:22.915Z"
   },
   {
    "duration": 26,
    "start_time": "2024-01-15T17:53:22.925Z"
   },
   {
    "duration": 60,
    "start_time": "2024-01-15T17:53:22.953Z"
   },
   {
    "duration": 10,
    "start_time": "2024-01-15T17:53:23.015Z"
   },
   {
    "duration": 16,
    "start_time": "2024-01-15T17:53:23.026Z"
   },
   {
    "duration": 8,
    "start_time": "2024-01-15T17:53:23.043Z"
   },
   {
    "duration": 7,
    "start_time": "2024-01-15T17:53:23.053Z"
   },
   {
    "duration": 51,
    "start_time": "2024-01-15T17:53:23.062Z"
   },
   {
    "duration": 13,
    "start_time": "2024-01-15T17:53:23.115Z"
   },
   {
    "duration": 9,
    "start_time": "2024-01-15T17:53:23.130Z"
   },
   {
    "duration": 29,
    "start_time": "2024-01-15T17:53:23.140Z"
   },
   {
    "duration": 33,
    "start_time": "2024-01-15T17:53:23.171Z"
   },
   {
    "duration": 1316,
    "start_time": "2024-01-15T17:53:23.206Z"
   },
   {
    "duration": 15,
    "start_time": "2024-01-15T17:53:24.524Z"
   },
   {
    "duration": 10,
    "start_time": "2024-01-15T17:53:24.541Z"
   },
   {
    "duration": 102,
    "start_time": "2024-01-15T17:53:24.553Z"
   },
   {
    "duration": 15,
    "start_time": "2024-01-15T17:53:24.657Z"
   },
   {
    "duration": 41,
    "start_time": "2024-01-15T17:53:24.673Z"
   },
   {
    "duration": 25,
    "start_time": "2024-01-15T17:53:24.715Z"
   },
   {
    "duration": 67,
    "start_time": "2024-01-15T17:53:24.741Z"
   },
   {
    "duration": 52,
    "start_time": "2024-01-15T17:53:24.809Z"
   },
   {
    "duration": 2,
    "start_time": "2024-01-15T17:53:24.862Z"
   },
   {
    "duration": 23,
    "start_time": "2024-01-15T17:53:24.866Z"
   },
   {
    "duration": 15,
    "start_time": "2024-01-15T17:53:24.890Z"
   },
   {
    "duration": 18,
    "start_time": "2024-01-15T17:53:24.907Z"
   },
   {
    "duration": 10,
    "start_time": "2024-01-15T17:53:24.927Z"
   },
   {
    "duration": 14,
    "start_time": "2024-01-15T17:53:24.938Z"
   },
   {
    "duration": 19,
    "start_time": "2024-01-15T17:53:24.954Z"
   },
   {
    "duration": 22,
    "start_time": "2024-01-15T17:53:24.974Z"
   },
   {
    "duration": 5,
    "start_time": "2024-01-15T17:53:25.004Z"
   },
   {
    "duration": 8,
    "start_time": "2024-01-15T17:53:25.010Z"
   },
   {
    "duration": 25,
    "start_time": "2024-01-15T17:53:25.020Z"
   },
   {
    "duration": 15,
    "start_time": "2024-01-15T17:53:25.047Z"
   },
   {
    "duration": 16,
    "start_time": "2024-01-15T17:53:25.064Z"
   },
   {
    "duration": 24,
    "start_time": "2024-01-15T17:53:25.081Z"
   },
   {
    "duration": 24,
    "start_time": "2024-01-15T17:53:25.107Z"
   },
   {
    "duration": 18,
    "start_time": "2024-01-15T17:53:25.133Z"
   },
   {
    "duration": 3,
    "start_time": "2024-01-15T17:53:25.152Z"
   },
   {
    "duration": 8,
    "start_time": "2024-01-15T17:53:25.157Z"
   },
   {
    "duration": 7,
    "start_time": "2024-01-15T17:53:25.166Z"
   },
   {
    "duration": 26,
    "start_time": "2024-01-15T17:53:25.175Z"
   },
   {
    "duration": 11,
    "start_time": "2024-01-15T17:53:25.202Z"
   },
   {
    "duration": 33,
    "start_time": "2024-01-15T17:53:25.214Z"
   },
   {
    "duration": 10,
    "start_time": "2024-01-15T17:53:25.249Z"
   },
   {
    "duration": 4,
    "start_time": "2024-01-15T17:53:25.261Z"
   },
   {
    "duration": 17,
    "start_time": "2024-01-15T17:53:25.267Z"
   },
   {
    "duration": 4,
    "start_time": "2024-01-15T17:53:25.286Z"
   },
   {
    "duration": 1498,
    "start_time": "2024-04-07T10:35:07.428Z"
   },
   {
    "duration": 185,
    "start_time": "2024-04-07T10:35:08.928Z"
   },
   {
    "duration": 13,
    "start_time": "2024-04-07T10:35:09.115Z"
   },
   {
    "duration": 33,
    "start_time": "2024-04-07T10:35:09.130Z"
   },
   {
    "duration": 24,
    "start_time": "2024-04-07T10:35:09.165Z"
   },
   {
    "duration": 7,
    "start_time": "2024-04-07T10:35:09.191Z"
   },
   {
    "duration": 27,
    "start_time": "2024-04-07T10:35:09.200Z"
   },
   {
    "duration": 36,
    "start_time": "2024-04-07T10:35:09.228Z"
   },
   {
    "duration": 24,
    "start_time": "2024-04-07T10:35:09.266Z"
   },
   {
    "duration": 16,
    "start_time": "2024-04-07T10:35:09.293Z"
   },
   {
    "duration": 424,
    "start_time": "2024-04-07T10:35:09.311Z"
   },
   {
    "duration": 193,
    "start_time": "2024-04-07T10:35:09.737Z"
   },
   {
    "duration": 14,
    "start_time": "2024-04-07T10:35:09.932Z"
   },
   {
    "duration": 15,
    "start_time": "2024-04-07T10:35:09.947Z"
   },
   {
    "duration": 17,
    "start_time": "2024-04-07T10:35:09.964Z"
   },
   {
    "duration": 16,
    "start_time": "2024-04-07T10:35:09.982Z"
   },
   {
    "duration": 21,
    "start_time": "2024-04-07T10:35:10.000Z"
   },
   {
    "duration": 64,
    "start_time": "2024-04-07T10:35:10.022Z"
   },
   {
    "duration": 11,
    "start_time": "2024-04-07T10:35:10.087Z"
   },
   {
    "duration": 94,
    "start_time": "2024-04-07T10:35:10.100Z"
   },
   {
    "duration": 12,
    "start_time": "2024-04-07T10:35:10.206Z"
   },
   {
    "duration": 13,
    "start_time": "2024-04-07T10:35:10.220Z"
   },
   {
    "duration": 54,
    "start_time": "2024-04-07T10:35:10.234Z"
   },
   {
    "duration": 5,
    "start_time": "2024-04-07T10:35:10.289Z"
   },
   {
    "duration": 17,
    "start_time": "2024-04-07T10:35:10.295Z"
   },
   {
    "duration": 6,
    "start_time": "2024-04-07T10:35:10.313Z"
   },
   {
    "duration": 15,
    "start_time": "2024-04-07T10:35:10.320Z"
   },
   {
    "duration": 7,
    "start_time": "2024-04-07T10:35:10.361Z"
   },
   {
    "duration": 17,
    "start_time": "2024-04-07T10:35:10.370Z"
   },
   {
    "duration": 11,
    "start_time": "2024-04-07T10:35:10.389Z"
   },
   {
    "duration": 14,
    "start_time": "2024-04-07T10:35:10.401Z"
   },
   {
    "duration": 5,
    "start_time": "2024-04-07T10:35:10.416Z"
   },
   {
    "duration": 7,
    "start_time": "2024-04-07T10:35:10.423Z"
   },
   {
    "duration": 47,
    "start_time": "2024-04-07T10:35:10.431Z"
   },
   {
    "duration": 40,
    "start_time": "2024-04-07T10:35:10.479Z"
   },
   {
    "duration": 9,
    "start_time": "2024-04-07T10:35:10.521Z"
   },
   {
    "duration": 37,
    "start_time": "2024-04-07T10:35:10.532Z"
   },
   {
    "duration": 7,
    "start_time": "2024-04-07T10:35:10.570Z"
   },
   {
    "duration": 6,
    "start_time": "2024-04-07T10:35:10.579Z"
   },
   {
    "duration": 30,
    "start_time": "2024-04-07T10:35:10.586Z"
   },
   {
    "duration": 13,
    "start_time": "2024-04-07T10:35:10.617Z"
   },
   {
    "duration": 32,
    "start_time": "2024-04-07T10:35:10.631Z"
   },
   {
    "duration": 38,
    "start_time": "2024-04-07T10:35:10.665Z"
   },
   {
    "duration": 3,
    "start_time": "2024-04-07T10:35:10.704Z"
   },
   {
    "duration": 1286,
    "start_time": "2024-04-07T10:35:10.709Z"
   },
   {
    "duration": 14,
    "start_time": "2024-04-07T10:35:11.997Z"
   },
   {
    "duration": 24,
    "start_time": "2024-04-07T10:35:12.013Z"
   },
   {
    "duration": 87,
    "start_time": "2024-04-07T10:35:12.039Z"
   },
   {
    "duration": 16,
    "start_time": "2024-04-07T10:35:12.128Z"
   },
   {
    "duration": 32,
    "start_time": "2024-04-07T10:35:12.146Z"
   },
   {
    "duration": 9,
    "start_time": "2024-04-07T10:35:12.179Z"
   },
   {
    "duration": 38,
    "start_time": "2024-04-07T10:35:12.189Z"
   },
   {
    "duration": 71,
    "start_time": "2024-04-07T10:35:12.229Z"
   },
   {
    "duration": 2,
    "start_time": "2024-04-07T10:35:12.301Z"
   },
   {
    "duration": 11,
    "start_time": "2024-04-07T10:35:12.305Z"
   },
   {
    "duration": 5,
    "start_time": "2024-04-07T10:35:12.317Z"
   },
   {
    "duration": 5,
    "start_time": "2024-04-07T10:35:12.323Z"
   },
   {
    "duration": 6,
    "start_time": "2024-04-07T10:35:12.329Z"
   },
   {
    "duration": 4,
    "start_time": "2024-04-07T10:35:12.359Z"
   },
   {
    "duration": 5,
    "start_time": "2024-04-07T10:35:12.365Z"
   },
   {
    "duration": 9,
    "start_time": "2024-04-07T10:35:12.372Z"
   },
   {
    "duration": 5,
    "start_time": "2024-04-07T10:35:12.382Z"
   },
   {
    "duration": 7,
    "start_time": "2024-04-07T10:35:12.388Z"
   },
   {
    "duration": 14,
    "start_time": "2024-04-07T10:35:12.397Z"
   },
   {
    "duration": 5,
    "start_time": "2024-04-07T10:35:12.413Z"
   },
   {
    "duration": 5,
    "start_time": "2024-04-07T10:35:12.419Z"
   },
   {
    "duration": 6,
    "start_time": "2024-04-07T10:35:12.425Z"
   },
   {
    "duration": 33,
    "start_time": "2024-04-07T10:35:12.432Z"
   },
   {
    "duration": 11,
    "start_time": "2024-04-07T10:35:12.466Z"
   },
   {
    "duration": 4,
    "start_time": "2024-04-07T10:35:12.478Z"
   },
   {
    "duration": 5,
    "start_time": "2024-04-07T10:35:12.483Z"
   },
   {
    "duration": 7,
    "start_time": "2024-04-07T10:35:12.489Z"
   },
   {
    "duration": 10,
    "start_time": "2024-04-07T10:35:12.498Z"
   },
   {
    "duration": 8,
    "start_time": "2024-04-07T10:35:12.509Z"
   },
   {
    "duration": 13,
    "start_time": "2024-04-07T10:35:12.518Z"
   },
   {
    "duration": 4,
    "start_time": "2024-04-07T10:35:12.559Z"
   },
   {
    "duration": 14,
    "start_time": "2024-04-07T10:35:12.564Z"
   },
   {
    "duration": 21,
    "start_time": "2024-04-07T10:35:12.579Z"
   },
   {
    "duration": 25,
    "start_time": "2024-04-07T10:35:12.601Z"
   },
   {
    "duration": 1316,
    "start_time": "2024-04-13T22:34:23.292Z"
   },
   {
    "duration": 113,
    "start_time": "2024-04-13T22:34:24.610Z"
   },
   {
    "duration": 14,
    "start_time": "2024-04-13T22:34:24.724Z"
   },
   {
    "duration": 30,
    "start_time": "2024-04-13T22:34:24.740Z"
   },
   {
    "duration": 29,
    "start_time": "2024-04-13T22:34:24.771Z"
   },
   {
    "duration": 19,
    "start_time": "2024-04-13T22:34:24.801Z"
   },
   {
    "duration": 8,
    "start_time": "2024-04-13T22:34:24.822Z"
   },
   {
    "duration": 17,
    "start_time": "2024-04-13T22:34:24.832Z"
   },
   {
    "duration": 40,
    "start_time": "2024-04-13T22:34:24.851Z"
   },
   {
    "duration": 9,
    "start_time": "2024-04-13T22:34:24.894Z"
   },
   {
    "duration": 372,
    "start_time": "2024-04-13T22:34:24.905Z"
   },
   {
    "duration": 175,
    "start_time": "2024-04-13T22:34:25.278Z"
   },
   {
    "duration": 12,
    "start_time": "2024-04-13T22:34:25.455Z"
   },
   {
    "duration": 5,
    "start_time": "2024-04-13T22:34:25.468Z"
   },
   {
    "duration": 16,
    "start_time": "2024-04-13T22:34:25.474Z"
   },
   {
    "duration": 14,
    "start_time": "2024-04-13T22:34:25.492Z"
   },
   {
    "duration": 18,
    "start_time": "2024-04-13T22:34:25.508Z"
   },
   {
    "duration": 38,
    "start_time": "2024-04-13T22:34:25.528Z"
   },
   {
    "duration": 22,
    "start_time": "2024-04-13T22:34:25.567Z"
   },
   {
    "duration": 63,
    "start_time": "2024-04-13T22:34:25.591Z"
   },
   {
    "duration": 8,
    "start_time": "2024-04-13T22:34:25.655Z"
   },
   {
    "duration": 16,
    "start_time": "2024-04-13T22:34:25.664Z"
   },
   {
    "duration": 51,
    "start_time": "2024-04-13T22:34:25.681Z"
   },
   {
    "duration": 5,
    "start_time": "2024-04-13T22:34:25.733Z"
   },
   {
    "duration": 13,
    "start_time": "2024-04-13T22:34:25.739Z"
   },
   {
    "duration": 5,
    "start_time": "2024-04-13T22:34:25.753Z"
   },
   {
    "duration": 4,
    "start_time": "2024-04-13T22:34:25.759Z"
   },
   {
    "duration": 5,
    "start_time": "2024-04-13T22:34:25.766Z"
   },
   {
    "duration": 40,
    "start_time": "2024-04-13T22:34:25.772Z"
   },
   {
    "duration": 11,
    "start_time": "2024-04-13T22:34:25.813Z"
   },
   {
    "duration": 8,
    "start_time": "2024-04-13T22:34:25.826Z"
   },
   {
    "duration": 4,
    "start_time": "2024-04-13T22:34:25.835Z"
   },
   {
    "duration": 6,
    "start_time": "2024-04-13T22:34:25.840Z"
   },
   {
    "duration": 25,
    "start_time": "2024-04-13T22:34:25.847Z"
   },
   {
    "duration": 54,
    "start_time": "2024-04-13T22:34:25.873Z"
   },
   {
    "duration": 7,
    "start_time": "2024-04-13T22:34:25.929Z"
   },
   {
    "duration": 18,
    "start_time": "2024-04-13T22:34:25.937Z"
   },
   {
    "duration": 6,
    "start_time": "2024-04-13T22:34:25.956Z"
   },
   {
    "duration": 9,
    "start_time": "2024-04-13T22:34:25.963Z"
   },
   {
    "duration": 21,
    "start_time": "2024-04-13T22:34:25.973Z"
   },
   {
    "duration": 15,
    "start_time": "2024-04-13T22:34:26.001Z"
   },
   {
    "duration": 7,
    "start_time": "2024-04-13T22:34:26.018Z"
   },
   {
    "duration": 22,
    "start_time": "2024-04-13T22:34:26.026Z"
   },
   {
    "duration": 3,
    "start_time": "2024-04-13T22:34:26.050Z"
   },
   {
    "duration": 1188,
    "start_time": "2024-04-13T22:34:26.054Z"
   },
   {
    "duration": 12,
    "start_time": "2024-04-13T22:34:27.244Z"
   },
   {
    "duration": 5,
    "start_time": "2024-04-13T22:34:27.257Z"
   },
   {
    "duration": 94,
    "start_time": "2024-04-13T22:34:27.263Z"
   },
   {
    "duration": 13,
    "start_time": "2024-04-13T22:34:27.359Z"
   },
   {
    "duration": 31,
    "start_time": "2024-04-13T22:34:27.374Z"
   },
   {
    "duration": 13,
    "start_time": "2024-04-13T22:34:27.406Z"
   },
   {
    "duration": 35,
    "start_time": "2024-04-13T22:34:27.420Z"
   },
   {
    "duration": 85,
    "start_time": "2024-04-13T22:34:27.456Z"
   },
   {
    "duration": 2,
    "start_time": "2024-04-13T22:34:27.543Z"
   },
   {
    "duration": 18,
    "start_time": "2024-04-13T22:34:27.546Z"
   },
   {
    "duration": 4,
    "start_time": "2024-04-13T22:34:27.565Z"
   },
   {
    "duration": 6,
    "start_time": "2024-04-13T22:34:27.570Z"
   },
   {
    "duration": 5,
    "start_time": "2024-04-13T22:34:27.577Z"
   },
   {
    "duration": 11,
    "start_time": "2024-04-13T22:34:27.584Z"
   },
   {
    "duration": 16,
    "start_time": "2024-04-13T22:34:27.596Z"
   },
   {
    "duration": 13,
    "start_time": "2024-04-13T22:34:27.614Z"
   },
   {
    "duration": 9,
    "start_time": "2024-04-13T22:34:27.628Z"
   },
   {
    "duration": 30,
    "start_time": "2024-04-13T22:34:27.638Z"
   },
   {
    "duration": 7,
    "start_time": "2024-04-13T22:34:27.669Z"
   },
   {
    "duration": 8,
    "start_time": "2024-04-13T22:34:27.677Z"
   },
   {
    "duration": 5,
    "start_time": "2024-04-13T22:34:27.686Z"
   },
   {
    "duration": 5,
    "start_time": "2024-04-13T22:34:27.693Z"
   },
   {
    "duration": 22,
    "start_time": "2024-04-13T22:34:27.698Z"
   },
   {
    "duration": 10,
    "start_time": "2024-04-13T22:34:27.721Z"
   },
   {
    "duration": 3,
    "start_time": "2024-04-13T22:34:27.732Z"
   },
   {
    "duration": 8,
    "start_time": "2024-04-13T22:34:27.736Z"
   },
   {
    "duration": 10,
    "start_time": "2024-04-13T22:34:27.745Z"
   },
   {
    "duration": 8,
    "start_time": "2024-04-13T22:34:27.756Z"
   },
   {
    "duration": 22,
    "start_time": "2024-04-13T22:34:27.765Z"
   },
   {
    "duration": 16,
    "start_time": "2024-04-13T22:34:27.789Z"
   },
   {
    "duration": 8,
    "start_time": "2024-04-13T22:34:27.806Z"
   },
   {
    "duration": 5,
    "start_time": "2024-04-13T22:34:27.815Z"
   },
   {
    "duration": 4,
    "start_time": "2024-04-13T22:34:27.822Z"
   },
   {
    "duration": 4,
    "start_time": "2024-04-13T22:34:27.827Z"
   }
  ],
  "jupytext": {
   "cell_metadata_filter": "-all",
   "main_language": "python",
   "notebook_metadata_filter": "-all"
  },
  "kernelspec": {
   "display_name": "Python 3 (ipykernel)",
   "language": "python",
   "name": "python3"
  },
  "language_info": {
   "codemirror_mode": {
    "name": "ipython",
    "version": 3
   },
   "file_extension": ".py",
   "mimetype": "text/x-python",
   "name": "python",
   "nbconvert_exporter": "python",
   "pygments_lexer": "ipython3",
   "version": "3.11.7"
  },
  "toc": {
   "base_numbering": 1,
   "nav_menu": {
    "height": "184.983px",
    "width": "341.354px"
   },
   "number_sections": true,
   "sideBar": true,
   "skip_h1_title": true,
   "title_cell": "Table of Contents",
   "title_sidebar": "Contents",
   "toc_cell": false,
   "toc_position": {},
   "toc_section_display": true,
   "toc_window_display": false
  }
 },
 "nbformat": 4,
 "nbformat_minor": 5
}
